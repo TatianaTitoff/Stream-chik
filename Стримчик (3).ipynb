{
 "cells": [
  {
   "cell_type": "markdown",
   "metadata": {},
   "source": [
    "# Анализ покупок международного интернет-магазина компьютерных игр «Стримчик»\n",
    "\n",
    "Нам доступны исторические данные о продажах игр, оценки пользователей и экспертов, жанры и платформы (например, Xbox или PlayStation). \n",
    "\n",
    "Перед нами стоит задача выявить определяющие успешность игры закономерности. Это позволит сделать ставку на потенциально популярный продукт и спланировать рекламные кампании.\n",
    "\n",
    "**Описание данных**\n",
    "\n",
    "- Name — название игры\n",
    "- Platform — платформа\n",
    "- Year_of_Release — год выпуска\n",
    "- Genre — жанр игры\n",
    "- NA_sales — продажи в Северной Америке (миллионы проданных копий)\n",
    "- EU_sales — продажи в Европе (миллионы проданных копий)\n",
    "- JP_sales — продажи в Японии (миллионы проданных копий)\n",
    "- Other_sales — продажи в других странах (миллионы проданных копий)\n",
    "- Critic_Score — оценка критиков (максимум 100)\n",
    "- User_Score — оценка пользователей (максимум 10)\n",
    "- Rating — рейтинг от организации ESRB (англ. Entertainment Software Rating Board). Эта ассоциация определяет рейтинг - компьютерных игр и присваивает им подходящую возрастную категорию.\n",
    "- Данные за 2016 год могут быть неполными.\n",
    "\n",
    "## Ход работы:\n",
    "\n",
    "**Шаг 1.\n",
    "Открыть файл с данными и изучить общую информацию.**\n",
    "\n",
    "**Шаг 2.\n",
    "Подготовить данные.**\n",
    "Заменить названия столбцов (привести к нижнему регистру);\n",
    "Преобразовать данные в нужные типы. Описать, в каких столбцах заменили тип данных и почему;\n",
    "Обработать пропуски при необходимости:\n",
    "Объяснить, почему заполнили пропуски определённым образом или почему не стали это делать;\n",
    "Описать причины, которые могли привести к пропускам;\n",
    "Обратить внимание на аббревиатуру 'tbd' в столбце с оценкой пользователей. Отдельно разобрать это значение и описать, как его обработать;\n",
    "Посчитайть суммарные продажи во всех регионах и записать их в отдельный столбец.\n",
    "\n",
    "**Шаг 3. Проведите исследовательский анализ данных.**\n",
    "Посмотреть, сколько игр выпускалось в разные годы. Важны ли данные за все периоды?\n",
    "Посмотреть, как менялись продажи по платформам. Выбрать платформы с наибольшими суммарными продажами и построить распределение по годам. За какой характерный срок появляются новые и исчезают старые платформы?\n",
    "Взять данные за соответствующий актуальный период. Актуальный период определить в результате исследования предыдущих вопросов. Основной фактор — эти данные помогут построить прогноз на 2017 год.\n",
    "Не учитывайть в работе данные за предыдущие годы.\n",
    "Какие платформы лидируют по продажам, растут или падают? Выбрать несколько потенциально прибыльных платформ.\n",
    "Построить график «ящик с усами» по глобальным продажам игр в разбивке по платформам. Описать результат.\n",
    "Посмотреть, как влияют на продажи внутри одной популярной платформы отзывы пользователей и критиков. Построить диаграмму рассеяния и посчитать корреляцию между отзывами и продажами. Сформулировать выводы.\n",
    "Соотнести выводы с продажами игр на других платформах.\n",
    "Посмотреть на общее распределение игр по жанрам. Что можно сказать о самых прибыльных жанрах? Выделяются ли жанры с высокими и низкими продажами?\n",
    "\n",
    "**Шаг 4. Составить портрет пользователя каждого региона.**\n",
    "Определить для пользователя каждого региона (NA, EU, JP):\n",
    "Самые популярные платформы (топ-5). Описать различия в долях продаж.\n",
    "Самые популярные жанры (топ-5). Пояснить разницу.\n",
    "Влияет ли рейтинг ESRB на продажи в отдельном регионе?\n",
    "\n",
    "**Шаг 5. Проверить гипотезы.**\n",
    "Средние пользовательские рейтинги платформ Xbox One и PC одинаковые;\n",
    "Средние пользовательские рейтинги жанров Action (англ. «действие», экшен-игры) и Sports (англ. «спортивные соревнования») разные.\n",
    "Задать самостоятельно пороговое значение alpha.\n",
    "Пояснить:\n",
    "Как вы сформулировали нулевую и альтернативную гипотезы;\n",
    "Какой критерий применили для проверки гипотез и почему.\n",
    "\n",
    "**Шаг 6. Общий вывод**"
   ]
  },
  {
   "cell_type": "markdown",
   "metadata": {},
   "source": [
    "Загрузка библиотек."
   ]
  },
  {
   "cell_type": "code",
   "execution_count": 1,
   "metadata": {},
   "outputs": [],
   "source": [
    "import pandas as pd\n",
    "import numpy as np\n",
    "import seaborn as sns\n",
    "from datetime import datetime as dt\n",
    "import matplotlib.pyplot as plt\n",
    "%matplotlib inline\n",
    "from scipy import stats as st\n",
    "import warnings\n",
    "warnings.filterwarnings('ignore')"
   ]
  },
  {
   "cell_type": "markdown",
   "metadata": {},
   "source": [
    "**Шаг 1. Загрузка данных**. Изучение общей информации о данных."
   ]
  },
  {
   "cell_type": "code",
   "execution_count": 2,
   "metadata": {},
   "outputs": [],
   "source": [
    "try:\n",
    "    df_games = pd.read_csv ('games.csv')\n",
    "except:\n",
    "    print('Unknown Error')"
   ]
  },
  {
   "cell_type": "code",
   "execution_count": 3,
   "metadata": {},
   "outputs": [
    {
     "data": {
      "text/html": [
       "<div>\n",
       "<style scoped>\n",
       "    .dataframe tbody tr th:only-of-type {\n",
       "        vertical-align: middle;\n",
       "    }\n",
       "\n",
       "    .dataframe tbody tr th {\n",
       "        vertical-align: top;\n",
       "    }\n",
       "\n",
       "    .dataframe thead th {\n",
       "        text-align: right;\n",
       "    }\n",
       "</style>\n",
       "<table border=\"1\" class=\"dataframe\">\n",
       "  <thead>\n",
       "    <tr style=\"text-align: right;\">\n",
       "      <th></th>\n",
       "      <th>Name</th>\n",
       "      <th>Platform</th>\n",
       "      <th>Year_of_Release</th>\n",
       "      <th>Genre</th>\n",
       "      <th>NA_sales</th>\n",
       "      <th>EU_sales</th>\n",
       "      <th>JP_sales</th>\n",
       "      <th>Other_sales</th>\n",
       "      <th>Critic_Score</th>\n",
       "      <th>User_Score</th>\n",
       "      <th>Rating</th>\n",
       "    </tr>\n",
       "  </thead>\n",
       "  <tbody>\n",
       "    <tr>\n",
       "      <th>0</th>\n",
       "      <td>Wii Sports</td>\n",
       "      <td>Wii</td>\n",
       "      <td>2006.0</td>\n",
       "      <td>Sports</td>\n",
       "      <td>41.36</td>\n",
       "      <td>28.96</td>\n",
       "      <td>3.77</td>\n",
       "      <td>8.45</td>\n",
       "      <td>76.0</td>\n",
       "      <td>8</td>\n",
       "      <td>E</td>\n",
       "    </tr>\n",
       "    <tr>\n",
       "      <th>1</th>\n",
       "      <td>Super Mario Bros.</td>\n",
       "      <td>NES</td>\n",
       "      <td>1985.0</td>\n",
       "      <td>Platform</td>\n",
       "      <td>29.08</td>\n",
       "      <td>3.58</td>\n",
       "      <td>6.81</td>\n",
       "      <td>0.77</td>\n",
       "      <td>NaN</td>\n",
       "      <td>NaN</td>\n",
       "      <td>NaN</td>\n",
       "    </tr>\n",
       "    <tr>\n",
       "      <th>2</th>\n",
       "      <td>Mario Kart Wii</td>\n",
       "      <td>Wii</td>\n",
       "      <td>2008.0</td>\n",
       "      <td>Racing</td>\n",
       "      <td>15.68</td>\n",
       "      <td>12.76</td>\n",
       "      <td>3.79</td>\n",
       "      <td>3.29</td>\n",
       "      <td>82.0</td>\n",
       "      <td>8.3</td>\n",
       "      <td>E</td>\n",
       "    </tr>\n",
       "    <tr>\n",
       "      <th>3</th>\n",
       "      <td>Wii Sports Resort</td>\n",
       "      <td>Wii</td>\n",
       "      <td>2009.0</td>\n",
       "      <td>Sports</td>\n",
       "      <td>15.61</td>\n",
       "      <td>10.93</td>\n",
       "      <td>3.28</td>\n",
       "      <td>2.95</td>\n",
       "      <td>80.0</td>\n",
       "      <td>8</td>\n",
       "      <td>E</td>\n",
       "    </tr>\n",
       "    <tr>\n",
       "      <th>4</th>\n",
       "      <td>Pokemon Red/Pokemon Blue</td>\n",
       "      <td>GB</td>\n",
       "      <td>1996.0</td>\n",
       "      <td>Role-Playing</td>\n",
       "      <td>11.27</td>\n",
       "      <td>8.89</td>\n",
       "      <td>10.22</td>\n",
       "      <td>1.00</td>\n",
       "      <td>NaN</td>\n",
       "      <td>NaN</td>\n",
       "      <td>NaN</td>\n",
       "    </tr>\n",
       "  </tbody>\n",
       "</table>\n",
       "</div>"
      ],
      "text/plain": [
       "                       Name Platform  Year_of_Release         Genre  NA_sales  \\\n",
       "0                Wii Sports      Wii           2006.0        Sports     41.36   \n",
       "1         Super Mario Bros.      NES           1985.0      Platform     29.08   \n",
       "2            Mario Kart Wii      Wii           2008.0        Racing     15.68   \n",
       "3         Wii Sports Resort      Wii           2009.0        Sports     15.61   \n",
       "4  Pokemon Red/Pokemon Blue       GB           1996.0  Role-Playing     11.27   \n",
       "\n",
       "   EU_sales  JP_sales  Other_sales  Critic_Score User_Score Rating  \n",
       "0     28.96      3.77         8.45          76.0          8      E  \n",
       "1      3.58      6.81         0.77           NaN        NaN    NaN  \n",
       "2     12.76      3.79         3.29          82.0        8.3      E  \n",
       "3     10.93      3.28         2.95          80.0          8      E  \n",
       "4      8.89     10.22         1.00           NaN        NaN    NaN  "
      ]
     },
     "execution_count": 3,
     "metadata": {},
     "output_type": "execute_result"
    }
   ],
   "source": [
    "df_games.head()"
   ]
  },
  {
   "cell_type": "code",
   "execution_count": 4,
   "metadata": {},
   "outputs": [
    {
     "name": "stdout",
     "output_type": "stream",
     "text": [
      "<class 'pandas.core.frame.DataFrame'>\n",
      "RangeIndex: 16715 entries, 0 to 16714\n",
      "Data columns (total 11 columns):\n",
      " #   Column           Non-Null Count  Dtype  \n",
      "---  ------           --------------  -----  \n",
      " 0   Name             16713 non-null  object \n",
      " 1   Platform         16715 non-null  object \n",
      " 2   Year_of_Release  16446 non-null  float64\n",
      " 3   Genre            16713 non-null  object \n",
      " 4   NA_sales         16715 non-null  float64\n",
      " 5   EU_sales         16715 non-null  float64\n",
      " 6   JP_sales         16715 non-null  float64\n",
      " 7   Other_sales      16715 non-null  float64\n",
      " 8   Critic_Score     8137 non-null   float64\n",
      " 9   User_Score       10014 non-null  object \n",
      " 10  Rating           9949 non-null   object \n",
      "dtypes: float64(6), object(5)\n",
      "memory usage: 1.4+ MB\n"
     ]
    }
   ],
   "source": [
    "df_games.info()"
   ]
  },
  {
   "cell_type": "markdown",
   "metadata": {},
   "source": [
    "**Первичное ознакомление с информацией о структуре данных позволило сделать выводы, что необходимо:**\n",
    "\n",
    "- привести наименования всех столбцов к нижнему регистру;\n",
    "- преобразовать типы данных в столбцах Year_of_Release, User_Score;\n",
    "- заполнить пропуски по мере необходимости."
   ]
  },
  {
   "cell_type": "markdown",
   "metadata": {},
   "source": [
    "#### Шаг 2. Предобработка данных"
   ]
  },
  {
   "cell_type": "markdown",
   "metadata": {},
   "source": [
    "Проверим наличие и процент пропусков."
   ]
  },
  {
   "cell_type": "code",
   "execution_count": 5,
   "metadata": {},
   "outputs": [
    {
     "data": {
      "text/plain": [
       "Name                  2\n",
       "Platform              0\n",
       "Year_of_Release     269\n",
       "Genre                 2\n",
       "NA_sales              0\n",
       "EU_sales              0\n",
       "JP_sales              0\n",
       "Other_sales           0\n",
       "Critic_Score       8578\n",
       "User_Score         6701\n",
       "Rating             6766\n",
       "dtype: int64"
      ]
     },
     "execution_count": 5,
     "metadata": {},
     "output_type": "execute_result"
    }
   ],
   "source": [
    "df_games.isna().sum()"
   ]
  },
  {
   "cell_type": "code",
   "execution_count": 6,
   "metadata": {},
   "outputs": [
    {
     "data": {
      "text/plain": [
       "Name                0.011965\n",
       "Platform            0.000000\n",
       "Year_of_Release     1.609333\n",
       "Genre               0.011965\n",
       "NA_sales            0.000000\n",
       "EU_sales            0.000000\n",
       "JP_sales            0.000000\n",
       "Other_sales         0.000000\n",
       "Critic_Score       51.319174\n",
       "User_Score         40.089740\n",
       "Rating             40.478612\n",
       "dtype: float64"
      ]
     },
     "metadata": {},
     "output_type": "display_data"
    }
   ],
   "source": [
    "percent_missing = df_games.isnull().sum() * 100 / len(df_games)\n",
    "display(percent_missing)"
   ]
  },
  {
   "cell_type": "markdown",
   "metadata": {},
   "source": [
    "Больше всего пропусков в столбцах Critic_Score - 51%, User_Score и Rating - по 40% от общего объема данных.        "
   ]
  },
  {
   "cell_type": "code",
   "execution_count": 7,
   "metadata": {},
   "outputs": [],
   "source": [
    "df_games.columns = df_games.columns.str.lower()"
   ]
  },
  {
   "cell_type": "code",
   "execution_count": 8,
   "metadata": {},
   "outputs": [
    {
     "data": {
      "text/html": [
       "<div>\n",
       "<style scoped>\n",
       "    .dataframe tbody tr th:only-of-type {\n",
       "        vertical-align: middle;\n",
       "    }\n",
       "\n",
       "    .dataframe tbody tr th {\n",
       "        vertical-align: top;\n",
       "    }\n",
       "\n",
       "    .dataframe thead th {\n",
       "        text-align: right;\n",
       "    }\n",
       "</style>\n",
       "<table border=\"1\" class=\"dataframe\">\n",
       "  <thead>\n",
       "    <tr style=\"text-align: right;\">\n",
       "      <th></th>\n",
       "      <th>name</th>\n",
       "      <th>platform</th>\n",
       "      <th>year_of_release</th>\n",
       "      <th>genre</th>\n",
       "      <th>na_sales</th>\n",
       "      <th>eu_sales</th>\n",
       "      <th>jp_sales</th>\n",
       "      <th>other_sales</th>\n",
       "      <th>critic_score</th>\n",
       "      <th>user_score</th>\n",
       "      <th>rating</th>\n",
       "    </tr>\n",
       "  </thead>\n",
       "  <tbody>\n",
       "    <tr>\n",
       "      <th>0</th>\n",
       "      <td>Wii Sports</td>\n",
       "      <td>Wii</td>\n",
       "      <td>2006.0</td>\n",
       "      <td>Sports</td>\n",
       "      <td>41.36</td>\n",
       "      <td>28.96</td>\n",
       "      <td>3.77</td>\n",
       "      <td>8.45</td>\n",
       "      <td>76.0</td>\n",
       "      <td>8</td>\n",
       "      <td>E</td>\n",
       "    </tr>\n",
       "    <tr>\n",
       "      <th>1</th>\n",
       "      <td>Super Mario Bros.</td>\n",
       "      <td>NES</td>\n",
       "      <td>1985.0</td>\n",
       "      <td>Platform</td>\n",
       "      <td>29.08</td>\n",
       "      <td>3.58</td>\n",
       "      <td>6.81</td>\n",
       "      <td>0.77</td>\n",
       "      <td>NaN</td>\n",
       "      <td>NaN</td>\n",
       "      <td>NaN</td>\n",
       "    </tr>\n",
       "    <tr>\n",
       "      <th>2</th>\n",
       "      <td>Mario Kart Wii</td>\n",
       "      <td>Wii</td>\n",
       "      <td>2008.0</td>\n",
       "      <td>Racing</td>\n",
       "      <td>15.68</td>\n",
       "      <td>12.76</td>\n",
       "      <td>3.79</td>\n",
       "      <td>3.29</td>\n",
       "      <td>82.0</td>\n",
       "      <td>8.3</td>\n",
       "      <td>E</td>\n",
       "    </tr>\n",
       "    <tr>\n",
       "      <th>3</th>\n",
       "      <td>Wii Sports Resort</td>\n",
       "      <td>Wii</td>\n",
       "      <td>2009.0</td>\n",
       "      <td>Sports</td>\n",
       "      <td>15.61</td>\n",
       "      <td>10.93</td>\n",
       "      <td>3.28</td>\n",
       "      <td>2.95</td>\n",
       "      <td>80.0</td>\n",
       "      <td>8</td>\n",
       "      <td>E</td>\n",
       "    </tr>\n",
       "    <tr>\n",
       "      <th>4</th>\n",
       "      <td>Pokemon Red/Pokemon Blue</td>\n",
       "      <td>GB</td>\n",
       "      <td>1996.0</td>\n",
       "      <td>Role-Playing</td>\n",
       "      <td>11.27</td>\n",
       "      <td>8.89</td>\n",
       "      <td>10.22</td>\n",
       "      <td>1.00</td>\n",
       "      <td>NaN</td>\n",
       "      <td>NaN</td>\n",
       "      <td>NaN</td>\n",
       "    </tr>\n",
       "  </tbody>\n",
       "</table>\n",
       "</div>"
      ],
      "text/plain": [
       "                       name platform  year_of_release         genre  na_sales  \\\n",
       "0                Wii Sports      Wii           2006.0        Sports     41.36   \n",
       "1         Super Mario Bros.      NES           1985.0      Platform     29.08   \n",
       "2            Mario Kart Wii      Wii           2008.0        Racing     15.68   \n",
       "3         Wii Sports Resort      Wii           2009.0        Sports     15.61   \n",
       "4  Pokemon Red/Pokemon Blue       GB           1996.0  Role-Playing     11.27   \n",
       "\n",
       "   eu_sales  jp_sales  other_sales  critic_score user_score rating  \n",
       "0     28.96      3.77         8.45          76.0          8      E  \n",
       "1      3.58      6.81         0.77           NaN        NaN    NaN  \n",
       "2     12.76      3.79         3.29          82.0        8.3      E  \n",
       "3     10.93      3.28         2.95          80.0          8      E  \n",
       "4      8.89     10.22         1.00           NaN        NaN    NaN  "
      ]
     },
     "execution_count": 8,
     "metadata": {},
     "output_type": "execute_result"
    }
   ],
   "source": [
    "df_games.head()"
   ]
  },
  {
   "cell_type": "markdown",
   "metadata": {},
   "source": [
    "Привели названия столбцов к нижнему регистру. Проверим наличие дубликатов строк."
   ]
  },
  {
   "cell_type": "code",
   "execution_count": 9,
   "metadata": {},
   "outputs": [
    {
     "data": {
      "text/plain": [
       "0"
      ]
     },
     "execution_count": 9,
     "metadata": {},
     "output_type": "execute_result"
    }
   ],
   "source": [
    "df_games.duplicated().sum()"
   ]
  },
  {
   "cell_type": "markdown",
   "metadata": {},
   "source": [
    "Явные дубликаты в датафрейме отсутствуют."
   ]
  },
  {
   "cell_type": "code",
   "execution_count": 10,
   "metadata": {},
   "outputs": [
    {
     "data": {
      "text/plain": [
       "5155"
      ]
     },
     "execution_count": 10,
     "metadata": {},
     "output_type": "execute_result"
    }
   ],
   "source": [
    "df_games['name'].duplicated().sum()"
   ]
  },
  {
   "cell_type": "markdown",
   "metadata": {},
   "source": [
    "5155 дубликатов в названиях игр. Оставим только первые из них, при условии совпадения также года релиза и платформы. Сохраним в переменной размерность датасета после удаления неявных дубликатов."
   ]
  },
  {
   "cell_type": "code",
   "execution_count": 11,
   "metadata": {},
   "outputs": [
    {
     "name": "stdout",
     "output_type": "stream",
     "text": [
      "<class 'pandas.core.frame.DataFrame'>\n",
      "Index: 16713 entries, 0 to 16714\n",
      "Data columns (total 11 columns):\n",
      " #   Column           Non-Null Count  Dtype  \n",
      "---  ------           --------------  -----  \n",
      " 0   name             16712 non-null  object \n",
      " 1   platform         16713 non-null  object \n",
      " 2   year_of_release  16444 non-null  float64\n",
      " 3   genre            16712 non-null  object \n",
      " 4   na_sales         16713 non-null  float64\n",
      " 5   eu_sales         16713 non-null  float64\n",
      " 6   jp_sales         16713 non-null  float64\n",
      " 7   other_sales      16713 non-null  float64\n",
      " 8   critic_score     8136 non-null   float64\n",
      " 9   user_score       10013 non-null  object \n",
      " 10  rating           9948 non-null   object \n",
      "dtypes: float64(6), object(5)\n",
      "memory usage: 1.5+ MB\n"
     ]
    }
   ],
   "source": [
    "len1 = len(df_games)\n",
    "df_games = df_games.drop_duplicates(subset=['name', 'year_of_release', 'platform'], keep='first')\n",
    "df_games.info()"
   ]
  },
  {
   "cell_type": "markdown",
   "metadata": {},
   "source": [
    "Проверим, какими значениями представлены категориальные признаки: rating, platform, genre."
   ]
  },
  {
   "cell_type": "code",
   "execution_count": 12,
   "metadata": {},
   "outputs": [
    {
     "data": {
      "text/plain": [
       "array(['E', nan, 'M', 'T', 'E10+', 'K-A', 'AO', 'EC', 'RP'], dtype=object)"
      ]
     },
     "execution_count": 12,
     "metadata": {},
     "output_type": "execute_result"
    }
   ],
   "source": [
    "df_games['rating'].unique()"
   ]
  },
  {
   "cell_type": "code",
   "execution_count": 13,
   "metadata": {},
   "outputs": [
    {
     "data": {
      "text/plain": [
       "array(['Wii', 'NES', 'GB', 'DS', 'X360', 'PS3', 'PS2', 'SNES', 'GBA',\n",
       "       'PS4', '3DS', 'N64', 'PS', 'XB', 'PC', '2600', 'PSP', 'XOne',\n",
       "       'WiiU', 'GC', 'GEN', 'DC', 'PSV', 'SAT', 'SCD', 'WS', 'NG', 'TG16',\n",
       "       '3DO', 'GG', 'PCFX'], dtype=object)"
      ]
     },
     "execution_count": 13,
     "metadata": {},
     "output_type": "execute_result"
    }
   ],
   "source": [
    "df_games['platform'].unique()"
   ]
  },
  {
   "cell_type": "code",
   "execution_count": 14,
   "metadata": {},
   "outputs": [
    {
     "data": {
      "text/plain": [
       "array(['Sports', 'Platform', 'Racing', 'Role-Playing', 'Puzzle', 'Misc',\n",
       "       'Shooter', 'Simulation', 'Action', 'Fighting', 'Adventure',\n",
       "       'Strategy', nan], dtype=object)"
      ]
     },
     "execution_count": 14,
     "metadata": {},
     "output_type": "execute_result"
    }
   ],
   "source": [
    "df_games['genre'].unique()"
   ]
  },
  {
   "cell_type": "markdown",
   "metadata": {},
   "source": [
    "Значения в столбцах rating, platform, genre не содержат неявных дубликатов."
   ]
  },
  {
   "cell_type": "code",
   "execution_count": 15,
   "metadata": {},
   "outputs": [],
   "source": [
    "#df_games.groupby('year_of_release')['year_of_release'].count()"
   ]
  },
  {
   "cell_type": "code",
   "execution_count": 16,
   "metadata": {},
   "outputs": [],
   "source": [
    "#df_games['year_of_release'].value_counts()"
   ]
  },
  {
   "cell_type": "markdown",
   "metadata": {},
   "source": [
    "Проверим, какие значения находятся в стоблце year_of_release. Переведем к значению типа int."
   ]
  },
  {
   "cell_type": "code",
   "execution_count": 17,
   "metadata": {},
   "outputs": [
    {
     "data": {
      "text/plain": [
       "array([2006., 1985., 2008., 2009., 1996., 1989., 1984., 2005., 1999.,\n",
       "       2007., 2010., 2013., 2004., 1990., 1988., 2002., 2001., 2011.,\n",
       "       1998., 2015., 2012., 2014., 1992., 1997., 1993., 1994., 1982.,\n",
       "       2016., 2003., 1986., 2000.,   nan, 1995., 1991., 1981., 1987.,\n",
       "       1980., 1983.])"
      ]
     },
     "execution_count": 17,
     "metadata": {},
     "output_type": "execute_result"
    }
   ],
   "source": [
    "df_games['year_of_release'].unique()"
   ]
  },
  {
   "cell_type": "code",
   "execution_count": 18,
   "metadata": {},
   "outputs": [
    {
     "data": {
      "text/plain": [
       "269"
      ]
     },
     "metadata": {},
     "output_type": "display_data"
    },
    {
     "data": {
      "text/html": [
       "<div>\n",
       "<style scoped>\n",
       "    .dataframe tbody tr th:only-of-type {\n",
       "        vertical-align: middle;\n",
       "    }\n",
       "\n",
       "    .dataframe tbody tr th {\n",
       "        vertical-align: top;\n",
       "    }\n",
       "\n",
       "    .dataframe thead th {\n",
       "        text-align: right;\n",
       "    }\n",
       "</style>\n",
       "<table border=\"1\" class=\"dataframe\">\n",
       "  <thead>\n",
       "    <tr style=\"text-align: right;\">\n",
       "      <th></th>\n",
       "      <th>name</th>\n",
       "      <th>platform</th>\n",
       "      <th>year_of_release</th>\n",
       "      <th>genre</th>\n",
       "      <th>na_sales</th>\n",
       "      <th>eu_sales</th>\n",
       "      <th>jp_sales</th>\n",
       "      <th>other_sales</th>\n",
       "      <th>critic_score</th>\n",
       "      <th>user_score</th>\n",
       "      <th>rating</th>\n",
       "    </tr>\n",
       "  </thead>\n",
       "  <tbody>\n",
       "    <tr>\n",
       "      <th>183</th>\n",
       "      <td>Madden NFL 2004</td>\n",
       "      <td>PS2</td>\n",
       "      <td>&lt;NA&gt;</td>\n",
       "      <td>Sports</td>\n",
       "      <td>4.26</td>\n",
       "      <td>0.26</td>\n",
       "      <td>0.01</td>\n",
       "      <td>0.71</td>\n",
       "      <td>94.0</td>\n",
       "      <td>8.5</td>\n",
       "      <td>E</td>\n",
       "    </tr>\n",
       "    <tr>\n",
       "      <th>377</th>\n",
       "      <td>FIFA Soccer 2004</td>\n",
       "      <td>PS2</td>\n",
       "      <td>&lt;NA&gt;</td>\n",
       "      <td>Sports</td>\n",
       "      <td>0.59</td>\n",
       "      <td>2.36</td>\n",
       "      <td>0.04</td>\n",
       "      <td>0.51</td>\n",
       "      <td>84.0</td>\n",
       "      <td>6.4</td>\n",
       "      <td>E</td>\n",
       "    </tr>\n",
       "    <tr>\n",
       "      <th>456</th>\n",
       "      <td>LEGO Batman: The Videogame</td>\n",
       "      <td>Wii</td>\n",
       "      <td>&lt;NA&gt;</td>\n",
       "      <td>Action</td>\n",
       "      <td>1.80</td>\n",
       "      <td>0.97</td>\n",
       "      <td>0.00</td>\n",
       "      <td>0.29</td>\n",
       "      <td>74.0</td>\n",
       "      <td>7.9</td>\n",
       "      <td>E10+</td>\n",
       "    </tr>\n",
       "    <tr>\n",
       "      <th>475</th>\n",
       "      <td>wwe Smackdown vs. Raw 2006</td>\n",
       "      <td>PS2</td>\n",
       "      <td>&lt;NA&gt;</td>\n",
       "      <td>Fighting</td>\n",
       "      <td>1.57</td>\n",
       "      <td>1.02</td>\n",
       "      <td>0.00</td>\n",
       "      <td>0.41</td>\n",
       "      <td>NaN</td>\n",
       "      <td>NaN</td>\n",
       "      <td>NaN</td>\n",
       "    </tr>\n",
       "    <tr>\n",
       "      <th>609</th>\n",
       "      <td>Space Invaders</td>\n",
       "      <td>2600</td>\n",
       "      <td>&lt;NA&gt;</td>\n",
       "      <td>Shooter</td>\n",
       "      <td>2.36</td>\n",
       "      <td>0.14</td>\n",
       "      <td>0.00</td>\n",
       "      <td>0.03</td>\n",
       "      <td>NaN</td>\n",
       "      <td>NaN</td>\n",
       "      <td>NaN</td>\n",
       "    </tr>\n",
       "    <tr>\n",
       "      <th>627</th>\n",
       "      <td>Rock Band</td>\n",
       "      <td>X360</td>\n",
       "      <td>&lt;NA&gt;</td>\n",
       "      <td>Misc</td>\n",
       "      <td>1.93</td>\n",
       "      <td>0.33</td>\n",
       "      <td>0.00</td>\n",
       "      <td>0.21</td>\n",
       "      <td>92.0</td>\n",
       "      <td>8.2</td>\n",
       "      <td>T</td>\n",
       "    </tr>\n",
       "    <tr>\n",
       "      <th>657</th>\n",
       "      <td>Frogger's Adventures: Temple of the Frog</td>\n",
       "      <td>GBA</td>\n",
       "      <td>&lt;NA&gt;</td>\n",
       "      <td>Adventure</td>\n",
       "      <td>2.15</td>\n",
       "      <td>0.18</td>\n",
       "      <td>0.00</td>\n",
       "      <td>0.07</td>\n",
       "      <td>73.0</td>\n",
       "      <td>tbd</td>\n",
       "      <td>E</td>\n",
       "    </tr>\n",
       "    <tr>\n",
       "      <th>678</th>\n",
       "      <td>LEGO Indiana Jones: The Original Adventures</td>\n",
       "      <td>Wii</td>\n",
       "      <td>&lt;NA&gt;</td>\n",
       "      <td>Action</td>\n",
       "      <td>1.51</td>\n",
       "      <td>0.61</td>\n",
       "      <td>0.00</td>\n",
       "      <td>0.21</td>\n",
       "      <td>78.0</td>\n",
       "      <td>6.6</td>\n",
       "      <td>E10+</td>\n",
       "    </tr>\n",
       "    <tr>\n",
       "      <th>719</th>\n",
       "      <td>Call of Duty 3</td>\n",
       "      <td>Wii</td>\n",
       "      <td>&lt;NA&gt;</td>\n",
       "      <td>Shooter</td>\n",
       "      <td>1.17</td>\n",
       "      <td>0.84</td>\n",
       "      <td>0.00</td>\n",
       "      <td>0.23</td>\n",
       "      <td>69.0</td>\n",
       "      <td>6.7</td>\n",
       "      <td>T</td>\n",
       "    </tr>\n",
       "    <tr>\n",
       "      <th>805</th>\n",
       "      <td>Rock Band</td>\n",
       "      <td>Wii</td>\n",
       "      <td>&lt;NA&gt;</td>\n",
       "      <td>Misc</td>\n",
       "      <td>1.33</td>\n",
       "      <td>0.56</td>\n",
       "      <td>0.00</td>\n",
       "      <td>0.20</td>\n",
       "      <td>80.0</td>\n",
       "      <td>6.3</td>\n",
       "      <td>T</td>\n",
       "    </tr>\n",
       "    <tr>\n",
       "      <th>1131</th>\n",
       "      <td>Call of Duty: Black Ops</td>\n",
       "      <td>PC</td>\n",
       "      <td>&lt;NA&gt;</td>\n",
       "      <td>Shooter</td>\n",
       "      <td>0.58</td>\n",
       "      <td>0.81</td>\n",
       "      <td>0.00</td>\n",
       "      <td>0.23</td>\n",
       "      <td>81.0</td>\n",
       "      <td>5.2</td>\n",
       "      <td>M</td>\n",
       "    </tr>\n",
       "    <tr>\n",
       "      <th>1142</th>\n",
       "      <td>Rock Band</td>\n",
       "      <td>PS3</td>\n",
       "      <td>&lt;NA&gt;</td>\n",
       "      <td>Misc</td>\n",
       "      <td>0.99</td>\n",
       "      <td>0.41</td>\n",
       "      <td>0.00</td>\n",
       "      <td>0.22</td>\n",
       "      <td>92.0</td>\n",
       "      <td>8.4</td>\n",
       "      <td>T</td>\n",
       "    </tr>\n",
       "    <tr>\n",
       "      <th>1301</th>\n",
       "      <td>Triple Play 99</td>\n",
       "      <td>PS</td>\n",
       "      <td>&lt;NA&gt;</td>\n",
       "      <td>Sports</td>\n",
       "      <td>0.81</td>\n",
       "      <td>0.55</td>\n",
       "      <td>0.00</td>\n",
       "      <td>0.10</td>\n",
       "      <td>NaN</td>\n",
       "      <td>NaN</td>\n",
       "      <td>NaN</td>\n",
       "    </tr>\n",
       "    <tr>\n",
       "      <th>1506</th>\n",
       "      <td>Adventure</td>\n",
       "      <td>2600</td>\n",
       "      <td>&lt;NA&gt;</td>\n",
       "      <td>Adventure</td>\n",
       "      <td>1.21</td>\n",
       "      <td>0.08</td>\n",
       "      <td>0.00</td>\n",
       "      <td>0.01</td>\n",
       "      <td>NaN</td>\n",
       "      <td>NaN</td>\n",
       "      <td>NaN</td>\n",
       "    </tr>\n",
       "    <tr>\n",
       "      <th>1538</th>\n",
       "      <td>LEGO Batman: The Videogame</td>\n",
       "      <td>PSP</td>\n",
       "      <td>&lt;NA&gt;</td>\n",
       "      <td>Action</td>\n",
       "      <td>0.57</td>\n",
       "      <td>0.44</td>\n",
       "      <td>0.00</td>\n",
       "      <td>0.27</td>\n",
       "      <td>73.0</td>\n",
       "      <td>7.4</td>\n",
       "      <td>E10+</td>\n",
       "    </tr>\n",
       "    <tr>\n",
       "      <th>1585</th>\n",
       "      <td>Combat</td>\n",
       "      <td>2600</td>\n",
       "      <td>&lt;NA&gt;</td>\n",
       "      <td>Action</td>\n",
       "      <td>1.17</td>\n",
       "      <td>0.07</td>\n",
       "      <td>0.00</td>\n",
       "      <td>0.01</td>\n",
       "      <td>NaN</td>\n",
       "      <td>NaN</td>\n",
       "      <td>NaN</td>\n",
       "    </tr>\n",
       "    <tr>\n",
       "      <th>1609</th>\n",
       "      <td>LEGO Harry Potter: Years 5-7</td>\n",
       "      <td>Wii</td>\n",
       "      <td>&lt;NA&gt;</td>\n",
       "      <td>Action</td>\n",
       "      <td>0.69</td>\n",
       "      <td>0.42</td>\n",
       "      <td>0.00</td>\n",
       "      <td>0.12</td>\n",
       "      <td>76.0</td>\n",
       "      <td>7.8</td>\n",
       "      <td>E10+</td>\n",
       "    </tr>\n",
       "    <tr>\n",
       "      <th>1650</th>\n",
       "      <td>NASCAR Thunder 2003</td>\n",
       "      <td>PS2</td>\n",
       "      <td>&lt;NA&gt;</td>\n",
       "      <td>Racing</td>\n",
       "      <td>0.60</td>\n",
       "      <td>0.46</td>\n",
       "      <td>0.00</td>\n",
       "      <td>0.16</td>\n",
       "      <td>84.0</td>\n",
       "      <td>8.7</td>\n",
       "      <td>E</td>\n",
       "    </tr>\n",
       "    <tr>\n",
       "      <th>1699</th>\n",
       "      <td>Hitman 2: Silent Assassin</td>\n",
       "      <td>XB</td>\n",
       "      <td>&lt;NA&gt;</td>\n",
       "      <td>Action</td>\n",
       "      <td>0.76</td>\n",
       "      <td>0.38</td>\n",
       "      <td>0.00</td>\n",
       "      <td>0.05</td>\n",
       "      <td>84.0</td>\n",
       "      <td>8</td>\n",
       "      <td>M</td>\n",
       "    </tr>\n",
       "    <tr>\n",
       "      <th>1840</th>\n",
       "      <td>Rock Band</td>\n",
       "      <td>PS2</td>\n",
       "      <td>&lt;NA&gt;</td>\n",
       "      <td>Misc</td>\n",
       "      <td>0.71</td>\n",
       "      <td>0.06</td>\n",
       "      <td>0.00</td>\n",
       "      <td>0.35</td>\n",
       "      <td>82.0</td>\n",
       "      <td>6.8</td>\n",
       "      <td>T</td>\n",
       "    </tr>\n",
       "  </tbody>\n",
       "</table>\n",
       "</div>"
      ],
      "text/plain": [
       "                                             name platform  year_of_release  \\\n",
       "183                               Madden NFL 2004      PS2             <NA>   \n",
       "377                              FIFA Soccer 2004      PS2             <NA>   \n",
       "456                    LEGO Batman: The Videogame      Wii             <NA>   \n",
       "475                    wwe Smackdown vs. Raw 2006      PS2             <NA>   \n",
       "609                                Space Invaders     2600             <NA>   \n",
       "627                                     Rock Band     X360             <NA>   \n",
       "657      Frogger's Adventures: Temple of the Frog      GBA             <NA>   \n",
       "678   LEGO Indiana Jones: The Original Adventures      Wii             <NA>   \n",
       "719                                Call of Duty 3      Wii             <NA>   \n",
       "805                                     Rock Band      Wii             <NA>   \n",
       "1131                      Call of Duty: Black Ops       PC             <NA>   \n",
       "1142                                    Rock Band      PS3             <NA>   \n",
       "1301                               Triple Play 99       PS             <NA>   \n",
       "1506                                    Adventure     2600             <NA>   \n",
       "1538                   LEGO Batman: The Videogame      PSP             <NA>   \n",
       "1585                                       Combat     2600             <NA>   \n",
       "1609                 LEGO Harry Potter: Years 5-7      Wii             <NA>   \n",
       "1650                          NASCAR Thunder 2003      PS2             <NA>   \n",
       "1699                    Hitman 2: Silent Assassin       XB             <NA>   \n",
       "1840                                    Rock Band      PS2             <NA>   \n",
       "\n",
       "          genre  na_sales  eu_sales  jp_sales  other_sales  critic_score  \\\n",
       "183      Sports      4.26      0.26      0.01         0.71          94.0   \n",
       "377      Sports      0.59      2.36      0.04         0.51          84.0   \n",
       "456      Action      1.80      0.97      0.00         0.29          74.0   \n",
       "475    Fighting      1.57      1.02      0.00         0.41           NaN   \n",
       "609     Shooter      2.36      0.14      0.00         0.03           NaN   \n",
       "627        Misc      1.93      0.33      0.00         0.21          92.0   \n",
       "657   Adventure      2.15      0.18      0.00         0.07          73.0   \n",
       "678      Action      1.51      0.61      0.00         0.21          78.0   \n",
       "719     Shooter      1.17      0.84      0.00         0.23          69.0   \n",
       "805        Misc      1.33      0.56      0.00         0.20          80.0   \n",
       "1131    Shooter      0.58      0.81      0.00         0.23          81.0   \n",
       "1142       Misc      0.99      0.41      0.00         0.22          92.0   \n",
       "1301     Sports      0.81      0.55      0.00         0.10           NaN   \n",
       "1506  Adventure      1.21      0.08      0.00         0.01           NaN   \n",
       "1538     Action      0.57      0.44      0.00         0.27          73.0   \n",
       "1585     Action      1.17      0.07      0.00         0.01           NaN   \n",
       "1609     Action      0.69      0.42      0.00         0.12          76.0   \n",
       "1650     Racing      0.60      0.46      0.00         0.16          84.0   \n",
       "1699     Action      0.76      0.38      0.00         0.05          84.0   \n",
       "1840       Misc      0.71      0.06      0.00         0.35          82.0   \n",
       "\n",
       "     user_score rating  \n",
       "183         8.5      E  \n",
       "377         6.4      E  \n",
       "456         7.9   E10+  \n",
       "475         NaN    NaN  \n",
       "609         NaN    NaN  \n",
       "627         8.2      T  \n",
       "657         tbd      E  \n",
       "678         6.6   E10+  \n",
       "719         6.7      T  \n",
       "805         6.3      T  \n",
       "1131        5.2      M  \n",
       "1142        8.4      T  \n",
       "1301        NaN    NaN  \n",
       "1506        NaN    NaN  \n",
       "1538        7.4   E10+  \n",
       "1585        NaN    NaN  \n",
       "1609        7.8   E10+  \n",
       "1650        8.7      E  \n",
       "1699          8      M  \n",
       "1840        6.8      T  "
      ]
     },
     "execution_count": 18,
     "metadata": {},
     "output_type": "execute_result"
    }
   ],
   "source": [
    "df_games['year_of_release'] = df_games['year_of_release'].astype(\"Int64\")\n",
    "display(df_games['year_of_release'].isnull().sum())\n",
    "df_games[df_games['year_of_release'].isna()].head(20)"
   ]
  },
  {
   "cell_type": "code",
   "execution_count": 19,
   "metadata": {},
   "outputs": [],
   "source": [
    "#df_games.head()"
   ]
  },
  {
   "cell_type": "code",
   "execution_count": 20,
   "metadata": {},
   "outputs": [
    {
     "name": "stdout",
     "output_type": "stream",
     "text": [
      "<class 'pandas.core.frame.DataFrame'>\n",
      "Index: 16713 entries, 0 to 16714\n",
      "Data columns (total 11 columns):\n",
      " #   Column           Non-Null Count  Dtype  \n",
      "---  ------           --------------  -----  \n",
      " 0   name             16712 non-null  object \n",
      " 1   platform         16713 non-null  object \n",
      " 2   year_of_release  16444 non-null  Int64  \n",
      " 3   genre            16712 non-null  object \n",
      " 4   na_sales         16713 non-null  float64\n",
      " 5   eu_sales         16713 non-null  float64\n",
      " 6   jp_sales         16713 non-null  float64\n",
      " 7   other_sales      16713 non-null  float64\n",
      " 8   critic_score     8136 non-null   float64\n",
      " 9   user_score       10013 non-null  object \n",
      " 10  rating           9948 non-null   object \n",
      "dtypes: Int64(1), float64(5), object(5)\n",
      "memory usage: 1.5+ MB\n"
     ]
    }
   ],
   "source": [
    "df_games.info()"
   ]
  },
  {
   "cell_type": "markdown",
   "metadata": {},
   "source": [
    "Поменяли тип данных в столбце year_of_release на int."
   ]
  },
  {
   "cell_type": "markdown",
   "metadata": {},
   "source": [
    "Также предстоит заменить тип данных в столбце user_score. Здесь встречается значение \"tbd\" (\"To Be Determined\"). Следовательно, это тот же NaN, который необходимо соответствующим образом обработать."
   ]
  },
  {
   "cell_type": "code",
   "execution_count": 21,
   "metadata": {},
   "outputs": [
    {
     "data": {
      "text/plain": [
       "6700"
      ]
     },
     "execution_count": 21,
     "metadata": {},
     "output_type": "execute_result"
    }
   ],
   "source": [
    "df_games['user_score'].isnull().sum()"
   ]
  },
  {
   "cell_type": "code",
   "execution_count": 22,
   "metadata": {},
   "outputs": [],
   "source": [
    "df_games['user_score'].loc[df_games['user_score'] == 'tbd'] = None"
   ]
  },
  {
   "cell_type": "code",
   "execution_count": 23,
   "metadata": {},
   "outputs": [
    {
     "data": {
      "text/plain": [
       "9124"
      ]
     },
     "execution_count": 23,
     "metadata": {},
     "output_type": "execute_result"
    }
   ],
   "source": [
    "df_games['user_score'].isnull().sum()"
   ]
  },
  {
   "cell_type": "markdown",
   "metadata": {},
   "source": [
    "Еще раз проверим количество пропусков в датасете."
   ]
  },
  {
   "cell_type": "code",
   "execution_count": 24,
   "metadata": {},
   "outputs": [
    {
     "data": {
      "text/plain": [
       "name                0.005983\n",
       "platform            0.000000\n",
       "year_of_release     1.609526\n",
       "genre               0.005983\n",
       "na_sales            0.000000\n",
       "eu_sales            0.000000\n",
       "jp_sales            0.000000\n",
       "other_sales         0.000000\n",
       "critic_score       51.319332\n",
       "user_score         54.592234\n",
       "rating             40.477473\n",
       "dtype: float64"
      ]
     },
     "metadata": {},
     "output_type": "display_data"
    }
   ],
   "source": [
    "percent_missing = df_games.isnull().sum() * 100 / len(df_games)\n",
    "display(percent_missing)"
   ]
  },
  {
   "cell_type": "markdown",
   "metadata": {},
   "source": [
    "Количество пропусков в трех последних столбцах внушающее, заполнять их в таком количестве медианными значениями некорректно. Пропуски в столбце с именем и годом выпуска незначительные, эти строки можно удалить из датасета.\n",
    "\n"
   ]
  },
  {
   "cell_type": "code",
   "execution_count": 25,
   "metadata": {},
   "outputs": [
    {
     "data": {
      "text/plain": [
       "name                  0\n",
       "platform              0\n",
       "year_of_release       0\n",
       "genre                 0\n",
       "na_sales              0\n",
       "eu_sales              0\n",
       "jp_sales              0\n",
       "other_sales           0\n",
       "critic_score       8461\n",
       "user_score         8981\n",
       "rating             6676\n",
       "dtype: int64"
      ]
     },
     "execution_count": 25,
     "metadata": {},
     "output_type": "execute_result"
    }
   ],
   "source": [
    "df_games = df_games.dropna(subset=['year_of_release'])\n",
    "df_games = df_games.dropna(subset=['name'])\n",
    "df_games.isna().sum()"
   ]
  },
  {
   "cell_type": "markdown",
   "metadata": {},
   "source": []
  },
  {
   "cell_type": "code",
   "execution_count": 26,
   "metadata": {},
   "outputs": [
    {
     "data": {
      "text/plain": [
       "array(['E', nan, 'M', 'T', 'E10+', 'K-A', 'AO', 'EC', 'RP'], dtype=object)"
      ]
     },
     "execution_count": 26,
     "metadata": {},
     "output_type": "execute_result"
    }
   ],
   "source": [
    "df_games['rating'].unique()"
   ]
  },
  {
   "cell_type": "code",
   "execution_count": 27,
   "metadata": {},
   "outputs": [
    {
     "data": {
      "text/plain": [
       "rating\n",
       "E       3920\n",
       "T       2905\n",
       "M       1536\n",
       "E10+    1393\n",
       "EC         8\n",
       "K-A        3\n",
       "AO         1\n",
       "RP         1\n",
       "Name: count, dtype: int64"
      ]
     },
     "execution_count": 27,
     "metadata": {},
     "output_type": "execute_result"
    }
   ],
   "source": [
    "df_games['rating'].value_counts()"
   ]
  },
  {
   "cell_type": "markdown",
   "metadata": {},
   "source": [
    "Чтобы понять, как заполнить пропуски в столбце rating (ESRB) обратимся к значениями, используемым для классификации рейтинга.\n",
    "\n",
    "E       Everyone                Для всех (0+)\n",
    "\n",
    "T       Teen                    13+\n",
    "\n",
    "M       Mature                  Для взрослых (от 18 лет)\n",
    "\n",
    "E10+    Everyone 10 and older   10+\n",
    "\n",
    "EC      Early childhood         3+\n",
    "\n",
    "K-A     Kids to Adults          Для всех (аналогично E)\n",
    "\n",
    "RP      Rating Pending          Рейтинг ожидается\n",
    "\n",
    "AO      Adults only             Только для взрослых (18+)\n",
    "\n",
    "Следовательно необходимо заменить K-A на E, RP заполнить по аналогии с NaN."
   ]
  },
  {
   "cell_type": "code",
   "execution_count": 28,
   "metadata": {},
   "outputs": [
    {
     "data": {
      "text/plain": [
       "array(['E', nan, 'M', 'T', 'E10+', 'AO', 'EC', None], dtype=object)"
      ]
     },
     "execution_count": 28,
     "metadata": {},
     "output_type": "execute_result"
    }
   ],
   "source": [
    "df_games['rating'].loc[df_games['rating'] == 'K-A']= 'E'\n",
    "df_games['rating'][df_games['rating'] == 'RP'] = None\n",
    "df_games['rating'].unique()"
   ]
  },
  {
   "cell_type": "markdown",
   "metadata": {},
   "source": [
    "Пропуски в столбцах с оценками критиков и пользователей, а также возрастным рейтингом составляют от 40 до 55 %, это большое количество и такие пропуски можно заполнить методом ближайших соседей, предварительно закодировав категориальный тип данных rating."
   ]
  },
  {
   "cell_type": "code",
   "execution_count": 29,
   "metadata": {},
   "outputs": [],
   "source": [
    "from sklearn.impute import KNNImputer\n",
    "from sklearn.preprocessing import LabelEncoder\n",
    "\n",
    "# кодирование категориального признака\n",
    "encoder = LabelEncoder()\n",
    "df_games['rating'] = encoder.fit_transform(df_games['rating'])\n",
    "\n",
    "# заполнение пропусков с использованием KNNImputer\n",
    "imputer = KNNImputer(n_neighbors=4)\n",
    "df_games[['critic_score', 'user_score', 'rating']] = imputer.fit_transform(df_games[['critic_score', 'user_score', 'rating']])"
   ]
  },
  {
   "cell_type": "markdown",
   "metadata": {},
   "source": [
    "Снова проверим дубликаты и пропуски."
   ]
  },
  {
   "cell_type": "code",
   "execution_count": 30,
   "metadata": {},
   "outputs": [
    {
     "data": {
      "text/plain": [
       "0"
      ]
     },
     "execution_count": 30,
     "metadata": {},
     "output_type": "execute_result"
    }
   ],
   "source": [
    "df_games.duplicated().sum()"
   ]
  },
  {
   "cell_type": "code",
   "execution_count": 31,
   "metadata": {},
   "outputs": [
    {
     "data": {
      "text/plain": [
       "name               0\n",
       "platform           0\n",
       "year_of_release    0\n",
       "genre              0\n",
       "na_sales           0\n",
       "eu_sales           0\n",
       "jp_sales           0\n",
       "other_sales        0\n",
       "critic_score       0\n",
       "user_score         0\n",
       "rating             0\n",
       "dtype: int64"
      ]
     },
     "execution_count": 31,
     "metadata": {},
     "output_type": "execute_result"
    }
   ],
   "source": [
    "df_games.isnull().sum()"
   ]
  },
  {
   "cell_type": "code",
   "execution_count": 32,
   "metadata": {},
   "outputs": [
    {
     "data": {
      "text/plain": [
       "0.016272808854322463"
      ]
     },
     "execution_count": 32,
     "metadata": {},
     "output_type": "execute_result"
    }
   ],
   "source": [
    "(len1 - len(df_games)) / len1"
   ]
  },
  {
   "cell_type": "markdown",
   "metadata": {},
   "source": [
    "Всего удалили менее 1,6 % данных, что является допустимым."
   ]
  },
  {
   "cell_type": "code",
   "execution_count": 33,
   "metadata": {},
   "outputs": [
    {
     "data": {
      "text/plain": [
       "name               0.0\n",
       "platform           0.0\n",
       "year_of_release    0.0\n",
       "genre              0.0\n",
       "na_sales           0.0\n",
       "eu_sales           0.0\n",
       "jp_sales           0.0\n",
       "other_sales        0.0\n",
       "critic_score       0.0\n",
       "user_score         0.0\n",
       "rating             0.0\n",
       "dtype: float64"
      ]
     },
     "metadata": {},
     "output_type": "display_data"
    }
   ],
   "source": [
    "percent_missing = df_games.isnull().sum() * 100 / len(df_games)\n",
    "display(percent_missing)"
   ]
  },
  {
   "cell_type": "markdown",
   "metadata": {},
   "source": [
    "Создадим столбец с суммой продаж по всем регионам."
   ]
  },
  {
   "cell_type": "code",
   "execution_count": 34,
   "metadata": {},
   "outputs": [],
   "source": [
    "df_games['total_sales'] = df_games['na_sales'] + df_games['eu_sales'] + df_games['jp_sales'] + df_games['other_sales']\n",
    "df_games['total_sales'] = pd.to_numeric(df_games['total_sales'])\n"
   ]
  },
  {
   "cell_type": "markdown",
   "metadata": {},
   "source": [
    "В столбце с годом выпуска установим тип integer."
   ]
  },
  {
   "cell_type": "code",
   "execution_count": 35,
   "metadata": {},
   "outputs": [
    {
     "data": {
      "text/html": [
       "<div>\n",
       "<style scoped>\n",
       "    .dataframe tbody tr th:only-of-type {\n",
       "        vertical-align: middle;\n",
       "    }\n",
       "\n",
       "    .dataframe tbody tr th {\n",
       "        vertical-align: top;\n",
       "    }\n",
       "\n",
       "    .dataframe thead th {\n",
       "        text-align: right;\n",
       "    }\n",
       "</style>\n",
       "<table border=\"1\" class=\"dataframe\">\n",
       "  <thead>\n",
       "    <tr style=\"text-align: right;\">\n",
       "      <th></th>\n",
       "      <th>name</th>\n",
       "      <th>platform</th>\n",
       "      <th>year_of_release</th>\n",
       "      <th>genre</th>\n",
       "      <th>na_sales</th>\n",
       "      <th>eu_sales</th>\n",
       "      <th>jp_sales</th>\n",
       "      <th>other_sales</th>\n",
       "      <th>critic_score</th>\n",
       "      <th>user_score</th>\n",
       "      <th>rating</th>\n",
       "      <th>total_sales</th>\n",
       "    </tr>\n",
       "  </thead>\n",
       "  <tbody>\n",
       "    <tr>\n",
       "      <th>0</th>\n",
       "      <td>Wii Sports</td>\n",
       "      <td>Wii</td>\n",
       "      <td>2006</td>\n",
       "      <td>Sports</td>\n",
       "      <td>41.36</td>\n",
       "      <td>28.96</td>\n",
       "      <td>3.77</td>\n",
       "      <td>8.45</td>\n",
       "      <td>76.00</td>\n",
       "      <td>8.0</td>\n",
       "      <td>1.0</td>\n",
       "      <td>82.54</td>\n",
       "    </tr>\n",
       "    <tr>\n",
       "      <th>1</th>\n",
       "      <td>Super Mario Bros.</td>\n",
       "      <td>NES</td>\n",
       "      <td>1985</td>\n",
       "      <td>Platform</td>\n",
       "      <td>29.08</td>\n",
       "      <td>3.58</td>\n",
       "      <td>6.81</td>\n",
       "      <td>0.77</td>\n",
       "      <td>71.25</td>\n",
       "      <td>7.0</td>\n",
       "      <td>7.0</td>\n",
       "      <td>40.24</td>\n",
       "    </tr>\n",
       "    <tr>\n",
       "      <th>2</th>\n",
       "      <td>Mario Kart Wii</td>\n",
       "      <td>Wii</td>\n",
       "      <td>2008</td>\n",
       "      <td>Racing</td>\n",
       "      <td>15.68</td>\n",
       "      <td>12.76</td>\n",
       "      <td>3.79</td>\n",
       "      <td>3.29</td>\n",
       "      <td>82.00</td>\n",
       "      <td>8.3</td>\n",
       "      <td>1.0</td>\n",
       "      <td>35.52</td>\n",
       "    </tr>\n",
       "    <tr>\n",
       "      <th>3</th>\n",
       "      <td>Wii Sports Resort</td>\n",
       "      <td>Wii</td>\n",
       "      <td>2009</td>\n",
       "      <td>Sports</td>\n",
       "      <td>15.61</td>\n",
       "      <td>10.93</td>\n",
       "      <td>3.28</td>\n",
       "      <td>2.95</td>\n",
       "      <td>80.00</td>\n",
       "      <td>8.0</td>\n",
       "      <td>1.0</td>\n",
       "      <td>32.77</td>\n",
       "    </tr>\n",
       "    <tr>\n",
       "      <th>4</th>\n",
       "      <td>Pokemon Red/Pokemon Blue</td>\n",
       "      <td>GB</td>\n",
       "      <td>1996</td>\n",
       "      <td>Role-Playing</td>\n",
       "      <td>11.27</td>\n",
       "      <td>8.89</td>\n",
       "      <td>10.22</td>\n",
       "      <td>1.00</td>\n",
       "      <td>71.25</td>\n",
       "      <td>7.0</td>\n",
       "      <td>7.0</td>\n",
       "      <td>31.38</td>\n",
       "    </tr>\n",
       "  </tbody>\n",
       "</table>\n",
       "</div>"
      ],
      "text/plain": [
       "                       name platform  year_of_release         genre  na_sales  \\\n",
       "0                Wii Sports      Wii             2006        Sports     41.36   \n",
       "1         Super Mario Bros.      NES             1985      Platform     29.08   \n",
       "2            Mario Kart Wii      Wii             2008        Racing     15.68   \n",
       "3         Wii Sports Resort      Wii             2009        Sports     15.61   \n",
       "4  Pokemon Red/Pokemon Blue       GB             1996  Role-Playing     11.27   \n",
       "\n",
       "   eu_sales  jp_sales  other_sales  critic_score  user_score  rating  \\\n",
       "0     28.96      3.77         8.45         76.00         8.0     1.0   \n",
       "1      3.58      6.81         0.77         71.25         7.0     7.0   \n",
       "2     12.76      3.79         3.29         82.00         8.3     1.0   \n",
       "3     10.93      3.28         2.95         80.00         8.0     1.0   \n",
       "4      8.89     10.22         1.00         71.25         7.0     7.0   \n",
       "\n",
       "   total_sales  \n",
       "0        82.54  \n",
       "1        40.24  \n",
       "2        35.52  \n",
       "3        32.77  \n",
       "4        31.38  "
      ]
     },
     "execution_count": 35,
     "metadata": {},
     "output_type": "execute_result"
    }
   ],
   "source": [
    "df_games['year_of_release'] = df_games['year_of_release'].astype(int)\n",
    "\n",
    "df_games.head()"
   ]
  },
  {
   "cell_type": "code",
   "execution_count": 36,
   "metadata": {},
   "outputs": [
    {
     "name": "stdout",
     "output_type": "stream",
     "text": [
      "<class 'pandas.core.frame.DataFrame'>\n",
      "Index: 16443 entries, 0 to 16714\n",
      "Data columns (total 12 columns):\n",
      " #   Column           Non-Null Count  Dtype  \n",
      "---  ------           --------------  -----  \n",
      " 0   name             16443 non-null  object \n",
      " 1   platform         16443 non-null  object \n",
      " 2   year_of_release  16443 non-null  int32  \n",
      " 3   genre            16443 non-null  object \n",
      " 4   na_sales         16443 non-null  float64\n",
      " 5   eu_sales         16443 non-null  float64\n",
      " 6   jp_sales         16443 non-null  float64\n",
      " 7   other_sales      16443 non-null  float64\n",
      " 8   critic_score     16443 non-null  float64\n",
      " 9   user_score       16443 non-null  float64\n",
      " 10  rating           16443 non-null  float64\n",
      " 11  total_sales      16443 non-null  float64\n",
      "dtypes: float64(8), int32(1), object(3)\n",
      "memory usage: 1.6+ MB\n"
     ]
    }
   ],
   "source": [
    "df_games.info()"
   ]
  },
  {
   "cell_type": "markdown",
   "metadata": {},
   "source": [
    "В столбце с пользовательским рейтингом поменяем тип данных на числовой."
   ]
  },
  {
   "cell_type": "markdown",
   "metadata": {},
   "source": [
    "В результате предобработки данных мы получили данные без пропусков (заполнили методом ближайших соседей), удалили небольшое количество строк, заменили типы данных на актуальные и посчитали общее количество продаж по всем регионам."
   ]
  },
  {
   "cell_type": "markdown",
   "metadata": {},
   "source": [
    "#### Шаг 3. Исследовательский анализ данных"
   ]
  },
  {
   "cell_type": "markdown",
   "metadata": {},
   "source": [
    "Посмотрим, сколько игр выпускалось в разные годы. Важны ли данные за все периоды?"
   ]
  },
  {
   "cell_type": "code",
   "execution_count": 37,
   "metadata": {},
   "outputs": [
    {
     "data": {
      "image/png": "[encoded data removed]",
      "text/plain": [
       "<Figure size 1200x500 with 1 Axes>"
      ]
     },
     "metadata": {},
     "output_type": "display_data"
    }
   ],
   "source": [
    "df_games.pivot_table(index='year_of_release', values='name', aggfunc='count').plot(kind='bar' , grid=True, figsize=(12, 5))\n",
    "\n",
    "plt.title('Количество выпущенных игр по годам')\n",
    "plt.xlabel('Год')\n",
    "plt.ylabel('Количество игр')\n",
    "plt.show()"
   ]
  },
  {
   "cell_type": "markdown",
   "metadata": {},
   "source": [
    "У нас представлены данные о вышедших играх с 1980 по 2016 год.\n",
    "Отсортировав количество игр по годам их выпуска, мы видим, что до 1994 года продаж было мало, менее 100 в год, однако с 1994, продажи начали кратно расти, и в 2006 перевалили за 1000 шт. в год.\n",
    "Рост продаж продолжался до 2008 и держался на том же уровне до 2009, но в 2010 год продажи пошли на спад. Далее с 2012 года продажи сократились примерно до уровня начала 00-ых и сохранялись римерно на том же уровне до 2016 включительно. "
   ]
  },
  {
   "cell_type": "code",
   "execution_count": 38,
   "metadata": {},
   "outputs": [
    {
     "data": {
      "image/png": "[encoded data removed]",
      "text/plain": [
       "<Figure size 1200x500 with 1 Axes>"
      ]
     },
     "metadata": {},
     "output_type": "display_data"
    }
   ],
   "source": [
    "platform_total_sales = df_games.pivot_table(index='platform', values='total_sales', aggfunc='count').sort_values(\n",
    "    by=['total_sales'], ascending=False)\n",
    "platform_total_sales.plot(kind='bar' , grid=True, figsize=(12, 5))\n",
    "\n",
    "plt.title(\"Лидеры по объемам продаж платформы PS2 и DS\")\n",
    "plt.xlabel(\"Платформы\")\n",
    "plt.ylabel(\"Объем продаж\")\n",
    "plt.show()"
   ]
  },
  {
   "cell_type": "code",
   "execution_count": 39,
   "metadata": {},
   "outputs": [
    {
     "data": {
      "text/plain": [
       "\"Топ-5 самых популярных платформ ['PS2', 'DS', 'PS3', 'Wii', 'X360']\""
      ]
     },
     "metadata": {},
     "output_type": "display_data"
    }
   ],
   "source": [
    "platform_top_5_all = platform_total_sales.index[:5].to_list()\n",
    "display(f'Топ-5 самых популярных платформ {platform_top_5_all}')"
   ]
  },
  {
   "cell_type": "markdown",
   "metadata": {},
   "source": [
    "Наиболее популярные платформы за все время 'PS2', 'X360', 'PS3', 'Wii', 'DS'. При этом продажи PS2 и DS практически одинаковы."
   ]
  },
  {
   "cell_type": "markdown",
   "metadata": {},
   "source": [
    "Возьмем данные за **актуальный период**. Актуальный период определим самостоятельно в результате исследования предыдущих вопросов. Основной фактор — эти данные помогут построить прогноз на 2017 год. Примем за начальную точку 2014 год, т.к. оптимально в целях прогноризования использовать промежуток 2-3 года, а данные за 2016 год неполные."
   ]
  },
  {
   "cell_type": "markdown",
   "metadata": {},
   "source": [
    "Рассмотрим 5 платформ с наибольшей суммой продаж за актуальный период с 2014 года."
   ]
  },
  {
   "cell_type": "code",
   "execution_count": 40,
   "metadata": {},
   "outputs": [
    {
     "data": {
      "image/png": "[encoded data removed]",
      "text/plain": [
       "<Figure size 800x400 with 1 Axes>"
      ]
     },
     "metadata": {},
     "output_type": "display_data"
    }
   ],
   "source": [
    "df_games2014 = df_games.query('year_of_release>=2014')\n",
    "df_games_2014_pivot = df_games2014.pivot_table(index='platform', values='total_sales', aggfunc='sum').sort_values(\n",
    "    by=['total_sales'], ascending=False)\n",
    "platform_top_5 = df_games_2014_pivot.index[:5].to_list()\n",
    "df_games_2014_pivot = df_games_2014_pivot.query(\"platform in @platform_top_5\")\n",
    "df_games_2014_pivot.plot(kind='bar' , grid=True, figsize=(8, 4))\n",
    "plt.title(\"Продажи PS4 превзошли продажи ближайшего конкурента в 2 раза\")\n",
    "plt.xlabel(\"Платформы\")\n",
    "plt.ylabel(\"Объем продаж\")\n",
    "plt.show()"
   ]
  },
  {
   "cell_type": "markdown",
   "metadata": {},
   "source": [
    "Определим функцию для постоения сводной таблицы с суммой продаж за каждый год по каждой платформе и построим линейную диаграмму для каждой платформы на едином графике."
   ]
  },
  {
   "cell_type": "code",
   "execution_count": 41,
   "metadata": {},
   "outputs": [],
   "source": [
    "def platform_year_total_sale(name, data):\n",
    "    slicee = data[(data['platform'] == name)]\n",
    "    total = slicee.pivot_table(index='year_of_release', values='total_sales', aggfunc='sum').sort_values('year_of_release', ascending=False)\n",
    "    return total"
   ]
  },
  {
   "cell_type": "code",
   "execution_count": 42,
   "metadata": {},
   "outputs": [],
   "source": [
    "df_games_top_5_all = df_games.query(\"platform in @platform_top_5_all\")"
   ]
  },
  {
   "cell_type": "code",
   "execution_count": 43,
   "metadata": {},
   "outputs": [
    {
     "data": {
      "image/png": "[encoded data removed]",
      "text/plain": [
       "<Figure size 800x300 with 1 Axes>"
      ]
     },
     "metadata": {},
     "output_type": "display_data"
    }
   ],
   "source": [
    "plt.figure(figsize=(8,3))\n",
    "plt.title('Объем продаж топ-5 игровых платформ за весь период')\n",
    "plt.xlabel('Годы выпуска')\n",
    "plt.ylabel('Объем продаж')\n",
    "\n",
    "for i in platform_top_5_all:\n",
    "    sns.lineplot(data=platform_year_total_sale(i, df_games_top_5_all)['total_sales'], label=i)\n",
    "    plt.legend()\n",
    "plt.grid(True)\n",
    "plt.show()"
   ]
  },
  {
   "cell_type": "markdown",
   "metadata": {},
   "source": [
    "Из графика мы видим, что в среднем срок жизни каждой платформы составляет около 10 лет."
   ]
  },
  {
   "cell_type": "code",
   "execution_count": 44,
   "metadata": {},
   "outputs": [],
   "source": [
    "df_games_platform_top_5 = df_games2014.query(\"platform in @platform_top_5\")"
   ]
  },
  {
   "cell_type": "code",
   "execution_count": 45,
   "metadata": {},
   "outputs": [
    {
     "data": {
      "image/png": "[encoded data removed]",
      "text/plain": [
       "<Figure size 800x300 with 1 Axes>"
      ]
     },
     "metadata": {},
     "output_type": "display_data"
    }
   ],
   "source": [
    "plt.figure(figsize=(8,3))\n",
    "plt.title('Объем продаж топ-5 игровых платформ с 2014 года')\n",
    "plt.xlabel('Годы выпуска')\n",
    "plt.ylabel('Объем продаж')\n",
    "\n",
    "for i in platform_top_5:\n",
    "    sns.lineplot(data=platform_year_total_sale(i, df_games_platform_top_5)['total_sales'], label=i)\n",
    "    plt.legend()\n",
    "plt.grid(True)\n",
    "plt.xticks(np.arange(min(df_games2014['year_of_release']), max(df_games2014['year_of_release'])+1, 1.0))\n",
    "plt.show()"
   ]
  },
  {
   "cell_type": "markdown",
   "metadata": {},
   "source": [
    "На графиках мы видим, что:\n",
    "- Средний срок жизни платформы составляет 10 лет. \n",
    "- Cамые высокие продажи  за весь период год зафиксированы у  PS2 и DS.\n",
    "- Поведение продаж примерно одинаковое (резкий взлет и плавное снижение) у X360, PS3 и 3DS.\n",
    "- Самое резкое падение продаж произошло у WII с 2009 по 2012 год.\n",
    "- Самые высокие продажи за прошедшие 3 года у PS4, кратно превышающие объемы продаж других платформ.\n",
    "- Наиболее перспективные консоли на 2017 год являются PS4 и XOne, даже с учетом спада продаж игр в последние годы."
   ]
  },
  {
   "cell_type": "markdown",
   "metadata": {},
   "source": [
    "Построим график «ящик с усами» по глобальным продажам игр в разбивке по платформам. "
   ]
  },
  {
   "cell_type": "code",
   "execution_count": 46,
   "metadata": {},
   "outputs": [
    {
     "data": {
      "text/html": [
       "<div>\n",
       "<style scoped>\n",
       "    .dataframe tbody tr th:only-of-type {\n",
       "        vertical-align: middle;\n",
       "    }\n",
       "\n",
       "    .dataframe tbody tr th {\n",
       "        vertical-align: top;\n",
       "    }\n",
       "\n",
       "    .dataframe thead th {\n",
       "        text-align: right;\n",
       "    }\n",
       "</style>\n",
       "<table border=\"1\" class=\"dataframe\">\n",
       "  <thead>\n",
       "    <tr style=\"text-align: right;\">\n",
       "      <th></th>\n",
       "      <th>year_of_release</th>\n",
       "      <th>na_sales</th>\n",
       "      <th>eu_sales</th>\n",
       "      <th>jp_sales</th>\n",
       "      <th>other_sales</th>\n",
       "      <th>critic_score</th>\n",
       "      <th>user_score</th>\n",
       "      <th>rating</th>\n",
       "      <th>total_sales</th>\n",
       "    </tr>\n",
       "  </thead>\n",
       "  <tbody>\n",
       "    <tr>\n",
       "      <th>count</th>\n",
       "      <td>1146.000000</td>\n",
       "      <td>1146.000000</td>\n",
       "      <td>1146.000000</td>\n",
       "      <td>1146.000000</td>\n",
       "      <td>1146.000000</td>\n",
       "      <td>1146.000000</td>\n",
       "      <td>1146.000000</td>\n",
       "      <td>1146.000000</td>\n",
       "      <td>1146.000000</td>\n",
       "    </tr>\n",
       "    <tr>\n",
       "      <th>mean</th>\n",
       "      <td>2014.965969</td>\n",
       "      <td>0.220654</td>\n",
       "      <td>0.203700</td>\n",
       "      <td>0.061850</td>\n",
       "      <td>0.064921</td>\n",
       "      <td>69.960079</td>\n",
       "      <td>6.744917</td>\n",
       "      <td>4.702443</td>\n",
       "      <td>0.551126</td>\n",
       "    </tr>\n",
       "    <tr>\n",
       "      <th>std</th>\n",
       "      <td>0.800476</td>\n",
       "      <td>0.511491</td>\n",
       "      <td>0.547368</td>\n",
       "      <td>0.244133</td>\n",
       "      <td>0.167507</td>\n",
       "      <td>9.491147</td>\n",
       "      <td>1.221110</td>\n",
       "      <td>2.248635</td>\n",
       "      <td>1.215718</td>\n",
       "    </tr>\n",
       "    <tr>\n",
       "      <th>min</th>\n",
       "      <td>2014.000000</td>\n",
       "      <td>0.000000</td>\n",
       "      <td>0.000000</td>\n",
       "      <td>0.000000</td>\n",
       "      <td>0.000000</td>\n",
       "      <td>19.000000</td>\n",
       "      <td>0.200000</td>\n",
       "      <td>1.000000</td>\n",
       "      <td>0.010000</td>\n",
       "    </tr>\n",
       "    <tr>\n",
       "      <th>25%</th>\n",
       "      <td>2014.000000</td>\n",
       "      <td>0.000000</td>\n",
       "      <td>0.000000</td>\n",
       "      <td>0.000000</td>\n",
       "      <td>0.000000</td>\n",
       "      <td>67.000000</td>\n",
       "      <td>6.500000</td>\n",
       "      <td>2.000000</td>\n",
       "      <td>0.050000</td>\n",
       "    </tr>\n",
       "    <tr>\n",
       "      <th>50%</th>\n",
       "      <td>2015.000000</td>\n",
       "      <td>0.040000</td>\n",
       "      <td>0.040000</td>\n",
       "      <td>0.000000</td>\n",
       "      <td>0.010000</td>\n",
       "      <td>71.250000</td>\n",
       "      <td>7.000000</td>\n",
       "      <td>5.000000</td>\n",
       "      <td>0.140000</td>\n",
       "    </tr>\n",
       "    <tr>\n",
       "      <th>75%</th>\n",
       "      <td>2016.000000</td>\n",
       "      <td>0.190000</td>\n",
       "      <td>0.160000</td>\n",
       "      <td>0.050000</td>\n",
       "      <td>0.050000</td>\n",
       "      <td>72.750000</td>\n",
       "      <td>7.287500</td>\n",
       "      <td>7.000000</td>\n",
       "      <td>0.480000</td>\n",
       "    </tr>\n",
       "    <tr>\n",
       "      <th>max</th>\n",
       "      <td>2016.000000</td>\n",
       "      <td>6.030000</td>\n",
       "      <td>6.310000</td>\n",
       "      <td>3.180000</td>\n",
       "      <td>2.380000</td>\n",
       "      <td>97.000000</td>\n",
       "      <td>9.200000</td>\n",
       "      <td>7.000000</td>\n",
       "      <td>14.630000</td>\n",
       "    </tr>\n",
       "  </tbody>\n",
       "</table>\n",
       "</div>"
      ],
      "text/plain": [
       "       year_of_release     na_sales     eu_sales     jp_sales  other_sales  \\\n",
       "count      1146.000000  1146.000000  1146.000000  1146.000000  1146.000000   \n",
       "mean       2014.965969     0.220654     0.203700     0.061850     0.064921   \n",
       "std           0.800476     0.511491     0.547368     0.244133     0.167507   \n",
       "min        2014.000000     0.000000     0.000000     0.000000     0.000000   \n",
       "25%        2014.000000     0.000000     0.000000     0.000000     0.000000   \n",
       "50%        2015.000000     0.040000     0.040000     0.000000     0.010000   \n",
       "75%        2016.000000     0.190000     0.160000     0.050000     0.050000   \n",
       "max        2016.000000     6.030000     6.310000     3.180000     2.380000   \n",
       "\n",
       "       critic_score   user_score       rating  total_sales  \n",
       "count   1146.000000  1146.000000  1146.000000  1146.000000  \n",
       "mean      69.960079     6.744917     4.702443     0.551126  \n",
       "std        9.491147     1.221110     2.248635     1.215718  \n",
       "min       19.000000     0.200000     1.000000     0.010000  \n",
       "25%       67.000000     6.500000     2.000000     0.050000  \n",
       "50%       71.250000     7.000000     5.000000     0.140000  \n",
       "75%       72.750000     7.287500     7.000000     0.480000  \n",
       "max       97.000000     9.200000     7.000000    14.630000  "
      ]
     },
     "execution_count": 46,
     "metadata": {},
     "output_type": "execute_result"
    }
   ],
   "source": [
    "df_games_platform_top_5.describe()"
   ]
  },
  {
   "cell_type": "code",
   "execution_count": 47,
   "metadata": {},
   "outputs": [
    {
     "data": {
      "image/png": "[encoded data removed]",
      "text/plain": [
       "<Figure size 800x400 with 1 Axes>"
      ]
     },
     "metadata": {},
     "output_type": "display_data"
    }
   ],
   "source": [
    "df_games_platform_top_5.boxplot(by='platform', column=['total_sales'], figsize=(8,4))\n",
    "plt.ylim(0,4)\n",
    "plt.title('Продажи игр по платформам')\n",
    "plt.xlabel('Платформа')\n",
    "plt.ylabel('Продажи')\n",
    "plt.show()"
   ]
  },
  {
   "cell_type": "markdown",
   "metadata": {},
   "source": [
    "Согласно полученному графику медианный ценник на игры для PS4 чуть ниже, чем у основного конкурента XOne, однако стоимость продуктов в среднем выше. Медиана по всем платформам смещена к низу, то есть отличается от среднего в меньшую сторону."
   ]
  },
  {
   "cell_type": "markdown",
   "metadata": {},
   "source": [
    "Посмотрим, как влияют на продажи внутри платформы XOne отзывы пользователей и критиков. Построим диаграмму рассеяния и посчитаем корреляцию между отзывами и продажами."
   ]
  },
  {
   "cell_type": "code",
   "execution_count": null,
   "metadata": {},
   "outputs": [],
   "source": [
    "xone = df_games[df_games['platform']=='XOne']\n",
    "sns.pairplot(xone, \n",
    "vars=['critic_score', 'total_sales', 'user_score'],\n",
    "diag_kind='kde',\n",
    "markers=['o', 's'],\n",
    "palette='viridis')\n",
    "\n",
    "plt.show() "
   ]
  },
  {
   "cell_type": "code",
   "execution_count": null,
   "metadata": {},
   "outputs": [],
   "source": [
    "print(f'Коэффициент корреляции user_score и total_sales {xone['user_score'].corr(xone['total_sales']).round(2)}')"
   ]
  },
  {
   "cell_type": "code",
   "execution_count": null,
   "metadata": {},
   "outputs": [],
   "source": [
    "print (f'Коэффициент корреляции critic_score и total_sales {xone['critic_score'].corr(xone['total_sales']).round(2)}')\n"
   ]
  },
  {
   "cell_type": "markdown",
   "metadata": {},
   "source": [
    "Коэф. корреляции  и матрица рассеивания показывают, что зависимость величин между user_score и total_sales практически отсутствует, а между critic_score и total_sales незначительная зависимость имеется."
   ]
  },
  {
   "cell_type": "markdown",
   "metadata": {},
   "source": [
    "Соотнесем выводы с продажами игр на других платформах. Для этого напишем функцию, создающую диаграммы рассеивания для каждой платформы с вложенной функцией оценки величины корреляции."
   ]
  },
  {
   "cell_type": "code",
   "execution_count": null,
   "metadata": {},
   "outputs": [],
   "source": [
    "\n",
    "def platform_scatter(platform_for_research):\n",
    "    for platform in  platform_for_research:\n",
    "        p = df_games[df_games['platform']==platform]\n",
    "        fig, ax = plt.subplots(1 ,2, figsize=(15,5))\n",
    "        sns.scatterplot(data=p, x='user_score', y='total_sales', ax=ax[0])\n",
    "        sns.scatterplot(data=p, x='critic_score', y='total_sales',  ax=ax[1])\n",
    "        fig.suptitle(platform, fontsize=15)\n",
    "        ax[0].set(xlabel='Оценка пользователей')\n",
    "        ax[1].set(xlabel='Оценка критиков')\n",
    "        ax[0].set(ylabel='Количество продаж')\n",
    "        ax[1].set(ylabel='Количество продаж')\n",
    "        plt.show()\n",
    "        correl = p['user_score'].corr(p['total_sales'])\n",
    "        critic_correl = p['critic_score'].corr(p['total_sales'])\n",
    "        \n",
    "        def correl_score (corr_mean):\n",
    "            if 0.3 >= abs(corr_mean) >= 0.001:\n",
    "                print('Слабая')\n",
    "            if 0.5 >= abs(corr_mean) > 0.3:\n",
    "                print('Умеренная')\n",
    "            if 0.7 >= corr_mean > 0.5:\n",
    "                print('Высокая')\n",
    "            if 0.9 >= abs(corr_mean) > 0.7:\n",
    "                print('Очень высокая')\n",
    "            if 1 >= abs(corr_mean) >= 0.9:\n",
    "                print('Сильная')\n",
    "            return corr_mean\n",
    "        print ('\\n')\n",
    "        \n",
    "        print ('Корреляция между отзывами пользователями и продажами игровой платформой: ', platform)\n",
    "        print(correl_score (correl))\n",
    "        print ('Корреляция между отзывами критиков и продажами игровой платформой: ',platform) \n",
    "        print(correl_score (critic_correl))\n",
    "  \n",
    "    \n",
    "    \n"
   ]
  },
  {
   "cell_type": "code",
   "execution_count": null,
   "metadata": {},
   "outputs": [],
   "source": [
    "platform_scatter(platform_top_5_all)"
   ]
  },
  {
   "cell_type": "markdown",
   "metadata": {},
   "source": [
    "Корреляция между оценками пользователей к объему продаж слабая, в то в время как с оценками критиков и проджами связь у некоторых платформ умеренная.\n",
    "Соответственно, связь между данными тремя параметрами очень неустойчивая."
   ]
  },
  {
   "cell_type": "markdown",
   "metadata": {},
   "source": [
    "Посмотрим на общее распределение игр по жанрам. Что можно сказать о самых прибыльных жанрах? Выделяются ли жанры с высокими и низкими продажами?\n",
    "Общие продажи - плохая метрика для поиска наиболее прибыльного жанра. Высокие показатели могут быть обусловлены одной \"стрельнувшей\" игрой, но это не дает возможности судить о целом жанре. В данном случае рассмотреть медианные/средние продажи и посмотреть."
   ]
  },
  {
   "cell_type": "code",
   "execution_count": null,
   "metadata": {},
   "outputs": [],
   "source": [
    "df_games.pivot_table(index='genre', values='total_sales', aggfunc='mean').sort_values('total_sales', ascending=False).plot(kind='bar', y='total_sales', figsize=(10, 5), legend=False)\n",
    "plt.title(\"Продажи платформенных игр в среднем  превышают продажи других жанров\")\n",
    "plt.xlabel(\"Жанры\")\n",
    "plt.ylabel(\"Объем продаж\")\n",
    "plt.show()"
   ]
  },
  {
   "cell_type": "markdown",
   "metadata": {},
   "source": [
    "Лучше всего продаются платформерные игры, затем идут шутеры, на последнем месте по продажам приключенческие игры."
   ]
  },
  {
   "cell_type": "markdown",
   "metadata": {},
   "source": [
    "**Выводы**\n",
    "- с 1994 продажи игр стали расти до 2008-09 годов, после чего пошел значительный спад, и количество продаваемых игр сократилось примерно до уровня начала 00-ых.\n",
    "- Самые популярные игровые платформы за весь период (в порядке убывания популярности) 'PS4', 'XOne', '3DS', 'PS3', 'X360'. \n",
    "- За последние 3 года в топ продаж выбились игровые платформы PS4 и XOne.\n",
    "- Средний срок жизни платформы 10 лет. Пиковой популярности платформа достигает в среднем через 4 года после ее выхода в свет. \n",
    "- У всех платформ наблюдается умеренная зависимость между продажами и оценками пользователей, однако оценка критиков практически лишена влияния на спрос. "
   ]
  },
  {
   "cell_type": "markdown",
   "metadata": {},
   "source": [
    "**Шаг 4. Составление портрета пользователя каждого региона.**"
   ]
  },
  {
   "cell_type": "markdown",
   "metadata": {},
   "source": [
    "Определим для пользователя каждого региона (NA, EU, JP):\n",
    "- Самые популярные платформы (топ-5). Опишем различия в долях продаж.\n",
    "- Самые популярные жанры (топ-5). Поясним разницу.\n",
    "- Влияет ли рейтинг ESRB на продажи в отдельном регионе?"
   ]
  },
  {
   "cell_type": "markdown",
   "metadata": {},
   "source": [
    "Напишем функцию, создающую сводные таблицы и строющую столбчатые диаграммы к ним для данных за весь период с привязкой к следующим параметрам:\n",
    "- платформа\n",
    "- жанр\n",
    "- рейтинг ESRB"
   ]
  },
  {
   "cell_type": "code",
   "execution_count": null,
   "metadata": {},
   "outputs": [],
   "source": [
    "def region_pivot(row, title):\n",
    "    fig, axes = plt.subplots(1, 3, figsize=(20, 4))\n",
    "    for pivot, ax in zip(list(['platform','genre','rating']),axes.flatten()[:3]):\n",
    "        ppivot = df_games.pivot_table(index=pivot, values=row, aggfunc='sum'\n",
    "                  ).sort_values(by=row, ascending=False).reset_index().head(5)\n",
    "        print(ppivot)\n",
    "        print('\\n\\n') \n",
    "        sns.barplot(data=ppivot, x=pivot, y=row, ax=ax)\n",
    "        fig.suptitle(title, fontsize=15)\n",
    "    plt.show()\n",
    "        #sns.set()"
   ]
  },
  {
   "cell_type": "markdown",
   "metadata": {},
   "source": [
    "Напишем функцию, создающую сводные таблицы и строющую столбчатые диаграммы к ним для данных за прошедший год."
   ]
  },
  {
   "cell_type": "code",
   "execution_count": null,
   "metadata": {},
   "outputs": [],
   "source": [
    "def region_pivot_2016(row, title):\n",
    "    fig, axes = plt.subplots(1, 3, figsize=(20, 4))\n",
    "    temp = df_games[df_games['year_of_release']>2015]\n",
    "    for pivot, ax in zip(list(['platform','genre','rating']), axes.flatten()[:3]):\n",
    "        ppivot = temp.pivot_table(index=pivot, values=row, aggfunc='sum').sort_values(by=row, ascending=False).reset_index().head(5)\n",
    "        print(ppivot)\n",
    "        print('\\n\\n')\n",
    "        sns.barplot(data=ppivot, x=pivot, y=row, ax=ax)\n",
    "        fig.suptitle(title, fontsize=15)\n",
    "    plt.show()"
   ]
  },
  {
   "cell_type": "markdown",
   "metadata": {},
   "source": [
    "Используем функции для отрисовки поведения пользователей в странах Северной Америки, Европы и Японии."
   ]
  },
  {
   "cell_type": "code",
   "execution_count": null,
   "metadata": {},
   "outputs": [],
   "source": [
    "region_pivot('na_sales','Топ 5 платформ, жанров и рейтингов для Северной Америки за весь период')"
   ]
  },
  {
   "cell_type": "code",
   "execution_count": null,
   "metadata": {},
   "outputs": [],
   "source": [
    "region_pivot_2016('na_sales','Топ 5 платформ, жанров и рейтингов для Северной Америки за 2016 год')"
   ]
  },
  {
   "cell_type": "code",
   "execution_count": null,
   "metadata": {},
   "outputs": [],
   "source": [
    "region_pivot('eu_sales','Топ 5 платформ, жанров и рейтингов для Европы за весь период')"
   ]
  },
  {
   "cell_type": "code",
   "execution_count": null,
   "metadata": {},
   "outputs": [],
   "source": [
    "region_pivot_2016('eu_sales','Топ 5 платформ, жанров и рейтингов Европы за 2016 год')"
   ]
  },
  {
   "cell_type": "code",
   "execution_count": null,
   "metadata": {},
   "outputs": [],
   "source": [
    "region_pivot('jp_sales','Топ 5 платформ, жанров и рейтингов для Японии за весь период')"
   ]
  },
  {
   "cell_type": "code",
   "execution_count": null,
   "metadata": {},
   "outputs": [],
   "source": [
    "region_pivot_2016('jp_sales','Топ 5 платформ, жанров и рейтингов для Японии за весь 2016 год')"
   ]
  },
  {
   "cell_type": "markdown",
   "metadata": {},
   "source": [
    "**Выводы:**\n",
    "\n",
    "За весь период:\n",
    "\n",
    "Северная Америка:\n",
    "\n",
    "- Топ-3 игровые платформы: X360, PS2, WII.\n",
    "- Топ-3 жанра: action, sports, shooter. \n",
    "- Топ-3 рейтингов: M (18+), затем идут игры E (для всех), и T игры для подростков (13+).\n",
    "\n",
    "Европа:\n",
    "\n",
    "- Топ-3 игровые платформы: PS2, PS3, X360.\n",
    "- Топ-3 жанра: action, sports, shooter. \n",
    "- Топ-3 рейтингов: M (18+), E (для всех), и T игры для подростков (13+).\n",
    "\n",
    "Япония:\n",
    "\n",
    "- Топ-3 игровые платформы: DS, PS, PS2.\n",
    "- Топ-3 жанра: role-playing, action, sports.\n",
    "- Топ-3 рейтингов: M (18+), E (для всех), и T игры для подростков (13+).\n",
    "\n",
    "\n",
    "За последний год:\n",
    "\n",
    "Северная Америка:\n",
    "\n",
    "- Топ-3 игровые платформы: PS4, XOne, 3DS.\n",
    "- Топ-3 жанра: shooter, action, sports.\n",
    "- Топ-3 рейтингов: M (18+), T (13+) и E (для всех).\n",
    "\n",
    "В Европейском союзе:\n",
    "\n",
    "- Топ-3 игровые платформы: PS4, XOne, PC.\n",
    "- Топ-3 жанра: shooter, sports, action.\n",
    "- Топ-3 рейтингов: M (18+), E (для всех) и T (13+).\n",
    "\n",
    "Япония:\n",
    "\n",
    "- Топ-3 игровые платформы: 3DS, PS4, PSV.\n",
    "- Топ-3 жанра: action, role-playing, adventure.\n",
    "- Топ-3 рейтингов: M (18+), T (13+) и E (для всех).\n",
    "\n",
    "Мы видим, что взяв любой из период для оценки популярности игр, топ-3 возрастных рейтингов везде одинковые с небольшой разницей в их процентном соотношении.\n",
    "\n",
    "Поскольку рынок IT развивается достаточно быстро, для анализа перспектив продаж мы взяли данные за прошедший (2016 год), что позволило сделать выводы о том, что наиболее успешными будут являться игры для взрослыз с рейтингом M (18+), а ниболее востребованными жанрами останутся shooter и action.\n"
   ]
  },
  {
   "cell_type": "markdown",
   "metadata": {},
   "source": [
    "**Шаг 5. Проверка гипотез**\n",
    "\n",
    "- Средние пользовательские рейтинги платформ Xbox One и PC одинаковые;\n",
    "- Средние пользовательские рейтинги жанров Action (англ. «действие», экшен-игры) и Sports (англ. «спортивные соревнования») разные.\n",
    "- Зададим самостоятельно пороговое значение alpha."
   ]
  },
  {
   "cell_type": "markdown",
   "metadata": {},
   "source": [
    "**Проверим гипотезу** о том, что средние пользовательские рейтинги платформ Xbox One и PC одинаковые\n",
    "\n",
    "- Нулевая гипотеза: Средние пользовательские рейтинги платформ Xbox One и PC одинаковые.\n",
    "- Альтернативная гипотеза: Средние пользовательские рейтинги платформ Xbox One и PC различаются.\n",
    "\n",
    "Возьмем данные за атуальный период (с 2014 года)"
   ]
  },
  {
   "cell_type": "code",
   "execution_count": null,
   "metadata": {},
   "outputs": [],
   "source": [
    "xone = df_games[(df_games['platform'] == 'XOne') & (df_games['year_of_release']>=2014)]['user_score']\n",
    "pc = df_games[(df_games['platform'] == \"PC\") & (df_games['year_of_release']>=2014)]['user_score']\n",
    "\n",
    "alpha = 0.01\n",
    "\n",
    "results = st.ttest_ind(xone, pc, equal_var=False)\n",
    "\n",
    "print('p-значение:', results.pvalue)\n",
    "\n",
    "if (results.pvalue < alpha):\n",
    "    print(\"Средние пользовательские рейтинги платформ Xbox One и PC различны.\")\n",
    "else:\n",
    "    print(\"Не получилось отвергнуть нулевую гипотезу, что средние пользовательские рейтинги платформ Xbox One и PC одинаковые.\")\n",
    "\n",
    "print(f'Средний пользовательский рейтинг XOne = {xone.mean()}')\n",
    "print(f'Средний пользовательский рейтинг PC = {pc.mean()}')"
   ]
  },
  {
   "cell_type": "markdown",
   "metadata": {},
   "source": [
    "**Проверим гипотезу** о том, что средние пользовательские рейтинги жанров Action (англ. «действие», экшен-игры) и Sports (англ. «спортивные соревнования») разные.\n",
    "\n",
    "Сформулируем гипотезы:\n",
    "\n",
    "- Нулевая гипотеза: Средние пользовательские рейтинги жанров Action и Sports одинаковые.\n",
    "- Альтернативная гипотеза: Средние пользовательские рейтинги жанров Action и Sports различаются."
   ]
  },
  {
   "cell_type": "code",
   "execution_count": null,
   "metadata": {},
   "outputs": [],
   "source": [
    "genre_action_hyp = df_games[(df_games['genre']=='Action') & (df_games['year_of_release']>=2014)]['user_score']\n",
    "genre_sports_hyp = df_games[(df_games['genre']=='Sports') & (df_games['year_of_release']>=2014)]['user_score']\n",
    "\n",
    "alpha = 0.01\n",
    "\n",
    "results = st.ttest_ind(genre_action_hyp, genre_sports_hyp, equal_var=False)\n",
    "\n",
    "print('p-значение:', results.pvalue)\n",
    "\n",
    "\n",
    "if (results.pvalue < alpha):\n",
    "    print(\"Средние пользовательские рейтинги жанров Action и Sports различаются.\")\n",
    "else:\n",
    "    print(\"Не получилось отвергнуть нулевую гипотезу, что средние пользовательские рейтинги жанров Action и Sports одинаковые.\")\n",
    "\n",
    "print(f'Средний пользовательский рейтинг Action = {genre_action_hyp.mean()}')\n",
    "print(f'Средний пользовательский рейтинг Sports = {genre_sports_hyp.mean()}')"
   ]
  },
  {
   "cell_type": "markdown",
   "metadata": {},
   "source": [
    "Выводы по проверке гипотез:\n",
    "\n",
    "- **Не получилось отвергнуть** нулевую гипотезу, что средние пользовательские рейтинги платформ Xbox One и PC одинаковые.\n",
    "- Гипотеза о том, что средние пользовательские рейтинги жанров Action и Sports разные **подтвердилась**. "
   ]
  },
  {
   "cell_type": "markdown",
   "metadata": {},
   "source": [
    "**Шаг 6. Общие выводы:**\n",
    "\n",
    "- В процессе предобработки данных мы привели к нижнему регистру названия колонок и поменяли тип данных в некоторых столбцах.\n",
    "- Выяснили, что аббревиатура TBD значит to be determined, to be done, поэтому заменили tbd на nan и обработали соответствующим образом.\n",
    "- Выявили, что количество игр стало заметно расти с большой скоростью с 1994 до 2008 года. С 2008 года начался резкий спад продаж.\n",
    "- За весь период самыми популярными приставками стали: PS2, X360, PS3, WII, DS, PS.\n",
    "- За последние 3 года в топ продаж выбились игровые платформы PS4, XOne и 3DS.\n",
    "- Средняя продолжительность жизни игровой приставки составляет около 10 лет. Пик продаж достигается примерно через 4 года после выхода в свет новой приставки.\n",
    "- У WII был подъем продаж в 2009 году и сразу резкое падение в период до 2012 года.\n",
    "- Проведя анализ взаимосвязи оценок пользователей и критиков с объемом продаж, мы определили, что оценки критиков в большей степени коррелируют с продажами, нежели оценки пользователей.\n",
    "- Наиболее популярный жанр за все периоды это Shooter, наименее востребованный – Adventure.\n",
    "- Не получилось отвергнуть нулевую гипотезу, что средние пользовательские рейтинги платформ Xbox One и PC одинаковые.\n",
    "- Гипотеза о том, что средние пользовательские рейтинги жанров Action и Sports разные подтвердилась.\n",
    "\n",
    "Портреты пользователей разных регионов. Выяснили, что: \n",
    "1.\tВ Северной Америке чаще пользуются приставками : XBOX, PS2 и WII. Наиболее популярные жанры: Action, Sports, Shooter.  По возрастному рейтингу: M (18+), затем идут игры E (для всех), и T игры для подростков (13+).\n",
    "2.\tВ Европе, популярны те же жарны и те же возрастные рейтинги, что и в Северной Америке. Популярны приставки: PS2, PS3, XBOX. \n",
    "3.\tВ Японии пользователи предпочитают игровые приставки: DS, PS, PS2. Жанры игры: Role-playing, Action и Sports. Рейтинг игр соответствует рейтингам Северной Америки и Европы.\n",
    "\n",
    "\n",
    "Рекомендации:\n",
    "- На 2017 год наиболее актуальной приставкой вероятно, будет являться PS4, следовательно она же будет и наиболее перспективной с точки зрения продаж и разработок игр.\n",
    "- Наиболее востребованными являются игры с жанром Shooter с рейтингом M (18+), производство которых будет способствовать более высоким объемам продаж.\n"
   ]
  }
 ],
 "metadata": {
  "ExecuteTimeLog": [
   {
    "duration": 1246,
    "start_time": "2023-06-28T10:21:27.192Z"
   },
   {
    "duration": 97,
    "start_time": "2023-06-28T10:23:10.370Z"
   },
   {
    "duration": 26,
    "start_time": "2023-06-28T10:23:46.419Z"
   },
   {
    "duration": 15,
    "start_time": "2023-06-28T10:30:40.130Z"
   },
   {
    "duration": 16,
    "start_time": "2023-06-28T10:31:41.985Z"
   },
   {
    "duration": 11,
    "start_time": "2023-06-28T10:33:09.455Z"
   },
   {
    "duration": 105,
    "start_time": "2023-06-28T10:37:27.065Z"
   },
   {
    "duration": 16,
    "start_time": "2023-06-28T10:38:37.033Z"
   },
   {
    "duration": 15,
    "start_time": "2023-06-28T10:40:08.076Z"
   },
   {
    "duration": 8,
    "start_time": "2023-06-28T10:40:18.514Z"
   },
   {
    "duration": 6,
    "start_time": "2023-06-28T10:40:32.698Z"
   },
   {
    "duration": 17,
    "start_time": "2023-06-28T10:40:46.083Z"
   },
   {
    "duration": 3,
    "start_time": "2023-06-28T10:40:59.924Z"
   },
   {
    "duration": 24,
    "start_time": "2023-06-28T10:41:01.172Z"
   },
   {
    "duration": 11,
    "start_time": "2023-06-28T10:42:24.543Z"
   },
   {
    "duration": 8,
    "start_time": "2023-06-28T10:44:54.363Z"
   },
   {
    "duration": 22,
    "start_time": "2023-06-28T10:45:22.779Z"
   },
   {
    "duration": 7,
    "start_time": "2023-06-28T10:45:35.190Z"
   },
   {
    "duration": 14,
    "start_time": "2023-06-28T10:45:42.658Z"
   },
   {
    "duration": 8,
    "start_time": "2023-06-28T10:46:01.977Z"
   },
   {
    "duration": 17,
    "start_time": "2023-06-28T10:46:02.592Z"
   },
   {
    "duration": 1279,
    "start_time": "2023-06-28T10:46:12.999Z"
   },
   {
    "duration": 54,
    "start_time": "2023-06-28T10:46:14.280Z"
   },
   {
    "duration": 18,
    "start_time": "2023-06-28T10:46:14.336Z"
   },
   {
    "duration": 46,
    "start_time": "2023-06-28T10:46:14.356Z"
   },
   {
    "duration": 21,
    "start_time": "2023-06-28T10:46:14.405Z"
   },
   {
    "duration": 21,
    "start_time": "2023-06-28T10:46:14.427Z"
   },
   {
    "duration": 8,
    "start_time": "2023-06-28T10:46:14.450Z"
   },
   {
    "duration": 31,
    "start_time": "2023-06-28T10:46:14.460Z"
   },
   {
    "duration": 21,
    "start_time": "2023-06-28T10:46:14.495Z"
   },
   {
    "duration": 24,
    "start_time": "2023-06-28T10:46:14.518Z"
   },
   {
    "duration": 111,
    "start_time": "2023-06-28T10:47:32.322Z"
   },
   {
    "duration": 17,
    "start_time": "2023-06-28T10:48:11.937Z"
   },
   {
    "duration": 9,
    "start_time": "2023-06-28T10:53:07.250Z"
   },
   {
    "duration": 6,
    "start_time": "2023-06-28T10:53:13.042Z"
   },
   {
    "duration": 4,
    "start_time": "2023-06-28T10:53:24.145Z"
   },
   {
    "duration": 21,
    "start_time": "2023-06-28T10:58:19.436Z"
   },
   {
    "duration": 21,
    "start_time": "2023-06-28T10:59:05.849Z"
   },
   {
    "duration": 18,
    "start_time": "2023-06-28T11:00:29.109Z"
   },
   {
    "duration": 13,
    "start_time": "2023-06-28T11:00:38.511Z"
   },
   {
    "duration": 14,
    "start_time": "2023-06-28T11:00:43.781Z"
   },
   {
    "duration": 44,
    "start_time": "2023-06-28T11:02:08.636Z"
   },
   {
    "duration": 19,
    "start_time": "2023-06-28T11:02:17.076Z"
   },
   {
    "duration": 1130,
    "start_time": "2023-06-28T11:02:26.822Z"
   },
   {
    "duration": 55,
    "start_time": "2023-06-28T11:02:27.954Z"
   },
   {
    "duration": 18,
    "start_time": "2023-06-28T11:02:28.011Z"
   },
   {
    "duration": 14,
    "start_time": "2023-06-28T11:02:28.031Z"
   },
   {
    "duration": 31,
    "start_time": "2023-06-28T11:02:28.046Z"
   },
   {
    "duration": 18,
    "start_time": "2023-06-28T11:02:28.079Z"
   },
   {
    "duration": 13,
    "start_time": "2023-06-28T11:02:28.098Z"
   },
   {
    "duration": 20,
    "start_time": "2023-06-28T11:02:28.113Z"
   },
   {
    "duration": 25,
    "start_time": "2023-06-28T11:02:28.135Z"
   },
   {
    "duration": 25,
    "start_time": "2023-06-28T11:02:28.163Z"
   },
   {
    "duration": 41,
    "start_time": "2023-06-28T11:02:51.095Z"
   },
   {
    "duration": 14,
    "start_time": "2023-06-28T11:03:00.860Z"
   },
   {
    "duration": 14,
    "start_time": "2023-06-28T11:03:16.085Z"
   },
   {
    "duration": 1184,
    "start_time": "2023-06-28T11:03:25.073Z"
   },
   {
    "duration": 62,
    "start_time": "2023-06-28T11:03:26.259Z"
   },
   {
    "duration": 19,
    "start_time": "2023-06-28T11:03:26.323Z"
   },
   {
    "duration": 15,
    "start_time": "2023-06-28T11:03:26.344Z"
   },
   {
    "duration": 16,
    "start_time": "2023-06-28T11:03:26.361Z"
   },
   {
    "duration": 20,
    "start_time": "2023-06-28T11:03:26.378Z"
   },
   {
    "duration": 8,
    "start_time": "2023-06-28T11:03:26.400Z"
   },
   {
    "duration": 34,
    "start_time": "2023-06-28T11:03:26.410Z"
   },
   {
    "duration": 32,
    "start_time": "2023-06-28T11:03:26.445Z"
   },
   {
    "duration": 14,
    "start_time": "2023-06-28T11:03:26.479Z"
   },
   {
    "duration": 19,
    "start_time": "2023-06-28T11:03:26.495Z"
   },
   {
    "duration": 1155,
    "start_time": "2023-06-28T11:03:55.076Z"
   },
   {
    "duration": 63,
    "start_time": "2023-06-28T11:03:56.233Z"
   },
   {
    "duration": 24,
    "start_time": "2023-06-28T11:03:56.299Z"
   },
   {
    "duration": 19,
    "start_time": "2023-06-28T11:03:56.327Z"
   },
   {
    "duration": 35,
    "start_time": "2023-06-28T11:03:56.348Z"
   },
   {
    "duration": 21,
    "start_time": "2023-06-28T11:03:56.384Z"
   },
   {
    "duration": 31,
    "start_time": "2023-06-28T11:03:56.407Z"
   },
   {
    "duration": 38,
    "start_time": "2023-06-28T11:03:56.440Z"
   },
   {
    "duration": 35,
    "start_time": "2023-06-28T11:03:56.480Z"
   },
   {
    "duration": 11,
    "start_time": "2023-06-28T11:03:56.517Z"
   },
   {
    "duration": 19,
    "start_time": "2023-06-28T11:03:56.530Z"
   },
   {
    "duration": 24,
    "start_time": "2023-06-28T11:04:11.280Z"
   },
   {
    "duration": 18,
    "start_time": "2023-06-28T11:04:15.145Z"
   },
   {
    "duration": 47,
    "start_time": "2023-06-28T11:05:18.062Z"
   },
   {
    "duration": 23,
    "start_time": "2023-06-28T11:05:22.978Z"
   },
   {
    "duration": 14,
    "start_time": "2023-06-28T11:05:28.762Z"
   },
   {
    "duration": 1174,
    "start_time": "2023-06-28T11:07:37.599Z"
   },
   {
    "duration": 56,
    "start_time": "2023-06-28T11:07:38.776Z"
   },
   {
    "duration": 16,
    "start_time": "2023-06-28T11:07:38.834Z"
   },
   {
    "duration": 37,
    "start_time": "2023-06-28T11:07:38.852Z"
   },
   {
    "duration": 13,
    "start_time": "2023-06-28T11:07:38.893Z"
   },
   {
    "duration": 24,
    "start_time": "2023-06-28T11:07:38.907Z"
   },
   {
    "duration": 8,
    "start_time": "2023-06-28T11:07:38.933Z"
   },
   {
    "duration": 29,
    "start_time": "2023-06-28T11:07:38.942Z"
   },
   {
    "duration": 44,
    "start_time": "2023-06-28T11:07:38.972Z"
   },
   {
    "duration": 13,
    "start_time": "2023-06-28T11:07:39.018Z"
   },
   {
    "duration": 27,
    "start_time": "2023-06-28T11:07:39.032Z"
   },
   {
    "duration": 106,
    "start_time": "2023-06-28T11:09:35.929Z"
   },
   {
    "duration": 9,
    "start_time": "2023-06-28T11:09:44.657Z"
   },
   {
    "duration": 31,
    "start_time": "2023-06-28T11:09:57.156Z"
   },
   {
    "duration": 32,
    "start_time": "2023-06-28T11:10:44.108Z"
   },
   {
    "duration": 27,
    "start_time": "2023-06-28T11:11:11.240Z"
   },
   {
    "duration": 32,
    "start_time": "2023-06-28T11:11:29.041Z"
   },
   {
    "duration": 1337,
    "start_time": "2023-06-28T11:11:47.685Z"
   },
   {
    "duration": 55,
    "start_time": "2023-06-28T11:11:49.024Z"
   },
   {
    "duration": 23,
    "start_time": "2023-06-28T11:11:49.081Z"
   },
   {
    "duration": 21,
    "start_time": "2023-06-28T11:11:49.106Z"
   },
   {
    "duration": 19,
    "start_time": "2023-06-28T11:11:49.129Z"
   },
   {
    "duration": 33,
    "start_time": "2023-06-28T11:11:49.150Z"
   },
   {
    "duration": 5,
    "start_time": "2023-06-28T11:11:49.185Z"
   },
   {
    "duration": 35,
    "start_time": "2023-06-28T11:11:49.192Z"
   },
   {
    "duration": 32,
    "start_time": "2023-06-28T11:11:49.229Z"
   },
   {
    "duration": 25,
    "start_time": "2023-06-28T11:11:49.263Z"
   },
   {
    "duration": 37,
    "start_time": "2023-06-28T11:11:49.291Z"
   },
   {
    "duration": 1123,
    "start_time": "2023-06-28T11:14:13.650Z"
   },
   {
    "duration": 18,
    "start_time": "2023-06-28T11:17:50.767Z"
   },
   {
    "duration": 28,
    "start_time": "2023-06-28T11:18:10.876Z"
   },
   {
    "duration": 20,
    "start_time": "2023-06-28T11:18:25.597Z"
   },
   {
    "duration": 47,
    "start_time": "2023-06-28T11:22:51.904Z"
   },
   {
    "duration": 1244,
    "start_time": "2023-06-28T11:23:36.145Z"
   },
   {
    "duration": 57,
    "start_time": "2023-06-28T11:23:37.392Z"
   },
   {
    "duration": 17,
    "start_time": "2023-06-28T11:23:37.450Z"
   },
   {
    "duration": 26,
    "start_time": "2023-06-28T11:23:37.468Z"
   },
   {
    "duration": 12,
    "start_time": "2023-06-28T11:23:37.502Z"
   },
   {
    "duration": 15,
    "start_time": "2023-06-28T11:23:37.516Z"
   },
   {
    "duration": 3,
    "start_time": "2023-06-28T11:23:37.533Z"
   },
   {
    "duration": 21,
    "start_time": "2023-06-28T11:23:37.538Z"
   },
   {
    "duration": 51,
    "start_time": "2023-06-28T11:23:37.561Z"
   },
   {
    "duration": 13,
    "start_time": "2023-06-28T11:23:37.614Z"
   },
   {
    "duration": 21,
    "start_time": "2023-06-28T11:23:37.628Z"
   },
   {
    "duration": 7,
    "start_time": "2023-06-28T11:23:37.651Z"
   },
   {
    "duration": 80,
    "start_time": "2023-06-28T11:23:37.660Z"
   },
   {
    "duration": 4,
    "start_time": "2023-06-28T11:23:37.743Z"
   },
   {
    "duration": 1273,
    "start_time": "2023-06-28T11:24:46.625Z"
   },
   {
    "duration": 54,
    "start_time": "2023-06-28T11:24:47.905Z"
   },
   {
    "duration": 28,
    "start_time": "2023-06-28T11:24:47.961Z"
   },
   {
    "duration": 25,
    "start_time": "2023-06-28T11:24:47.991Z"
   },
   {
    "duration": 10,
    "start_time": "2023-06-28T11:24:48.019Z"
   },
   {
    "duration": 16,
    "start_time": "2023-06-28T11:24:48.031Z"
   },
   {
    "duration": 3,
    "start_time": "2023-06-28T11:24:48.049Z"
   },
   {
    "duration": 35,
    "start_time": "2023-06-28T11:24:48.054Z"
   },
   {
    "duration": 45,
    "start_time": "2023-06-28T11:24:48.091Z"
   },
   {
    "duration": 15,
    "start_time": "2023-06-28T11:24:48.137Z"
   },
   {
    "duration": 28,
    "start_time": "2023-06-28T11:24:48.153Z"
   },
   {
    "duration": 9,
    "start_time": "2023-06-28T11:24:48.189Z"
   },
   {
    "duration": 122,
    "start_time": "2023-06-28T11:24:48.200Z"
   },
   {
    "duration": 0,
    "start_time": "2023-06-28T11:24:48.324Z"
   },
   {
    "duration": 8,
    "start_time": "2023-06-28T11:25:04.209Z"
   },
   {
    "duration": 12,
    "start_time": "2023-06-28T11:27:16.600Z"
   },
   {
    "duration": 5,
    "start_time": "2023-06-28T11:27:17.739Z"
   },
   {
    "duration": 10,
    "start_time": "2023-06-28T11:28:08.301Z"
   },
   {
    "duration": 1217,
    "start_time": "2023-06-28T11:28:52.544Z"
   },
   {
    "duration": 72,
    "start_time": "2023-06-28T11:28:53.763Z"
   },
   {
    "duration": 17,
    "start_time": "2023-06-28T11:28:53.837Z"
   },
   {
    "duration": 155,
    "start_time": "2023-06-28T11:28:53.856Z"
   },
   {
    "duration": 60,
    "start_time": "2023-06-28T11:28:54.013Z"
   },
   {
    "duration": 54,
    "start_time": "2023-06-28T11:28:54.074Z"
   },
   {
    "duration": 9,
    "start_time": "2023-06-28T11:28:54.132Z"
   },
   {
    "duration": 23,
    "start_time": "2023-06-28T11:28:54.143Z"
   },
   {
    "duration": 57,
    "start_time": "2023-06-28T11:28:54.167Z"
   },
   {
    "duration": 13,
    "start_time": "2023-06-28T11:28:54.225Z"
   },
   {
    "duration": 25,
    "start_time": "2023-06-28T11:28:54.239Z"
   },
   {
    "duration": 5,
    "start_time": "2023-06-28T11:28:54.266Z"
   },
   {
    "duration": 28,
    "start_time": "2023-06-28T11:28:54.272Z"
   },
   {
    "duration": 9,
    "start_time": "2023-06-28T11:28:54.304Z"
   },
   {
    "duration": 20,
    "start_time": "2023-06-28T11:28:54.314Z"
   },
   {
    "duration": 1354,
    "start_time": "2023-06-28T11:29:32.586Z"
   },
   {
    "duration": 69,
    "start_time": "2023-06-28T11:29:33.943Z"
   },
   {
    "duration": 25,
    "start_time": "2023-06-28T11:29:34.017Z"
   },
   {
    "duration": 40,
    "start_time": "2023-06-28T11:29:34.044Z"
   },
   {
    "duration": 23,
    "start_time": "2023-06-28T11:29:34.088Z"
   },
   {
    "duration": 28,
    "start_time": "2023-06-28T11:29:34.113Z"
   },
   {
    "duration": 11,
    "start_time": "2023-06-28T11:29:34.142Z"
   },
   {
    "duration": 36,
    "start_time": "2023-06-28T11:29:34.155Z"
   },
   {
    "duration": 40,
    "start_time": "2023-06-28T11:29:34.194Z"
   },
   {
    "duration": 13,
    "start_time": "2023-06-28T11:29:34.236Z"
   },
   {
    "duration": 19,
    "start_time": "2023-06-28T11:29:34.250Z"
   },
   {
    "duration": 22,
    "start_time": "2023-06-28T11:29:34.275Z"
   },
   {
    "duration": 24,
    "start_time": "2023-06-28T11:29:34.304Z"
   },
   {
    "duration": 16,
    "start_time": "2023-06-28T11:29:34.329Z"
   },
   {
    "duration": 26,
    "start_time": "2023-06-28T11:29:34.347Z"
   },
   {
    "duration": 4,
    "start_time": "2023-06-28T11:37:46.044Z"
   },
   {
    "duration": 8,
    "start_time": "2023-06-28T11:38:04.877Z"
   },
   {
    "duration": 6,
    "start_time": "2023-06-28T11:38:35.095Z"
   },
   {
    "duration": 4,
    "start_time": "2023-06-28T11:40:52.128Z"
   },
   {
    "duration": 121,
    "start_time": "2023-06-28T11:41:03.344Z"
   },
   {
    "duration": 194,
    "start_time": "2023-06-28T11:44:46.004Z"
   },
   {
    "duration": 129,
    "start_time": "2023-06-28T11:45:10.746Z"
   },
   {
    "duration": 6,
    "start_time": "2023-06-28T11:47:25.174Z"
   },
   {
    "duration": 8,
    "start_time": "2023-06-28T11:47:56.862Z"
   },
   {
    "duration": 3,
    "start_time": "2023-06-28T11:50:31.756Z"
   },
   {
    "duration": 61,
    "start_time": "2023-06-28T12:01:50.001Z"
   },
   {
    "duration": 7,
    "start_time": "2023-06-28T12:02:18.524Z"
   },
   {
    "duration": 16,
    "start_time": "2023-06-28T12:02:59.432Z"
   },
   {
    "duration": 7,
    "start_time": "2023-06-28T12:03:01.664Z"
   },
   {
    "duration": 13,
    "start_time": "2023-06-28T12:03:37.028Z"
   },
   {
    "duration": 13,
    "start_time": "2023-06-28T12:08:41.801Z"
   },
   {
    "duration": 24,
    "start_time": "2023-06-28T12:08:48.620Z"
   },
   {
    "duration": 1474,
    "start_time": "2023-06-28T12:09:23.865Z"
   },
   {
    "duration": 63,
    "start_time": "2023-06-28T12:09:25.341Z"
   },
   {
    "duration": 22,
    "start_time": "2023-06-28T12:09:25.406Z"
   },
   {
    "duration": 21,
    "start_time": "2023-06-28T12:09:25.430Z"
   },
   {
    "duration": 30,
    "start_time": "2023-06-28T12:09:25.453Z"
   },
   {
    "duration": 26,
    "start_time": "2023-06-28T12:09:25.484Z"
   },
   {
    "duration": 2,
    "start_time": "2023-06-28T12:09:25.512Z"
   },
   {
    "duration": 22,
    "start_time": "2023-06-28T12:09:25.515Z"
   },
   {
    "duration": 26,
    "start_time": "2023-06-28T12:09:25.538Z"
   },
   {
    "duration": 30,
    "start_time": "2023-06-28T12:09:25.565Z"
   },
   {
    "duration": 21,
    "start_time": "2023-06-28T12:09:25.599Z"
   },
   {
    "duration": 7,
    "start_time": "2023-06-28T12:09:25.621Z"
   },
   {
    "duration": 8,
    "start_time": "2023-06-28T12:09:25.629Z"
   },
   {
    "duration": 10,
    "start_time": "2023-06-28T12:09:25.639Z"
   },
   {
    "duration": 12,
    "start_time": "2023-06-28T12:09:25.650Z"
   },
   {
    "duration": 130,
    "start_time": "2023-06-28T12:09:25.663Z"
   },
   {
    "duration": 149,
    "start_time": "2023-06-28T12:09:25.795Z"
   },
   {
    "duration": 2,
    "start_time": "2023-06-28T12:09:25.946Z"
   },
   {
    "duration": 9,
    "start_time": "2023-06-28T12:09:25.950Z"
   },
   {
    "duration": 19,
    "start_time": "2023-06-28T12:09:25.961Z"
   },
   {
    "duration": 67,
    "start_time": "2023-06-28T12:09:25.988Z"
   },
   {
    "duration": 6,
    "start_time": "2023-06-28T12:09:26.056Z"
   },
   {
    "duration": 26,
    "start_time": "2023-06-28T12:09:26.064Z"
   },
   {
    "duration": 26,
    "start_time": "2023-06-28T12:09:26.092Z"
   },
   {
    "duration": 31,
    "start_time": "2023-06-28T12:19:18.967Z"
   },
   {
    "duration": 30,
    "start_time": "2023-06-28T12:19:35.070Z"
   },
   {
    "duration": 25,
    "start_time": "2023-06-28T12:19:54.501Z"
   },
   {
    "duration": 111,
    "start_time": "2023-06-28T12:23:17.501Z"
   },
   {
    "duration": 107,
    "start_time": "2023-06-28T12:23:33.264Z"
   },
   {
    "duration": 12,
    "start_time": "2023-06-28T12:23:47.047Z"
   },
   {
    "duration": 211,
    "start_time": "2023-06-28T12:24:32.455Z"
   },
   {
    "duration": 11,
    "start_time": "2023-06-28T12:24:41.524Z"
   },
   {
    "duration": 1449,
    "start_time": "2023-06-28T12:24:55.216Z"
   },
   {
    "duration": 75,
    "start_time": "2023-06-28T12:24:56.667Z"
   },
   {
    "duration": 17,
    "start_time": "2023-06-28T12:24:56.744Z"
   },
   {
    "duration": 26,
    "start_time": "2023-06-28T12:24:56.763Z"
   },
   {
    "duration": 40,
    "start_time": "2023-06-28T12:24:56.791Z"
   },
   {
    "duration": 18,
    "start_time": "2023-06-28T12:24:56.833Z"
   },
   {
    "duration": 58,
    "start_time": "2023-06-28T12:24:56.853Z"
   },
   {
    "duration": 249,
    "start_time": "2023-06-28T12:24:56.913Z"
   },
   {
    "duration": 66,
    "start_time": "2023-06-28T12:24:57.163Z"
   },
   {
    "duration": 15,
    "start_time": "2023-06-28T12:24:57.234Z"
   },
   {
    "duration": 70,
    "start_time": "2023-06-28T12:24:57.251Z"
   },
   {
    "duration": 14,
    "start_time": "2023-06-28T12:24:57.322Z"
   },
   {
    "duration": 10,
    "start_time": "2023-06-28T12:24:57.338Z"
   },
   {
    "duration": 17,
    "start_time": "2023-06-28T12:24:57.349Z"
   },
   {
    "duration": 52,
    "start_time": "2023-06-28T12:24:57.367Z"
   },
   {
    "duration": 122,
    "start_time": "2023-06-28T12:24:57.421Z"
   },
   {
    "duration": 175,
    "start_time": "2023-06-28T12:24:57.545Z"
   },
   {
    "duration": 6,
    "start_time": "2023-06-28T12:24:57.721Z"
   },
   {
    "duration": 13,
    "start_time": "2023-06-28T12:24:57.728Z"
   },
   {
    "duration": 83,
    "start_time": "2023-06-28T12:24:57.742Z"
   },
   {
    "duration": 6,
    "start_time": "2023-06-28T12:24:57.826Z"
   },
   {
    "duration": 23,
    "start_time": "2023-06-28T12:24:57.834Z"
   },
   {
    "duration": 28,
    "start_time": "2023-06-28T12:24:57.858Z"
   },
   {
    "duration": 54,
    "start_time": "2023-06-28T12:24:57.887Z"
   },
   {
    "duration": 12,
    "start_time": "2023-06-28T12:24:57.942Z"
   },
   {
    "duration": 11,
    "start_time": "2023-06-28T12:26:16.109Z"
   },
   {
    "duration": 1205,
    "start_time": "2023-06-28T12:26:35.448Z"
   },
   {
    "duration": 76,
    "start_time": "2023-06-28T12:26:36.655Z"
   },
   {
    "duration": 19,
    "start_time": "2023-06-28T12:26:36.733Z"
   },
   {
    "duration": 18,
    "start_time": "2023-06-28T12:26:36.755Z"
   },
   {
    "duration": 55,
    "start_time": "2023-06-28T12:26:36.780Z"
   },
   {
    "duration": 16,
    "start_time": "2023-06-28T12:26:36.837Z"
   },
   {
    "duration": 3,
    "start_time": "2023-06-28T12:26:36.855Z"
   },
   {
    "duration": 25,
    "start_time": "2023-06-28T12:26:36.859Z"
   },
   {
    "duration": 24,
    "start_time": "2023-06-28T12:26:36.886Z"
   },
   {
    "duration": 22,
    "start_time": "2023-06-28T12:26:36.913Z"
   },
   {
    "duration": 12,
    "start_time": "2023-06-28T12:26:36.937Z"
   },
   {
    "duration": 23,
    "start_time": "2023-06-28T12:26:36.950Z"
   },
   {
    "duration": 8,
    "start_time": "2023-06-28T12:26:36.980Z"
   },
   {
    "duration": 15,
    "start_time": "2023-06-28T12:26:36.989Z"
   },
   {
    "duration": 30,
    "start_time": "2023-06-28T12:26:37.006Z"
   },
   {
    "duration": 11,
    "start_time": "2023-06-28T12:26:37.038Z"
   },
   {
    "duration": 121,
    "start_time": "2023-06-28T12:26:37.051Z"
   },
   {
    "duration": 154,
    "start_time": "2023-06-28T12:26:37.174Z"
   },
   {
    "duration": 6,
    "start_time": "2023-06-28T12:26:37.330Z"
   },
   {
    "duration": 12,
    "start_time": "2023-06-28T12:26:37.339Z"
   },
   {
    "duration": 97,
    "start_time": "2023-06-28T12:26:37.353Z"
   },
   {
    "duration": 6,
    "start_time": "2023-06-28T12:26:37.452Z"
   },
   {
    "duration": 23,
    "start_time": "2023-06-28T12:26:37.459Z"
   },
   {
    "duration": 38,
    "start_time": "2023-06-28T12:26:37.484Z"
   },
   {
    "duration": 26,
    "start_time": "2023-06-28T12:26:37.523Z"
   },
   {
    "duration": 12,
    "start_time": "2023-06-28T12:26:37.550Z"
   },
   {
    "duration": 10,
    "start_time": "2023-06-28T12:27:44.854Z"
   },
   {
    "duration": 10,
    "start_time": "2023-06-28T12:28:49.546Z"
   },
   {
    "duration": 1220,
    "start_time": "2023-06-28T12:29:19.920Z"
   },
   {
    "duration": 64,
    "start_time": "2023-06-28T12:29:21.143Z"
   },
   {
    "duration": 20,
    "start_time": "2023-06-28T12:29:21.209Z"
   },
   {
    "duration": 17,
    "start_time": "2023-06-28T12:29:21.231Z"
   },
   {
    "duration": 15,
    "start_time": "2023-06-28T12:29:21.250Z"
   },
   {
    "duration": 33,
    "start_time": "2023-06-28T12:29:21.266Z"
   },
   {
    "duration": 8,
    "start_time": "2023-06-28T12:29:21.304Z"
   },
   {
    "duration": 27,
    "start_time": "2023-06-28T12:29:21.314Z"
   },
   {
    "duration": 25,
    "start_time": "2023-06-28T12:29:21.343Z"
   },
   {
    "duration": 32,
    "start_time": "2023-06-28T12:29:21.370Z"
   },
   {
    "duration": 22,
    "start_time": "2023-06-28T12:29:21.403Z"
   },
   {
    "duration": 17,
    "start_time": "2023-06-28T12:29:21.426Z"
   },
   {
    "duration": 5,
    "start_time": "2023-06-28T12:29:21.444Z"
   },
   {
    "duration": 53,
    "start_time": "2023-06-28T12:29:21.452Z"
   },
   {
    "duration": 7,
    "start_time": "2023-06-28T12:29:21.506Z"
   },
   {
    "duration": 14,
    "start_time": "2023-06-28T12:29:21.515Z"
   },
   {
    "duration": 118,
    "start_time": "2023-06-28T12:29:21.531Z"
   },
   {
    "duration": 161,
    "start_time": "2023-06-28T12:29:21.651Z"
   },
   {
    "duration": 5,
    "start_time": "2023-06-28T12:29:21.813Z"
   },
   {
    "duration": 13,
    "start_time": "2023-06-28T12:29:21.819Z"
   },
   {
    "duration": 78,
    "start_time": "2023-06-28T12:29:21.834Z"
   },
   {
    "duration": 6,
    "start_time": "2023-06-28T12:29:21.914Z"
   },
   {
    "duration": 20,
    "start_time": "2023-06-28T12:29:21.922Z"
   },
   {
    "duration": 18,
    "start_time": "2023-06-28T12:29:21.943Z"
   },
   {
    "duration": 35,
    "start_time": "2023-06-28T12:29:21.975Z"
   },
   {
    "duration": 9,
    "start_time": "2023-06-28T12:29:22.011Z"
   },
   {
    "duration": 5,
    "start_time": "2023-06-28T12:31:43.031Z"
   },
   {
    "duration": 14,
    "start_time": "2023-06-28T12:32:00.368Z"
   },
   {
    "duration": 1148,
    "start_time": "2023-06-28T12:32:08.006Z"
   },
   {
    "duration": 73,
    "start_time": "2023-06-28T12:32:09.156Z"
   },
   {
    "duration": 18,
    "start_time": "2023-06-28T12:32:09.234Z"
   },
   {
    "duration": 13,
    "start_time": "2023-06-28T12:32:09.254Z"
   },
   {
    "duration": 56,
    "start_time": "2023-06-28T12:32:09.269Z"
   },
   {
    "duration": 20,
    "start_time": "2023-06-28T12:32:09.327Z"
   },
   {
    "duration": 13,
    "start_time": "2023-06-28T12:32:09.348Z"
   },
   {
    "duration": 27,
    "start_time": "2023-06-28T12:32:09.362Z"
   },
   {
    "duration": 34,
    "start_time": "2023-06-28T12:32:09.391Z"
   },
   {
    "duration": 25,
    "start_time": "2023-06-28T12:32:09.427Z"
   },
   {
    "duration": 74,
    "start_time": "2023-06-28T12:32:09.454Z"
   },
   {
    "duration": 29,
    "start_time": "2023-06-28T12:32:09.530Z"
   },
   {
    "duration": 21,
    "start_time": "2023-06-28T12:32:09.561Z"
   },
   {
    "duration": 33,
    "start_time": "2023-06-28T12:32:09.585Z"
   },
   {
    "duration": 12,
    "start_time": "2023-06-28T12:32:09.620Z"
   },
   {
    "duration": 24,
    "start_time": "2023-06-28T12:32:09.634Z"
   },
   {
    "duration": 15,
    "start_time": "2023-06-28T12:32:09.659Z"
   },
   {
    "duration": 152,
    "start_time": "2023-06-28T12:32:09.683Z"
   },
   {
    "duration": 144,
    "start_time": "2023-06-28T12:32:09.837Z"
   },
   {
    "duration": 15,
    "start_time": "2023-06-28T12:32:09.988Z"
   },
   {
    "duration": 22,
    "start_time": "2023-06-28T12:32:10.008Z"
   },
   {
    "duration": 79,
    "start_time": "2023-06-28T12:32:10.032Z"
   },
   {
    "duration": 6,
    "start_time": "2023-06-28T12:32:10.114Z"
   },
   {
    "duration": 26,
    "start_time": "2023-06-28T12:32:10.121Z"
   },
   {
    "duration": 21,
    "start_time": "2023-06-28T12:32:10.148Z"
   },
   {
    "duration": 58,
    "start_time": "2023-06-28T12:32:10.171Z"
   },
   {
    "duration": 10,
    "start_time": "2023-06-28T12:32:10.231Z"
   },
   {
    "duration": 1147,
    "start_time": "2023-06-28T12:33:23.216Z"
   },
   {
    "duration": 83,
    "start_time": "2023-06-28T12:33:24.366Z"
   },
   {
    "duration": 17,
    "start_time": "2023-06-28T12:33:24.451Z"
   },
   {
    "duration": 47,
    "start_time": "2023-06-28T12:33:24.470Z"
   },
   {
    "duration": 30,
    "start_time": "2023-06-28T12:33:24.518Z"
   },
   {
    "duration": 23,
    "start_time": "2023-06-28T12:33:24.549Z"
   },
   {
    "duration": 42,
    "start_time": "2023-06-28T12:33:24.573Z"
   },
   {
    "duration": 37,
    "start_time": "2023-06-28T12:33:24.617Z"
   },
   {
    "duration": 53,
    "start_time": "2023-06-28T12:33:24.656Z"
   },
   {
    "duration": 37,
    "start_time": "2023-06-28T12:33:24.712Z"
   },
   {
    "duration": 37,
    "start_time": "2023-06-28T12:33:24.751Z"
   },
   {
    "duration": 33,
    "start_time": "2023-06-28T12:33:24.796Z"
   },
   {
    "duration": 24,
    "start_time": "2023-06-28T12:33:24.831Z"
   },
   {
    "duration": 13,
    "start_time": "2023-06-28T12:33:24.857Z"
   },
   {
    "duration": 38,
    "start_time": "2023-06-28T12:33:24.872Z"
   },
   {
    "duration": 44,
    "start_time": "2023-06-28T12:33:24.912Z"
   },
   {
    "duration": 25,
    "start_time": "2023-06-28T12:33:24.958Z"
   },
   {
    "duration": 201,
    "start_time": "2023-06-28T12:33:24.985Z"
   },
   {
    "duration": 167,
    "start_time": "2023-06-28T12:33:25.195Z"
   },
   {
    "duration": 22,
    "start_time": "2023-06-28T12:33:25.365Z"
   },
   {
    "duration": 23,
    "start_time": "2023-06-28T12:33:25.395Z"
   },
   {
    "duration": 66,
    "start_time": "2023-06-28T12:33:25.419Z"
   },
   {
    "duration": 13,
    "start_time": "2023-06-28T12:33:25.486Z"
   },
   {
    "duration": 21,
    "start_time": "2023-06-28T12:33:25.500Z"
   },
   {
    "duration": 17,
    "start_time": "2023-06-28T12:33:25.522Z"
   },
   {
    "duration": 41,
    "start_time": "2023-06-28T12:33:25.540Z"
   },
   {
    "duration": 15,
    "start_time": "2023-06-28T12:33:25.587Z"
   },
   {
    "duration": 144,
    "start_time": "2023-06-28T12:34:53.490Z"
   },
   {
    "duration": 23,
    "start_time": "2023-06-28T12:35:00.711Z"
   },
   {
    "duration": 24,
    "start_time": "2023-06-28T12:35:27.703Z"
   },
   {
    "duration": 13,
    "start_time": "2023-06-28T12:36:23.095Z"
   },
   {
    "duration": 1374,
    "start_time": "2023-06-28T12:36:35.802Z"
   },
   {
    "duration": 72,
    "start_time": "2023-06-28T12:36:37.181Z"
   },
   {
    "duration": 17,
    "start_time": "2023-06-28T12:36:37.256Z"
   },
   {
    "duration": 44,
    "start_time": "2023-06-28T12:36:37.274Z"
   },
   {
    "duration": 13,
    "start_time": "2023-06-28T12:36:37.321Z"
   },
   {
    "duration": 20,
    "start_time": "2023-06-28T12:36:37.335Z"
   },
   {
    "duration": 4,
    "start_time": "2023-06-28T12:36:37.357Z"
   },
   {
    "duration": 23,
    "start_time": "2023-06-28T12:36:37.362Z"
   },
   {
    "duration": 35,
    "start_time": "2023-06-28T12:36:37.386Z"
   },
   {
    "duration": 8,
    "start_time": "2023-06-28T12:36:37.423Z"
   },
   {
    "duration": 34,
    "start_time": "2023-06-28T12:36:37.432Z"
   },
   {
    "duration": 26,
    "start_time": "2023-06-28T12:36:37.468Z"
   },
   {
    "duration": 25,
    "start_time": "2023-06-28T12:36:37.499Z"
   },
   {
    "duration": 9,
    "start_time": "2023-06-28T12:36:37.528Z"
   },
   {
    "duration": 6,
    "start_time": "2023-06-28T12:36:37.539Z"
   },
   {
    "duration": 9,
    "start_time": "2023-06-28T12:36:37.546Z"
   },
   {
    "duration": 27,
    "start_time": "2023-06-28T12:36:37.557Z"
   },
   {
    "duration": 137,
    "start_time": "2023-06-28T12:36:37.586Z"
   },
   {
    "duration": 145,
    "start_time": "2023-06-28T12:36:37.725Z"
   },
   {
    "duration": 17,
    "start_time": "2023-06-28T12:36:37.877Z"
   },
   {
    "duration": 18,
    "start_time": "2023-06-28T12:36:37.899Z"
   },
   {
    "duration": 68,
    "start_time": "2023-06-28T12:36:37.919Z"
   },
   {
    "duration": 6,
    "start_time": "2023-06-28T12:36:37.989Z"
   },
   {
    "duration": 17,
    "start_time": "2023-06-28T12:36:37.997Z"
   },
   {
    "duration": 24,
    "start_time": "2023-06-28T12:36:38.015Z"
   },
   {
    "duration": 37,
    "start_time": "2023-06-28T12:36:38.041Z"
   },
   {
    "duration": 25,
    "start_time": "2023-06-28T12:36:38.080Z"
   },
   {
    "duration": 1191,
    "start_time": "2023-06-28T12:36:56.742Z"
   },
   {
    "duration": 67,
    "start_time": "2023-06-28T12:36:57.935Z"
   },
   {
    "duration": 24,
    "start_time": "2023-06-28T12:36:58.004Z"
   },
   {
    "duration": 20,
    "start_time": "2023-06-28T12:36:58.030Z"
   },
   {
    "duration": 29,
    "start_time": "2023-06-28T12:36:58.052Z"
   },
   {
    "duration": 52,
    "start_time": "2023-06-28T12:36:58.085Z"
   },
   {
    "duration": 4,
    "start_time": "2023-06-28T12:36:58.139Z"
   },
   {
    "duration": 24,
    "start_time": "2023-06-28T12:36:58.144Z"
   },
   {
    "duration": 45,
    "start_time": "2023-06-28T12:36:58.170Z"
   },
   {
    "duration": 10,
    "start_time": "2023-06-28T12:36:58.217Z"
   },
   {
    "duration": 36,
    "start_time": "2023-06-28T12:36:58.228Z"
   },
   {
    "duration": 17,
    "start_time": "2023-06-28T12:36:58.267Z"
   },
   {
    "duration": 47,
    "start_time": "2023-06-28T12:36:58.286Z"
   },
   {
    "duration": 6,
    "start_time": "2023-06-28T12:36:58.337Z"
   },
   {
    "duration": 8,
    "start_time": "2023-06-28T12:36:58.345Z"
   },
   {
    "duration": 13,
    "start_time": "2023-06-28T12:36:58.355Z"
   },
   {
    "duration": 43,
    "start_time": "2023-06-28T12:36:58.370Z"
   },
   {
    "duration": 130,
    "start_time": "2023-06-28T12:36:58.414Z"
   },
   {
    "duration": 175,
    "start_time": "2023-06-28T12:36:58.546Z"
   },
   {
    "duration": 5,
    "start_time": "2023-06-28T12:36:58.722Z"
   },
   {
    "duration": 19,
    "start_time": "2023-06-28T12:36:58.728Z"
   },
   {
    "duration": 77,
    "start_time": "2023-06-28T12:36:58.748Z"
   },
   {
    "duration": 8,
    "start_time": "2023-06-28T12:36:58.827Z"
   },
   {
    "duration": 33,
    "start_time": "2023-06-28T12:36:58.837Z"
   },
   {
    "duration": 64,
    "start_time": "2023-06-28T12:36:58.879Z"
   },
   {
    "duration": 85,
    "start_time": "2023-06-28T12:36:58.945Z"
   },
   {
    "duration": 10,
    "start_time": "2023-06-28T12:36:59.032Z"
   },
   {
    "duration": 113,
    "start_time": "2023-06-28T12:38:08.569Z"
   },
   {
    "duration": 21,
    "start_time": "2023-06-28T12:40:18.239Z"
   },
   {
    "duration": 12,
    "start_time": "2023-06-28T12:40:35.559Z"
   },
   {
    "duration": 19,
    "start_time": "2023-06-28T12:40:49.111Z"
   },
   {
    "duration": 10,
    "start_time": "2023-06-28T12:42:28.993Z"
   },
   {
    "duration": 234,
    "start_time": "2023-06-28T12:43:46.391Z"
   },
   {
    "duration": 172,
    "start_time": "2023-06-28T12:43:57.728Z"
   },
   {
    "duration": 196,
    "start_time": "2023-06-28T12:44:06.231Z"
   },
   {
    "duration": 23,
    "start_time": "2023-06-28T12:44:14.615Z"
   },
   {
    "duration": 22,
    "start_time": "2023-06-28T12:46:21.074Z"
   },
   {
    "duration": 8,
    "start_time": "2023-06-28T12:47:08.595Z"
   },
   {
    "duration": 15,
    "start_time": "2023-06-28T12:47:26.701Z"
   },
   {
    "duration": 18,
    "start_time": "2023-06-28T12:47:27.841Z"
   },
   {
    "duration": 27,
    "start_time": "2023-06-28T12:47:36.200Z"
   },
   {
    "duration": 1209,
    "start_time": "2023-06-28T12:47:50.430Z"
   },
   {
    "duration": 56,
    "start_time": "2023-06-28T12:47:51.641Z"
   },
   {
    "duration": 17,
    "start_time": "2023-06-28T12:47:51.699Z"
   },
   {
    "duration": 16,
    "start_time": "2023-06-28T12:47:51.718Z"
   },
   {
    "duration": 13,
    "start_time": "2023-06-28T12:47:51.736Z"
   },
   {
    "duration": 39,
    "start_time": "2023-06-28T12:47:51.751Z"
   },
   {
    "duration": 5,
    "start_time": "2023-06-28T12:47:51.791Z"
   },
   {
    "duration": 16,
    "start_time": "2023-06-28T12:47:51.797Z"
   },
   {
    "duration": 15,
    "start_time": "2023-06-28T12:47:51.815Z"
   },
   {
    "duration": 6,
    "start_time": "2023-06-28T12:47:51.833Z"
   },
   {
    "duration": 36,
    "start_time": "2023-06-28T12:47:51.840Z"
   },
   {
    "duration": 13,
    "start_time": "2023-06-28T12:47:51.877Z"
   },
   {
    "duration": 27,
    "start_time": "2023-06-28T12:47:51.892Z"
   },
   {
    "duration": 24,
    "start_time": "2023-06-28T12:47:51.921Z"
   },
   {
    "duration": 32,
    "start_time": "2023-06-28T12:47:51.946Z"
   },
   {
    "duration": 17,
    "start_time": "2023-06-28T12:47:51.980Z"
   },
   {
    "duration": 6,
    "start_time": "2023-06-28T12:47:51.999Z"
   },
   {
    "duration": 14,
    "start_time": "2023-06-28T12:47:52.007Z"
   },
   {
    "duration": 15,
    "start_time": "2023-06-28T12:47:52.022Z"
   },
   {
    "duration": 9,
    "start_time": "2023-06-28T12:47:52.039Z"
   },
   {
    "duration": 11,
    "start_time": "2023-06-28T12:47:52.050Z"
   },
   {
    "duration": 13,
    "start_time": "2023-06-28T12:47:52.063Z"
   },
   {
    "duration": 17,
    "start_time": "2023-06-28T12:47:52.077Z"
   },
   {
    "duration": 28,
    "start_time": "2023-06-28T12:47:52.096Z"
   },
   {
    "duration": 11,
    "start_time": "2023-06-28T12:47:52.126Z"
   },
   {
    "duration": 11,
    "start_time": "2023-06-28T12:47:52.138Z"
   },
   {
    "duration": 10,
    "start_time": "2023-06-28T12:47:52.150Z"
   },
   {
    "duration": 16,
    "start_time": "2023-06-28T12:47:52.163Z"
   },
   {
    "duration": 8,
    "start_time": "2023-06-28T12:47:52.181Z"
   },
   {
    "duration": 1199,
    "start_time": "2023-06-28T12:49:02.223Z"
   },
   {
    "duration": 55,
    "start_time": "2023-06-28T12:49:03.424Z"
   },
   {
    "duration": 17,
    "start_time": "2023-06-28T12:49:03.481Z"
   },
   {
    "duration": 14,
    "start_time": "2023-06-28T12:49:03.500Z"
   },
   {
    "duration": 17,
    "start_time": "2023-06-28T12:49:03.516Z"
   },
   {
    "duration": 28,
    "start_time": "2023-06-28T12:49:03.535Z"
   },
   {
    "duration": 3,
    "start_time": "2023-06-28T12:49:03.576Z"
   },
   {
    "duration": 35,
    "start_time": "2023-06-28T12:49:03.580Z"
   },
   {
    "duration": 29,
    "start_time": "2023-06-28T12:49:03.617Z"
   },
   {
    "duration": 30,
    "start_time": "2023-06-28T12:49:03.648Z"
   },
   {
    "duration": 24,
    "start_time": "2023-06-28T12:49:03.679Z"
   },
   {
    "duration": 25,
    "start_time": "2023-06-28T12:49:03.706Z"
   },
   {
    "duration": 35,
    "start_time": "2023-06-28T12:49:03.732Z"
   },
   {
    "duration": 15,
    "start_time": "2023-06-28T12:49:03.769Z"
   },
   {
    "duration": 19,
    "start_time": "2023-06-28T12:49:03.785Z"
   },
   {
    "duration": 20,
    "start_time": "2023-06-28T12:49:03.805Z"
   },
   {
    "duration": 38,
    "start_time": "2023-06-28T12:49:03.827Z"
   },
   {
    "duration": 30,
    "start_time": "2023-06-28T12:49:03.867Z"
   },
   {
    "duration": 43,
    "start_time": "2023-06-28T12:49:03.899Z"
   },
   {
    "duration": 26,
    "start_time": "2023-06-28T12:49:03.944Z"
   },
   {
    "duration": 26,
    "start_time": "2023-06-28T12:49:03.972Z"
   },
   {
    "duration": 21,
    "start_time": "2023-06-28T12:49:04.000Z"
   },
   {
    "duration": 18,
    "start_time": "2023-06-28T12:49:04.022Z"
   },
   {
    "duration": 16,
    "start_time": "2023-06-28T12:49:04.042Z"
   },
   {
    "duration": 14,
    "start_time": "2023-06-28T12:49:04.060Z"
   },
   {
    "duration": 28,
    "start_time": "2023-06-28T12:49:04.076Z"
   },
   {
    "duration": 36,
    "start_time": "2023-06-28T12:49:04.106Z"
   },
   {
    "duration": 22,
    "start_time": "2023-06-28T12:49:04.144Z"
   },
   {
    "duration": 16,
    "start_time": "2023-06-28T12:49:04.168Z"
   },
   {
    "duration": 1201,
    "start_time": "2023-06-28T12:50:13.259Z"
   },
   {
    "duration": 55,
    "start_time": "2023-06-28T12:50:14.461Z"
   },
   {
    "duration": 16,
    "start_time": "2023-06-28T12:50:14.517Z"
   },
   {
    "duration": 17,
    "start_time": "2023-06-28T12:50:14.535Z"
   },
   {
    "duration": 10,
    "start_time": "2023-06-28T12:50:14.554Z"
   },
   {
    "duration": 19,
    "start_time": "2023-06-28T12:50:14.566Z"
   },
   {
    "duration": 3,
    "start_time": "2023-06-28T12:50:14.586Z"
   },
   {
    "duration": 31,
    "start_time": "2023-06-28T12:50:14.591Z"
   },
   {
    "duration": 12,
    "start_time": "2023-06-28T12:50:14.623Z"
   },
   {
    "duration": 7,
    "start_time": "2023-06-28T12:50:14.636Z"
   },
   {
    "duration": 12,
    "start_time": "2023-06-28T12:50:14.644Z"
   },
   {
    "duration": 28,
    "start_time": "2023-06-28T12:50:14.657Z"
   },
   {
    "duration": 47,
    "start_time": "2023-06-28T12:50:14.687Z"
   },
   {
    "duration": 18,
    "start_time": "2023-06-28T12:50:14.737Z"
   },
   {
    "duration": 29,
    "start_time": "2023-06-28T12:50:14.756Z"
   },
   {
    "duration": 19,
    "start_time": "2023-06-28T12:50:14.787Z"
   },
   {
    "duration": 19,
    "start_time": "2023-06-28T12:50:14.809Z"
   },
   {
    "duration": 24,
    "start_time": "2023-06-28T12:50:14.830Z"
   },
   {
    "duration": 24,
    "start_time": "2023-06-28T12:50:14.856Z"
   },
   {
    "duration": 117,
    "start_time": "2023-06-28T12:50:14.882Z"
   },
   {
    "duration": 141,
    "start_time": "2023-06-28T12:50:15.001Z"
   },
   {
    "duration": 5,
    "start_time": "2023-06-28T12:50:15.143Z"
   },
   {
    "duration": 42,
    "start_time": "2023-06-28T12:50:15.149Z"
   },
   {
    "duration": 81,
    "start_time": "2023-06-28T12:50:15.193Z"
   },
   {
    "duration": 6,
    "start_time": "2023-06-28T12:50:15.276Z"
   },
   {
    "duration": 32,
    "start_time": "2023-06-28T12:50:15.284Z"
   },
   {
    "duration": 16,
    "start_time": "2023-06-28T12:50:15.318Z"
   },
   {
    "duration": 49,
    "start_time": "2023-06-28T12:50:15.335Z"
   },
   {
    "duration": 10,
    "start_time": "2023-06-28T12:50:15.385Z"
   },
   {
    "duration": 109,
    "start_time": "2023-06-28T13:49:36.893Z"
   },
   {
    "duration": 23,
    "start_time": "2023-06-28T13:52:04.829Z"
   },
   {
    "duration": 17,
    "start_time": "2023-06-28T13:52:49.294Z"
   },
   {
    "duration": 21,
    "start_time": "2023-06-28T13:56:02.103Z"
   },
   {
    "duration": 9,
    "start_time": "2023-06-28T13:56:53.510Z"
   },
   {
    "duration": 1190,
    "start_time": "2023-06-28T13:58:31.347Z"
   },
   {
    "duration": 60,
    "start_time": "2023-06-28T13:58:32.539Z"
   },
   {
    "duration": 23,
    "start_time": "2023-06-28T13:58:32.602Z"
   },
   {
    "duration": 20,
    "start_time": "2023-06-28T13:58:32.627Z"
   },
   {
    "duration": 11,
    "start_time": "2023-06-28T13:58:32.648Z"
   },
   {
    "duration": 33,
    "start_time": "2023-06-28T13:58:32.681Z"
   },
   {
    "duration": 16,
    "start_time": "2023-06-28T13:58:32.716Z"
   },
   {
    "duration": 18,
    "start_time": "2023-06-28T13:58:32.734Z"
   },
   {
    "duration": 11,
    "start_time": "2023-06-28T13:58:32.753Z"
   },
   {
    "duration": 7,
    "start_time": "2023-06-28T13:58:32.767Z"
   },
   {
    "duration": 41,
    "start_time": "2023-06-28T13:58:32.776Z"
   },
   {
    "duration": 15,
    "start_time": "2023-06-28T13:58:32.818Z"
   },
   {
    "duration": 5,
    "start_time": "2023-06-28T13:58:32.835Z"
   },
   {
    "duration": 26,
    "start_time": "2023-06-28T13:58:32.841Z"
   },
   {
    "duration": 21,
    "start_time": "2023-06-28T13:58:32.868Z"
   },
   {
    "duration": 24,
    "start_time": "2023-06-28T13:58:32.898Z"
   },
   {
    "duration": 4,
    "start_time": "2023-06-28T13:58:32.924Z"
   },
   {
    "duration": 12,
    "start_time": "2023-06-28T13:58:32.930Z"
   },
   {
    "duration": 7,
    "start_time": "2023-06-28T13:58:32.943Z"
   },
   {
    "duration": 14,
    "start_time": "2023-06-28T13:58:32.952Z"
   },
   {
    "duration": 137,
    "start_time": "2023-06-28T13:58:32.967Z"
   },
   {
    "duration": 164,
    "start_time": "2023-06-28T13:58:33.106Z"
   },
   {
    "duration": 6,
    "start_time": "2023-06-28T13:58:33.271Z"
   },
   {
    "duration": 31,
    "start_time": "2023-06-28T13:58:33.285Z"
   },
   {
    "duration": 66,
    "start_time": "2023-06-28T13:58:33.318Z"
   },
   {
    "duration": 7,
    "start_time": "2023-06-28T13:58:33.387Z"
   },
   {
    "duration": 23,
    "start_time": "2023-06-28T13:58:33.396Z"
   },
   {
    "duration": 20,
    "start_time": "2023-06-28T13:58:33.422Z"
   },
   {
    "duration": 36,
    "start_time": "2023-06-28T13:58:33.444Z"
   },
   {
    "duration": 38,
    "start_time": "2023-06-28T13:58:33.482Z"
   },
   {
    "duration": 1385,
    "start_time": "2023-07-03T16:52:42.846Z"
   },
   {
    "duration": 218,
    "start_time": "2023-07-03T16:52:44.233Z"
   },
   {
    "duration": 27,
    "start_time": "2023-07-03T16:52:44.452Z"
   },
   {
    "duration": 17,
    "start_time": "2023-07-03T16:52:44.487Z"
   },
   {
    "duration": 10,
    "start_time": "2023-07-03T16:52:44.507Z"
   },
   {
    "duration": 17,
    "start_time": "2023-07-03T16:52:44.519Z"
   },
   {
    "duration": 29,
    "start_time": "2023-07-03T16:52:44.537Z"
   },
   {
    "duration": 22,
    "start_time": "2023-07-03T16:52:44.568Z"
   },
   {
    "duration": 11,
    "start_time": "2023-07-03T16:52:44.591Z"
   },
   {
    "duration": 8,
    "start_time": "2023-07-03T16:52:44.604Z"
   },
   {
    "duration": 20,
    "start_time": "2023-07-03T16:52:44.613Z"
   },
   {
    "duration": 16,
    "start_time": "2023-07-03T16:52:44.635Z"
   },
   {
    "duration": 22,
    "start_time": "2023-07-03T16:52:44.653Z"
   },
   {
    "duration": 39,
    "start_time": "2023-07-03T16:52:44.678Z"
   },
   {
    "duration": 20,
    "start_time": "2023-07-03T16:52:44.719Z"
   },
   {
    "duration": 31,
    "start_time": "2023-07-03T16:52:44.741Z"
   },
   {
    "duration": 5,
    "start_time": "2023-07-03T16:52:44.774Z"
   },
   {
    "duration": 8,
    "start_time": "2023-07-03T16:52:44.781Z"
   },
   {
    "duration": 8,
    "start_time": "2023-07-03T16:52:44.790Z"
   },
   {
    "duration": 14,
    "start_time": "2023-07-03T16:52:44.800Z"
   },
   {
    "duration": 118,
    "start_time": "2023-07-03T16:52:44.815Z"
   },
   {
    "duration": 144,
    "start_time": "2023-07-03T16:52:44.934Z"
   },
   {
    "duration": 5,
    "start_time": "2023-07-03T16:52:45.080Z"
   },
   {
    "duration": 33,
    "start_time": "2023-07-03T16:52:45.086Z"
   },
   {
    "duration": 73,
    "start_time": "2023-07-03T16:52:45.121Z"
   },
   {
    "duration": 7,
    "start_time": "2023-07-03T16:52:45.196Z"
   },
   {
    "duration": 24,
    "start_time": "2023-07-03T16:52:45.204Z"
   },
   {
    "duration": 32,
    "start_time": "2023-07-03T16:52:45.229Z"
   },
   {
    "duration": 31,
    "start_time": "2023-07-03T16:52:45.263Z"
   },
   {
    "duration": 11,
    "start_time": "2023-07-03T16:52:45.296Z"
   },
   {
    "duration": 14,
    "start_time": "2023-07-03T16:53:56.125Z"
   },
   {
    "duration": 109,
    "start_time": "2023-07-03T16:56:58.745Z"
   },
   {
    "duration": 12,
    "start_time": "2023-07-03T16:57:26.924Z"
   },
   {
    "duration": 35,
    "start_time": "2023-07-03T17:00:06.755Z"
   },
   {
    "duration": 13,
    "start_time": "2023-07-03T17:02:07.785Z"
   },
   {
    "duration": 23,
    "start_time": "2023-07-03T17:02:47.424Z"
   },
   {
    "duration": 1121,
    "start_time": "2023-07-03T17:03:55.377Z"
   },
   {
    "duration": 54,
    "start_time": "2023-07-03T17:03:56.500Z"
   },
   {
    "duration": 23,
    "start_time": "2023-07-03T17:03:56.556Z"
   },
   {
    "duration": 21,
    "start_time": "2023-07-03T17:03:56.580Z"
   },
   {
    "duration": 9,
    "start_time": "2023-07-03T17:03:56.603Z"
   },
   {
    "duration": 14,
    "start_time": "2023-07-03T17:03:56.614Z"
   },
   {
    "duration": 3,
    "start_time": "2023-07-03T17:03:56.630Z"
   },
   {
    "duration": 38,
    "start_time": "2023-07-03T17:03:56.634Z"
   },
   {
    "duration": 8,
    "start_time": "2023-07-03T17:03:56.677Z"
   },
   {
    "duration": 8,
    "start_time": "2023-07-03T17:03:56.686Z"
   },
   {
    "duration": 13,
    "start_time": "2023-07-03T17:03:56.695Z"
   },
   {
    "duration": 23,
    "start_time": "2023-07-03T17:03:56.710Z"
   },
   {
    "duration": 30,
    "start_time": "2023-07-03T17:03:56.734Z"
   },
   {
    "duration": 22,
    "start_time": "2023-07-03T17:03:56.774Z"
   },
   {
    "duration": 14,
    "start_time": "2023-07-03T17:03:56.798Z"
   },
   {
    "duration": 17,
    "start_time": "2023-07-03T17:03:56.814Z"
   },
   {
    "duration": 5,
    "start_time": "2023-07-03T17:03:56.833Z"
   },
   {
    "duration": 28,
    "start_time": "2023-07-03T17:03:56.840Z"
   },
   {
    "duration": 5,
    "start_time": "2023-07-03T17:03:56.872Z"
   },
   {
    "duration": 15,
    "start_time": "2023-07-03T17:03:56.878Z"
   },
   {
    "duration": 111,
    "start_time": "2023-07-03T17:03:56.894Z"
   },
   {
    "duration": 143,
    "start_time": "2023-07-03T17:03:57.007Z"
   },
   {
    "duration": 9,
    "start_time": "2023-07-03T17:03:57.152Z"
   },
   {
    "duration": 24,
    "start_time": "2023-07-03T17:03:57.162Z"
   },
   {
    "duration": 38,
    "start_time": "2023-07-03T17:03:57.188Z"
   },
   {
    "duration": 7,
    "start_time": "2023-07-03T17:03:57.227Z"
   },
   {
    "duration": 22,
    "start_time": "2023-07-03T17:03:57.235Z"
   },
   {
    "duration": 25,
    "start_time": "2023-07-03T17:03:57.258Z"
   },
   {
    "duration": 25,
    "start_time": "2023-07-03T17:03:57.284Z"
   },
   {
    "duration": 8,
    "start_time": "2023-07-03T17:03:57.311Z"
   },
   {
    "duration": 9,
    "start_time": "2023-07-03T17:03:57.321Z"
   },
   {
    "duration": 47,
    "start_time": "2023-07-03T17:03:57.331Z"
   },
   {
    "duration": 10,
    "start_time": "2023-07-03T17:06:48.794Z"
   },
   {
    "duration": 7,
    "start_time": "2023-07-03T17:07:13.915Z"
   },
   {
    "duration": 19,
    "start_time": "2023-07-03T17:11:14.245Z"
   },
   {
    "duration": 14,
    "start_time": "2023-07-03T17:11:31.887Z"
   },
   {
    "duration": 12,
    "start_time": "2023-07-03T17:12:11.155Z"
   },
   {
    "duration": 5,
    "start_time": "2023-07-03T17:12:28.426Z"
   },
   {
    "duration": 6,
    "start_time": "2023-07-03T17:13:13.971Z"
   },
   {
    "duration": 14,
    "start_time": "2023-07-03T17:13:46.655Z"
   },
   {
    "duration": 13,
    "start_time": "2023-07-03T17:14:19.036Z"
   },
   {
    "duration": 13,
    "start_time": "2023-07-03T17:14:31.774Z"
   },
   {
    "duration": 17,
    "start_time": "2023-07-03T17:15:12.273Z"
   },
   {
    "duration": 17,
    "start_time": "2023-07-03T17:18:08.397Z"
   },
   {
    "duration": 6,
    "start_time": "2023-07-03T17:21:39.137Z"
   },
   {
    "duration": 11,
    "start_time": "2023-07-03T17:24:34.250Z"
   },
   {
    "duration": 8,
    "start_time": "2023-07-03T17:24:45.838Z"
   },
   {
    "duration": 14,
    "start_time": "2023-07-03T17:25:02.360Z"
   },
   {
    "duration": 8,
    "start_time": "2023-07-03T17:25:16.719Z"
   },
   {
    "duration": 10,
    "start_time": "2023-07-03T17:25:29.114Z"
   },
   {
    "duration": 10,
    "start_time": "2023-07-03T17:25:49.213Z"
   },
   {
    "duration": 11,
    "start_time": "2023-07-03T17:25:58.173Z"
   },
   {
    "duration": 16,
    "start_time": "2023-07-03T17:26:04.769Z"
   },
   {
    "duration": 8,
    "start_time": "2023-07-03T17:26:12.139Z"
   },
   {
    "duration": 18,
    "start_time": "2023-07-03T17:26:23.964Z"
   },
   {
    "duration": 8,
    "start_time": "2023-07-03T17:27:37.301Z"
   },
   {
    "duration": 11,
    "start_time": "2023-07-03T17:27:47.839Z"
   },
   {
    "duration": 1206,
    "start_time": "2023-07-03T17:28:41.216Z"
   },
   {
    "duration": 59,
    "start_time": "2023-07-03T17:28:42.424Z"
   },
   {
    "duration": 16,
    "start_time": "2023-07-03T17:28:42.485Z"
   },
   {
    "duration": 15,
    "start_time": "2023-07-03T17:28:42.503Z"
   },
   {
    "duration": 14,
    "start_time": "2023-07-03T17:28:42.521Z"
   },
   {
    "duration": 48,
    "start_time": "2023-07-03T17:28:42.536Z"
   },
   {
    "duration": 3,
    "start_time": "2023-07-03T17:28:42.587Z"
   },
   {
    "duration": 30,
    "start_time": "2023-07-03T17:28:42.592Z"
   },
   {
    "duration": 18,
    "start_time": "2023-07-03T17:28:42.623Z"
   },
   {
    "duration": 13,
    "start_time": "2023-07-03T17:28:42.643Z"
   },
   {
    "duration": 18,
    "start_time": "2023-07-03T17:28:42.657Z"
   },
   {
    "duration": 15,
    "start_time": "2023-07-03T17:28:42.676Z"
   },
   {
    "duration": 5,
    "start_time": "2023-07-03T17:28:42.692Z"
   },
   {
    "duration": 38,
    "start_time": "2023-07-03T17:28:42.700Z"
   },
   {
    "duration": 19,
    "start_time": "2023-07-03T17:28:42.762Z"
   },
   {
    "duration": 18,
    "start_time": "2023-07-03T17:28:42.783Z"
   },
   {
    "duration": 6,
    "start_time": "2023-07-03T17:28:42.803Z"
   },
   {
    "duration": 18,
    "start_time": "2023-07-03T17:28:42.811Z"
   },
   {
    "duration": 10,
    "start_time": "2023-07-03T17:28:42.831Z"
   },
   {
    "duration": 26,
    "start_time": "2023-07-03T17:28:42.843Z"
   },
   {
    "duration": 112,
    "start_time": "2023-07-03T17:28:42.871Z"
   },
   {
    "duration": 139,
    "start_time": "2023-07-03T17:28:42.986Z"
   },
   {
    "duration": 4,
    "start_time": "2023-07-03T17:28:43.127Z"
   },
   {
    "duration": 20,
    "start_time": "2023-07-03T17:28:43.133Z"
   },
   {
    "duration": 31,
    "start_time": "2023-07-03T17:28:43.155Z"
   },
   {
    "duration": 6,
    "start_time": "2023-07-03T17:28:43.187Z"
   },
   {
    "duration": 15,
    "start_time": "2023-07-03T17:28:43.194Z"
   },
   {
    "duration": 23,
    "start_time": "2023-07-03T17:28:43.211Z"
   },
   {
    "duration": 47,
    "start_time": "2023-07-03T17:28:43.236Z"
   },
   {
    "duration": 11,
    "start_time": "2023-07-03T17:28:43.286Z"
   },
   {
    "duration": 10,
    "start_time": "2023-07-03T17:28:43.298Z"
   },
   {
    "duration": 30,
    "start_time": "2023-07-03T17:28:43.309Z"
   },
   {
    "duration": 68,
    "start_time": "2023-07-03T17:41:59.135Z"
   },
   {
    "duration": 123,
    "start_time": "2023-07-03T17:42:13.554Z"
   },
   {
    "duration": 16,
    "start_time": "2023-07-03T17:43:40.426Z"
   },
   {
    "duration": 18,
    "start_time": "2023-07-03T17:44:12.301Z"
   },
   {
    "duration": 616,
    "start_time": "2023-07-03T17:45:20.326Z"
   },
   {
    "duration": 1229,
    "start_time": "2023-07-03T17:46:19.147Z"
   },
   {
    "duration": 54,
    "start_time": "2023-07-03T17:46:20.378Z"
   },
   {
    "duration": 17,
    "start_time": "2023-07-03T17:46:20.434Z"
   },
   {
    "duration": 24,
    "start_time": "2023-07-03T17:46:20.453Z"
   },
   {
    "duration": 26,
    "start_time": "2023-07-03T17:46:20.479Z"
   },
   {
    "duration": 41,
    "start_time": "2023-07-03T17:46:20.507Z"
   },
   {
    "duration": 7,
    "start_time": "2023-07-03T17:46:20.550Z"
   },
   {
    "duration": 30,
    "start_time": "2023-07-03T17:46:20.559Z"
   },
   {
    "duration": 38,
    "start_time": "2023-07-03T17:46:20.591Z"
   },
   {
    "duration": 20,
    "start_time": "2023-07-03T17:46:20.630Z"
   },
   {
    "duration": 24,
    "start_time": "2023-07-03T17:46:20.652Z"
   },
   {
    "duration": 13,
    "start_time": "2023-07-03T17:46:20.678Z"
   },
   {
    "duration": 11,
    "start_time": "2023-07-03T17:46:20.692Z"
   },
   {
    "duration": 43,
    "start_time": "2023-07-03T17:46:20.706Z"
   },
   {
    "duration": 23,
    "start_time": "2023-07-03T17:46:20.751Z"
   },
   {
    "duration": 23,
    "start_time": "2023-07-03T17:46:20.775Z"
   },
   {
    "duration": 5,
    "start_time": "2023-07-03T17:46:20.800Z"
   },
   {
    "duration": 20,
    "start_time": "2023-07-03T17:46:20.806Z"
   },
   {
    "duration": 19,
    "start_time": "2023-07-03T17:46:20.827Z"
   },
   {
    "duration": 30,
    "start_time": "2023-07-03T17:46:20.847Z"
   },
   {
    "duration": 109,
    "start_time": "2023-07-03T17:46:20.878Z"
   },
   {
    "duration": 122,
    "start_time": "2023-07-03T17:46:20.989Z"
   },
   {
    "duration": 5,
    "start_time": "2023-07-03T17:46:21.113Z"
   },
   {
    "duration": 9,
    "start_time": "2023-07-03T17:46:21.119Z"
   },
   {
    "duration": 40,
    "start_time": "2023-07-03T17:46:21.130Z"
   },
   {
    "duration": 9,
    "start_time": "2023-07-03T17:46:21.171Z"
   },
   {
    "duration": 32,
    "start_time": "2023-07-03T17:46:21.181Z"
   },
   {
    "duration": 24,
    "start_time": "2023-07-03T17:46:21.215Z"
   },
   {
    "duration": 657,
    "start_time": "2023-07-03T17:46:21.241Z"
   },
   {
    "duration": 0,
    "start_time": "2023-07-03T17:46:21.900Z"
   },
   {
    "duration": 0,
    "start_time": "2023-07-03T17:46:21.901Z"
   },
   {
    "duration": 0,
    "start_time": "2023-07-03T17:46:21.902Z"
   },
   {
    "duration": 0,
    "start_time": "2023-07-03T17:46:21.903Z"
   },
   {
    "duration": 0,
    "start_time": "2023-07-03T17:46:21.904Z"
   },
   {
    "duration": 6,
    "start_time": "2023-07-03T17:47:26.857Z"
   },
   {
    "duration": 9,
    "start_time": "2023-07-03T17:47:39.787Z"
   },
   {
    "duration": 27,
    "start_time": "2023-07-03T17:47:58.987Z"
   },
   {
    "duration": 20,
    "start_time": "2023-07-03T17:48:19.397Z"
   },
   {
    "duration": 27,
    "start_time": "2023-07-03T17:48:28.758Z"
   },
   {
    "duration": 17,
    "start_time": "2023-07-03T17:48:58.291Z"
   },
   {
    "duration": 1228,
    "start_time": "2023-07-03T17:50:03.309Z"
   },
   {
    "duration": 62,
    "start_time": "2023-07-03T17:50:04.538Z"
   },
   {
    "duration": 18,
    "start_time": "2023-07-03T17:50:04.602Z"
   },
   {
    "duration": 15,
    "start_time": "2023-07-03T17:50:04.621Z"
   },
   {
    "duration": 38,
    "start_time": "2023-07-03T17:50:04.638Z"
   },
   {
    "duration": 27,
    "start_time": "2023-07-03T17:50:04.677Z"
   },
   {
    "duration": 19,
    "start_time": "2023-07-03T17:50:04.706Z"
   },
   {
    "duration": 53,
    "start_time": "2023-07-03T17:50:04.726Z"
   },
   {
    "duration": 9,
    "start_time": "2023-07-03T17:50:04.781Z"
   },
   {
    "duration": 23,
    "start_time": "2023-07-03T17:50:04.791Z"
   },
   {
    "duration": 14,
    "start_time": "2023-07-03T17:50:04.816Z"
   },
   {
    "duration": 15,
    "start_time": "2023-07-03T17:50:04.832Z"
   },
   {
    "duration": 27,
    "start_time": "2023-07-03T17:50:04.848Z"
   },
   {
    "duration": 38,
    "start_time": "2023-07-03T17:50:04.878Z"
   },
   {
    "duration": 14,
    "start_time": "2023-07-03T17:50:04.917Z"
   },
   {
    "duration": 51,
    "start_time": "2023-07-03T17:50:04.933Z"
   },
   {
    "duration": 12,
    "start_time": "2023-07-03T17:50:04.985Z"
   },
   {
    "duration": 12,
    "start_time": "2023-07-03T17:50:04.999Z"
   },
   {
    "duration": 33,
    "start_time": "2023-07-03T17:50:05.012Z"
   },
   {
    "duration": 43,
    "start_time": "2023-07-03T17:50:05.047Z"
   },
   {
    "duration": 121,
    "start_time": "2023-07-03T17:50:05.092Z"
   },
   {
    "duration": 131,
    "start_time": "2023-07-03T17:50:05.215Z"
   },
   {
    "duration": 18,
    "start_time": "2023-07-03T17:50:05.348Z"
   },
   {
    "duration": 16,
    "start_time": "2023-07-03T17:50:05.370Z"
   },
   {
    "duration": 48,
    "start_time": "2023-07-03T17:50:05.388Z"
   },
   {
    "duration": 8,
    "start_time": "2023-07-03T17:50:05.438Z"
   },
   {
    "duration": 29,
    "start_time": "2023-07-03T17:50:05.448Z"
   },
   {
    "duration": 21,
    "start_time": "2023-07-03T17:50:05.479Z"
   },
   {
    "duration": 24,
    "start_time": "2023-07-03T17:50:05.501Z"
   },
   {
    "duration": 15,
    "start_time": "2023-07-03T17:50:05.526Z"
   },
   {
    "duration": 42,
    "start_time": "2023-07-03T17:50:05.542Z"
   },
   {
    "duration": 20,
    "start_time": "2023-07-03T17:50:05.586Z"
   },
   {
    "duration": 21,
    "start_time": "2023-07-03T17:50:05.608Z"
   },
   {
    "duration": 12,
    "start_time": "2023-07-03T17:50:05.631Z"
   },
   {
    "duration": 33,
    "start_time": "2023-07-03T17:50:05.645Z"
   },
   {
    "duration": 37,
    "start_time": "2023-07-03T17:50:05.680Z"
   },
   {
    "duration": 13,
    "start_time": "2023-07-03T17:51:02.572Z"
   },
   {
    "duration": 16,
    "start_time": "2023-07-03T17:51:06.557Z"
   },
   {
    "duration": 15,
    "start_time": "2023-07-03T17:51:17.595Z"
   },
   {
    "duration": 100,
    "start_time": "2023-07-03T17:51:48.417Z"
   },
   {
    "duration": 10,
    "start_time": "2023-07-03T17:51:54.620Z"
   },
   {
    "duration": 10,
    "start_time": "2023-07-03T17:52:47.537Z"
   },
   {
    "duration": 16,
    "start_time": "2023-07-03T17:55:36.208Z"
   },
   {
    "duration": 15,
    "start_time": "2023-07-03T17:55:50.810Z"
   },
   {
    "duration": 21,
    "start_time": "2023-07-03T17:56:16.279Z"
   },
   {
    "duration": 15,
    "start_time": "2023-07-03T18:03:13.115Z"
   },
   {
    "duration": 15,
    "start_time": "2023-07-03T18:03:21.641Z"
   },
   {
    "duration": 15,
    "start_time": "2023-07-03T18:03:35.709Z"
   },
   {
    "duration": 13,
    "start_time": "2023-07-03T18:05:18.203Z"
   },
   {
    "duration": 19,
    "start_time": "2023-07-03T18:05:30.805Z"
   },
   {
    "duration": 16,
    "start_time": "2023-07-03T18:05:49.574Z"
   },
   {
    "duration": 3,
    "start_time": "2023-07-03T18:06:14.375Z"
   },
   {
    "duration": 8,
    "start_time": "2023-07-03T18:06:21.204Z"
   },
   {
    "duration": 1154,
    "start_time": "2023-07-03T18:10:24.534Z"
   },
   {
    "duration": 5,
    "start_time": "2023-07-03T18:21:07.790Z"
   },
   {
    "duration": 18,
    "start_time": "2023-07-03T18:22:20.893Z"
   },
   {
    "duration": 12,
    "start_time": "2023-07-03T18:25:13.299Z"
   },
   {
    "duration": 20,
    "start_time": "2023-07-03T18:25:21.310Z"
   },
   {
    "duration": 33,
    "start_time": "2023-07-03T18:32:41.532Z"
   },
   {
    "duration": 142,
    "start_time": "2023-07-03T18:39:51.495Z"
   },
   {
    "duration": 25,
    "start_time": "2023-07-03T18:40:15.895Z"
   },
   {
    "duration": 20,
    "start_time": "2023-07-03T18:42:06.401Z"
   },
   {
    "duration": 15,
    "start_time": "2023-07-03T18:43:22.205Z"
   },
   {
    "duration": 23,
    "start_time": "2023-07-03T18:43:30.984Z"
   },
   {
    "duration": 24,
    "start_time": "2023-07-03T18:43:53.275Z"
   },
   {
    "duration": 1276,
    "start_time": "2023-07-03T18:44:19.126Z"
   },
   {
    "duration": 180,
    "start_time": "2023-07-03T18:46:50.196Z"
   },
   {
    "duration": 18,
    "start_time": "2023-07-03T18:47:29.127Z"
   },
   {
    "duration": 5,
    "start_time": "2023-07-03T18:47:47.206Z"
   },
   {
    "duration": 14,
    "start_time": "2023-07-03T18:47:48.879Z"
   },
   {
    "duration": 1213,
    "start_time": "2023-07-03T18:48:12.349Z"
   },
   {
    "duration": 60,
    "start_time": "2023-07-03T18:48:13.565Z"
   },
   {
    "duration": 17,
    "start_time": "2023-07-03T18:48:13.627Z"
   },
   {
    "duration": 15,
    "start_time": "2023-07-03T18:48:13.646Z"
   },
   {
    "duration": 20,
    "start_time": "2023-07-03T18:48:13.663Z"
   },
   {
    "duration": 15,
    "start_time": "2023-07-03T18:48:13.688Z"
   },
   {
    "duration": 3,
    "start_time": "2023-07-03T18:48:13.704Z"
   },
   {
    "duration": 17,
    "start_time": "2023-07-03T18:48:13.709Z"
   },
   {
    "duration": 9,
    "start_time": "2023-07-03T18:48:13.727Z"
   },
   {
    "duration": 25,
    "start_time": "2023-07-03T18:48:13.738Z"
   },
   {
    "duration": 21,
    "start_time": "2023-07-03T18:48:13.767Z"
   },
   {
    "duration": 15,
    "start_time": "2023-07-03T18:48:13.789Z"
   },
   {
    "duration": 4,
    "start_time": "2023-07-03T18:48:13.807Z"
   },
   {
    "duration": 37,
    "start_time": "2023-07-03T18:48:13.815Z"
   },
   {
    "duration": 19,
    "start_time": "2023-07-03T18:48:13.858Z"
   },
   {
    "duration": 19,
    "start_time": "2023-07-03T18:48:13.879Z"
   },
   {
    "duration": 5,
    "start_time": "2023-07-03T18:48:13.899Z"
   },
   {
    "duration": 6,
    "start_time": "2023-07-03T18:48:13.905Z"
   },
   {
    "duration": 11,
    "start_time": "2023-07-03T18:48:13.912Z"
   },
   {
    "duration": 19,
    "start_time": "2023-07-03T18:48:13.924Z"
   },
   {
    "duration": 150,
    "start_time": "2023-07-03T18:48:13.944Z"
   },
   {
    "duration": 162,
    "start_time": "2023-07-03T18:48:14.096Z"
   },
   {
    "duration": 10,
    "start_time": "2023-07-03T18:48:14.260Z"
   },
   {
    "duration": 37,
    "start_time": "2023-07-03T18:48:14.271Z"
   },
   {
    "duration": 52,
    "start_time": "2023-07-03T18:48:14.310Z"
   },
   {
    "duration": 11,
    "start_time": "2023-07-03T18:48:14.364Z"
   },
   {
    "duration": 27,
    "start_time": "2023-07-03T18:48:14.377Z"
   },
   {
    "duration": 39,
    "start_time": "2023-07-03T18:48:14.406Z"
   },
   {
    "duration": 41,
    "start_time": "2023-07-03T18:48:14.447Z"
   },
   {
    "duration": 44,
    "start_time": "2023-07-03T18:48:14.489Z"
   },
   {
    "duration": 16,
    "start_time": "2023-07-03T18:48:14.535Z"
   },
   {
    "duration": 35,
    "start_time": "2023-07-03T18:48:14.552Z"
   },
   {
    "duration": 34,
    "start_time": "2023-07-03T18:48:14.589Z"
   },
   {
    "duration": 40,
    "start_time": "2023-07-03T18:48:14.625Z"
   },
   {
    "duration": 19,
    "start_time": "2023-07-03T18:48:14.667Z"
   },
   {
    "duration": 27,
    "start_time": "2023-07-03T18:48:14.688Z"
   },
   {
    "duration": 5,
    "start_time": "2023-07-03T18:48:14.716Z"
   },
   {
    "duration": 36,
    "start_time": "2023-07-03T18:48:14.722Z"
   },
   {
    "duration": 189,
    "start_time": "2023-07-03T18:48:14.760Z"
   },
   {
    "duration": 23,
    "start_time": "2023-07-03T18:48:51.575Z"
   },
   {
    "duration": 177,
    "start_time": "2023-07-03T18:48:58.159Z"
   },
   {
    "duration": 34,
    "start_time": "2023-07-03T18:49:12.558Z"
   },
   {
    "duration": 126,
    "start_time": "2023-07-03T18:51:35.565Z"
   },
   {
    "duration": 19,
    "start_time": "2023-07-03T18:52:18.079Z"
   },
   {
    "duration": 186,
    "start_time": "2023-07-03T18:52:43.390Z"
   },
   {
    "duration": 182,
    "start_time": "2023-07-03T18:54:32.600Z"
   },
   {
    "duration": 289,
    "start_time": "2023-07-03T18:55:29.884Z"
   },
   {
    "duration": 10,
    "start_time": "2023-07-03T18:56:26.181Z"
   },
   {
    "duration": 187,
    "start_time": "2023-07-03T19:07:01.306Z"
   },
   {
    "duration": 191,
    "start_time": "2023-07-03T19:07:32.384Z"
   },
   {
    "duration": 174,
    "start_time": "2023-07-03T19:08:35.484Z"
   },
   {
    "duration": 361,
    "start_time": "2023-07-03T19:11:53.055Z"
   },
   {
    "duration": 335,
    "start_time": "2023-07-03T19:13:02.693Z"
   },
   {
    "duration": 6,
    "start_time": "2023-07-03T19:15:19.537Z"
   },
   {
    "duration": 6,
    "start_time": "2023-07-03T19:15:28.317Z"
   },
   {
    "duration": 4,
    "start_time": "2023-07-03T19:41:34.179Z"
   },
   {
    "duration": 154,
    "start_time": "2023-07-03T19:42:12.636Z"
   },
   {
    "duration": 1249,
    "start_time": "2023-07-03T19:42:24.659Z"
   },
   {
    "duration": 58,
    "start_time": "2023-07-03T19:42:25.910Z"
   },
   {
    "duration": 23,
    "start_time": "2023-07-03T19:42:25.971Z"
   },
   {
    "duration": 21,
    "start_time": "2023-07-03T19:42:25.996Z"
   },
   {
    "duration": 21,
    "start_time": "2023-07-03T19:42:26.020Z"
   },
   {
    "duration": 23,
    "start_time": "2023-07-03T19:42:26.043Z"
   },
   {
    "duration": 13,
    "start_time": "2023-07-03T19:42:26.068Z"
   },
   {
    "duration": 27,
    "start_time": "2023-07-03T19:42:26.083Z"
   },
   {
    "duration": 19,
    "start_time": "2023-07-03T19:42:26.112Z"
   },
   {
    "duration": 9,
    "start_time": "2023-07-03T19:42:26.133Z"
   },
   {
    "duration": 31,
    "start_time": "2023-07-03T19:42:26.144Z"
   },
   {
    "duration": 19,
    "start_time": "2023-07-03T19:42:26.177Z"
   },
   {
    "duration": 5,
    "start_time": "2023-07-03T19:42:26.197Z"
   },
   {
    "duration": 23,
    "start_time": "2023-07-03T19:42:26.205Z"
   },
   {
    "duration": 34,
    "start_time": "2023-07-03T19:42:26.230Z"
   },
   {
    "duration": 19,
    "start_time": "2023-07-03T19:42:26.268Z"
   },
   {
    "duration": 18,
    "start_time": "2023-07-03T19:42:26.290Z"
   },
   {
    "duration": 24,
    "start_time": "2023-07-03T19:42:26.310Z"
   },
   {
    "duration": 14,
    "start_time": "2023-07-03T19:42:26.335Z"
   },
   {
    "duration": 32,
    "start_time": "2023-07-03T19:42:26.351Z"
   },
   {
    "duration": 122,
    "start_time": "2023-07-03T19:42:26.384Z"
   },
   {
    "duration": 132,
    "start_time": "2023-07-03T19:42:26.508Z"
   },
   {
    "duration": 5,
    "start_time": "2023-07-03T19:42:26.641Z"
   },
   {
    "duration": 31,
    "start_time": "2023-07-03T19:42:26.649Z"
   },
   {
    "duration": 26,
    "start_time": "2023-07-03T19:42:26.683Z"
   },
   {
    "duration": 9,
    "start_time": "2023-07-03T19:42:26.711Z"
   },
   {
    "duration": 17,
    "start_time": "2023-07-03T19:42:26.721Z"
   },
   {
    "duration": 35,
    "start_time": "2023-07-03T19:42:26.739Z"
   },
   {
    "duration": 7,
    "start_time": "2023-07-03T19:42:26.775Z"
   },
   {
    "duration": 28,
    "start_time": "2023-07-03T19:42:26.784Z"
   },
   {
    "duration": 5,
    "start_time": "2023-07-03T19:42:26.814Z"
   },
   {
    "duration": 43,
    "start_time": "2023-07-03T19:42:26.821Z"
   },
   {
    "duration": 31,
    "start_time": "2023-07-03T19:42:26.866Z"
   },
   {
    "duration": 14,
    "start_time": "2023-07-03T19:42:26.899Z"
   },
   {
    "duration": 210,
    "start_time": "2023-07-03T19:42:26.915Z"
   },
   {
    "duration": 271,
    "start_time": "2023-07-03T19:42:27.127Z"
   },
   {
    "duration": 4,
    "start_time": "2023-07-03T19:42:27.400Z"
   },
   {
    "duration": 139,
    "start_time": "2023-07-03T19:42:27.406Z"
   },
   {
    "duration": 0,
    "start_time": "2023-07-03T19:42:27.547Z"
   },
   {
    "duration": 0,
    "start_time": "2023-07-03T19:42:27.548Z"
   },
   {
    "duration": 0,
    "start_time": "2023-07-03T19:42:27.560Z"
   },
   {
    "duration": 0,
    "start_time": "2023-07-03T19:42:27.561Z"
   },
   {
    "duration": 23,
    "start_time": "2023-07-03T19:42:53.399Z"
   },
   {
    "duration": 8,
    "start_time": "2023-07-03T19:43:00.149Z"
   },
   {
    "duration": 4,
    "start_time": "2023-07-03T19:43:02.109Z"
   },
   {
    "duration": 165,
    "start_time": "2023-07-03T19:43:02.840Z"
   },
   {
    "duration": 14,
    "start_time": "2023-07-03T19:45:07.299Z"
   },
   {
    "duration": 3,
    "start_time": "2023-07-03T19:45:50.950Z"
   },
   {
    "duration": 15,
    "start_time": "2023-07-03T19:45:57.083Z"
   },
   {
    "duration": 3,
    "start_time": "2023-07-03T19:46:10.750Z"
   },
   {
    "duration": 1157,
    "start_time": "2023-07-03T19:47:34.775Z"
   },
   {
    "duration": 57,
    "start_time": "2023-07-03T19:47:35.934Z"
   },
   {
    "duration": 18,
    "start_time": "2023-07-03T19:47:35.993Z"
   },
   {
    "duration": 13,
    "start_time": "2023-07-03T19:47:36.013Z"
   },
   {
    "duration": 16,
    "start_time": "2023-07-03T19:47:36.029Z"
   },
   {
    "duration": 41,
    "start_time": "2023-07-03T19:47:36.061Z"
   },
   {
    "duration": 15,
    "start_time": "2023-07-03T19:47:36.104Z"
   },
   {
    "duration": 25,
    "start_time": "2023-07-03T19:47:36.120Z"
   },
   {
    "duration": 36,
    "start_time": "2023-07-03T19:47:36.146Z"
   },
   {
    "duration": 19,
    "start_time": "2023-07-03T19:47:36.184Z"
   },
   {
    "duration": 12,
    "start_time": "2023-07-03T19:47:36.205Z"
   },
   {
    "duration": 15,
    "start_time": "2023-07-03T19:47:36.219Z"
   },
   {
    "duration": 5,
    "start_time": "2023-07-03T19:47:36.236Z"
   },
   {
    "duration": 49,
    "start_time": "2023-07-03T19:47:36.243Z"
   },
   {
    "duration": 15,
    "start_time": "2023-07-03T19:47:36.294Z"
   },
   {
    "duration": 30,
    "start_time": "2023-07-03T19:47:36.311Z"
   },
   {
    "duration": 4,
    "start_time": "2023-07-03T19:47:36.343Z"
   },
   {
    "duration": 8,
    "start_time": "2023-07-03T19:47:36.350Z"
   },
   {
    "duration": 15,
    "start_time": "2023-07-03T19:47:36.363Z"
   },
   {
    "duration": 28,
    "start_time": "2023-07-03T19:47:36.380Z"
   },
   {
    "duration": 114,
    "start_time": "2023-07-03T19:47:36.411Z"
   },
   {
    "duration": 136,
    "start_time": "2023-07-03T19:47:36.526Z"
   },
   {
    "duration": 9,
    "start_time": "2023-07-03T19:47:36.668Z"
   },
   {
    "duration": 6,
    "start_time": "2023-07-03T19:47:36.679Z"
   },
   {
    "duration": 28,
    "start_time": "2023-07-03T19:47:36.686Z"
   },
   {
    "duration": 6,
    "start_time": "2023-07-03T19:47:36.717Z"
   },
   {
    "duration": 26,
    "start_time": "2023-07-03T19:47:36.725Z"
   },
   {
    "duration": 40,
    "start_time": "2023-07-03T19:47:36.759Z"
   },
   {
    "duration": 7,
    "start_time": "2023-07-03T19:47:36.802Z"
   },
   {
    "duration": 40,
    "start_time": "2023-07-03T19:47:36.811Z"
   },
   {
    "duration": 12,
    "start_time": "2023-07-03T19:47:36.866Z"
   },
   {
    "duration": 29,
    "start_time": "2023-07-03T19:47:36.881Z"
   },
   {
    "duration": 24,
    "start_time": "2023-07-03T19:47:36.913Z"
   },
   {
    "duration": 42,
    "start_time": "2023-07-03T19:47:36.938Z"
   },
   {
    "duration": 198,
    "start_time": "2023-07-03T19:47:36.981Z"
   },
   {
    "duration": 250,
    "start_time": "2023-07-03T19:47:37.180Z"
   },
   {
    "duration": 4,
    "start_time": "2023-07-03T19:47:37.432Z"
   },
   {
    "duration": 49,
    "start_time": "2023-07-03T19:47:37.437Z"
   },
   {
    "duration": 10,
    "start_time": "2023-07-03T19:47:37.488Z"
   },
   {
    "duration": 5,
    "start_time": "2023-07-03T19:47:37.500Z"
   },
   {
    "duration": 1375,
    "start_time": "2023-07-03T19:58:14.499Z"
   },
   {
    "duration": 61,
    "start_time": "2023-07-03T19:58:15.876Z"
   },
   {
    "duration": 21,
    "start_time": "2023-07-03T19:58:15.939Z"
   },
   {
    "duration": 23,
    "start_time": "2023-07-03T19:58:15.962Z"
   },
   {
    "duration": 14,
    "start_time": "2023-07-03T19:58:15.987Z"
   },
   {
    "duration": 18,
    "start_time": "2023-07-03T19:58:16.003Z"
   },
   {
    "duration": 4,
    "start_time": "2023-07-03T19:58:16.024Z"
   },
   {
    "duration": 50,
    "start_time": "2023-07-03T19:58:16.031Z"
   },
   {
    "duration": 10,
    "start_time": "2023-07-03T19:58:16.083Z"
   },
   {
    "duration": 13,
    "start_time": "2023-07-03T19:58:16.095Z"
   },
   {
    "duration": 13,
    "start_time": "2023-07-03T19:58:16.110Z"
   },
   {
    "duration": 42,
    "start_time": "2023-07-03T19:58:16.125Z"
   },
   {
    "duration": 9,
    "start_time": "2023-07-03T19:58:16.168Z"
   },
   {
    "duration": 23,
    "start_time": "2023-07-03T19:58:16.180Z"
   },
   {
    "duration": 14,
    "start_time": "2023-07-03T19:58:16.204Z"
   },
   {
    "duration": 21,
    "start_time": "2023-07-03T19:58:16.219Z"
   },
   {
    "duration": 10,
    "start_time": "2023-07-03T19:58:16.261Z"
   },
   {
    "duration": 8,
    "start_time": "2023-07-03T19:58:16.276Z"
   },
   {
    "duration": 7,
    "start_time": "2023-07-03T19:58:16.285Z"
   },
   {
    "duration": 22,
    "start_time": "2023-07-03T19:58:16.293Z"
   },
   {
    "duration": 119,
    "start_time": "2023-07-03T19:58:16.317Z"
   },
   {
    "duration": 142,
    "start_time": "2023-07-03T19:58:16.438Z"
   },
   {
    "duration": 4,
    "start_time": "2023-07-03T19:58:16.582Z"
   },
   {
    "duration": 13,
    "start_time": "2023-07-03T19:58:16.587Z"
   },
   {
    "duration": 25,
    "start_time": "2023-07-03T19:58:16.601Z"
   },
   {
    "duration": 6,
    "start_time": "2023-07-03T19:58:16.627Z"
   },
   {
    "duration": 40,
    "start_time": "2023-07-03T19:58:16.635Z"
   },
   {
    "duration": 21,
    "start_time": "2023-07-03T19:58:16.677Z"
   },
   {
    "duration": 11,
    "start_time": "2023-07-03T19:58:16.700Z"
   },
   {
    "duration": 24,
    "start_time": "2023-07-03T19:58:16.713Z"
   },
   {
    "duration": 6,
    "start_time": "2023-07-03T19:58:16.738Z"
   },
   {
    "duration": 25,
    "start_time": "2023-07-03T19:58:16.761Z"
   },
   {
    "duration": 22,
    "start_time": "2023-07-03T19:58:16.787Z"
   },
   {
    "duration": 30,
    "start_time": "2023-07-03T19:58:16.810Z"
   },
   {
    "duration": 220,
    "start_time": "2023-07-03T19:58:16.842Z"
   },
   {
    "duration": 258,
    "start_time": "2023-07-03T19:58:17.064Z"
   },
   {
    "duration": 4,
    "start_time": "2023-07-03T19:58:17.324Z"
   },
   {
    "duration": 42,
    "start_time": "2023-07-03T19:58:17.330Z"
   },
   {
    "duration": 9,
    "start_time": "2023-07-03T19:58:17.377Z"
   },
   {
    "duration": 5,
    "start_time": "2023-07-03T19:58:17.387Z"
   },
   {
    "duration": 124,
    "start_time": "2023-07-03T19:58:17.395Z"
   },
   {
    "duration": 3,
    "start_time": "2023-07-03T19:58:41.351Z"
   },
   {
    "duration": 1434,
    "start_time": "2023-07-03T19:58:42.414Z"
   },
   {
    "duration": 3,
    "start_time": "2023-07-03T20:00:27.793Z"
   },
   {
    "duration": 1391,
    "start_time": "2023-07-03T20:00:28.580Z"
   },
   {
    "duration": 588,
    "start_time": "2023-07-03T20:02:00.201Z"
   },
   {
    "duration": 80,
    "start_time": "2023-07-03T20:02:27.051Z"
   },
   {
    "duration": 78,
    "start_time": "2023-07-03T20:02:36.189Z"
   },
   {
    "duration": 620,
    "start_time": "2023-07-03T20:02:49.065Z"
   },
   {
    "duration": 90,
    "start_time": "2023-07-03T20:04:35.567Z"
   },
   {
    "duration": 188,
    "start_time": "2023-07-03T20:04:45.532Z"
   },
   {
    "duration": 173,
    "start_time": "2023-07-03T20:05:30.171Z"
   },
   {
    "duration": 434,
    "start_time": "2023-07-03T20:20:41.946Z"
   },
   {
    "duration": 150,
    "start_time": "2023-07-03T20:21:23.890Z"
   },
   {
    "duration": 158,
    "start_time": "2023-07-03T20:22:22.037Z"
   },
   {
    "duration": 166,
    "start_time": "2023-07-03T20:23:06.308Z"
   },
   {
    "duration": 164,
    "start_time": "2023-07-03T20:23:12.838Z"
   },
   {
    "duration": 478,
    "start_time": "2023-07-03T20:25:17.118Z"
   },
   {
    "duration": 398,
    "start_time": "2023-07-03T20:26:09.538Z"
   },
   {
    "duration": 424,
    "start_time": "2023-07-03T20:26:31.009Z"
   },
   {
    "duration": 1231,
    "start_time": "2023-07-03T20:32:26.839Z"
   },
   {
    "duration": 52,
    "start_time": "2023-07-03T20:32:28.072Z"
   },
   {
    "duration": 18,
    "start_time": "2023-07-03T20:32:28.126Z"
   },
   {
    "duration": 20,
    "start_time": "2023-07-03T20:32:28.146Z"
   },
   {
    "duration": 15,
    "start_time": "2023-07-03T20:32:28.172Z"
   },
   {
    "duration": 15,
    "start_time": "2023-07-03T20:32:28.189Z"
   },
   {
    "duration": 3,
    "start_time": "2023-07-03T20:32:28.206Z"
   },
   {
    "duration": 15,
    "start_time": "2023-07-03T20:32:28.211Z"
   },
   {
    "duration": 8,
    "start_time": "2023-07-03T20:32:28.228Z"
   },
   {
    "duration": 35,
    "start_time": "2023-07-03T20:32:28.238Z"
   },
   {
    "duration": 13,
    "start_time": "2023-07-03T20:32:28.275Z"
   },
   {
    "duration": 14,
    "start_time": "2023-07-03T20:32:28.289Z"
   },
   {
    "duration": 4,
    "start_time": "2023-07-03T20:32:28.304Z"
   },
   {
    "duration": 27,
    "start_time": "2023-07-03T20:32:28.311Z"
   },
   {
    "duration": 35,
    "start_time": "2023-07-03T20:32:28.340Z"
   },
   {
    "duration": 16,
    "start_time": "2023-07-03T20:32:28.379Z"
   },
   {
    "duration": 12,
    "start_time": "2023-07-03T20:32:28.397Z"
   },
   {
    "duration": 21,
    "start_time": "2023-07-03T20:32:28.411Z"
   },
   {
    "duration": 11,
    "start_time": "2023-07-03T20:32:28.434Z"
   },
   {
    "duration": 10,
    "start_time": "2023-07-03T20:32:28.447Z"
   },
   {
    "duration": 114,
    "start_time": "2023-07-03T20:32:28.459Z"
   },
   {
    "duration": 132,
    "start_time": "2023-07-03T20:32:28.575Z"
   },
   {
    "duration": 4,
    "start_time": "2023-07-03T20:32:28.709Z"
   },
   {
    "duration": 22,
    "start_time": "2023-07-03T20:32:28.715Z"
   },
   {
    "duration": 53,
    "start_time": "2023-07-03T20:32:28.738Z"
   },
   {
    "duration": 7,
    "start_time": "2023-07-03T20:32:28.792Z"
   },
   {
    "duration": 17,
    "start_time": "2023-07-03T20:32:28.800Z"
   },
   {
    "duration": 16,
    "start_time": "2023-07-03T20:32:28.818Z"
   },
   {
    "duration": 5,
    "start_time": "2023-07-03T20:32:28.836Z"
   },
   {
    "duration": 42,
    "start_time": "2023-07-03T20:32:28.842Z"
   },
   {
    "duration": 6,
    "start_time": "2023-07-03T20:32:28.886Z"
   },
   {
    "duration": 17,
    "start_time": "2023-07-03T20:32:28.893Z"
   },
   {
    "duration": 20,
    "start_time": "2023-07-03T20:32:28.911Z"
   },
   {
    "duration": 34,
    "start_time": "2023-07-03T20:32:28.933Z"
   },
   {
    "duration": 198,
    "start_time": "2023-07-03T20:32:28.969Z"
   },
   {
    "duration": 261,
    "start_time": "2023-07-03T20:32:29.173Z"
   },
   {
    "duration": 4,
    "start_time": "2023-07-03T20:32:29.436Z"
   },
   {
    "duration": 42,
    "start_time": "2023-07-03T20:32:29.442Z"
   },
   {
    "duration": 8,
    "start_time": "2023-07-03T20:32:29.487Z"
   },
   {
    "duration": 4,
    "start_time": "2023-07-03T20:32:29.497Z"
   },
   {
    "duration": 480,
    "start_time": "2023-07-03T20:32:29.505Z"
   },
   {
    "duration": 1657,
    "start_time": "2023-07-04T14:07:20.847Z"
   },
   {
    "duration": 136,
    "start_time": "2023-07-04T14:07:22.507Z"
   },
   {
    "duration": 38,
    "start_time": "2023-07-04T14:07:22.645Z"
   },
   {
    "duration": 44,
    "start_time": "2023-07-04T14:07:22.688Z"
   },
   {
    "duration": 47,
    "start_time": "2023-07-04T14:07:22.734Z"
   },
   {
    "duration": 78,
    "start_time": "2023-07-04T14:07:22.797Z"
   },
   {
    "duration": 25,
    "start_time": "2023-07-04T14:07:22.877Z"
   },
   {
    "duration": 49,
    "start_time": "2023-07-04T14:07:22.903Z"
   },
   {
    "duration": 41,
    "start_time": "2023-07-04T14:07:22.957Z"
   },
   {
    "duration": 12,
    "start_time": "2023-07-04T14:07:23.002Z"
   },
   {
    "duration": 25,
    "start_time": "2023-07-04T14:07:23.015Z"
   },
   {
    "duration": 23,
    "start_time": "2023-07-04T14:07:23.042Z"
   },
   {
    "duration": 23,
    "start_time": "2023-07-04T14:07:23.071Z"
   },
   {
    "duration": 39,
    "start_time": "2023-07-04T14:07:23.096Z"
   },
   {
    "duration": 15,
    "start_time": "2023-07-04T14:07:23.137Z"
   },
   {
    "duration": 46,
    "start_time": "2023-07-04T14:07:23.156Z"
   },
   {
    "duration": 21,
    "start_time": "2023-07-04T14:07:23.204Z"
   },
   {
    "duration": 19,
    "start_time": "2023-07-04T14:07:23.227Z"
   },
   {
    "duration": 60,
    "start_time": "2023-07-04T14:07:23.248Z"
   },
   {
    "duration": 27,
    "start_time": "2023-07-04T14:07:23.310Z"
   },
   {
    "duration": 190,
    "start_time": "2023-07-04T14:07:23.339Z"
   },
   {
    "duration": 172,
    "start_time": "2023-07-04T14:07:23.531Z"
   },
   {
    "duration": 5,
    "start_time": "2023-07-04T14:07:23.705Z"
   },
   {
    "duration": 39,
    "start_time": "2023-07-04T14:07:23.712Z"
   },
   {
    "duration": 65,
    "start_time": "2023-07-04T14:07:23.752Z"
   },
   {
    "duration": 7,
    "start_time": "2023-07-04T14:07:23.819Z"
   },
   {
    "duration": 31,
    "start_time": "2023-07-04T14:07:23.827Z"
   },
   {
    "duration": 57,
    "start_time": "2023-07-04T14:07:23.865Z"
   },
   {
    "duration": 60,
    "start_time": "2023-07-04T14:07:23.924Z"
   },
   {
    "duration": 53,
    "start_time": "2023-07-04T14:07:23.986Z"
   },
   {
    "duration": 13,
    "start_time": "2023-07-04T14:07:24.042Z"
   },
   {
    "duration": 58,
    "start_time": "2023-07-04T14:07:24.057Z"
   },
   {
    "duration": 27,
    "start_time": "2023-07-04T14:07:24.117Z"
   },
   {
    "duration": 70,
    "start_time": "2023-07-04T14:07:24.145Z"
   },
   {
    "duration": 249,
    "start_time": "2023-07-04T14:07:24.217Z"
   },
   {
    "duration": 286,
    "start_time": "2023-07-04T14:07:24.469Z"
   },
   {
    "duration": 17,
    "start_time": "2023-07-04T14:07:24.765Z"
   },
   {
    "duration": 57,
    "start_time": "2023-07-04T14:07:24.789Z"
   },
   {
    "duration": 18,
    "start_time": "2023-07-04T14:07:24.848Z"
   },
   {
    "duration": 33,
    "start_time": "2023-07-04T14:07:24.867Z"
   },
   {
    "duration": 518,
    "start_time": "2023-07-04T14:07:24.902Z"
   },
   {
    "duration": 423,
    "start_time": "2023-07-04T14:24:59.551Z"
   },
   {
    "duration": 444,
    "start_time": "2023-07-04T14:25:16.800Z"
   },
   {
    "duration": 493,
    "start_time": "2023-07-04T14:25:53.106Z"
   },
   {
    "duration": 477,
    "start_time": "2023-07-04T14:27:31.902Z"
   },
   {
    "duration": 448,
    "start_time": "2023-07-04T14:28:08.706Z"
   },
   {
    "duration": 488,
    "start_time": "2023-07-04T14:29:12.562Z"
   },
   {
    "duration": 276,
    "start_time": "2023-07-04T14:34:16.820Z"
   },
   {
    "duration": 1255,
    "start_time": "2023-07-04T14:38:41.913Z"
   },
   {
    "duration": 57,
    "start_time": "2023-07-04T14:38:43.170Z"
   },
   {
    "duration": 19,
    "start_time": "2023-07-04T14:38:43.229Z"
   },
   {
    "duration": 27,
    "start_time": "2023-07-04T14:38:43.250Z"
   },
   {
    "duration": 17,
    "start_time": "2023-07-04T14:38:43.280Z"
   },
   {
    "duration": 45,
    "start_time": "2023-07-04T14:38:43.299Z"
   },
   {
    "duration": 4,
    "start_time": "2023-07-04T14:38:43.345Z"
   },
   {
    "duration": 25,
    "start_time": "2023-07-04T14:38:43.351Z"
   },
   {
    "duration": 16,
    "start_time": "2023-07-04T14:38:43.378Z"
   },
   {
    "duration": 7,
    "start_time": "2023-07-04T14:38:43.396Z"
   },
   {
    "duration": 20,
    "start_time": "2023-07-04T14:38:43.405Z"
   },
   {
    "duration": 34,
    "start_time": "2023-07-04T14:38:43.427Z"
   },
   {
    "duration": 5,
    "start_time": "2023-07-04T14:38:43.463Z"
   },
   {
    "duration": 45,
    "start_time": "2023-07-04T14:38:43.471Z"
   },
   {
    "duration": 44,
    "start_time": "2023-07-04T14:38:43.517Z"
   },
   {
    "duration": 27,
    "start_time": "2023-07-04T14:38:43.562Z"
   },
   {
    "duration": 10,
    "start_time": "2023-07-04T14:38:43.591Z"
   },
   {
    "duration": 21,
    "start_time": "2023-07-04T14:38:43.603Z"
   },
   {
    "duration": 34,
    "start_time": "2023-07-04T14:38:43.626Z"
   },
   {
    "duration": 24,
    "start_time": "2023-07-04T14:38:43.663Z"
   },
   {
    "duration": 127,
    "start_time": "2023-07-04T14:38:43.689Z"
   },
   {
    "duration": 159,
    "start_time": "2023-07-04T14:38:43.818Z"
   },
   {
    "duration": 7,
    "start_time": "2023-07-04T14:38:43.978Z"
   },
   {
    "duration": 9,
    "start_time": "2023-07-04T14:38:43.987Z"
   },
   {
    "duration": 27,
    "start_time": "2023-07-04T14:38:43.997Z"
   },
   {
    "duration": 28,
    "start_time": "2023-07-04T14:38:44.026Z"
   },
   {
    "duration": 16,
    "start_time": "2023-07-04T14:38:44.056Z"
   },
   {
    "duration": 29,
    "start_time": "2023-07-04T14:38:44.074Z"
   },
   {
    "duration": 6,
    "start_time": "2023-07-04T14:38:44.105Z"
   },
   {
    "duration": 46,
    "start_time": "2023-07-04T14:38:44.113Z"
   },
   {
    "duration": 6,
    "start_time": "2023-07-04T14:38:44.161Z"
   },
   {
    "duration": 28,
    "start_time": "2023-07-04T14:38:44.168Z"
   },
   {
    "duration": 29,
    "start_time": "2023-07-04T14:38:44.198Z"
   },
   {
    "duration": 45,
    "start_time": "2023-07-04T14:38:44.229Z"
   },
   {
    "duration": 225,
    "start_time": "2023-07-04T14:38:44.276Z"
   },
   {
    "duration": 266,
    "start_time": "2023-07-04T14:38:44.503Z"
   },
   {
    "duration": 4,
    "start_time": "2023-07-04T14:38:44.771Z"
   },
   {
    "duration": 47,
    "start_time": "2023-07-04T14:38:44.777Z"
   },
   {
    "duration": 9,
    "start_time": "2023-07-04T14:38:44.825Z"
   },
   {
    "duration": 22,
    "start_time": "2023-07-04T14:38:44.836Z"
   },
   {
    "duration": 112,
    "start_time": "2023-07-04T14:38:44.862Z"
   },
   {
    "duration": 0,
    "start_time": "2023-07-04T14:38:44.976Z"
   },
   {
    "duration": 28,
    "start_time": "2023-07-04T14:39:48.555Z"
   },
   {
    "duration": 16,
    "start_time": "2023-07-04T14:39:59.404Z"
   },
   {
    "duration": 1274,
    "start_time": "2023-07-04T14:47:06.596Z"
   },
   {
    "duration": 55,
    "start_time": "2023-07-04T14:47:07.873Z"
   },
   {
    "duration": 18,
    "start_time": "2023-07-04T14:47:07.930Z"
   },
   {
    "duration": 50,
    "start_time": "2023-07-04T14:47:07.950Z"
   },
   {
    "duration": 78,
    "start_time": "2023-07-04T14:47:08.002Z"
   },
   {
    "duration": 43,
    "start_time": "2023-07-04T14:47:08.081Z"
   },
   {
    "duration": 59,
    "start_time": "2023-07-04T14:47:08.126Z"
   },
   {
    "duration": 28,
    "start_time": "2023-07-04T14:47:08.187Z"
   },
   {
    "duration": 19,
    "start_time": "2023-07-04T14:47:08.218Z"
   },
   {
    "duration": 11,
    "start_time": "2023-07-04T14:47:08.239Z"
   },
   {
    "duration": 24,
    "start_time": "2023-07-04T14:47:08.252Z"
   },
   {
    "duration": 29,
    "start_time": "2023-07-04T14:47:08.278Z"
   },
   {
    "duration": 6,
    "start_time": "2023-07-04T14:47:08.309Z"
   },
   {
    "duration": 49,
    "start_time": "2023-07-04T14:47:08.319Z"
   },
   {
    "duration": 23,
    "start_time": "2023-07-04T14:47:08.370Z"
   },
   {
    "duration": 27,
    "start_time": "2023-07-04T14:47:08.395Z"
   },
   {
    "duration": 15,
    "start_time": "2023-07-04T14:47:08.425Z"
   },
   {
    "duration": 45,
    "start_time": "2023-07-04T14:47:08.442Z"
   },
   {
    "duration": 15,
    "start_time": "2023-07-04T14:47:08.490Z"
   },
   {
    "duration": 16,
    "start_time": "2023-07-04T14:47:08.507Z"
   },
   {
    "duration": 126,
    "start_time": "2023-07-04T14:47:08.524Z"
   },
   {
    "duration": 165,
    "start_time": "2023-07-04T14:47:08.652Z"
   },
   {
    "duration": 5,
    "start_time": "2023-07-04T14:47:08.820Z"
   },
   {
    "duration": 26,
    "start_time": "2023-07-04T14:47:08.827Z"
   },
   {
    "duration": 49,
    "start_time": "2023-07-04T14:47:08.854Z"
   },
   {
    "duration": 8,
    "start_time": "2023-07-04T14:47:08.905Z"
   },
   {
    "duration": 55,
    "start_time": "2023-07-04T14:47:08.915Z"
   },
   {
    "duration": 46,
    "start_time": "2023-07-04T14:47:08.972Z"
   },
   {
    "duration": 22,
    "start_time": "2023-07-04T14:47:09.020Z"
   },
   {
    "duration": 58,
    "start_time": "2023-07-04T14:47:09.044Z"
   },
   {
    "duration": 10,
    "start_time": "2023-07-04T14:47:09.104Z"
   },
   {
    "duration": 34,
    "start_time": "2023-07-04T14:47:09.115Z"
   },
   {
    "duration": 32,
    "start_time": "2023-07-04T14:47:09.151Z"
   },
   {
    "duration": 39,
    "start_time": "2023-07-04T14:47:09.185Z"
   },
   {
    "duration": 216,
    "start_time": "2023-07-04T14:47:09.225Z"
   },
   {
    "duration": 284,
    "start_time": "2023-07-04T14:47:09.443Z"
   },
   {
    "duration": 4,
    "start_time": "2023-07-04T14:47:09.729Z"
   },
   {
    "duration": 59,
    "start_time": "2023-07-04T14:47:09.735Z"
   },
   {
    "duration": 19,
    "start_time": "2023-07-04T14:47:09.796Z"
   },
   {
    "duration": 33,
    "start_time": "2023-07-04T14:47:09.817Z"
   },
   {
    "duration": 42,
    "start_time": "2023-07-04T14:47:09.854Z"
   },
   {
    "duration": 280,
    "start_time": "2023-07-04T14:47:09.897Z"
   },
   {
    "duration": 357,
    "start_time": "2023-07-04T14:47:22.819Z"
   },
   {
    "duration": 11,
    "start_time": "2023-07-04T14:49:15.562Z"
   },
   {
    "duration": 12,
    "start_time": "2023-07-04T14:49:16.095Z"
   },
   {
    "duration": 1944,
    "start_time": "2023-07-04T14:49:16.847Z"
   },
   {
    "duration": 3,
    "start_time": "2023-07-04T14:49:57.448Z"
   },
   {
    "duration": 14,
    "start_time": "2023-07-04T14:49:58.203Z"
   },
   {
    "duration": 462,
    "start_time": "2023-07-04T14:49:58.989Z"
   },
   {
    "duration": 1244,
    "start_time": "2023-07-04T14:52:50.051Z"
   },
   {
    "duration": 63,
    "start_time": "2023-07-04T14:52:51.298Z"
   },
   {
    "duration": 31,
    "start_time": "2023-07-04T14:52:51.362Z"
   },
   {
    "duration": 35,
    "start_time": "2023-07-04T14:52:51.395Z"
   },
   {
    "duration": 34,
    "start_time": "2023-07-04T14:52:51.433Z"
   },
   {
    "duration": 49,
    "start_time": "2023-07-04T14:52:51.470Z"
   },
   {
    "duration": 4,
    "start_time": "2023-07-04T14:52:51.521Z"
   },
   {
    "duration": 47,
    "start_time": "2023-07-04T14:52:51.527Z"
   },
   {
    "duration": 39,
    "start_time": "2023-07-04T14:52:51.577Z"
   },
   {
    "duration": 19,
    "start_time": "2023-07-04T14:52:51.619Z"
   },
   {
    "duration": 56,
    "start_time": "2023-07-04T14:52:51.640Z"
   },
   {
    "duration": 34,
    "start_time": "2023-07-04T14:52:51.699Z"
   },
   {
    "duration": 6,
    "start_time": "2023-07-04T14:52:51.735Z"
   },
   {
    "duration": 54,
    "start_time": "2023-07-04T14:52:51.746Z"
   },
   {
    "duration": 20,
    "start_time": "2023-07-04T14:52:51.802Z"
   },
   {
    "duration": 23,
    "start_time": "2023-07-04T14:52:51.824Z"
   },
   {
    "duration": 24,
    "start_time": "2023-07-04T14:52:51.849Z"
   },
   {
    "duration": 23,
    "start_time": "2023-07-04T14:52:51.883Z"
   },
   {
    "duration": 26,
    "start_time": "2023-07-04T14:52:51.908Z"
   },
   {
    "duration": 32,
    "start_time": "2023-07-04T14:52:51.936Z"
   },
   {
    "duration": 170,
    "start_time": "2023-07-04T14:52:51.969Z"
   },
   {
    "duration": 175,
    "start_time": "2023-07-04T14:52:52.141Z"
   },
   {
    "duration": 5,
    "start_time": "2023-07-04T14:52:52.317Z"
   },
   {
    "duration": 22,
    "start_time": "2023-07-04T14:52:52.323Z"
   },
   {
    "duration": 78,
    "start_time": "2023-07-04T14:52:52.346Z"
   },
   {
    "duration": 9,
    "start_time": "2023-07-04T14:52:52.426Z"
   },
   {
    "duration": 113,
    "start_time": "2023-07-04T14:52:52.437Z"
   },
   {
    "duration": 62,
    "start_time": "2023-07-04T14:52:52.558Z"
   },
   {
    "duration": 28,
    "start_time": "2023-07-04T14:52:52.622Z"
   },
   {
    "duration": 82,
    "start_time": "2023-07-04T14:52:52.666Z"
   },
   {
    "duration": 22,
    "start_time": "2023-07-04T14:52:52.750Z"
   },
   {
    "duration": 218,
    "start_time": "2023-07-04T14:52:52.774Z"
   },
   {
    "duration": 39,
    "start_time": "2023-07-04T14:52:52.994Z"
   },
   {
    "duration": 108,
    "start_time": "2023-07-04T14:52:53.035Z"
   },
   {
    "duration": 277,
    "start_time": "2023-07-04T14:52:53.145Z"
   },
   {
    "duration": 285,
    "start_time": "2023-07-04T14:52:53.424Z"
   },
   {
    "duration": 5,
    "start_time": "2023-07-04T14:52:53.711Z"
   },
   {
    "duration": 58,
    "start_time": "2023-07-04T14:52:53.718Z"
   },
   {
    "duration": 24,
    "start_time": "2023-07-04T14:52:53.778Z"
   },
   {
    "duration": 30,
    "start_time": "2023-07-04T14:52:53.804Z"
   },
   {
    "duration": 61,
    "start_time": "2023-07-04T14:52:53.838Z"
   },
   {
    "duration": 404,
    "start_time": "2023-07-04T14:52:53.902Z"
   },
   {
    "duration": 5,
    "start_time": "2023-07-04T15:08:18.516Z"
   },
   {
    "duration": 153,
    "start_time": "2023-07-04T15:08:29.525Z"
   },
   {
    "duration": 117,
    "start_time": "2023-07-04T15:08:44.705Z"
   },
   {
    "duration": 11,
    "start_time": "2023-07-04T15:09:05.706Z"
   },
   {
    "duration": 12,
    "start_time": "2023-07-04T15:09:19.316Z"
   },
   {
    "duration": 351,
    "start_time": "2023-07-04T15:09:20.176Z"
   },
   {
    "duration": 9,
    "start_time": "2023-07-04T15:09:24.407Z"
   },
   {
    "duration": 9,
    "start_time": "2023-07-04T15:11:57.207Z"
   },
   {
    "duration": 199,
    "start_time": "2023-07-04T15:13:34.719Z"
   },
   {
    "duration": 9,
    "start_time": "2023-07-04T15:14:33.638Z"
   },
   {
    "duration": 194,
    "start_time": "2023-07-04T15:14:34.768Z"
   },
   {
    "duration": 12,
    "start_time": "2023-07-04T15:15:30.569Z"
   },
   {
    "duration": 288,
    "start_time": "2023-07-04T15:15:32.918Z"
   },
   {
    "duration": 1210,
    "start_time": "2023-07-04T15:16:59.214Z"
   },
   {
    "duration": 64,
    "start_time": "2023-07-04T15:17:00.426Z"
   },
   {
    "duration": 56,
    "start_time": "2023-07-04T15:17:00.492Z"
   },
   {
    "duration": 75,
    "start_time": "2023-07-04T15:17:00.551Z"
   },
   {
    "duration": 79,
    "start_time": "2023-07-04T15:17:00.629Z"
   },
   {
    "duration": 68,
    "start_time": "2023-07-04T15:17:00.710Z"
   },
   {
    "duration": 19,
    "start_time": "2023-07-04T15:17:00.780Z"
   },
   {
    "duration": 47,
    "start_time": "2023-07-04T15:17:00.801Z"
   },
   {
    "duration": 55,
    "start_time": "2023-07-04T15:17:00.850Z"
   },
   {
    "duration": 94,
    "start_time": "2023-07-04T15:17:00.910Z"
   },
   {
    "duration": 93,
    "start_time": "2023-07-04T15:17:01.006Z"
   },
   {
    "duration": 68,
    "start_time": "2023-07-04T15:17:01.102Z"
   },
   {
    "duration": 57,
    "start_time": "2023-07-04T15:17:01.172Z"
   },
   {
    "duration": 104,
    "start_time": "2023-07-04T15:17:01.231Z"
   },
   {
    "duration": 75,
    "start_time": "2023-07-04T15:17:01.337Z"
   },
   {
    "duration": 63,
    "start_time": "2023-07-04T15:17:01.414Z"
   },
   {
    "duration": 87,
    "start_time": "2023-07-04T15:17:01.479Z"
   },
   {
    "duration": 58,
    "start_time": "2023-07-04T15:17:01.569Z"
   },
   {
    "duration": 83,
    "start_time": "2023-07-04T15:17:01.629Z"
   },
   {
    "duration": 69,
    "start_time": "2023-07-04T15:17:01.714Z"
   },
   {
    "duration": 187,
    "start_time": "2023-07-04T15:17:01.785Z"
   },
   {
    "duration": 161,
    "start_time": "2023-07-04T15:17:01.973Z"
   },
   {
    "duration": 7,
    "start_time": "2023-07-04T15:17:02.136Z"
   },
   {
    "duration": 25,
    "start_time": "2023-07-04T15:17:02.155Z"
   },
   {
    "duration": 77,
    "start_time": "2023-07-04T15:17:02.183Z"
   },
   {
    "duration": 40,
    "start_time": "2023-07-04T15:17:02.262Z"
   },
   {
    "duration": 132,
    "start_time": "2023-07-04T15:17:02.304Z"
   },
   {
    "duration": 115,
    "start_time": "2023-07-04T15:17:02.440Z"
   },
   {
    "duration": 31,
    "start_time": "2023-07-04T15:17:02.565Z"
   },
   {
    "duration": 43,
    "start_time": "2023-07-04T15:17:02.598Z"
   },
   {
    "duration": 26,
    "start_time": "2023-07-04T15:17:02.644Z"
   },
   {
    "duration": 32,
    "start_time": "2023-07-04T15:17:02.672Z"
   },
   {
    "duration": 48,
    "start_time": "2023-07-04T15:17:02.705Z"
   },
   {
    "duration": 43,
    "start_time": "2023-07-04T15:17:02.755Z"
   },
   {
    "duration": 206,
    "start_time": "2023-07-04T15:17:02.800Z"
   },
   {
    "duration": 275,
    "start_time": "2023-07-04T15:17:03.008Z"
   },
   {
    "duration": 4,
    "start_time": "2023-07-04T15:17:03.285Z"
   },
   {
    "duration": 43,
    "start_time": "2023-07-04T15:17:03.291Z"
   },
   {
    "duration": 126,
    "start_time": "2023-07-04T15:17:03.335Z"
   },
   {
    "duration": 0,
    "start_time": "2023-07-04T15:17:03.465Z"
   },
   {
    "duration": 0,
    "start_time": "2023-07-04T15:17:03.466Z"
   },
   {
    "duration": 0,
    "start_time": "2023-07-04T15:17:03.467Z"
   },
   {
    "duration": 0,
    "start_time": "2023-07-04T15:17:03.468Z"
   },
   {
    "duration": 0,
    "start_time": "2023-07-04T15:17:03.470Z"
   },
   {
    "duration": 8,
    "start_time": "2023-07-04T15:17:35.840Z"
   },
   {
    "duration": 4,
    "start_time": "2023-07-04T15:17:38.668Z"
   },
   {
    "duration": 18,
    "start_time": "2023-07-04T15:17:39.430Z"
   },
   {
    "duration": 13,
    "start_time": "2023-07-04T15:17:47.502Z"
   },
   {
    "duration": 359,
    "start_time": "2023-07-04T15:17:49.806Z"
   },
   {
    "duration": 13,
    "start_time": "2023-07-04T15:17:54.031Z"
   },
   {
    "duration": 207,
    "start_time": "2023-07-04T15:17:55.272Z"
   },
   {
    "duration": 1546,
    "start_time": "2023-07-04T16:43:46.456Z"
   },
   {
    "duration": 195,
    "start_time": "2023-07-04T16:43:48.004Z"
   },
   {
    "duration": 19,
    "start_time": "2023-07-04T16:43:48.201Z"
   },
   {
    "duration": 14,
    "start_time": "2023-07-04T16:43:48.222Z"
   },
   {
    "duration": 30,
    "start_time": "2023-07-04T16:43:48.239Z"
   },
   {
    "duration": 18,
    "start_time": "2023-07-04T16:43:48.276Z"
   },
   {
    "duration": 3,
    "start_time": "2023-07-04T16:43:48.296Z"
   },
   {
    "duration": 17,
    "start_time": "2023-07-04T16:43:48.301Z"
   },
   {
    "duration": 8,
    "start_time": "2023-07-04T16:43:48.320Z"
   },
   {
    "duration": 7,
    "start_time": "2023-07-04T16:43:48.330Z"
   },
   {
    "duration": 45,
    "start_time": "2023-07-04T16:43:48.338Z"
   },
   {
    "duration": 15,
    "start_time": "2023-07-04T16:43:48.385Z"
   },
   {
    "duration": 4,
    "start_time": "2023-07-04T16:43:48.403Z"
   },
   {
    "duration": 24,
    "start_time": "2023-07-04T16:43:48.410Z"
   },
   {
    "duration": 49,
    "start_time": "2023-07-04T16:43:48.436Z"
   },
   {
    "duration": 15,
    "start_time": "2023-07-04T16:43:48.487Z"
   },
   {
    "duration": 6,
    "start_time": "2023-07-04T16:43:48.504Z"
   },
   {
    "duration": 8,
    "start_time": "2023-07-04T16:43:48.511Z"
   },
   {
    "duration": 13,
    "start_time": "2023-07-04T16:43:48.521Z"
   },
   {
    "duration": 35,
    "start_time": "2023-07-04T16:43:48.536Z"
   },
   {
    "duration": 128,
    "start_time": "2023-07-04T16:43:48.573Z"
   },
   {
    "duration": 176,
    "start_time": "2023-07-04T16:43:48.704Z"
   },
   {
    "duration": 7,
    "start_time": "2023-07-04T16:43:48.882Z"
   },
   {
    "duration": 20,
    "start_time": "2023-07-04T16:43:48.892Z"
   },
   {
    "duration": 29,
    "start_time": "2023-07-04T16:43:48.915Z"
   },
   {
    "duration": 7,
    "start_time": "2023-07-04T16:43:48.946Z"
   },
   {
    "duration": 23,
    "start_time": "2023-07-04T16:43:48.969Z"
   },
   {
    "duration": 30,
    "start_time": "2023-07-04T16:43:48.994Z"
   },
   {
    "duration": 7,
    "start_time": "2023-07-04T16:43:49.026Z"
   },
   {
    "duration": 48,
    "start_time": "2023-07-04T16:43:49.035Z"
   },
   {
    "duration": 8,
    "start_time": "2023-07-04T16:43:49.085Z"
   },
   {
    "duration": 23,
    "start_time": "2023-07-04T16:43:49.095Z"
   },
   {
    "duration": 24,
    "start_time": "2023-07-04T16:43:49.120Z"
   },
   {
    "duration": 38,
    "start_time": "2023-07-04T16:43:49.145Z"
   },
   {
    "duration": 223,
    "start_time": "2023-07-04T16:43:49.185Z"
   },
   {
    "duration": 308,
    "start_time": "2023-07-04T16:43:49.410Z"
   },
   {
    "duration": 5,
    "start_time": "2023-07-04T16:43:49.720Z"
   },
   {
    "duration": 60,
    "start_time": "2023-07-04T16:43:49.727Z"
   },
   {
    "duration": 9,
    "start_time": "2023-07-04T16:43:49.789Z"
   },
   {
    "duration": 30,
    "start_time": "2023-07-04T16:43:49.800Z"
   },
   {
    "duration": 60,
    "start_time": "2023-07-04T16:43:49.833Z"
   },
   {
    "duration": 1762,
    "start_time": "2023-07-04T16:43:49.895Z"
   },
   {
    "duration": 0,
    "start_time": "2023-07-04T16:43:51.660Z"
   },
   {
    "duration": 0,
    "start_time": "2023-07-04T16:43:51.660Z"
   },
   {
    "duration": 1206,
    "start_time": "2023-07-04T16:59:52.200Z"
   },
   {
    "duration": 57,
    "start_time": "2023-07-04T16:59:53.408Z"
   },
   {
    "duration": 21,
    "start_time": "2023-07-04T16:59:53.466Z"
   },
   {
    "duration": 22,
    "start_time": "2023-07-04T16:59:53.489Z"
   },
   {
    "duration": 12,
    "start_time": "2023-07-04T16:59:53.514Z"
   },
   {
    "duration": 21,
    "start_time": "2023-07-04T16:59:53.527Z"
   },
   {
    "duration": 3,
    "start_time": "2023-07-04T16:59:53.568Z"
   },
   {
    "duration": 22,
    "start_time": "2023-07-04T16:59:53.573Z"
   },
   {
    "duration": 22,
    "start_time": "2023-07-04T16:59:53.597Z"
   },
   {
    "duration": 7,
    "start_time": "2023-07-04T16:59:53.621Z"
   },
   {
    "duration": 18,
    "start_time": "2023-07-04T16:59:53.630Z"
   },
   {
    "duration": 27,
    "start_time": "2023-07-04T16:59:53.649Z"
   },
   {
    "duration": 12,
    "start_time": "2023-07-04T16:59:53.677Z"
   },
   {
    "duration": 27,
    "start_time": "2023-07-04T16:59:53.691Z"
   },
   {
    "duration": 16,
    "start_time": "2023-07-04T16:59:53.720Z"
   },
   {
    "duration": 41,
    "start_time": "2023-07-04T16:59:53.738Z"
   },
   {
    "duration": 7,
    "start_time": "2023-07-04T16:59:53.781Z"
   },
   {
    "duration": 20,
    "start_time": "2023-07-04T16:59:53.790Z"
   },
   {
    "duration": 29,
    "start_time": "2023-07-04T16:59:53.812Z"
   },
   {
    "duration": 16,
    "start_time": "2023-07-04T16:59:53.842Z"
   },
   {
    "duration": 161,
    "start_time": "2023-07-04T16:59:53.860Z"
   },
   {
    "duration": 200,
    "start_time": "2023-07-04T16:59:54.023Z"
   },
   {
    "duration": 5,
    "start_time": "2023-07-04T16:59:54.225Z"
   },
   {
    "duration": 9,
    "start_time": "2023-07-04T16:59:54.232Z"
   },
   {
    "duration": 46,
    "start_time": "2023-07-04T16:59:54.243Z"
   },
   {
    "duration": 8,
    "start_time": "2023-07-04T16:59:54.291Z"
   },
   {
    "duration": 28,
    "start_time": "2023-07-04T16:59:54.301Z"
   },
   {
    "duration": 23,
    "start_time": "2023-07-04T16:59:54.331Z"
   },
   {
    "duration": 16,
    "start_time": "2023-07-04T16:59:54.355Z"
   },
   {
    "duration": 47,
    "start_time": "2023-07-04T16:59:54.373Z"
   },
   {
    "duration": 14,
    "start_time": "2023-07-04T16:59:54.423Z"
   },
   {
    "duration": 34,
    "start_time": "2023-07-04T16:59:54.439Z"
   },
   {
    "duration": 25,
    "start_time": "2023-07-04T16:59:54.474Z"
   },
   {
    "duration": 20,
    "start_time": "2023-07-04T16:59:54.501Z"
   },
   {
    "duration": 237,
    "start_time": "2023-07-04T16:59:54.523Z"
   },
   {
    "duration": 313,
    "start_time": "2023-07-04T16:59:54.762Z"
   },
   {
    "duration": 6,
    "start_time": "2023-07-04T16:59:55.077Z"
   },
   {
    "duration": 43,
    "start_time": "2023-07-04T16:59:55.085Z"
   },
   {
    "duration": 9,
    "start_time": "2023-07-04T16:59:55.130Z"
   },
   {
    "duration": 6,
    "start_time": "2023-07-04T16:59:55.141Z"
   },
   {
    "duration": 31,
    "start_time": "2023-07-04T16:59:55.152Z"
   },
   {
    "duration": 384,
    "start_time": "2023-07-04T16:59:55.185Z"
   },
   {
    "duration": 13,
    "start_time": "2023-07-04T16:59:55.572Z"
   },
   {
    "duration": 209,
    "start_time": "2023-07-04T16:59:55.587Z"
   },
   {
    "duration": 13,
    "start_time": "2023-07-04T17:01:03.006Z"
   },
   {
    "duration": 8,
    "start_time": "2023-07-04T17:04:44.103Z"
   },
   {
    "duration": 209,
    "start_time": "2023-07-04T17:04:45.346Z"
   },
   {
    "duration": 7,
    "start_time": "2023-07-04T17:09:08.024Z"
   },
   {
    "duration": 279,
    "start_time": "2023-07-04T17:09:08.905Z"
   },
   {
    "duration": 10,
    "start_time": "2023-07-04T17:11:33.775Z"
   },
   {
    "duration": 6,
    "start_time": "2023-07-04T17:11:50.704Z"
   },
   {
    "duration": 199,
    "start_time": "2023-07-04T17:11:51.578Z"
   },
   {
    "duration": 7,
    "start_time": "2023-07-04T17:54:36.911Z"
   },
   {
    "duration": 401,
    "start_time": "2023-07-04T17:54:53.301Z"
   },
   {
    "duration": 42,
    "start_time": "2023-07-04T17:57:56.494Z"
   },
   {
    "duration": 11,
    "start_time": "2023-07-04T17:58:09.450Z"
   },
   {
    "duration": 247,
    "start_time": "2023-07-04T18:06:35.610Z"
   },
   {
    "duration": 169,
    "start_time": "2023-07-04T18:09:34.806Z"
   },
   {
    "duration": 165,
    "start_time": "2023-07-04T18:10:27.364Z"
   },
   {
    "duration": 180,
    "start_time": "2023-07-04T18:10:47.924Z"
   },
   {
    "duration": 667,
    "start_time": "2023-07-04T18:10:59.617Z"
   },
   {
    "duration": 210,
    "start_time": "2023-07-04T18:11:12.465Z"
   },
   {
    "duration": 763,
    "start_time": "2023-07-04T18:11:22.545Z"
   },
   {
    "duration": 845,
    "start_time": "2023-07-04T18:11:35.302Z"
   },
   {
    "duration": 723,
    "start_time": "2023-07-04T18:11:45.929Z"
   },
   {
    "duration": 443,
    "start_time": "2023-07-04T18:11:57.875Z"
   },
   {
    "duration": 185,
    "start_time": "2023-07-04T18:12:07.265Z"
   },
   {
    "duration": 168,
    "start_time": "2023-07-04T18:12:16.155Z"
   },
   {
    "duration": 161,
    "start_time": "2023-07-04T18:12:37.414Z"
   },
   {
    "duration": 49,
    "start_time": "2023-07-07T07:17:31.213Z"
   },
   {
    "duration": 1216,
    "start_time": "2023-07-07T07:17:39.123Z"
   },
   {
    "duration": 176,
    "start_time": "2023-07-07T07:17:40.341Z"
   },
   {
    "duration": 17,
    "start_time": "2023-07-07T07:17:40.518Z"
   },
   {
    "duration": 32,
    "start_time": "2023-07-07T07:17:40.536Z"
   },
   {
    "duration": 12,
    "start_time": "2023-07-07T07:17:40.570Z"
   },
   {
    "duration": 38,
    "start_time": "2023-07-07T07:17:40.584Z"
   },
   {
    "duration": 3,
    "start_time": "2023-07-07T07:17:40.623Z"
   },
   {
    "duration": 14,
    "start_time": "2023-07-07T07:17:40.627Z"
   },
   {
    "duration": 13,
    "start_time": "2023-07-07T07:17:40.642Z"
   },
   {
    "duration": 13,
    "start_time": "2023-07-07T07:17:40.656Z"
   },
   {
    "duration": 11,
    "start_time": "2023-07-07T07:17:40.671Z"
   },
   {
    "duration": 16,
    "start_time": "2023-07-07T07:17:40.683Z"
   },
   {
    "duration": 13,
    "start_time": "2023-07-07T07:17:40.700Z"
   },
   {
    "duration": 18,
    "start_time": "2023-07-07T07:17:40.715Z"
   },
   {
    "duration": 12,
    "start_time": "2023-07-07T07:17:40.734Z"
   },
   {
    "duration": 30,
    "start_time": "2023-07-07T07:17:40.747Z"
   },
   {
    "duration": 31,
    "start_time": "2023-07-07T07:17:40.778Z"
   },
   {
    "duration": 13,
    "start_time": "2023-07-07T07:17:40.810Z"
   },
   {
    "duration": 23,
    "start_time": "2023-07-07T07:17:40.825Z"
   },
   {
    "duration": 19,
    "start_time": "2023-07-07T07:17:40.849Z"
   },
   {
    "duration": 104,
    "start_time": "2023-07-07T07:17:40.869Z"
   },
   {
    "duration": 126,
    "start_time": "2023-07-07T07:17:40.974Z"
   },
   {
    "duration": 5,
    "start_time": "2023-07-07T07:17:41.101Z"
   },
   {
    "duration": 10,
    "start_time": "2023-07-07T07:17:41.107Z"
   },
   {
    "duration": 25,
    "start_time": "2023-07-07T07:17:41.118Z"
   },
   {
    "duration": 6,
    "start_time": "2023-07-07T07:17:41.144Z"
   },
   {
    "duration": 13,
    "start_time": "2023-07-07T07:17:41.168Z"
   },
   {
    "duration": 17,
    "start_time": "2023-07-07T07:17:41.182Z"
   },
   {
    "duration": 4,
    "start_time": "2023-07-07T07:17:41.200Z"
   },
   {
    "duration": 43,
    "start_time": "2023-07-07T07:17:41.206Z"
   },
   {
    "duration": 5,
    "start_time": "2023-07-07T07:17:41.251Z"
   },
   {
    "duration": 26,
    "start_time": "2023-07-07T07:17:41.257Z"
   },
   {
    "duration": 19,
    "start_time": "2023-07-07T07:17:41.285Z"
   },
   {
    "duration": 18,
    "start_time": "2023-07-07T07:17:41.305Z"
   },
   {
    "duration": 55,
    "start_time": "2023-07-07T07:17:41.325Z"
   },
   {
    "duration": 171,
    "start_time": "2023-07-07T07:17:41.382Z"
   },
   {
    "duration": 219,
    "start_time": "2023-07-07T07:17:41.555Z"
   },
   {
    "duration": 5,
    "start_time": "2023-07-07T07:17:41.775Z"
   },
   {
    "duration": 34,
    "start_time": "2023-07-07T07:17:41.782Z"
   },
   {
    "duration": 7,
    "start_time": "2023-07-07T07:17:41.817Z"
   },
   {
    "duration": 5,
    "start_time": "2023-07-07T07:17:41.827Z"
   },
   {
    "duration": 29,
    "start_time": "2023-07-07T07:17:41.833Z"
   },
   {
    "duration": 284,
    "start_time": "2023-07-07T07:17:41.863Z"
   },
   {
    "duration": 7,
    "start_time": "2023-07-07T07:17:42.149Z"
   },
   {
    "duration": 4,
    "start_time": "2023-07-07T07:17:42.158Z"
   },
   {
    "duration": 95,
    "start_time": "2023-07-07T07:17:42.163Z"
   },
   {
    "duration": 0,
    "start_time": "2023-07-07T07:17:42.267Z"
   },
   {
    "duration": 0,
    "start_time": "2023-07-07T07:17:42.268Z"
   },
   {
    "duration": 0,
    "start_time": "2023-07-07T07:17:42.270Z"
   },
   {
    "duration": 0,
    "start_time": "2023-07-07T07:17:42.271Z"
   },
   {
    "duration": 186,
    "start_time": "2023-07-07T07:18:21.743Z"
   },
   {
    "duration": 8,
    "start_time": "2023-07-07T07:18:28.743Z"
   },
   {
    "duration": 149,
    "start_time": "2023-07-07T07:18:28.752Z"
   },
   {
    "duration": 5,
    "start_time": "2023-07-07T07:18:28.902Z"
   },
   {
    "duration": 160,
    "start_time": "2023-07-07T07:18:28.908Z"
   },
   {
    "duration": 228,
    "start_time": "2023-07-07T07:19:29.463Z"
   },
   {
    "duration": 5,
    "start_time": "2023-07-07T07:29:23.316Z"
   },
   {
    "duration": 10,
    "start_time": "2023-07-07T07:29:26.775Z"
   },
   {
    "duration": 9,
    "start_time": "2023-07-07T07:30:25.916Z"
   },
   {
    "duration": 1259,
    "start_time": "2023-07-07T07:31:46.896Z"
   },
   {
    "duration": 8,
    "start_time": "2023-07-07T07:43:38.171Z"
   },
   {
    "duration": 1246,
    "start_time": "2023-07-07T07:43:43.903Z"
   },
   {
    "duration": 96,
    "start_time": "2023-07-07T07:55:56.524Z"
   },
   {
    "duration": 1240,
    "start_time": "2023-07-07T07:56:04.404Z"
   },
   {
    "duration": 15,
    "start_time": "2023-07-07T08:00:30.456Z"
   },
   {
    "duration": 15,
    "start_time": "2023-07-07T08:00:38.425Z"
   },
   {
    "duration": 113,
    "start_time": "2023-07-07T08:01:43.696Z"
   },
   {
    "duration": 183,
    "start_time": "2023-07-07T08:01:52.787Z"
   },
   {
    "duration": 201,
    "start_time": "2023-07-07T08:02:07.896Z"
   },
   {
    "duration": 69,
    "start_time": "2023-07-07T08:16:58.261Z"
   },
   {
    "duration": 6,
    "start_time": "2023-07-07T08:22:01.103Z"
   },
   {
    "duration": 4,
    "start_time": "2023-07-07T08:23:05.584Z"
   },
   {
    "duration": 454,
    "start_time": "2023-07-07T08:23:38.143Z"
   },
   {
    "duration": 4,
    "start_time": "2023-07-07T08:24:03.583Z"
   },
   {
    "duration": 496,
    "start_time": "2023-07-07T08:24:04.892Z"
   },
   {
    "duration": 5,
    "start_time": "2023-07-07T08:24:21.592Z"
   },
   {
    "duration": 5,
    "start_time": "2023-07-07T08:24:22.183Z"
   },
   {
    "duration": 343,
    "start_time": "2023-07-07T08:24:22.933Z"
   },
   {
    "duration": 9,
    "start_time": "2023-07-07T08:25:16.094Z"
   },
   {
    "duration": 5,
    "start_time": "2023-07-07T08:25:16.763Z"
   },
   {
    "duration": 436,
    "start_time": "2023-07-07T08:25:17.483Z"
   },
   {
    "duration": 7,
    "start_time": "2023-07-07T08:26:24.673Z"
   },
   {
    "duration": 5,
    "start_time": "2023-07-07T08:26:25.344Z"
   },
   {
    "duration": 374,
    "start_time": "2023-07-07T08:26:26.313Z"
   },
   {
    "duration": 5,
    "start_time": "2023-07-07T08:26:48.824Z"
   },
   {
    "duration": 4,
    "start_time": "2023-07-07T08:26:49.404Z"
   },
   {
    "duration": 420,
    "start_time": "2023-07-07T08:26:50.104Z"
   },
   {
    "duration": 5,
    "start_time": "2023-07-07T08:27:09.024Z"
   },
   {
    "duration": 5,
    "start_time": "2023-07-07T08:27:17.468Z"
   },
   {
    "duration": 440,
    "start_time": "2023-07-07T08:27:18.086Z"
   },
   {
    "duration": 6,
    "start_time": "2023-07-07T08:28:08.304Z"
   },
   {
    "duration": 5,
    "start_time": "2023-07-07T08:28:08.834Z"
   },
   {
    "duration": 5,
    "start_time": "2023-07-07T08:28:28.735Z"
   },
   {
    "duration": 4,
    "start_time": "2023-07-07T08:28:29.264Z"
   },
   {
    "duration": 9,
    "start_time": "2023-07-07T08:32:31.546Z"
   },
   {
    "duration": 6,
    "start_time": "2023-07-07T08:32:36.216Z"
   },
   {
    "duration": 5,
    "start_time": "2023-07-07T08:32:37.246Z"
   },
   {
    "duration": 512,
    "start_time": "2023-07-07T08:32:38.327Z"
   },
   {
    "duration": 15,
    "start_time": "2023-07-07T08:32:38.866Z"
   },
   {
    "duration": 6,
    "start_time": "2023-07-07T08:33:02.616Z"
   },
   {
    "duration": 5,
    "start_time": "2023-07-07T08:33:03.965Z"
   },
   {
    "duration": 12,
    "start_time": "2023-07-07T08:33:06.006Z"
   },
   {
    "duration": 20,
    "start_time": "2023-07-07T08:33:06.996Z"
   },
   {
    "duration": 7,
    "start_time": "2023-07-07T08:34:12.608Z"
   },
   {
    "duration": 7,
    "start_time": "2023-07-07T08:34:14.656Z"
   },
   {
    "duration": 533,
    "start_time": "2023-07-07T08:34:16.944Z"
   },
   {
    "duration": 402,
    "start_time": "2023-07-07T08:34:22.356Z"
   },
   {
    "duration": 372,
    "start_time": "2023-07-07T08:36:11.897Z"
   },
   {
    "duration": 422,
    "start_time": "2023-07-07T08:36:16.167Z"
   },
   {
    "duration": 566,
    "start_time": "2023-07-07T08:38:01.307Z"
   },
   {
    "duration": 387,
    "start_time": "2023-07-07T08:40:50.248Z"
   },
   {
    "duration": 429,
    "start_time": "2023-07-07T08:40:51.631Z"
   },
   {
    "duration": 390,
    "start_time": "2023-07-07T08:42:12.648Z"
   },
   {
    "duration": 1141,
    "start_time": "2023-07-07T08:51:14.166Z"
   },
   {
    "duration": 53,
    "start_time": "2023-07-07T08:51:15.309Z"
   },
   {
    "duration": 19,
    "start_time": "2023-07-07T08:51:15.364Z"
   },
   {
    "duration": 13,
    "start_time": "2023-07-07T08:51:15.385Z"
   },
   {
    "duration": 11,
    "start_time": "2023-07-07T08:51:15.400Z"
   },
   {
    "duration": 21,
    "start_time": "2023-07-07T08:51:15.412Z"
   },
   {
    "duration": 2,
    "start_time": "2023-07-07T08:51:15.435Z"
   },
   {
    "duration": 40,
    "start_time": "2023-07-07T08:51:15.439Z"
   },
   {
    "duration": 9,
    "start_time": "2023-07-07T08:51:15.481Z"
   },
   {
    "duration": 6,
    "start_time": "2023-07-07T08:51:15.491Z"
   },
   {
    "duration": 11,
    "start_time": "2023-07-07T08:51:15.499Z"
   },
   {
    "duration": 14,
    "start_time": "2023-07-07T08:51:15.512Z"
   },
   {
    "duration": 42,
    "start_time": "2023-07-07T08:51:15.527Z"
   },
   {
    "duration": 20,
    "start_time": "2023-07-07T08:51:15.572Z"
   },
   {
    "duration": 13,
    "start_time": "2023-07-07T08:51:15.593Z"
   },
   {
    "duration": 17,
    "start_time": "2023-07-07T08:51:15.607Z"
   },
   {
    "duration": 5,
    "start_time": "2023-07-07T08:51:15.625Z"
   },
   {
    "duration": 5,
    "start_time": "2023-07-07T08:51:15.668Z"
   },
   {
    "duration": 15,
    "start_time": "2023-07-07T08:51:15.675Z"
   },
   {
    "duration": 10,
    "start_time": "2023-07-07T08:51:15.692Z"
   },
   {
    "duration": 130,
    "start_time": "2023-07-07T08:51:15.704Z"
   },
   {
    "duration": 155,
    "start_time": "2023-07-07T08:51:15.836Z"
   },
   {
    "duration": 6,
    "start_time": "2023-07-07T08:51:15.993Z"
   },
   {
    "duration": 18,
    "start_time": "2023-07-07T08:51:16.001Z"
   },
   {
    "duration": 16,
    "start_time": "2023-07-07T08:51:16.021Z"
   },
   {
    "duration": 8,
    "start_time": "2023-07-07T08:51:16.038Z"
   },
   {
    "duration": 10,
    "start_time": "2023-07-07T08:51:16.068Z"
   },
   {
    "duration": 15,
    "start_time": "2023-07-07T08:51:16.080Z"
   },
   {
    "duration": 21,
    "start_time": "2023-07-07T08:51:16.097Z"
   },
   {
    "duration": 16,
    "start_time": "2023-07-07T08:51:16.120Z"
   },
   {
    "duration": 9,
    "start_time": "2023-07-07T08:51:16.138Z"
   },
   {
    "duration": 20,
    "start_time": "2023-07-07T08:51:16.148Z"
   },
   {
    "duration": 18,
    "start_time": "2023-07-07T08:51:16.169Z"
   },
   {
    "duration": 16,
    "start_time": "2023-07-07T08:51:16.188Z"
   },
   {
    "duration": 20,
    "start_time": "2023-07-07T08:51:16.206Z"
   },
   {
    "duration": 232,
    "start_time": "2023-07-07T08:51:16.228Z"
   },
   {
    "duration": 227,
    "start_time": "2023-07-07T08:51:16.462Z"
   },
   {
    "duration": 4,
    "start_time": "2023-07-07T08:51:16.691Z"
   },
   {
    "duration": 32,
    "start_time": "2023-07-07T08:51:16.696Z"
   },
   {
    "duration": 6,
    "start_time": "2023-07-07T08:51:16.730Z"
   },
   {
    "duration": 12,
    "start_time": "2023-07-07T08:51:16.740Z"
   },
   {
    "duration": 25,
    "start_time": "2023-07-07T08:51:16.754Z"
   },
   {
    "duration": 346,
    "start_time": "2023-07-07T08:51:16.782Z"
   },
   {
    "duration": 10,
    "start_time": "2023-07-07T08:51:17.131Z"
   },
   {
    "duration": 25,
    "start_time": "2023-07-07T08:51:17.143Z"
   },
   {
    "duration": 232,
    "start_time": "2023-07-07T08:51:17.170Z"
   },
   {
    "duration": 7,
    "start_time": "2023-07-07T08:51:17.404Z"
   },
   {
    "duration": 187,
    "start_time": "2023-07-07T08:51:17.413Z"
   },
   {
    "duration": 6,
    "start_time": "2023-07-07T08:51:17.602Z"
   },
   {
    "duration": 185,
    "start_time": "2023-07-07T08:51:17.610Z"
   },
   {
    "duration": 10,
    "start_time": "2023-07-07T08:51:17.797Z"
   },
   {
    "duration": 1425,
    "start_time": "2023-07-07T08:51:17.808Z"
   },
   {
    "duration": 18,
    "start_time": "2023-07-07T08:51:19.234Z"
   },
   {
    "duration": 213,
    "start_time": "2023-07-07T08:51:19.269Z"
   },
   {
    "duration": 5,
    "start_time": "2023-07-07T08:51:19.483Z"
   },
   {
    "duration": 6,
    "start_time": "2023-07-07T08:51:19.490Z"
   },
   {
    "duration": 408,
    "start_time": "2023-07-07T08:51:19.498Z"
   },
   {
    "duration": 391,
    "start_time": "2023-07-07T08:51:19.908Z"
   },
   {
    "duration": 409,
    "start_time": "2023-07-07T08:51:20.301Z"
   },
   {
    "duration": 480,
    "start_time": "2023-07-07T08:51:20.712Z"
   },
   {
    "duration": 386,
    "start_time": "2023-07-07T08:51:21.193Z"
   },
   {
    "duration": 400,
    "start_time": "2023-07-07T08:51:21.581Z"
   },
   {
    "duration": 15,
    "start_time": "2023-07-07T08:52:10.075Z"
   },
   {
    "duration": 13,
    "start_time": "2023-07-07T08:53:47.486Z"
   },
   {
    "duration": 7,
    "start_time": "2023-07-07T08:53:52.696Z"
   },
   {
    "duration": 1282,
    "start_time": "2023-07-07T08:54:33.372Z"
   },
   {
    "duration": 53,
    "start_time": "2023-07-07T08:54:34.656Z"
   },
   {
    "duration": 18,
    "start_time": "2023-07-07T08:54:34.710Z"
   },
   {
    "duration": 20,
    "start_time": "2023-07-07T08:54:34.729Z"
   },
   {
    "duration": 23,
    "start_time": "2023-07-07T08:54:34.752Z"
   },
   {
    "duration": 17,
    "start_time": "2023-07-07T08:54:34.778Z"
   },
   {
    "duration": 3,
    "start_time": "2023-07-07T08:54:34.797Z"
   },
   {
    "duration": 14,
    "start_time": "2023-07-07T08:54:34.802Z"
   },
   {
    "duration": 17,
    "start_time": "2023-07-07T08:54:34.818Z"
   },
   {
    "duration": 36,
    "start_time": "2023-07-07T08:54:34.836Z"
   },
   {
    "duration": 14,
    "start_time": "2023-07-07T08:54:34.874Z"
   },
   {
    "duration": 22,
    "start_time": "2023-07-07T08:54:34.890Z"
   },
   {
    "duration": 6,
    "start_time": "2023-07-07T08:54:34.913Z"
   },
   {
    "duration": 62,
    "start_time": "2023-07-07T08:54:34.922Z"
   },
   {
    "duration": 15,
    "start_time": "2023-07-07T08:54:34.985Z"
   },
   {
    "duration": 14,
    "start_time": "2023-07-07T08:54:35.003Z"
   },
   {
    "duration": 5,
    "start_time": "2023-07-07T08:54:35.019Z"
   },
   {
    "duration": 43,
    "start_time": "2023-07-07T08:54:35.025Z"
   },
   {
    "duration": 13,
    "start_time": "2023-07-07T08:54:35.070Z"
   },
   {
    "duration": 23,
    "start_time": "2023-07-07T08:54:35.085Z"
   },
   {
    "duration": 118,
    "start_time": "2023-07-07T08:54:35.110Z"
   },
   {
    "duration": 170,
    "start_time": "2023-07-07T08:54:35.230Z"
   },
   {
    "duration": 5,
    "start_time": "2023-07-07T08:54:35.402Z"
   },
   {
    "duration": 52,
    "start_time": "2023-07-07T08:54:35.409Z"
   },
   {
    "duration": 48,
    "start_time": "2023-07-07T08:54:35.463Z"
   },
   {
    "duration": 11,
    "start_time": "2023-07-07T08:54:35.513Z"
   },
   {
    "duration": 16,
    "start_time": "2023-07-07T08:54:35.526Z"
   },
   {
    "duration": 28,
    "start_time": "2023-07-07T08:54:35.544Z"
   },
   {
    "duration": 11,
    "start_time": "2023-07-07T08:54:35.575Z"
   },
   {
    "duration": 36,
    "start_time": "2023-07-07T08:54:35.588Z"
   },
   {
    "duration": 7,
    "start_time": "2023-07-07T08:54:35.625Z"
   },
   {
    "duration": 39,
    "start_time": "2023-07-07T08:54:35.633Z"
   },
   {
    "duration": 29,
    "start_time": "2023-07-07T08:54:35.674Z"
   },
   {
    "duration": 18,
    "start_time": "2023-07-07T08:54:35.706Z"
   },
   {
    "duration": 51,
    "start_time": "2023-07-07T08:54:35.726Z"
   },
   {
    "duration": 257,
    "start_time": "2023-07-07T08:54:35.779Z"
   },
   {
    "duration": 221,
    "start_time": "2023-07-07T08:54:36.038Z"
   },
   {
    "duration": 9,
    "start_time": "2023-07-07T08:54:36.261Z"
   },
   {
    "duration": 29,
    "start_time": "2023-07-07T08:54:36.271Z"
   },
   {
    "duration": 6,
    "start_time": "2023-07-07T08:54:36.302Z"
   },
   {
    "duration": 9,
    "start_time": "2023-07-07T08:54:36.312Z"
   },
   {
    "duration": 45,
    "start_time": "2023-07-07T08:54:36.323Z"
   },
   {
    "duration": 296,
    "start_time": "2023-07-07T08:54:36.370Z"
   },
   {
    "duration": 11,
    "start_time": "2023-07-07T08:54:36.668Z"
   },
   {
    "duration": 16,
    "start_time": "2023-07-07T08:54:36.682Z"
   },
   {
    "duration": 235,
    "start_time": "2023-07-07T08:54:36.700Z"
   },
   {
    "duration": 7,
    "start_time": "2023-07-07T08:54:36.937Z"
   },
   {
    "duration": 167,
    "start_time": "2023-07-07T08:54:36.946Z"
   },
   {
    "duration": 6,
    "start_time": "2023-07-07T08:54:37.116Z"
   },
   {
    "duration": 245,
    "start_time": "2023-07-07T08:54:37.124Z"
   },
   {
    "duration": 8,
    "start_time": "2023-07-07T08:54:37.371Z"
   },
   {
    "duration": 1361,
    "start_time": "2023-07-07T08:54:37.380Z"
   },
   {
    "duration": 32,
    "start_time": "2023-07-07T08:54:38.743Z"
   },
   {
    "duration": 217,
    "start_time": "2023-07-07T08:54:38.777Z"
   },
   {
    "duration": 4,
    "start_time": "2023-07-07T08:54:38.996Z"
   },
   {
    "duration": 7,
    "start_time": "2023-07-07T08:54:39.002Z"
   },
   {
    "duration": 459,
    "start_time": "2023-07-07T08:54:39.011Z"
   },
   {
    "duration": 386,
    "start_time": "2023-07-07T08:54:39.471Z"
   },
   {
    "duration": 400,
    "start_time": "2023-07-07T08:54:39.859Z"
   },
   {
    "duration": 499,
    "start_time": "2023-07-07T08:54:40.262Z"
   },
   {
    "duration": 411,
    "start_time": "2023-07-07T08:54:40.763Z"
   },
   {
    "duration": 401,
    "start_time": "2023-07-07T08:54:41.176Z"
   },
   {
    "duration": 4,
    "start_time": "2023-07-07T08:57:06.173Z"
   },
   {
    "duration": 382,
    "start_time": "2023-07-07T09:08:01.636Z"
   },
   {
    "duration": 1163,
    "start_time": "2023-07-07T09:10:15.657Z"
   },
   {
    "duration": 57,
    "start_time": "2023-07-07T09:10:16.822Z"
   },
   {
    "duration": 20,
    "start_time": "2023-07-07T09:10:16.880Z"
   },
   {
    "duration": 21,
    "start_time": "2023-07-07T09:10:16.902Z"
   },
   {
    "duration": 11,
    "start_time": "2023-07-07T09:10:16.926Z"
   },
   {
    "duration": 47,
    "start_time": "2023-07-07T09:10:16.939Z"
   },
   {
    "duration": 15,
    "start_time": "2023-07-07T09:10:16.988Z"
   },
   {
    "duration": 29,
    "start_time": "2023-07-07T09:10:17.005Z"
   },
   {
    "duration": 15,
    "start_time": "2023-07-07T09:10:17.036Z"
   },
   {
    "duration": 16,
    "start_time": "2023-07-07T09:10:17.053Z"
   },
   {
    "duration": 17,
    "start_time": "2023-07-07T09:10:17.072Z"
   },
   {
    "duration": 15,
    "start_time": "2023-07-07T09:10:17.092Z"
   },
   {
    "duration": 6,
    "start_time": "2023-07-07T09:10:17.109Z"
   },
   {
    "duration": 63,
    "start_time": "2023-07-07T09:10:17.118Z"
   },
   {
    "duration": 15,
    "start_time": "2023-07-07T09:10:17.183Z"
   },
   {
    "duration": 24,
    "start_time": "2023-07-07T09:10:17.200Z"
   },
   {
    "duration": 9,
    "start_time": "2023-07-07T09:10:17.227Z"
   },
   {
    "duration": 32,
    "start_time": "2023-07-07T09:10:17.238Z"
   },
   {
    "duration": 44,
    "start_time": "2023-07-07T09:10:17.273Z"
   },
   {
    "duration": 30,
    "start_time": "2023-07-07T09:10:17.320Z"
   },
   {
    "duration": 127,
    "start_time": "2023-07-07T09:10:17.352Z"
   },
   {
    "duration": 151,
    "start_time": "2023-07-07T09:10:17.481Z"
   },
   {
    "duration": 6,
    "start_time": "2023-07-07T09:10:17.634Z"
   },
   {
    "duration": 29,
    "start_time": "2023-07-07T09:10:17.642Z"
   },
   {
    "duration": 14,
    "start_time": "2023-07-07T09:10:17.673Z"
   },
   {
    "duration": 7,
    "start_time": "2023-07-07T09:10:17.689Z"
   },
   {
    "duration": 23,
    "start_time": "2023-07-07T09:10:17.697Z"
   },
   {
    "duration": 16,
    "start_time": "2023-07-07T09:10:17.721Z"
   },
   {
    "duration": 34,
    "start_time": "2023-07-07T09:10:17.738Z"
   },
   {
    "duration": 20,
    "start_time": "2023-07-07T09:10:17.774Z"
   },
   {
    "duration": 8,
    "start_time": "2023-07-07T09:10:17.796Z"
   },
   {
    "duration": 21,
    "start_time": "2023-07-07T09:10:17.806Z"
   },
   {
    "duration": 42,
    "start_time": "2023-07-07T09:10:17.830Z"
   },
   {
    "duration": 32,
    "start_time": "2023-07-07T09:10:17.875Z"
   },
   {
    "duration": 306,
    "start_time": "2023-07-07T09:10:17.910Z"
   },
   {
    "duration": 266,
    "start_time": "2023-07-07T09:10:18.218Z"
   },
   {
    "duration": 5,
    "start_time": "2023-07-07T09:10:18.486Z"
   },
   {
    "duration": 44,
    "start_time": "2023-07-07T09:10:18.492Z"
   },
   {
    "duration": 7,
    "start_time": "2023-07-07T09:10:18.538Z"
   },
   {
    "duration": 17,
    "start_time": "2023-07-07T09:10:18.546Z"
   },
   {
    "duration": 14,
    "start_time": "2023-07-07T09:10:18.570Z"
   },
   {
    "duration": 324,
    "start_time": "2023-07-07T09:10:18.585Z"
   },
   {
    "duration": 9,
    "start_time": "2023-07-07T09:10:18.911Z"
   },
   {
    "duration": 4,
    "start_time": "2023-07-07T09:10:18.922Z"
   },
   {
    "duration": 213,
    "start_time": "2023-07-07T09:10:18.928Z"
   },
   {
    "duration": 8,
    "start_time": "2023-07-07T09:10:19.143Z"
   },
   {
    "duration": 169,
    "start_time": "2023-07-07T09:10:19.154Z"
   },
   {
    "duration": 5,
    "start_time": "2023-07-07T09:10:19.326Z"
   },
   {
    "duration": 161,
    "start_time": "2023-07-07T09:10:19.333Z"
   },
   {
    "duration": 9,
    "start_time": "2023-07-07T09:10:19.496Z"
   },
   {
    "duration": 1505,
    "start_time": "2023-07-07T09:10:19.507Z"
   },
   {
    "duration": 77,
    "start_time": "2023-07-07T09:10:21.013Z"
   },
   {
    "duration": 317,
    "start_time": "2023-07-07T09:10:21.092Z"
   },
   {
    "duration": 5,
    "start_time": "2023-07-07T09:10:21.410Z"
   },
   {
    "duration": 11,
    "start_time": "2023-07-07T09:10:21.417Z"
   },
   {
    "duration": 424,
    "start_time": "2023-07-07T09:10:21.429Z"
   },
   {
    "duration": 426,
    "start_time": "2023-07-07T09:10:21.856Z"
   },
   {
    "duration": 399,
    "start_time": "2023-07-07T09:10:22.284Z"
   },
   {
    "duration": 502,
    "start_time": "2023-07-07T09:10:22.685Z"
   },
   {
    "duration": 401,
    "start_time": "2023-07-07T09:10:23.189Z"
   },
   {
    "duration": 420,
    "start_time": "2023-07-07T09:10:23.592Z"
   },
   {
    "duration": 12,
    "start_time": "2023-07-07T09:34:42.655Z"
   },
   {
    "duration": 1116,
    "start_time": "2023-07-07T09:38:12.092Z"
   },
   {
    "duration": 50,
    "start_time": "2023-07-07T09:38:13.211Z"
   },
   {
    "duration": 24,
    "start_time": "2023-07-07T09:38:13.263Z"
   },
   {
    "duration": 15,
    "start_time": "2023-07-07T09:38:13.288Z"
   },
   {
    "duration": 11,
    "start_time": "2023-07-07T09:38:13.305Z"
   },
   {
    "duration": 15,
    "start_time": "2023-07-07T09:38:13.317Z"
   },
   {
    "duration": 3,
    "start_time": "2023-07-07T09:38:13.333Z"
   },
   {
    "duration": 46,
    "start_time": "2023-07-07T09:38:13.338Z"
   },
   {
    "duration": 8,
    "start_time": "2023-07-07T09:38:13.385Z"
   },
   {
    "duration": 8,
    "start_time": "2023-07-07T09:38:13.394Z"
   },
   {
    "duration": 14,
    "start_time": "2023-07-07T09:38:13.403Z"
   },
   {
    "duration": 14,
    "start_time": "2023-07-07T09:38:13.419Z"
   },
   {
    "duration": 45,
    "start_time": "2023-07-07T09:38:13.435Z"
   },
   {
    "duration": 23,
    "start_time": "2023-07-07T09:38:13.483Z"
   },
   {
    "duration": 14,
    "start_time": "2023-07-07T09:38:13.508Z"
   },
   {
    "duration": 17,
    "start_time": "2023-07-07T09:38:13.524Z"
   },
   {
    "duration": 5,
    "start_time": "2023-07-07T09:38:13.543Z"
   },
   {
    "duration": 8,
    "start_time": "2023-07-07T09:38:13.568Z"
   },
   {
    "duration": 8,
    "start_time": "2023-07-07T09:38:13.580Z"
   },
   {
    "duration": 15,
    "start_time": "2023-07-07T09:38:13.590Z"
   },
   {
    "duration": 122,
    "start_time": "2023-07-07T09:38:13.606Z"
   },
   {
    "duration": 155,
    "start_time": "2023-07-07T09:38:13.729Z"
   },
   {
    "duration": 5,
    "start_time": "2023-07-07T09:38:13.885Z"
   },
   {
    "duration": 19,
    "start_time": "2023-07-07T09:38:13.892Z"
   },
   {
    "duration": 12,
    "start_time": "2023-07-07T09:38:13.913Z"
   },
   {
    "duration": 6,
    "start_time": "2023-07-07T09:38:13.927Z"
   },
   {
    "duration": 17,
    "start_time": "2023-07-07T09:38:13.934Z"
   },
   {
    "duration": 36,
    "start_time": "2023-07-07T09:38:13.953Z"
   },
   {
    "duration": 6,
    "start_time": "2023-07-07T09:38:13.991Z"
   },
   {
    "duration": 14,
    "start_time": "2023-07-07T09:38:13.999Z"
   },
   {
    "duration": 6,
    "start_time": "2023-07-07T09:38:14.015Z"
   },
   {
    "duration": 22,
    "start_time": "2023-07-07T09:38:14.023Z"
   },
   {
    "duration": 23,
    "start_time": "2023-07-07T09:38:14.068Z"
   },
   {
    "duration": 26,
    "start_time": "2023-07-07T09:38:14.093Z"
   },
   {
    "duration": 256,
    "start_time": "2023-07-07T09:38:14.121Z"
   },
   {
    "duration": 228,
    "start_time": "2023-07-07T09:38:14.380Z"
   },
   {
    "duration": 4,
    "start_time": "2023-07-07T09:38:14.610Z"
   },
   {
    "duration": 28,
    "start_time": "2023-07-07T09:38:14.615Z"
   },
   {
    "duration": 6,
    "start_time": "2023-07-07T09:38:14.645Z"
   },
   {
    "duration": 9,
    "start_time": "2023-07-07T09:38:14.670Z"
   },
   {
    "duration": 15,
    "start_time": "2023-07-07T09:38:14.687Z"
   },
   {
    "duration": 304,
    "start_time": "2023-07-07T09:38:14.704Z"
   },
   {
    "duration": 10,
    "start_time": "2023-07-07T09:38:15.010Z"
   },
   {
    "duration": 20,
    "start_time": "2023-07-07T09:38:15.022Z"
   },
   {
    "duration": 207,
    "start_time": "2023-07-07T09:38:15.043Z"
   },
   {
    "duration": 24,
    "start_time": "2023-07-07T09:38:15.252Z"
   },
   {
    "duration": 156,
    "start_time": "2023-07-07T09:38:15.280Z"
   },
   {
    "duration": 5,
    "start_time": "2023-07-07T09:38:15.437Z"
   },
   {
    "duration": 159,
    "start_time": "2023-07-07T09:38:15.443Z"
   },
   {
    "duration": 8,
    "start_time": "2023-07-07T09:38:15.604Z"
   },
   {
    "duration": 1444,
    "start_time": "2023-07-07T09:38:15.613Z"
   },
   {
    "duration": 32,
    "start_time": "2023-07-07T09:38:17.059Z"
   },
   {
    "duration": 256,
    "start_time": "2023-07-07T09:38:17.093Z"
   },
   {
    "duration": 7,
    "start_time": "2023-07-07T09:38:17.351Z"
   },
   {
    "duration": 14,
    "start_time": "2023-07-07T09:38:17.369Z"
   },
   {
    "duration": 466,
    "start_time": "2023-07-07T09:38:17.385Z"
   },
   {
    "duration": 433,
    "start_time": "2023-07-07T09:38:17.853Z"
   },
   {
    "duration": 401,
    "start_time": "2023-07-07T09:38:18.287Z"
   },
   {
    "duration": 505,
    "start_time": "2023-07-07T09:38:18.690Z"
   },
   {
    "duration": 415,
    "start_time": "2023-07-07T09:38:19.198Z"
   },
   {
    "duration": 402,
    "start_time": "2023-07-07T09:38:19.615Z"
   },
   {
    "duration": 11,
    "start_time": "2023-07-07T09:38:20.019Z"
   },
   {
    "duration": 10,
    "start_time": "2023-07-07T09:44:06.992Z"
   },
   {
    "duration": 1086,
    "start_time": "2023-07-07T09:45:09.720Z"
   },
   {
    "duration": 51,
    "start_time": "2023-07-07T09:45:10.808Z"
   },
   {
    "duration": 17,
    "start_time": "2023-07-07T09:45:10.861Z"
   },
   {
    "duration": 14,
    "start_time": "2023-07-07T09:45:10.880Z"
   },
   {
    "duration": 10,
    "start_time": "2023-07-07T09:45:10.897Z"
   },
   {
    "duration": 16,
    "start_time": "2023-07-07T09:45:10.909Z"
   },
   {
    "duration": 8,
    "start_time": "2023-07-07T09:45:10.927Z"
   },
   {
    "duration": 39,
    "start_time": "2023-07-07T09:45:10.936Z"
   },
   {
    "duration": 15,
    "start_time": "2023-07-07T09:45:10.977Z"
   },
   {
    "duration": 18,
    "start_time": "2023-07-07T09:45:10.994Z"
   },
   {
    "duration": 15,
    "start_time": "2023-07-07T09:45:11.014Z"
   },
   {
    "duration": 16,
    "start_time": "2023-07-07T09:45:11.031Z"
   },
   {
    "duration": 5,
    "start_time": "2023-07-07T09:45:11.049Z"
   },
   {
    "duration": 42,
    "start_time": "2023-07-07T09:45:11.057Z"
   },
   {
    "duration": 14,
    "start_time": "2023-07-07T09:45:11.101Z"
   },
   {
    "duration": 19,
    "start_time": "2023-07-07T09:45:11.117Z"
   },
   {
    "duration": 7,
    "start_time": "2023-07-07T09:45:11.138Z"
   },
   {
    "duration": 15,
    "start_time": "2023-07-07T09:45:11.169Z"
   },
   {
    "duration": 26,
    "start_time": "2023-07-07T09:45:11.186Z"
   },
   {
    "duration": 15,
    "start_time": "2023-07-07T09:45:11.214Z"
   },
   {
    "duration": 101,
    "start_time": "2023-07-07T09:45:11.230Z"
   },
   {
    "duration": 123,
    "start_time": "2023-07-07T09:45:11.332Z"
   },
   {
    "duration": 12,
    "start_time": "2023-07-07T09:45:11.456Z"
   },
   {
    "duration": 17,
    "start_time": "2023-07-07T09:45:11.470Z"
   },
   {
    "duration": 31,
    "start_time": "2023-07-07T09:45:11.488Z"
   },
   {
    "duration": 13,
    "start_time": "2023-07-07T09:45:11.520Z"
   },
   {
    "duration": 18,
    "start_time": "2023-07-07T09:45:11.534Z"
   },
   {
    "duration": 23,
    "start_time": "2023-07-07T09:45:11.554Z"
   },
   {
    "duration": 16,
    "start_time": "2023-07-07T09:45:11.578Z"
   },
   {
    "duration": 21,
    "start_time": "2023-07-07T09:45:11.596Z"
   },
   {
    "duration": 15,
    "start_time": "2023-07-07T09:45:11.618Z"
   },
   {
    "duration": 35,
    "start_time": "2023-07-07T09:45:11.635Z"
   },
   {
    "duration": 12,
    "start_time": "2023-07-07T09:45:11.672Z"
   },
   {
    "duration": 206,
    "start_time": "2023-07-07T09:45:11.686Z"
   },
   {
    "duration": 215,
    "start_time": "2023-07-07T09:45:11.893Z"
   },
   {
    "duration": 5,
    "start_time": "2023-07-07T09:45:12.109Z"
   },
   {
    "duration": 40,
    "start_time": "2023-07-07T09:45:12.115Z"
   },
   {
    "duration": 12,
    "start_time": "2023-07-07T09:45:12.157Z"
   },
   {
    "duration": 11,
    "start_time": "2023-07-07T09:45:12.171Z"
   },
   {
    "duration": 17,
    "start_time": "2023-07-07T09:45:12.184Z"
   },
   {
    "duration": 276,
    "start_time": "2023-07-07T09:45:12.205Z"
   },
   {
    "duration": 9,
    "start_time": "2023-07-07T09:45:12.482Z"
   },
   {
    "duration": 5,
    "start_time": "2023-07-07T09:45:12.492Z"
   },
   {
    "duration": 206,
    "start_time": "2023-07-07T09:45:12.499Z"
   },
   {
    "duration": 316,
    "start_time": "2023-07-07T09:45:12.707Z"
   },
   {
    "duration": 0,
    "start_time": "2023-07-07T09:45:13.025Z"
   },
   {
    "duration": 0,
    "start_time": "2023-07-07T09:45:13.026Z"
   },
   {
    "duration": 0,
    "start_time": "2023-07-07T09:45:13.027Z"
   },
   {
    "duration": 0,
    "start_time": "2023-07-07T09:45:13.028Z"
   },
   {
    "duration": 0,
    "start_time": "2023-07-07T09:45:13.029Z"
   },
   {
    "duration": 0,
    "start_time": "2023-07-07T09:45:13.030Z"
   },
   {
    "duration": 0,
    "start_time": "2023-07-07T09:45:13.031Z"
   },
   {
    "duration": 0,
    "start_time": "2023-07-07T09:45:13.032Z"
   },
   {
    "duration": 0,
    "start_time": "2023-07-07T09:45:13.033Z"
   },
   {
    "duration": 0,
    "start_time": "2023-07-07T09:45:13.034Z"
   },
   {
    "duration": 0,
    "start_time": "2023-07-07T09:45:13.035Z"
   },
   {
    "duration": 0,
    "start_time": "2023-07-07T09:45:13.036Z"
   },
   {
    "duration": 0,
    "start_time": "2023-07-07T09:45:13.038Z"
   },
   {
    "duration": 0,
    "start_time": "2023-07-07T09:45:13.039Z"
   },
   {
    "duration": 0,
    "start_time": "2023-07-07T09:45:13.041Z"
   },
   {
    "duration": 0,
    "start_time": "2023-07-07T09:45:13.042Z"
   },
   {
    "duration": 10,
    "start_time": "2023-07-07T09:47:18.119Z"
   },
   {
    "duration": 18,
    "start_time": "2023-07-07T09:47:28.549Z"
   },
   {
    "duration": 93,
    "start_time": "2023-07-07T09:47:56.239Z"
   },
   {
    "duration": 13,
    "start_time": "2023-07-07T09:51:24.982Z"
   },
   {
    "duration": 4,
    "start_time": "2023-07-07T09:52:12.261Z"
   },
   {
    "duration": 1167,
    "start_time": "2023-07-07T09:53:51.920Z"
   },
   {
    "duration": 54,
    "start_time": "2023-07-07T09:53:53.089Z"
   },
   {
    "duration": 21,
    "start_time": "2023-07-07T09:53:53.145Z"
   },
   {
    "duration": 19,
    "start_time": "2023-07-07T09:53:53.168Z"
   },
   {
    "duration": 11,
    "start_time": "2023-07-07T09:53:53.190Z"
   },
   {
    "duration": 16,
    "start_time": "2023-07-07T09:53:53.203Z"
   },
   {
    "duration": 5,
    "start_time": "2023-07-07T09:53:53.221Z"
   },
   {
    "duration": 42,
    "start_time": "2023-07-07T09:53:53.228Z"
   },
   {
    "duration": 9,
    "start_time": "2023-07-07T09:53:53.271Z"
   },
   {
    "duration": 13,
    "start_time": "2023-07-07T09:53:53.282Z"
   },
   {
    "duration": 27,
    "start_time": "2023-07-07T09:53:53.297Z"
   },
   {
    "duration": 17,
    "start_time": "2023-07-07T09:53:53.326Z"
   },
   {
    "duration": 5,
    "start_time": "2023-07-07T09:53:53.345Z"
   },
   {
    "duration": 33,
    "start_time": "2023-07-07T09:53:53.373Z"
   },
   {
    "duration": 14,
    "start_time": "2023-07-07T09:53:53.407Z"
   },
   {
    "duration": 25,
    "start_time": "2023-07-07T09:53:53.423Z"
   },
   {
    "duration": 17,
    "start_time": "2023-07-07T09:53:53.450Z"
   },
   {
    "duration": 4,
    "start_time": "2023-07-07T09:53:53.470Z"
   },
   {
    "duration": 14,
    "start_time": "2023-07-07T09:53:53.476Z"
   },
   {
    "duration": 13,
    "start_time": "2023-07-07T09:53:53.491Z"
   },
   {
    "duration": 128,
    "start_time": "2023-07-07T09:53:53.506Z"
   },
   {
    "duration": 170,
    "start_time": "2023-07-07T09:53:53.636Z"
   },
   {
    "duration": 5,
    "start_time": "2023-07-07T09:53:53.808Z"
   },
   {
    "duration": 21,
    "start_time": "2023-07-07T09:53:53.815Z"
   },
   {
    "duration": 30,
    "start_time": "2023-07-07T09:53:53.838Z"
   },
   {
    "duration": 13,
    "start_time": "2023-07-07T09:53:53.871Z"
   },
   {
    "duration": 21,
    "start_time": "2023-07-07T09:53:53.886Z"
   },
   {
    "duration": 22,
    "start_time": "2023-07-07T09:53:53.909Z"
   },
   {
    "duration": 8,
    "start_time": "2023-07-07T09:53:53.933Z"
   },
   {
    "duration": 24,
    "start_time": "2023-07-07T09:53:53.944Z"
   },
   {
    "duration": 24,
    "start_time": "2023-07-07T09:53:53.971Z"
   },
   {
    "duration": 13,
    "start_time": "2023-07-07T09:53:53.997Z"
   },
   {
    "duration": 29,
    "start_time": "2023-07-07T09:53:54.013Z"
   },
   {
    "duration": 33,
    "start_time": "2023-07-07T09:53:54.044Z"
   },
   {
    "duration": 21,
    "start_time": "2023-07-07T09:53:54.080Z"
   },
   {
    "duration": 284,
    "start_time": "2023-07-07T09:53:54.104Z"
   },
   {
    "duration": 216,
    "start_time": "2023-07-07T09:53:54.390Z"
   },
   {
    "duration": 4,
    "start_time": "2023-07-07T09:53:54.608Z"
   },
   {
    "duration": 80,
    "start_time": "2023-07-07T09:53:54.614Z"
   },
   {
    "duration": 15,
    "start_time": "2023-07-07T09:53:54.695Z"
   },
   {
    "duration": 8,
    "start_time": "2023-07-07T09:53:54.713Z"
   },
   {
    "duration": 18,
    "start_time": "2023-07-07T09:53:54.722Z"
   },
   {
    "duration": 273,
    "start_time": "2023-07-07T09:53:54.741Z"
   },
   {
    "duration": 8,
    "start_time": "2023-07-07T09:53:55.015Z"
   },
   {
    "duration": 4,
    "start_time": "2023-07-07T09:53:55.025Z"
   },
   {
    "duration": 203,
    "start_time": "2023-07-07T09:53:55.031Z"
   },
   {
    "duration": 6,
    "start_time": "2023-07-07T09:53:55.236Z"
   },
   {
    "duration": 155,
    "start_time": "2023-07-07T09:53:55.244Z"
   },
   {
    "duration": 5,
    "start_time": "2023-07-07T09:53:55.401Z"
   },
   {
    "duration": 158,
    "start_time": "2023-07-07T09:53:55.407Z"
   },
   {
    "duration": 9,
    "start_time": "2023-07-07T09:53:55.568Z"
   },
   {
    "duration": 1311,
    "start_time": "2023-07-07T09:53:55.578Z"
   },
   {
    "duration": 16,
    "start_time": "2023-07-07T09:53:56.890Z"
   },
   {
    "duration": 212,
    "start_time": "2023-07-07T09:53:56.908Z"
   },
   {
    "duration": 7,
    "start_time": "2023-07-07T09:53:57.122Z"
   },
   {
    "duration": 13,
    "start_time": "2023-07-07T09:53:57.132Z"
   },
   {
    "duration": 429,
    "start_time": "2023-07-07T09:53:57.147Z"
   },
   {
    "duration": 397,
    "start_time": "2023-07-07T09:53:57.578Z"
   },
   {
    "duration": 374,
    "start_time": "2023-07-07T09:53:57.977Z"
   },
   {
    "duration": 458,
    "start_time": "2023-07-07T09:53:58.352Z"
   },
   {
    "duration": 397,
    "start_time": "2023-07-07T09:53:58.812Z"
   },
   {
    "duration": 383,
    "start_time": "2023-07-07T09:53:59.210Z"
   },
   {
    "duration": 9,
    "start_time": "2023-07-07T09:53:59.594Z"
   },
   {
    "duration": 4,
    "start_time": "2023-07-07T09:55:28.931Z"
   },
   {
    "duration": 6,
    "start_time": "2023-07-07T09:55:44.891Z"
   },
   {
    "duration": 95,
    "start_time": "2023-07-07T09:57:15.411Z"
   },
   {
    "duration": 16,
    "start_time": "2023-07-07T09:59:39.613Z"
   },
   {
    "duration": 17,
    "start_time": "2023-07-07T09:59:56.022Z"
   },
   {
    "duration": 14,
    "start_time": "2023-07-07T09:59:59.703Z"
   },
   {
    "duration": 1110,
    "start_time": "2023-07-07T10:00:07.023Z"
   },
   {
    "duration": 54,
    "start_time": "2023-07-07T10:00:08.135Z"
   },
   {
    "duration": 16,
    "start_time": "2023-07-07T10:00:08.191Z"
   },
   {
    "duration": 18,
    "start_time": "2023-07-07T10:00:08.209Z"
   },
   {
    "duration": 10,
    "start_time": "2023-07-07T10:00:08.229Z"
   },
   {
    "duration": 33,
    "start_time": "2023-07-07T10:00:08.241Z"
   },
   {
    "duration": 4,
    "start_time": "2023-07-07T10:00:08.276Z"
   },
   {
    "duration": 18,
    "start_time": "2023-07-07T10:00:08.282Z"
   },
   {
    "duration": 31,
    "start_time": "2023-07-07T10:00:08.302Z"
   },
   {
    "duration": 9,
    "start_time": "2023-07-07T10:00:08.334Z"
   },
   {
    "duration": 18,
    "start_time": "2023-07-07T10:00:08.344Z"
   },
   {
    "duration": 16,
    "start_time": "2023-07-07T10:00:08.364Z"
   },
   {
    "duration": 5,
    "start_time": "2023-07-07T10:00:08.382Z"
   },
   {
    "duration": 34,
    "start_time": "2023-07-07T10:00:08.389Z"
   },
   {
    "duration": 14,
    "start_time": "2023-07-07T10:00:08.425Z"
   },
   {
    "duration": 37,
    "start_time": "2023-07-07T10:00:08.440Z"
   },
   {
    "duration": 7,
    "start_time": "2023-07-07T10:00:08.479Z"
   },
   {
    "duration": 9,
    "start_time": "2023-07-07T10:00:08.487Z"
   },
   {
    "duration": 14,
    "start_time": "2023-07-07T10:00:08.498Z"
   },
   {
    "duration": 19,
    "start_time": "2023-07-07T10:00:08.514Z"
   },
   {
    "duration": 112,
    "start_time": "2023-07-07T10:00:08.535Z"
   },
   {
    "duration": 138,
    "start_time": "2023-07-07T10:00:08.649Z"
   },
   {
    "duration": 5,
    "start_time": "2023-07-07T10:00:08.789Z"
   },
   {
    "duration": 9,
    "start_time": "2023-07-07T10:00:08.795Z"
   },
   {
    "duration": 13,
    "start_time": "2023-07-07T10:00:08.805Z"
   },
   {
    "duration": 7,
    "start_time": "2023-07-07T10:00:08.820Z"
   },
   {
    "duration": 40,
    "start_time": "2023-07-07T10:00:08.829Z"
   },
   {
    "duration": 14,
    "start_time": "2023-07-07T10:00:08.871Z"
   },
   {
    "duration": 23,
    "start_time": "2023-07-07T10:00:08.887Z"
   },
   {
    "duration": 45,
    "start_time": "2023-07-07T10:00:08.912Z"
   },
   {
    "duration": 14,
    "start_time": "2023-07-07T10:00:08.959Z"
   },
   {
    "duration": 4,
    "start_time": "2023-07-07T10:00:08.975Z"
   },
   {
    "duration": 20,
    "start_time": "2023-07-07T10:00:08.981Z"
   },
   {
    "duration": 15,
    "start_time": "2023-07-07T10:00:09.003Z"
   },
   {
    "duration": 17,
    "start_time": "2023-07-07T10:00:09.020Z"
   },
   {
    "duration": 249,
    "start_time": "2023-07-07T10:00:09.039Z"
   },
   {
    "duration": 217,
    "start_time": "2023-07-07T10:00:09.289Z"
   },
   {
    "duration": 5,
    "start_time": "2023-07-07T10:00:09.507Z"
   },
   {
    "duration": 32,
    "start_time": "2023-07-07T10:00:09.513Z"
   },
   {
    "duration": 24,
    "start_time": "2023-07-07T10:00:09.547Z"
   },
   {
    "duration": 3,
    "start_time": "2023-07-07T10:00:09.574Z"
   },
   {
    "duration": 12,
    "start_time": "2023-07-07T10:00:09.579Z"
   },
   {
    "duration": 307,
    "start_time": "2023-07-07T10:00:09.593Z"
   },
   {
    "duration": 10,
    "start_time": "2023-07-07T10:00:09.902Z"
   },
   {
    "duration": 6,
    "start_time": "2023-07-07T10:00:09.914Z"
   },
   {
    "duration": 207,
    "start_time": "2023-07-07T10:00:09.921Z"
   },
   {
    "duration": 8,
    "start_time": "2023-07-07T10:00:10.130Z"
   },
   {
    "duration": 162,
    "start_time": "2023-07-07T10:00:10.140Z"
   },
   {
    "duration": 5,
    "start_time": "2023-07-07T10:00:10.304Z"
   },
   {
    "duration": 167,
    "start_time": "2023-07-07T10:00:10.310Z"
   },
   {
    "duration": 8,
    "start_time": "2023-07-07T10:00:10.479Z"
   },
   {
    "duration": 1380,
    "start_time": "2023-07-07T10:00:10.489Z"
   },
   {
    "duration": 16,
    "start_time": "2023-07-07T10:00:11.870Z"
   },
   {
    "duration": 215,
    "start_time": "2023-07-07T10:00:11.887Z"
   },
   {
    "duration": 5,
    "start_time": "2023-07-07T10:00:12.104Z"
   },
   {
    "duration": 15,
    "start_time": "2023-07-07T10:00:12.110Z"
   },
   {
    "duration": 432,
    "start_time": "2023-07-07T10:00:12.127Z"
   },
   {
    "duration": 405,
    "start_time": "2023-07-07T10:00:12.561Z"
   },
   {
    "duration": 406,
    "start_time": "2023-07-07T10:00:12.968Z"
   },
   {
    "duration": 500,
    "start_time": "2023-07-07T10:00:13.377Z"
   },
   {
    "duration": 468,
    "start_time": "2023-07-07T10:00:13.879Z"
   },
   {
    "duration": 401,
    "start_time": "2023-07-07T10:00:14.349Z"
   },
   {
    "duration": 117,
    "start_time": "2023-07-07T10:00:14.752Z"
   },
   {
    "duration": 0,
    "start_time": "2023-07-07T10:00:14.870Z"
   },
   {
    "duration": 10,
    "start_time": "2023-07-07T10:00:49.313Z"
   },
   {
    "duration": 9,
    "start_time": "2023-07-07T10:00:54.913Z"
   },
   {
    "duration": 17,
    "start_time": "2023-07-07T10:01:45.014Z"
   },
   {
    "duration": 10,
    "start_time": "2023-07-07T10:02:34.274Z"
   },
   {
    "duration": 264,
    "start_time": "2023-07-07T10:05:17.354Z"
   },
   {
    "duration": 14,
    "start_time": "2023-07-07T10:06:16.185Z"
   },
   {
    "duration": 10,
    "start_time": "2023-07-07T10:06:40.145Z"
   },
   {
    "duration": 4,
    "start_time": "2023-07-07T10:06:44.335Z"
   },
   {
    "duration": 10,
    "start_time": "2023-07-07T10:07:05.295Z"
   },
   {
    "duration": 10,
    "start_time": "2023-07-07T10:07:28.605Z"
   },
   {
    "duration": 12,
    "start_time": "2023-07-07T10:08:10.804Z"
   },
   {
    "duration": 12,
    "start_time": "2023-07-07T10:08:36.566Z"
   },
   {
    "duration": 17,
    "start_time": "2023-07-07T10:12:25.367Z"
   },
   {
    "duration": 10,
    "start_time": "2023-07-07T10:13:21.496Z"
   },
   {
    "duration": 15,
    "start_time": "2023-07-07T10:13:39.128Z"
   },
   {
    "duration": 10,
    "start_time": "2023-07-07T10:15:14.638Z"
   },
   {
    "duration": 12,
    "start_time": "2023-07-07T10:15:16.007Z"
   },
   {
    "duration": 10,
    "start_time": "2023-07-07T10:17:42.158Z"
   },
   {
    "duration": 1152,
    "start_time": "2023-07-07T10:45:34.338Z"
   },
   {
    "duration": 58,
    "start_time": "2023-07-07T10:45:35.492Z"
   },
   {
    "duration": 15,
    "start_time": "2023-07-07T10:45:35.552Z"
   },
   {
    "duration": 13,
    "start_time": "2023-07-07T10:45:35.569Z"
   },
   {
    "duration": 10,
    "start_time": "2023-07-07T10:45:35.584Z"
   },
   {
    "duration": 14,
    "start_time": "2023-07-07T10:45:35.596Z"
   },
   {
    "duration": 2,
    "start_time": "2023-07-07T10:45:35.612Z"
   },
   {
    "duration": 17,
    "start_time": "2023-07-07T10:45:35.615Z"
   },
   {
    "duration": 41,
    "start_time": "2023-07-07T10:45:35.634Z"
   },
   {
    "duration": 7,
    "start_time": "2023-07-07T10:45:35.676Z"
   },
   {
    "duration": 12,
    "start_time": "2023-07-07T10:45:35.684Z"
   },
   {
    "duration": 13,
    "start_time": "2023-07-07T10:45:35.698Z"
   },
   {
    "duration": 4,
    "start_time": "2023-07-07T10:45:35.713Z"
   },
   {
    "duration": 55,
    "start_time": "2023-07-07T10:45:35.719Z"
   },
   {
    "duration": 12,
    "start_time": "2023-07-07T10:45:35.775Z"
   },
   {
    "duration": 15,
    "start_time": "2023-07-07T10:45:35.789Z"
   },
   {
    "duration": 6,
    "start_time": "2023-07-07T10:45:35.805Z"
   },
   {
    "duration": 12,
    "start_time": "2023-07-07T10:45:35.813Z"
   },
   {
    "duration": 7,
    "start_time": "2023-07-07T10:45:35.827Z"
   },
   {
    "duration": 39,
    "start_time": "2023-07-07T10:45:35.835Z"
   },
   {
    "duration": 105,
    "start_time": "2023-07-07T10:45:35.876Z"
   },
   {
    "duration": 130,
    "start_time": "2023-07-07T10:45:35.983Z"
   },
   {
    "duration": 4,
    "start_time": "2023-07-07T10:45:36.114Z"
   },
   {
    "duration": 15,
    "start_time": "2023-07-07T10:45:36.119Z"
   },
   {
    "duration": 13,
    "start_time": "2023-07-07T10:45:36.136Z"
   },
   {
    "duration": 6,
    "start_time": "2023-07-07T10:45:36.150Z"
   },
   {
    "duration": 9,
    "start_time": "2023-07-07T10:45:36.168Z"
   },
   {
    "duration": 14,
    "start_time": "2023-07-07T10:45:36.178Z"
   },
   {
    "duration": 5,
    "start_time": "2023-07-07T10:45:36.193Z"
   },
   {
    "duration": 22,
    "start_time": "2023-07-07T10:45:36.199Z"
   },
   {
    "duration": 16,
    "start_time": "2023-07-07T10:45:36.222Z"
   },
   {
    "duration": 4,
    "start_time": "2023-07-07T10:45:36.239Z"
   },
   {
    "duration": 37,
    "start_time": "2023-07-07T10:45:36.244Z"
   },
   {
    "duration": 13,
    "start_time": "2023-07-07T10:45:36.282Z"
   },
   {
    "duration": 15,
    "start_time": "2023-07-07T10:45:36.297Z"
   },
   {
    "duration": 231,
    "start_time": "2023-07-07T10:45:36.313Z"
   },
   {
    "duration": 207,
    "start_time": "2023-07-07T10:45:36.545Z"
   },
   {
    "duration": 4,
    "start_time": "2023-07-07T10:45:36.754Z"
   },
   {
    "duration": 28,
    "start_time": "2023-07-07T10:45:36.768Z"
   },
   {
    "duration": 6,
    "start_time": "2023-07-07T10:45:36.797Z"
   },
   {
    "duration": 3,
    "start_time": "2023-07-07T10:45:36.806Z"
   },
   {
    "duration": 13,
    "start_time": "2023-07-07T10:45:36.810Z"
   },
   {
    "duration": 304,
    "start_time": "2023-07-07T10:45:36.825Z"
   },
   {
    "duration": 8,
    "start_time": "2023-07-07T10:45:37.130Z"
   },
   {
    "duration": 8,
    "start_time": "2023-07-07T10:45:37.139Z"
   },
   {
    "duration": 208,
    "start_time": "2023-07-07T10:45:37.148Z"
   },
   {
    "duration": 11,
    "start_time": "2023-07-07T10:45:37.357Z"
   },
   {
    "duration": 153,
    "start_time": "2023-07-07T10:45:37.370Z"
   },
   {
    "duration": 5,
    "start_time": "2023-07-07T10:45:37.525Z"
   },
   {
    "duration": 148,
    "start_time": "2023-07-07T10:45:37.531Z"
   },
   {
    "duration": 9,
    "start_time": "2023-07-07T10:45:37.681Z"
   },
   {
    "duration": 1320,
    "start_time": "2023-07-07T10:45:37.691Z"
   },
   {
    "duration": 15,
    "start_time": "2023-07-07T10:45:39.012Z"
   },
   {
    "duration": 208,
    "start_time": "2023-07-07T10:45:39.029Z"
   },
   {
    "duration": 5,
    "start_time": "2023-07-07T10:45:39.238Z"
   },
   {
    "duration": 23,
    "start_time": "2023-07-07T10:45:39.245Z"
   },
   {
    "duration": 427,
    "start_time": "2023-07-07T10:45:39.270Z"
   },
   {
    "duration": 396,
    "start_time": "2023-07-07T10:45:39.699Z"
   },
   {
    "duration": 372,
    "start_time": "2023-07-07T10:45:40.096Z"
   },
   {
    "duration": 519,
    "start_time": "2023-07-07T10:45:40.470Z"
   },
   {
    "duration": 389,
    "start_time": "2023-07-07T10:45:40.991Z"
   },
   {
    "duration": 405,
    "start_time": "2023-07-07T10:45:41.381Z"
   },
   {
    "duration": 13,
    "start_time": "2023-07-07T10:45:41.788Z"
   },
   {
    "duration": 13,
    "start_time": "2023-07-07T10:45:41.803Z"
   },
   {
    "duration": 1177,
    "start_time": "2023-07-07T10:48:03.668Z"
   },
   {
    "duration": 52,
    "start_time": "2023-07-07T10:48:04.846Z"
   },
   {
    "duration": 18,
    "start_time": "2023-07-07T10:48:04.900Z"
   },
   {
    "duration": 17,
    "start_time": "2023-07-07T10:48:04.920Z"
   },
   {
    "duration": 10,
    "start_time": "2023-07-07T10:48:04.938Z"
   },
   {
    "duration": 31,
    "start_time": "2023-07-07T10:48:04.949Z"
   },
   {
    "duration": 7,
    "start_time": "2023-07-07T10:48:04.982Z"
   },
   {
    "duration": 20,
    "start_time": "2023-07-07T10:48:04.991Z"
   },
   {
    "duration": 37,
    "start_time": "2023-07-07T10:48:05.012Z"
   },
   {
    "duration": 14,
    "start_time": "2023-07-07T10:48:05.052Z"
   },
   {
    "duration": 23,
    "start_time": "2023-07-07T10:48:05.068Z"
   },
   {
    "duration": 36,
    "start_time": "2023-07-07T10:48:05.093Z"
   },
   {
    "duration": 4,
    "start_time": "2023-07-07T10:48:05.130Z"
   },
   {
    "duration": 101,
    "start_time": "2023-07-07T10:48:05.136Z"
   },
   {
    "duration": 29,
    "start_time": "2023-07-07T10:48:05.239Z"
   },
   {
    "duration": 54,
    "start_time": "2023-07-07T10:48:05.269Z"
   },
   {
    "duration": 6,
    "start_time": "2023-07-07T10:48:05.325Z"
   },
   {
    "duration": 34,
    "start_time": "2023-07-07T10:48:05.332Z"
   },
   {
    "duration": 24,
    "start_time": "2023-07-07T10:48:05.368Z"
   },
   {
    "duration": 12,
    "start_time": "2023-07-07T10:48:05.394Z"
   },
   {
    "duration": 100,
    "start_time": "2023-07-07T10:48:05.408Z"
   },
   {
    "duration": 126,
    "start_time": "2023-07-07T10:48:05.510Z"
   },
   {
    "duration": 4,
    "start_time": "2023-07-07T10:48:05.637Z"
   },
   {
    "duration": 23,
    "start_time": "2023-07-07T10:48:05.642Z"
   },
   {
    "duration": 50,
    "start_time": "2023-07-07T10:48:05.666Z"
   },
   {
    "duration": 35,
    "start_time": "2023-07-07T10:48:05.717Z"
   },
   {
    "duration": 25,
    "start_time": "2023-07-07T10:48:05.754Z"
   },
   {
    "duration": 30,
    "start_time": "2023-07-07T10:48:05.783Z"
   },
   {
    "duration": 40,
    "start_time": "2023-07-07T10:48:05.815Z"
   },
   {
    "duration": 27,
    "start_time": "2023-07-07T10:48:05.856Z"
   },
   {
    "duration": 28,
    "start_time": "2023-07-07T10:48:05.885Z"
   },
   {
    "duration": 20,
    "start_time": "2023-07-07T10:48:05.915Z"
   },
   {
    "duration": 33,
    "start_time": "2023-07-07T10:48:05.936Z"
   },
   {
    "duration": 31,
    "start_time": "2023-07-07T10:48:05.971Z"
   },
   {
    "duration": 28,
    "start_time": "2023-07-07T10:48:06.004Z"
   },
   {
    "duration": 219,
    "start_time": "2023-07-07T10:48:06.033Z"
   },
   {
    "duration": 217,
    "start_time": "2023-07-07T10:48:06.254Z"
   },
   {
    "duration": 5,
    "start_time": "2023-07-07T10:48:06.473Z"
   },
   {
    "duration": 42,
    "start_time": "2023-07-07T10:48:06.479Z"
   },
   {
    "duration": 6,
    "start_time": "2023-07-07T10:48:06.522Z"
   },
   {
    "duration": 7,
    "start_time": "2023-07-07T10:48:06.530Z"
   },
   {
    "duration": 19,
    "start_time": "2023-07-07T10:48:06.538Z"
   },
   {
    "duration": 282,
    "start_time": "2023-07-07T10:48:06.559Z"
   },
   {
    "duration": 8,
    "start_time": "2023-07-07T10:48:06.843Z"
   },
   {
    "duration": 16,
    "start_time": "2023-07-07T10:48:06.852Z"
   },
   {
    "duration": 185,
    "start_time": "2023-07-07T10:48:06.870Z"
   },
   {
    "duration": 13,
    "start_time": "2023-07-07T10:48:07.057Z"
   },
   {
    "duration": 161,
    "start_time": "2023-07-07T10:48:07.072Z"
   },
   {
    "duration": 4,
    "start_time": "2023-07-07T10:48:07.235Z"
   },
   {
    "duration": 179,
    "start_time": "2023-07-07T10:48:07.241Z"
   },
   {
    "duration": 8,
    "start_time": "2023-07-07T10:48:07.421Z"
   },
   {
    "duration": 1285,
    "start_time": "2023-07-07T10:48:07.430Z"
   },
   {
    "duration": 17,
    "start_time": "2023-07-07T10:48:08.716Z"
   },
   {
    "duration": 218,
    "start_time": "2023-07-07T10:48:08.734Z"
   },
   {
    "duration": 5,
    "start_time": "2023-07-07T10:48:08.953Z"
   },
   {
    "duration": 9,
    "start_time": "2023-07-07T10:48:08.960Z"
   },
   {
    "duration": 417,
    "start_time": "2023-07-07T10:48:08.971Z"
   },
   {
    "duration": 377,
    "start_time": "2023-07-07T10:48:09.389Z"
   },
   {
    "duration": 403,
    "start_time": "2023-07-07T10:48:09.768Z"
   },
   {
    "duration": 463,
    "start_time": "2023-07-07T10:48:10.172Z"
   },
   {
    "duration": 381,
    "start_time": "2023-07-07T10:48:10.636Z"
   },
   {
    "duration": 396,
    "start_time": "2023-07-07T10:48:11.019Z"
   },
   {
    "duration": 9,
    "start_time": "2023-07-07T10:48:11.417Z"
   },
   {
    "duration": 24,
    "start_time": "2023-07-07T10:48:11.428Z"
   },
   {
    "duration": 1218,
    "start_time": "2023-07-07T10:52:23.130Z"
   },
   {
    "duration": 62,
    "start_time": "2023-07-07T10:52:24.351Z"
   },
   {
    "duration": 19,
    "start_time": "2023-07-07T10:52:24.415Z"
   },
   {
    "duration": 16,
    "start_time": "2023-07-07T10:52:24.436Z"
   },
   {
    "duration": 21,
    "start_time": "2023-07-07T10:52:24.453Z"
   },
   {
    "duration": 19,
    "start_time": "2023-07-07T10:52:24.476Z"
   },
   {
    "duration": 3,
    "start_time": "2023-07-07T10:52:24.497Z"
   },
   {
    "duration": 53,
    "start_time": "2023-07-07T10:52:24.503Z"
   },
   {
    "duration": 10,
    "start_time": "2023-07-07T10:52:24.558Z"
   },
   {
    "duration": 15,
    "start_time": "2023-07-07T10:52:24.571Z"
   },
   {
    "duration": 26,
    "start_time": "2023-07-07T10:52:24.588Z"
   },
   {
    "duration": 16,
    "start_time": "2023-07-07T10:52:24.616Z"
   },
   {
    "duration": 7,
    "start_time": "2023-07-07T10:52:24.634Z"
   },
   {
    "duration": 43,
    "start_time": "2023-07-07T10:52:24.643Z"
   },
   {
    "duration": 15,
    "start_time": "2023-07-07T10:52:24.688Z"
   },
   {
    "duration": 29,
    "start_time": "2023-07-07T10:52:24.705Z"
   },
   {
    "duration": 6,
    "start_time": "2023-07-07T10:52:24.736Z"
   },
   {
    "duration": 33,
    "start_time": "2023-07-07T10:52:24.744Z"
   },
   {
    "duration": 9,
    "start_time": "2023-07-07T10:52:24.779Z"
   },
   {
    "duration": 40,
    "start_time": "2023-07-07T10:52:24.790Z"
   },
   {
    "duration": 116,
    "start_time": "2023-07-07T10:52:24.832Z"
   },
   {
    "duration": 158,
    "start_time": "2023-07-07T10:52:24.951Z"
   },
   {
    "duration": 5,
    "start_time": "2023-07-07T10:52:25.110Z"
   },
   {
    "duration": 19,
    "start_time": "2023-07-07T10:52:25.117Z"
   },
   {
    "duration": 15,
    "start_time": "2023-07-07T10:52:25.138Z"
   },
   {
    "duration": 17,
    "start_time": "2023-07-07T10:52:25.154Z"
   },
   {
    "duration": 23,
    "start_time": "2023-07-07T10:52:25.173Z"
   },
   {
    "duration": 25,
    "start_time": "2023-07-07T10:52:25.200Z"
   },
   {
    "duration": 10,
    "start_time": "2023-07-07T10:52:25.226Z"
   },
   {
    "duration": 14,
    "start_time": "2023-07-07T10:52:25.238Z"
   },
   {
    "duration": 21,
    "start_time": "2023-07-07T10:52:25.254Z"
   },
   {
    "duration": 3,
    "start_time": "2023-07-07T10:52:25.277Z"
   },
   {
    "duration": 27,
    "start_time": "2023-07-07T10:52:25.282Z"
   },
   {
    "duration": 14,
    "start_time": "2023-07-07T10:52:25.311Z"
   },
   {
    "duration": 17,
    "start_time": "2023-07-07T10:52:25.327Z"
   },
   {
    "duration": 207,
    "start_time": "2023-07-07T10:52:25.369Z"
   },
   {
    "duration": 266,
    "start_time": "2023-07-07T10:52:25.577Z"
   },
   {
    "duration": 4,
    "start_time": "2023-07-07T10:52:25.845Z"
   },
   {
    "duration": 41,
    "start_time": "2023-07-07T10:52:25.851Z"
   },
   {
    "duration": 7,
    "start_time": "2023-07-07T10:52:25.894Z"
   },
   {
    "duration": 13,
    "start_time": "2023-07-07T10:52:25.902Z"
   },
   {
    "duration": 18,
    "start_time": "2023-07-07T10:52:25.917Z"
   },
   {
    "duration": 311,
    "start_time": "2023-07-07T10:52:25.936Z"
   },
   {
    "duration": 20,
    "start_time": "2023-07-07T10:52:26.249Z"
   },
   {
    "duration": 10,
    "start_time": "2023-07-07T10:52:26.270Z"
   },
   {
    "duration": 195,
    "start_time": "2023-07-07T10:52:26.281Z"
   },
   {
    "duration": 7,
    "start_time": "2023-07-07T10:52:26.478Z"
   },
   {
    "duration": 162,
    "start_time": "2023-07-07T10:52:26.487Z"
   },
   {
    "duration": 19,
    "start_time": "2023-07-07T10:52:26.651Z"
   },
   {
    "duration": 165,
    "start_time": "2023-07-07T10:52:26.671Z"
   },
   {
    "duration": 14,
    "start_time": "2023-07-07T10:52:26.839Z"
   },
   {
    "duration": 1404,
    "start_time": "2023-07-07T10:52:26.855Z"
   },
   {
    "duration": 17,
    "start_time": "2023-07-07T10:52:28.268Z"
   },
   {
    "duration": 213,
    "start_time": "2023-07-07T10:52:28.287Z"
   },
   {
    "duration": 5,
    "start_time": "2023-07-07T10:52:28.502Z"
   },
   {
    "duration": 18,
    "start_time": "2023-07-07T10:52:28.509Z"
   },
   {
    "duration": 431,
    "start_time": "2023-07-07T10:52:28.529Z"
   },
   {
    "duration": 430,
    "start_time": "2023-07-07T10:52:28.967Z"
   },
   {
    "duration": 415,
    "start_time": "2023-07-07T10:52:29.399Z"
   },
   {
    "duration": 540,
    "start_time": "2023-07-07T10:52:29.815Z"
   },
   {
    "duration": 445,
    "start_time": "2023-07-07T10:52:30.358Z"
   },
   {
    "duration": 456,
    "start_time": "2023-07-07T10:52:30.805Z"
   },
   {
    "duration": 11,
    "start_time": "2023-07-07T10:52:31.263Z"
   },
   {
    "duration": 68,
    "start_time": "2023-07-07T10:52:31.276Z"
   },
   {
    "duration": 25,
    "start_time": "2023-07-07T11:18:57.321Z"
   },
   {
    "duration": 205,
    "start_time": "2023-07-08T08:49:13.688Z"
   },
   {
    "duration": 71,
    "start_time": "2023-07-08T08:49:41.828Z"
   },
   {
    "duration": 1557,
    "start_time": "2023-07-08T08:49:59.332Z"
   },
   {
    "duration": 198,
    "start_time": "2023-07-08T08:50:03.823Z"
   },
   {
    "duration": 222,
    "start_time": "2023-07-08T08:50:10.884Z"
   },
   {
    "duration": 99,
    "start_time": "2023-07-08T08:51:22.153Z"
   },
   {
    "duration": 371,
    "start_time": "2023-07-08T08:52:00.824Z"
   },
   {
    "duration": 17,
    "start_time": "2023-07-08T08:55:36.635Z"
   },
   {
    "duration": 23,
    "start_time": "2023-07-08T08:55:58.755Z"
   },
   {
    "duration": 11,
    "start_time": "2023-07-08T08:56:07.680Z"
   },
   {
    "duration": 1340,
    "start_time": "2023-07-08T08:57:45.670Z"
   },
   {
    "duration": 1380,
    "start_time": "2023-07-08T08:57:53.928Z"
   },
   {
    "duration": 61,
    "start_time": "2023-07-08T08:57:55.311Z"
   },
   {
    "duration": 21,
    "start_time": "2023-07-08T08:57:55.374Z"
   },
   {
    "duration": 20,
    "start_time": "2023-07-08T08:57:55.397Z"
   },
   {
    "duration": 12,
    "start_time": "2023-07-08T08:57:55.421Z"
   },
   {
    "duration": 43,
    "start_time": "2023-07-08T08:57:55.435Z"
   },
   {
    "duration": 1217,
    "start_time": "2023-07-08T08:57:55.480Z"
   },
   {
    "duration": 0,
    "start_time": "2023-07-08T08:57:56.701Z"
   },
   {
    "duration": 0,
    "start_time": "2023-07-08T08:57:56.703Z"
   },
   {
    "duration": 0,
    "start_time": "2023-07-08T08:57:56.704Z"
   },
   {
    "duration": 0,
    "start_time": "2023-07-08T08:57:56.706Z"
   },
   {
    "duration": 0,
    "start_time": "2023-07-08T08:57:56.707Z"
   },
   {
    "duration": 0,
    "start_time": "2023-07-08T08:57:56.708Z"
   },
   {
    "duration": 0,
    "start_time": "2023-07-08T08:57:56.709Z"
   },
   {
    "duration": 0,
    "start_time": "2023-07-08T08:57:56.710Z"
   },
   {
    "duration": 0,
    "start_time": "2023-07-08T08:57:56.711Z"
   },
   {
    "duration": 0,
    "start_time": "2023-07-08T08:57:56.712Z"
   },
   {
    "duration": 0,
    "start_time": "2023-07-08T08:57:56.713Z"
   },
   {
    "duration": 0,
    "start_time": "2023-07-08T08:57:56.714Z"
   },
   {
    "duration": 0,
    "start_time": "2023-07-08T08:57:56.716Z"
   },
   {
    "duration": 0,
    "start_time": "2023-07-08T08:57:56.717Z"
   },
   {
    "duration": 0,
    "start_time": "2023-07-08T08:57:56.718Z"
   },
   {
    "duration": 0,
    "start_time": "2023-07-08T08:57:56.719Z"
   },
   {
    "duration": 0,
    "start_time": "2023-07-08T08:57:56.721Z"
   },
   {
    "duration": 0,
    "start_time": "2023-07-08T08:57:56.722Z"
   },
   {
    "duration": 0,
    "start_time": "2023-07-08T08:57:56.724Z"
   },
   {
    "duration": 0,
    "start_time": "2023-07-08T08:57:56.727Z"
   },
   {
    "duration": 0,
    "start_time": "2023-07-08T08:57:56.728Z"
   },
   {
    "duration": 0,
    "start_time": "2023-07-08T08:57:56.730Z"
   },
   {
    "duration": 0,
    "start_time": "2023-07-08T08:57:56.730Z"
   },
   {
    "duration": 0,
    "start_time": "2023-07-08T08:57:56.732Z"
   },
   {
    "duration": 0,
    "start_time": "2023-07-08T08:57:56.760Z"
   },
   {
    "duration": 0,
    "start_time": "2023-07-08T08:57:56.761Z"
   },
   {
    "duration": 0,
    "start_time": "2023-07-08T08:57:56.762Z"
   },
   {
    "duration": 0,
    "start_time": "2023-07-08T08:57:56.763Z"
   },
   {
    "duration": 0,
    "start_time": "2023-07-08T08:57:56.765Z"
   },
   {
    "duration": 0,
    "start_time": "2023-07-08T08:57:56.767Z"
   },
   {
    "duration": 0,
    "start_time": "2023-07-08T08:57:56.768Z"
   },
   {
    "duration": 0,
    "start_time": "2023-07-08T08:57:56.770Z"
   },
   {
    "duration": 0,
    "start_time": "2023-07-08T08:57:56.771Z"
   },
   {
    "duration": 0,
    "start_time": "2023-07-08T08:57:56.773Z"
   },
   {
    "duration": 0,
    "start_time": "2023-07-08T08:57:56.774Z"
   },
   {
    "duration": 0,
    "start_time": "2023-07-08T08:57:56.779Z"
   },
   {
    "duration": 0,
    "start_time": "2023-07-08T08:57:56.781Z"
   },
   {
    "duration": 0,
    "start_time": "2023-07-08T08:57:56.782Z"
   },
   {
    "duration": 0,
    "start_time": "2023-07-08T08:57:56.784Z"
   },
   {
    "duration": 0,
    "start_time": "2023-07-08T08:57:56.785Z"
   },
   {
    "duration": 0,
    "start_time": "2023-07-08T08:57:56.787Z"
   },
   {
    "duration": 0,
    "start_time": "2023-07-08T08:57:56.788Z"
   },
   {
    "duration": 0,
    "start_time": "2023-07-08T08:57:56.789Z"
   },
   {
    "duration": 0,
    "start_time": "2023-07-08T08:57:56.790Z"
   },
   {
    "duration": 0,
    "start_time": "2023-07-08T08:57:56.792Z"
   },
   {
    "duration": 0,
    "start_time": "2023-07-08T08:57:56.793Z"
   },
   {
    "duration": 0,
    "start_time": "2023-07-08T08:57:56.794Z"
   },
   {
    "duration": 0,
    "start_time": "2023-07-08T08:57:56.796Z"
   },
   {
    "duration": 0,
    "start_time": "2023-07-08T08:57:56.797Z"
   },
   {
    "duration": 0,
    "start_time": "2023-07-08T08:57:56.798Z"
   },
   {
    "duration": 0,
    "start_time": "2023-07-08T08:57:56.800Z"
   },
   {
    "duration": 0,
    "start_time": "2023-07-08T08:57:56.801Z"
   },
   {
    "duration": 0,
    "start_time": "2023-07-08T08:57:56.802Z"
   },
   {
    "duration": 0,
    "start_time": "2023-07-08T08:57:56.804Z"
   },
   {
    "duration": 0,
    "start_time": "2023-07-08T08:57:56.804Z"
   },
   {
    "duration": 0,
    "start_time": "2023-07-08T08:57:56.806Z"
   },
   {
    "duration": 11,
    "start_time": "2023-07-08T08:59:06.807Z"
   },
   {
    "duration": 26,
    "start_time": "2023-07-08T08:59:06.820Z"
   },
   {
    "duration": 3,
    "start_time": "2023-07-08T08:59:06.848Z"
   },
   {
    "duration": 30,
    "start_time": "2023-07-08T08:59:06.852Z"
   },
   {
    "duration": 8,
    "start_time": "2023-07-08T08:59:06.885Z"
   },
   {
    "duration": 7,
    "start_time": "2023-07-08T08:59:06.894Z"
   },
   {
    "duration": 12,
    "start_time": "2023-07-08T08:59:06.902Z"
   },
   {
    "duration": 72,
    "start_time": "2023-07-08T08:59:06.916Z"
   },
   {
    "duration": 20,
    "start_time": "2023-07-08T08:59:06.991Z"
   },
   {
    "duration": 16,
    "start_time": "2023-07-08T08:59:07.014Z"
   },
   {
    "duration": 7,
    "start_time": "2023-07-08T08:59:07.032Z"
   },
   {
    "duration": 26,
    "start_time": "2023-07-08T08:59:07.041Z"
   },
   {
    "duration": 13,
    "start_time": "2023-07-08T08:59:07.069Z"
   },
   {
    "duration": 17,
    "start_time": "2023-07-08T08:59:07.086Z"
   },
   {
    "duration": 140,
    "start_time": "2023-07-08T08:59:07.105Z"
   },
   {
    "duration": 167,
    "start_time": "2023-07-08T08:59:07.247Z"
   },
   {
    "duration": 6,
    "start_time": "2023-07-08T08:59:07.415Z"
   },
   {
    "duration": 23,
    "start_time": "2023-07-08T08:59:07.422Z"
   },
   {
    "duration": 57,
    "start_time": "2023-07-08T08:59:07.447Z"
   },
   {
    "duration": 7,
    "start_time": "2023-07-08T08:59:07.506Z"
   },
   {
    "duration": 17,
    "start_time": "2023-07-08T08:59:07.515Z"
   },
   {
    "duration": 13,
    "start_time": "2023-07-08T08:59:07.534Z"
   },
   {
    "duration": 14,
    "start_time": "2023-07-08T08:59:07.549Z"
   },
   {
    "duration": 20,
    "start_time": "2023-07-08T08:59:07.570Z"
   },
   {
    "duration": 16,
    "start_time": "2023-07-08T08:59:07.592Z"
   },
   {
    "duration": 22,
    "start_time": "2023-07-08T08:59:07.609Z"
   },
   {
    "duration": 90,
    "start_time": "2023-07-08T08:59:07.633Z"
   },
   {
    "duration": 130,
    "start_time": "2023-07-08T08:59:07.725Z"
   },
   {
    "duration": 72,
    "start_time": "2023-07-08T08:59:07.856Z"
   },
   {
    "duration": 249,
    "start_time": "2023-07-08T08:59:07.931Z"
   },
   {
    "duration": 279,
    "start_time": "2023-07-08T08:59:08.183Z"
   },
   {
    "duration": 7,
    "start_time": "2023-07-08T08:59:08.464Z"
   },
   {
    "duration": 43,
    "start_time": "2023-07-08T08:59:08.473Z"
   },
   {
    "duration": 8,
    "start_time": "2023-07-08T08:59:08.518Z"
   },
   {
    "duration": 15,
    "start_time": "2023-07-08T08:59:08.528Z"
   },
   {
    "duration": 26,
    "start_time": "2023-07-08T08:59:08.544Z"
   },
   {
    "duration": 350,
    "start_time": "2023-07-08T08:59:08.572Z"
   },
   {
    "duration": 11,
    "start_time": "2023-07-08T08:59:08.923Z"
   },
   {
    "duration": 5,
    "start_time": "2023-07-08T08:59:08.936Z"
   },
   {
    "duration": 236,
    "start_time": "2023-07-08T08:59:08.963Z"
   },
   {
    "duration": 9,
    "start_time": "2023-07-08T08:59:09.204Z"
   },
   {
    "duration": 211,
    "start_time": "2023-07-08T08:59:09.216Z"
   },
   {
    "duration": 5,
    "start_time": "2023-07-08T08:59:09.429Z"
   },
   {
    "duration": 214,
    "start_time": "2023-07-08T08:59:09.435Z"
   },
   {
    "duration": 15,
    "start_time": "2023-07-08T08:59:09.660Z"
   },
   {
    "duration": 1621,
    "start_time": "2023-07-08T08:59:09.676Z"
   },
   {
    "duration": 23,
    "start_time": "2023-07-08T08:59:11.299Z"
   },
   {
    "duration": 259,
    "start_time": "2023-07-08T08:59:11.324Z"
   },
   {
    "duration": 7,
    "start_time": "2023-07-08T08:59:11.585Z"
   },
   {
    "duration": 10,
    "start_time": "2023-07-08T08:59:11.593Z"
   },
   {
    "duration": 528,
    "start_time": "2023-07-08T08:59:11.607Z"
   },
   {
    "duration": 503,
    "start_time": "2023-07-08T08:59:12.136Z"
   },
   {
    "duration": 488,
    "start_time": "2023-07-08T08:59:12.641Z"
   },
   {
    "duration": 673,
    "start_time": "2023-07-08T08:59:13.131Z"
   },
   {
    "duration": 565,
    "start_time": "2023-07-08T08:59:13.808Z"
   },
   {
    "duration": 574,
    "start_time": "2023-07-08T08:59:14.375Z"
   },
   {
    "duration": 16,
    "start_time": "2023-07-08T08:59:14.951Z"
   },
   {
    "duration": 16,
    "start_time": "2023-07-08T08:59:14.968Z"
   },
   {
    "duration": 6,
    "start_time": "2023-07-08T09:00:31.948Z"
   },
   {
    "duration": 5,
    "start_time": "2023-07-08T09:00:52.102Z"
   },
   {
    "duration": 9,
    "start_time": "2023-07-08T09:04:02.640Z"
   },
   {
    "duration": 13,
    "start_time": "2023-07-08T09:06:03.320Z"
   },
   {
    "duration": 7,
    "start_time": "2023-07-08T09:06:56.110Z"
   },
   {
    "duration": 39,
    "start_time": "2023-07-08T09:11:00.698Z"
   },
   {
    "duration": 114,
    "start_time": "2023-07-08T09:12:03.212Z"
   },
   {
    "duration": 1562,
    "start_time": "2023-07-08T09:13:24.252Z"
   },
   {
    "duration": 75,
    "start_time": "2023-07-08T09:13:25.817Z"
   },
   {
    "duration": 24,
    "start_time": "2023-07-08T09:13:25.895Z"
   },
   {
    "duration": 24,
    "start_time": "2023-07-08T09:13:25.925Z"
   },
   {
    "duration": 26,
    "start_time": "2023-07-08T09:13:25.952Z"
   },
   {
    "duration": 5,
    "start_time": "2023-07-08T09:13:25.986Z"
   },
   {
    "duration": 34,
    "start_time": "2023-07-08T09:13:25.994Z"
   },
   {
    "duration": 22,
    "start_time": "2023-07-08T09:13:26.030Z"
   },
   {
    "duration": 31,
    "start_time": "2023-07-08T09:13:26.054Z"
   },
   {
    "duration": 7,
    "start_time": "2023-07-08T09:13:26.090Z"
   },
   {
    "duration": 13,
    "start_time": "2023-07-08T09:13:26.101Z"
   },
   {
    "duration": 11,
    "start_time": "2023-07-08T09:13:26.117Z"
   },
   {
    "duration": 9,
    "start_time": "2023-07-08T09:13:26.131Z"
   },
   {
    "duration": 20,
    "start_time": "2023-07-08T09:13:26.145Z"
   },
   {
    "duration": 56,
    "start_time": "2023-07-08T09:13:26.168Z"
   },
   {
    "duration": 14,
    "start_time": "2023-07-08T09:13:26.226Z"
   },
   {
    "duration": 16,
    "start_time": "2023-07-08T09:13:26.241Z"
   },
   {
    "duration": 7,
    "start_time": "2023-07-08T09:13:26.262Z"
   },
   {
    "duration": 20,
    "start_time": "2023-07-08T09:13:26.273Z"
   },
   {
    "duration": 14,
    "start_time": "2023-07-08T09:13:26.297Z"
   },
   {
    "duration": 21,
    "start_time": "2023-07-08T09:13:26.314Z"
   },
   {
    "duration": 141,
    "start_time": "2023-07-08T09:13:26.337Z"
   },
   {
    "duration": 173,
    "start_time": "2023-07-08T09:13:26.483Z"
   },
   {
    "duration": 13,
    "start_time": "2023-07-08T09:13:26.658Z"
   },
   {
    "duration": 25,
    "start_time": "2023-07-08T09:13:26.674Z"
   },
   {
    "duration": 19,
    "start_time": "2023-07-08T09:13:26.701Z"
   },
   {
    "duration": 10,
    "start_time": "2023-07-08T09:13:26.722Z"
   },
   {
    "duration": 33,
    "start_time": "2023-07-08T09:13:26.735Z"
   },
   {
    "duration": 26,
    "start_time": "2023-07-08T09:13:26.773Z"
   },
   {
    "duration": 9,
    "start_time": "2023-07-08T09:13:26.801Z"
   },
   {
    "duration": 15,
    "start_time": "2023-07-08T09:13:26.812Z"
   },
   {
    "duration": 18,
    "start_time": "2023-07-08T09:13:26.830Z"
   },
   {
    "duration": 20,
    "start_time": "2023-07-08T09:13:26.851Z"
   },
   {
    "duration": 45,
    "start_time": "2023-07-08T09:13:26.873Z"
   },
   {
    "duration": 24,
    "start_time": "2023-07-08T09:13:26.921Z"
   },
   {
    "duration": 24,
    "start_time": "2023-07-08T09:13:26.947Z"
   },
   {
    "duration": 304,
    "start_time": "2023-07-08T09:13:26.973Z"
   },
   {
    "duration": 358,
    "start_time": "2023-07-08T09:13:27.278Z"
   },
   {
    "duration": 5,
    "start_time": "2023-07-08T09:13:27.638Z"
   },
   {
    "duration": 64,
    "start_time": "2023-07-08T09:13:27.645Z"
   },
   {
    "duration": 12,
    "start_time": "2023-07-08T09:13:27.715Z"
   },
   {
    "duration": 52,
    "start_time": "2023-07-08T09:13:27.728Z"
   },
   {
    "duration": 22,
    "start_time": "2023-07-08T09:13:27.783Z"
   },
   {
    "duration": 1687,
    "start_time": "2023-07-08T09:13:27.808Z"
   },
   {
    "duration": 0,
    "start_time": "2023-07-08T09:13:29.500Z"
   },
   {
    "duration": 0,
    "start_time": "2023-07-08T09:13:29.501Z"
   },
   {
    "duration": 0,
    "start_time": "2023-07-08T09:13:29.504Z"
   },
   {
    "duration": 0,
    "start_time": "2023-07-08T09:13:29.506Z"
   },
   {
    "duration": 0,
    "start_time": "2023-07-08T09:13:29.508Z"
   },
   {
    "duration": 0,
    "start_time": "2023-07-08T09:13:29.511Z"
   },
   {
    "duration": 0,
    "start_time": "2023-07-08T09:13:29.513Z"
   },
   {
    "duration": 0,
    "start_time": "2023-07-08T09:13:29.516Z"
   },
   {
    "duration": 0,
    "start_time": "2023-07-08T09:13:29.517Z"
   },
   {
    "duration": 0,
    "start_time": "2023-07-08T09:13:29.519Z"
   },
   {
    "duration": 0,
    "start_time": "2023-07-08T09:13:29.521Z"
   },
   {
    "duration": 0,
    "start_time": "2023-07-08T09:13:29.522Z"
   },
   {
    "duration": 0,
    "start_time": "2023-07-08T09:13:29.523Z"
   },
   {
    "duration": 0,
    "start_time": "2023-07-08T09:13:29.526Z"
   },
   {
    "duration": 0,
    "start_time": "2023-07-08T09:13:29.527Z"
   },
   {
    "duration": 0,
    "start_time": "2023-07-08T09:13:29.529Z"
   },
   {
    "duration": 0,
    "start_time": "2023-07-08T09:13:29.530Z"
   },
   {
    "duration": 0,
    "start_time": "2023-07-08T09:13:29.531Z"
   },
   {
    "duration": 0,
    "start_time": "2023-07-08T09:13:29.532Z"
   },
   {
    "duration": 0,
    "start_time": "2023-07-08T09:13:29.533Z"
   },
   {
    "duration": 0,
    "start_time": "2023-07-08T09:13:29.534Z"
   },
   {
    "duration": 394,
    "start_time": "2023-07-08T09:15:05.831Z"
   },
   {
    "duration": 9,
    "start_time": "2023-07-08T09:16:04.676Z"
   },
   {
    "duration": 5,
    "start_time": "2023-07-08T09:16:06.999Z"
   },
   {
    "duration": 20,
    "start_time": "2023-07-08T09:16:07.677Z"
   },
   {
    "duration": 1580,
    "start_time": "2023-07-08T09:16:09.314Z"
   },
   {
    "duration": 241,
    "start_time": "2023-07-08T09:19:37.088Z"
   },
   {
    "duration": 249,
    "start_time": "2023-07-08T09:19:56.488Z"
   },
   {
    "duration": 5,
    "start_time": "2023-07-08T09:20:27.614Z"
   },
   {
    "duration": 39,
    "start_time": "2023-07-08T09:20:33.044Z"
   },
   {
    "duration": 12,
    "start_time": "2023-07-08T09:20:41.405Z"
   },
   {
    "duration": 4,
    "start_time": "2023-07-08T09:20:59.405Z"
   },
   {
    "duration": 14,
    "start_time": "2023-07-08T09:20:59.894Z"
   },
   {
    "duration": 1747,
    "start_time": "2023-07-08T09:21:00.668Z"
   },
   {
    "duration": 14,
    "start_time": "2023-07-08T09:21:26.380Z"
   },
   {
    "duration": 352,
    "start_time": "2023-07-08T09:21:27.145Z"
   },
   {
    "duration": 272,
    "start_time": "2023-07-08T09:23:36.815Z"
   },
   {
    "duration": 3,
    "start_time": "2023-07-08T09:23:40.205Z"
   },
   {
    "duration": 5,
    "start_time": "2023-07-08T09:23:57.705Z"
   },
   {
    "duration": 230,
    "start_time": "2023-07-08T09:24:40.856Z"
   },
   {
    "duration": 353,
    "start_time": "2023-07-08T09:25:03.255Z"
   },
   {
    "duration": 4,
    "start_time": "2023-07-08T09:25:04.526Z"
   },
   {
    "duration": 403,
    "start_time": "2023-07-08T09:25:34.005Z"
   },
   {
    "duration": 1412,
    "start_time": "2023-07-08T09:27:05.346Z"
   },
   {
    "duration": 5,
    "start_time": "2023-07-08T09:29:21.917Z"
   },
   {
    "duration": 22,
    "start_time": "2023-07-08T09:29:22.688Z"
   },
   {
    "duration": 209,
    "start_time": "2023-07-08T09:29:23.606Z"
   },
   {
    "duration": 16,
    "start_time": "2023-07-08T09:29:28.705Z"
   },
   {
    "duration": 445,
    "start_time": "2023-07-08T09:29:29.247Z"
   },
   {
    "duration": 522,
    "start_time": "2023-07-08T09:29:30.007Z"
   },
   {
    "duration": 5,
    "start_time": "2023-07-08T09:31:55.959Z"
   },
   {
    "duration": 18,
    "start_time": "2023-07-08T09:31:56.548Z"
   },
   {
    "duration": 181,
    "start_time": "2023-07-08T09:31:57.148Z"
   },
   {
    "duration": 22,
    "start_time": "2023-07-08T09:32:45.449Z"
   },
   {
    "duration": 397,
    "start_time": "2023-07-08T09:32:46.008Z"
   },
   {
    "duration": 397,
    "start_time": "2023-07-08T09:33:19.973Z"
   },
   {
    "duration": 1363,
    "start_time": "2023-07-08T09:33:50.709Z"
   },
   {
    "duration": 61,
    "start_time": "2023-07-08T09:33:52.080Z"
   },
   {
    "duration": 22,
    "start_time": "2023-07-08T09:33:52.143Z"
   },
   {
    "duration": 41,
    "start_time": "2023-07-08T09:33:52.168Z"
   },
   {
    "duration": 12,
    "start_time": "2023-07-08T09:33:52.211Z"
   },
   {
    "duration": 22,
    "start_time": "2023-07-08T09:33:52.225Z"
   },
   {
    "duration": 44,
    "start_time": "2023-07-08T09:33:52.248Z"
   },
   {
    "duration": 21,
    "start_time": "2023-07-08T09:33:52.299Z"
   },
   {
    "duration": 5,
    "start_time": "2023-07-08T09:33:52.322Z"
   },
   {
    "duration": 13,
    "start_time": "2023-07-08T09:33:52.333Z"
   },
   {
    "duration": 17,
    "start_time": "2023-07-08T09:33:52.348Z"
   },
   {
    "duration": 21,
    "start_time": "2023-07-08T09:33:52.367Z"
   },
   {
    "duration": 20,
    "start_time": "2023-07-08T09:33:52.389Z"
   },
   {
    "duration": 25,
    "start_time": "2023-07-08T09:33:52.411Z"
   },
   {
    "duration": 49,
    "start_time": "2023-07-08T09:33:52.438Z"
   },
   {
    "duration": 23,
    "start_time": "2023-07-08T09:33:52.489Z"
   },
   {
    "duration": 14,
    "start_time": "2023-07-08T09:33:52.514Z"
   },
   {
    "duration": 41,
    "start_time": "2023-07-08T09:33:52.530Z"
   },
   {
    "duration": 12,
    "start_time": "2023-07-08T09:33:52.575Z"
   },
   {
    "duration": 22,
    "start_time": "2023-07-08T09:33:52.589Z"
   },
   {
    "duration": 20,
    "start_time": "2023-07-08T09:33:52.613Z"
   },
   {
    "duration": 152,
    "start_time": "2023-07-08T09:33:52.635Z"
   },
   {
    "duration": 158,
    "start_time": "2023-07-08T09:33:52.790Z"
   },
   {
    "duration": 6,
    "start_time": "2023-07-08T09:33:52.950Z"
   },
   {
    "duration": 34,
    "start_time": "2023-07-08T09:33:52.959Z"
   },
   {
    "duration": 13,
    "start_time": "2023-07-08T09:33:52.996Z"
   },
   {
    "duration": 14,
    "start_time": "2023-07-08T09:33:53.011Z"
   },
   {
    "duration": 18,
    "start_time": "2023-07-08T09:33:53.029Z"
   },
   {
    "duration": 17,
    "start_time": "2023-07-08T09:33:53.049Z"
   },
   {
    "duration": 12,
    "start_time": "2023-07-08T09:33:53.069Z"
   },
   {
    "duration": 18,
    "start_time": "2023-07-08T09:33:53.082Z"
   },
   {
    "duration": 21,
    "start_time": "2023-07-08T09:33:53.103Z"
   },
   {
    "duration": 16,
    "start_time": "2023-07-08T09:33:53.126Z"
   },
   {
    "duration": 42,
    "start_time": "2023-07-08T09:33:53.144Z"
   },
   {
    "duration": 21,
    "start_time": "2023-07-08T09:33:53.189Z"
   },
   {
    "duration": 20,
    "start_time": "2023-07-08T09:33:53.211Z"
   },
   {
    "duration": 296,
    "start_time": "2023-07-08T09:33:53.233Z"
   },
   {
    "duration": 301,
    "start_time": "2023-07-08T09:33:53.532Z"
   },
   {
    "duration": 6,
    "start_time": "2023-07-08T09:33:53.835Z"
   },
   {
    "duration": 273,
    "start_time": "2023-07-08T09:33:53.844Z"
   },
   {
    "duration": 6,
    "start_time": "2023-07-08T09:33:54.124Z"
   },
   {
    "duration": 71,
    "start_time": "2023-07-08T09:33:54.132Z"
   },
   {
    "duration": 4,
    "start_time": "2023-07-08T09:33:54.206Z"
   },
   {
    "duration": 17,
    "start_time": "2023-07-08T09:33:54.213Z"
   },
   {
    "duration": 173,
    "start_time": "2023-07-08T09:33:54.233Z"
   },
   {
    "duration": 0,
    "start_time": "2023-07-08T09:33:54.411Z"
   },
   {
    "duration": 0,
    "start_time": "2023-07-08T09:33:54.413Z"
   },
   {
    "duration": 0,
    "start_time": "2023-07-08T09:33:54.414Z"
   },
   {
    "duration": 0,
    "start_time": "2023-07-08T09:33:54.420Z"
   },
   {
    "duration": 0,
    "start_time": "2023-07-08T09:33:54.421Z"
   },
   {
    "duration": 0,
    "start_time": "2023-07-08T09:33:54.422Z"
   },
   {
    "duration": 0,
    "start_time": "2023-07-08T09:33:54.432Z"
   },
   {
    "duration": 0,
    "start_time": "2023-07-08T09:33:54.437Z"
   },
   {
    "duration": 0,
    "start_time": "2023-07-08T09:33:54.439Z"
   },
   {
    "duration": 0,
    "start_time": "2023-07-08T09:33:54.440Z"
   },
   {
    "duration": 0,
    "start_time": "2023-07-08T09:33:54.441Z"
   },
   {
    "duration": 0,
    "start_time": "2023-07-08T09:33:54.442Z"
   },
   {
    "duration": 0,
    "start_time": "2023-07-08T09:33:54.443Z"
   },
   {
    "duration": 0,
    "start_time": "2023-07-08T09:33:54.445Z"
   },
   {
    "duration": 0,
    "start_time": "2023-07-08T09:33:54.446Z"
   },
   {
    "duration": 0,
    "start_time": "2023-07-08T09:33:54.448Z"
   },
   {
    "duration": 0,
    "start_time": "2023-07-08T09:33:54.450Z"
   },
   {
    "duration": 0,
    "start_time": "2023-07-08T09:33:54.464Z"
   },
   {
    "duration": 0,
    "start_time": "2023-07-08T09:33:54.467Z"
   },
   {
    "duration": 0,
    "start_time": "2023-07-08T09:33:54.468Z"
   },
   {
    "duration": 0,
    "start_time": "2023-07-08T09:33:54.469Z"
   },
   {
    "duration": 0,
    "start_time": "2023-07-08T09:33:54.470Z"
   },
   {
    "duration": 0,
    "start_time": "2023-07-08T09:33:54.474Z"
   },
   {
    "duration": 0,
    "start_time": "2023-07-08T09:33:54.475Z"
   },
   {
    "duration": 16,
    "start_time": "2023-07-08T09:34:58.095Z"
   },
   {
    "duration": 1712,
    "start_time": "2023-07-08T09:34:59.409Z"
   },
   {
    "duration": 13,
    "start_time": "2023-07-08T09:35:10.939Z"
   },
   {
    "duration": 405,
    "start_time": "2023-07-08T09:35:11.409Z"
   },
   {
    "duration": 40,
    "start_time": "2023-07-08T09:39:42.205Z"
   },
   {
    "duration": 42,
    "start_time": "2023-07-08T09:39:44.974Z"
   },
   {
    "duration": 21,
    "start_time": "2023-07-08T09:39:55.101Z"
   },
   {
    "duration": 30,
    "start_time": "2023-07-08T09:39:59.984Z"
   },
   {
    "duration": 1968,
    "start_time": "2023-07-08T09:41:44.097Z"
   },
   {
    "duration": 459,
    "start_time": "2023-07-08T09:41:51.796Z"
   },
   {
    "duration": 352,
    "start_time": "2023-07-08T09:42:14.393Z"
   },
   {
    "duration": 22,
    "start_time": "2023-07-08T09:43:28.091Z"
   },
   {
    "duration": 5,
    "start_time": "2023-07-08T09:43:30.984Z"
   },
   {
    "duration": 4,
    "start_time": "2023-07-08T09:43:32.942Z"
   },
   {
    "duration": 14,
    "start_time": "2023-07-08T09:43:33.442Z"
   },
   {
    "duration": 424,
    "start_time": "2023-07-08T09:43:35.111Z"
   },
   {
    "duration": 15,
    "start_time": "2023-07-08T09:43:45.892Z"
   },
   {
    "duration": 356,
    "start_time": "2023-07-08T09:43:46.642Z"
   },
   {
    "duration": 23,
    "start_time": "2023-07-08T09:44:34.622Z"
   },
   {
    "duration": 3,
    "start_time": "2023-07-08T09:44:36.352Z"
   },
   {
    "duration": 4,
    "start_time": "2023-07-08T09:44:38.032Z"
   },
   {
    "duration": 12,
    "start_time": "2023-07-08T09:44:38.432Z"
   },
   {
    "duration": 349,
    "start_time": "2023-07-08T09:44:39.342Z"
   },
   {
    "duration": 26,
    "start_time": "2023-07-08T09:46:05.880Z"
   },
   {
    "duration": 459,
    "start_time": "2023-07-08T09:46:06.481Z"
   },
   {
    "duration": 11,
    "start_time": "2023-07-08T09:46:35.305Z"
   },
   {
    "duration": 4,
    "start_time": "2023-07-08T09:46:37.310Z"
   },
   {
    "duration": 25,
    "start_time": "2023-07-08T09:46:37.683Z"
   },
   {
    "duration": 402,
    "start_time": "2023-07-08T09:46:38.089Z"
   },
   {
    "duration": 33,
    "start_time": "2023-07-08T09:46:39.497Z"
   },
   {
    "duration": 410,
    "start_time": "2023-07-08T09:46:40.217Z"
   },
   {
    "duration": 12,
    "start_time": "2023-07-08T09:48:56.105Z"
   },
   {
    "duration": 240,
    "start_time": "2023-07-08T09:49:36.386Z"
   },
   {
    "duration": 3,
    "start_time": "2023-07-08T09:50:00.954Z"
   },
   {
    "duration": 409,
    "start_time": "2023-07-08T09:50:02.304Z"
   },
   {
    "duration": 20,
    "start_time": "2023-07-08T09:50:55.554Z"
   },
   {
    "duration": 6,
    "start_time": "2023-07-08T09:50:56.982Z"
   },
   {
    "duration": 252,
    "start_time": "2023-07-08T09:50:58.185Z"
   },
   {
    "duration": 227,
    "start_time": "2023-07-08T09:51:57.505Z"
   },
   {
    "duration": 238,
    "start_time": "2023-07-08T09:52:10.078Z"
   },
   {
    "duration": 10,
    "start_time": "2023-07-08T09:53:08.594Z"
   },
   {
    "duration": 244,
    "start_time": "2023-07-08T09:53:11.293Z"
   },
   {
    "duration": 231,
    "start_time": "2023-07-08T09:53:23.220Z"
   },
   {
    "duration": 9,
    "start_time": "2023-07-08T09:54:49.916Z"
   },
   {
    "duration": 223,
    "start_time": "2023-07-08T09:54:50.736Z"
   },
   {
    "duration": 214,
    "start_time": "2023-07-08T09:54:56.782Z"
   },
   {
    "duration": 6,
    "start_time": "2023-07-08T09:55:03.816Z"
   },
   {
    "duration": 8,
    "start_time": "2023-07-08T09:55:22.593Z"
   },
   {
    "duration": 240,
    "start_time": "2023-07-08T09:55:23.671Z"
   },
   {
    "duration": 18,
    "start_time": "2023-07-08T09:56:13.899Z"
   },
   {
    "duration": 1905,
    "start_time": "2023-07-08T09:56:19.237Z"
   },
   {
    "duration": 14,
    "start_time": "2023-07-08T09:58:28.317Z"
   },
   {
    "duration": 1772,
    "start_time": "2023-07-08T09:58:29.891Z"
   },
   {
    "duration": 24,
    "start_time": "2023-07-08T09:59:31.030Z"
   },
   {
    "duration": 356,
    "start_time": "2023-07-08T09:59:34.901Z"
   },
   {
    "duration": 34,
    "start_time": "2023-07-08T10:00:06.047Z"
   },
   {
    "duration": 269,
    "start_time": "2023-07-08T10:00:08.963Z"
   },
   {
    "duration": 34,
    "start_time": "2023-07-08T10:00:43.247Z"
   },
   {
    "duration": 1355,
    "start_time": "2023-07-08T10:04:37.585Z"
   },
   {
    "duration": 68,
    "start_time": "2023-07-08T10:04:38.943Z"
   },
   {
    "duration": 19,
    "start_time": "2023-07-08T10:04:39.013Z"
   },
   {
    "duration": 81,
    "start_time": "2023-07-08T10:04:39.034Z"
   },
   {
    "duration": 11,
    "start_time": "2023-07-08T10:04:39.117Z"
   },
   {
    "duration": 28,
    "start_time": "2023-07-08T10:04:39.130Z"
   },
   {
    "duration": 32,
    "start_time": "2023-07-08T10:04:39.170Z"
   },
   {
    "duration": 23,
    "start_time": "2023-07-08T10:04:39.204Z"
   },
   {
    "duration": 6,
    "start_time": "2023-07-08T10:04:39.232Z"
   },
   {
    "duration": 25,
    "start_time": "2023-07-08T10:04:39.242Z"
   },
   {
    "duration": 9,
    "start_time": "2023-07-08T10:04:39.276Z"
   },
   {
    "duration": 11,
    "start_time": "2023-07-08T10:04:39.289Z"
   },
   {
    "duration": 9,
    "start_time": "2023-07-08T10:04:39.303Z"
   },
   {
    "duration": 7,
    "start_time": "2023-07-08T10:04:39.314Z"
   },
   {
    "duration": 48,
    "start_time": "2023-07-08T10:04:39.324Z"
   },
   {
    "duration": 24,
    "start_time": "2023-07-08T10:04:39.374Z"
   },
   {
    "duration": 18,
    "start_time": "2023-07-08T10:04:39.400Z"
   },
   {
    "duration": 5,
    "start_time": "2023-07-08T10:04:39.420Z"
   },
   {
    "duration": 11,
    "start_time": "2023-07-08T10:04:39.427Z"
   },
   {
    "duration": 14,
    "start_time": "2023-07-08T10:04:39.459Z"
   },
   {
    "duration": 23,
    "start_time": "2023-07-08T10:04:39.479Z"
   },
   {
    "duration": 144,
    "start_time": "2023-07-08T10:04:39.504Z"
   },
   {
    "duration": 175,
    "start_time": "2023-07-08T10:04:39.650Z"
   },
   {
    "duration": 7,
    "start_time": "2023-07-08T10:04:39.827Z"
   },
   {
    "duration": 35,
    "start_time": "2023-07-08T10:04:39.836Z"
   },
   {
    "duration": 26,
    "start_time": "2023-07-08T10:04:39.875Z"
   },
   {
    "duration": 7,
    "start_time": "2023-07-08T10:04:39.903Z"
   },
   {
    "duration": 11,
    "start_time": "2023-07-08T10:04:39.916Z"
   },
   {
    "duration": 46,
    "start_time": "2023-07-08T10:04:39.929Z"
   },
   {
    "duration": 11,
    "start_time": "2023-07-08T10:04:39.981Z"
   },
   {
    "duration": 30,
    "start_time": "2023-07-08T10:04:39.997Z"
   },
   {
    "duration": 14,
    "start_time": "2023-07-08T10:04:40.029Z"
   },
   {
    "duration": 5,
    "start_time": "2023-07-08T10:04:40.045Z"
   },
   {
    "duration": 44,
    "start_time": "2023-07-08T10:04:40.052Z"
   },
   {
    "duration": 14,
    "start_time": "2023-07-08T10:04:40.098Z"
   },
   {
    "duration": 18,
    "start_time": "2023-07-08T10:04:40.114Z"
   },
   {
    "duration": 278,
    "start_time": "2023-07-08T10:04:40.135Z"
   },
   {
    "duration": 315,
    "start_time": "2023-07-08T10:04:40.415Z"
   },
   {
    "duration": 5,
    "start_time": "2023-07-08T10:04:40.731Z"
   },
   {
    "duration": 234,
    "start_time": "2023-07-08T10:04:40.738Z"
   },
   {
    "duration": 5,
    "start_time": "2023-07-08T10:04:40.981Z"
   },
   {
    "duration": 37,
    "start_time": "2023-07-08T10:04:40.988Z"
   },
   {
    "duration": 20,
    "start_time": "2023-07-08T10:04:41.027Z"
   },
   {
    "duration": 16,
    "start_time": "2023-07-08T10:04:41.049Z"
   },
   {
    "duration": 28,
    "start_time": "2023-07-08T10:04:41.067Z"
   },
   {
    "duration": 35,
    "start_time": "2023-07-08T10:04:41.097Z"
   },
   {
    "duration": 389,
    "start_time": "2023-07-08T10:04:41.135Z"
   },
   {
    "duration": 16,
    "start_time": "2023-07-08T10:04:41.526Z"
   },
   {
    "duration": 375,
    "start_time": "2023-07-08T10:04:41.545Z"
   },
   {
    "duration": 10,
    "start_time": "2023-07-08T10:04:41.922Z"
   },
   {
    "duration": 5,
    "start_time": "2023-07-08T10:04:41.933Z"
   },
   {
    "duration": 240,
    "start_time": "2023-07-08T10:04:41.964Z"
   },
   {
    "duration": 148,
    "start_time": "2023-07-08T10:04:42.206Z"
   },
   {
    "duration": 0,
    "start_time": "2023-07-08T10:04:42.358Z"
   },
   {
    "duration": 0,
    "start_time": "2023-07-08T10:04:42.359Z"
   },
   {
    "duration": 0,
    "start_time": "2023-07-08T10:04:42.360Z"
   },
   {
    "duration": 0,
    "start_time": "2023-07-08T10:04:42.361Z"
   },
   {
    "duration": 0,
    "start_time": "2023-07-08T10:04:42.362Z"
   },
   {
    "duration": 0,
    "start_time": "2023-07-08T10:04:42.363Z"
   },
   {
    "duration": 0,
    "start_time": "2023-07-08T10:04:42.388Z"
   },
   {
    "duration": 0,
    "start_time": "2023-07-08T10:04:42.391Z"
   },
   {
    "duration": 0,
    "start_time": "2023-07-08T10:04:42.392Z"
   },
   {
    "duration": 0,
    "start_time": "2023-07-08T10:04:42.400Z"
   },
   {
    "duration": 0,
    "start_time": "2023-07-08T10:04:42.401Z"
   },
   {
    "duration": 0,
    "start_time": "2023-07-08T10:04:42.409Z"
   },
   {
    "duration": 0,
    "start_time": "2023-07-08T10:04:42.410Z"
   },
   {
    "duration": 0,
    "start_time": "2023-07-08T10:04:42.411Z"
   },
   {
    "duration": 0,
    "start_time": "2023-07-08T10:04:42.413Z"
   },
   {
    "duration": 0,
    "start_time": "2023-07-08T10:04:42.415Z"
   },
   {
    "duration": 0,
    "start_time": "2023-07-08T10:04:42.416Z"
   },
   {
    "duration": 17,
    "start_time": "2023-07-08T10:05:04.787Z"
   },
   {
    "duration": 11,
    "start_time": "2023-07-08T10:05:14.100Z"
   },
   {
    "duration": 314,
    "start_time": "2023-07-08T10:05:18.711Z"
   },
   {
    "duration": 6,
    "start_time": "2023-07-08T10:05:19.028Z"
   },
   {
    "duration": 30,
    "start_time": "2023-07-08T10:05:19.036Z"
   },
   {
    "duration": 0,
    "start_time": "2023-07-08T10:05:19.069Z"
   },
   {
    "duration": 0,
    "start_time": "2023-07-08T10:05:19.070Z"
   },
   {
    "duration": 0,
    "start_time": "2023-07-08T10:05:19.072Z"
   },
   {
    "duration": 0,
    "start_time": "2023-07-08T10:05:19.073Z"
   },
   {
    "duration": 0,
    "start_time": "2023-07-08T10:05:19.077Z"
   },
   {
    "duration": 0,
    "start_time": "2023-07-08T10:05:19.078Z"
   },
   {
    "duration": 0,
    "start_time": "2023-07-08T10:05:19.081Z"
   },
   {
    "duration": 0,
    "start_time": "2023-07-08T10:05:19.087Z"
   },
   {
    "duration": 0,
    "start_time": "2023-07-08T10:05:19.089Z"
   },
   {
    "duration": 0,
    "start_time": "2023-07-08T10:05:19.090Z"
   },
   {
    "duration": 0,
    "start_time": "2023-07-08T10:05:19.092Z"
   },
   {
    "duration": 0,
    "start_time": "2023-07-08T10:05:19.093Z"
   },
   {
    "duration": 0,
    "start_time": "2023-07-08T10:05:19.097Z"
   },
   {
    "duration": 0,
    "start_time": "2023-07-08T10:05:19.098Z"
   },
   {
    "duration": 262,
    "start_time": "2023-07-08T10:05:45.164Z"
   },
   {
    "duration": 10,
    "start_time": "2023-07-08T10:06:00.241Z"
   },
   {
    "duration": 1863,
    "start_time": "2023-07-08T10:06:00.253Z"
   },
   {
    "duration": 19,
    "start_time": "2023-07-08T10:06:02.118Z"
   },
   {
    "duration": 291,
    "start_time": "2023-07-08T10:06:02.138Z"
   },
   {
    "duration": 9,
    "start_time": "2023-07-08T10:06:02.432Z"
   },
   {
    "duration": 33,
    "start_time": "2023-07-08T10:06:02.444Z"
   },
   {
    "duration": 748,
    "start_time": "2023-07-08T10:06:02.482Z"
   },
   {
    "duration": 598,
    "start_time": "2023-07-08T10:06:03.232Z"
   },
   {
    "duration": 554,
    "start_time": "2023-07-08T10:06:03.832Z"
   },
   {
    "duration": 534,
    "start_time": "2023-07-08T10:06:04.389Z"
   },
   {
    "duration": 525,
    "start_time": "2023-07-08T10:06:04.925Z"
   },
   {
    "duration": 536,
    "start_time": "2023-07-08T10:06:05.452Z"
   },
   {
    "duration": 17,
    "start_time": "2023-07-08T10:06:05.992Z"
   },
   {
    "duration": 12,
    "start_time": "2023-07-08T10:06:06.012Z"
   },
   {
    "duration": 19,
    "start_time": "2023-07-08T10:06:34.365Z"
   },
   {
    "duration": 16,
    "start_time": "2023-07-08T10:06:41.782Z"
   },
   {
    "duration": 1447,
    "start_time": "2023-07-08T10:09:35.552Z"
   },
   {
    "duration": 54,
    "start_time": "2023-07-08T10:09:37.002Z"
   },
   {
    "duration": 32,
    "start_time": "2023-07-08T10:09:37.058Z"
   },
   {
    "duration": 17,
    "start_time": "2023-07-08T10:09:37.092Z"
   },
   {
    "duration": 16,
    "start_time": "2023-07-08T10:09:37.112Z"
   },
   {
    "duration": 5,
    "start_time": "2023-07-08T10:09:37.130Z"
   },
   {
    "duration": 26,
    "start_time": "2023-07-08T10:09:37.165Z"
   },
   {
    "duration": 21,
    "start_time": "2023-07-08T10:09:37.197Z"
   },
   {
    "duration": 5,
    "start_time": "2023-07-08T10:09:37.220Z"
   },
   {
    "duration": 35,
    "start_time": "2023-07-08T10:09:37.227Z"
   },
   {
    "duration": 16,
    "start_time": "2023-07-08T10:09:37.271Z"
   },
   {
    "duration": 19,
    "start_time": "2023-07-08T10:09:37.289Z"
   },
   {
    "duration": 9,
    "start_time": "2023-07-08T10:09:37.310Z"
   },
   {
    "duration": 7,
    "start_time": "2023-07-08T10:09:37.324Z"
   },
   {
    "duration": 49,
    "start_time": "2023-07-08T10:09:37.333Z"
   },
   {
    "duration": 17,
    "start_time": "2023-07-08T10:09:37.384Z"
   },
   {
    "duration": 15,
    "start_time": "2023-07-08T10:09:37.403Z"
   },
   {
    "duration": 5,
    "start_time": "2023-07-08T10:09:37.419Z"
   },
   {
    "duration": 6,
    "start_time": "2023-07-08T10:09:37.426Z"
   },
   {
    "duration": 38,
    "start_time": "2023-07-08T10:09:37.434Z"
   },
   {
    "duration": 20,
    "start_time": "2023-07-08T10:09:37.480Z"
   },
   {
    "duration": 132,
    "start_time": "2023-07-08T10:09:37.505Z"
   },
   {
    "duration": 164,
    "start_time": "2023-07-08T10:09:37.639Z"
   },
   {
    "duration": 6,
    "start_time": "2023-07-08T10:09:37.805Z"
   },
   {
    "duration": 11,
    "start_time": "2023-07-08T10:09:37.812Z"
   },
   {
    "duration": 40,
    "start_time": "2023-07-08T10:09:37.825Z"
   },
   {
    "duration": 9,
    "start_time": "2023-07-08T10:09:37.873Z"
   },
   {
    "duration": 14,
    "start_time": "2023-07-08T10:09:37.884Z"
   },
   {
    "duration": 16,
    "start_time": "2023-07-08T10:09:37.900Z"
   },
   {
    "duration": 10,
    "start_time": "2023-07-08T10:09:37.918Z"
   },
   {
    "duration": 56,
    "start_time": "2023-07-08T10:09:37.931Z"
   },
   {
    "duration": 28,
    "start_time": "2023-07-08T10:09:37.989Z"
   },
   {
    "duration": 5,
    "start_time": "2023-07-08T10:09:38.019Z"
   },
   {
    "duration": 48,
    "start_time": "2023-07-08T10:09:38.027Z"
   },
   {
    "duration": 26,
    "start_time": "2023-07-08T10:09:38.077Z"
   },
   {
    "duration": 18,
    "start_time": "2023-07-08T10:09:38.105Z"
   },
   {
    "duration": 288,
    "start_time": "2023-07-08T10:09:38.125Z"
   },
   {
    "duration": 302,
    "start_time": "2023-07-08T10:09:38.414Z"
   },
   {
    "duration": 5,
    "start_time": "2023-07-08T10:09:38.719Z"
   },
   {
    "duration": 264,
    "start_time": "2023-07-08T10:09:38.726Z"
   },
   {
    "duration": 7,
    "start_time": "2023-07-08T10:09:38.996Z"
   },
   {
    "duration": 37,
    "start_time": "2023-07-08T10:09:39.005Z"
   },
   {
    "duration": 43,
    "start_time": "2023-07-08T10:09:39.044Z"
   },
   {
    "duration": 19,
    "start_time": "2023-07-08T10:09:39.094Z"
   },
   {
    "duration": 9,
    "start_time": "2023-07-08T10:09:39.115Z"
   },
   {
    "duration": 18,
    "start_time": "2023-07-08T10:09:39.126Z"
   },
   {
    "duration": 389,
    "start_time": "2023-07-08T10:09:39.146Z"
   },
   {
    "duration": 26,
    "start_time": "2023-07-08T10:09:39.542Z"
   },
   {
    "duration": 376,
    "start_time": "2023-07-08T10:09:39.570Z"
   },
   {
    "duration": 19,
    "start_time": "2023-07-08T10:09:39.948Z"
   },
   {
    "duration": 12,
    "start_time": "2023-07-08T10:09:39.970Z"
   },
   {
    "duration": 239,
    "start_time": "2023-07-08T10:09:39.984Z"
   },
   {
    "duration": 10,
    "start_time": "2023-07-08T10:09:40.225Z"
   },
   {
    "duration": 317,
    "start_time": "2023-07-08T10:09:40.237Z"
   },
   {
    "duration": 20,
    "start_time": "2023-07-08T10:09:40.559Z"
   },
   {
    "duration": 227,
    "start_time": "2023-07-08T10:09:40.592Z"
   },
   {
    "duration": 9,
    "start_time": "2023-07-08T10:09:40.821Z"
   },
   {
    "duration": 1823,
    "start_time": "2023-07-08T10:09:40.832Z"
   },
   {
    "duration": 39,
    "start_time": "2023-07-08T10:09:42.660Z"
   },
   {
    "duration": 269,
    "start_time": "2023-07-08T10:09:42.701Z"
   },
   {
    "duration": 8,
    "start_time": "2023-07-08T10:09:42.971Z"
   },
   {
    "duration": 7,
    "start_time": "2023-07-08T10:09:42.980Z"
   },
   {
    "duration": 554,
    "start_time": "2023-07-08T10:09:42.989Z"
   },
   {
    "duration": 685,
    "start_time": "2023-07-08T10:09:43.545Z"
   },
   {
    "duration": 609,
    "start_time": "2023-07-08T10:09:44.232Z"
   },
   {
    "duration": 539,
    "start_time": "2023-07-08T10:09:44.848Z"
   },
   {
    "duration": 544,
    "start_time": "2023-07-08T10:09:45.389Z"
   },
   {
    "duration": 560,
    "start_time": "2023-07-08T10:09:45.936Z"
   },
   {
    "duration": 15,
    "start_time": "2023-07-08T10:09:46.508Z"
   },
   {
    "duration": 38,
    "start_time": "2023-07-08T10:09:46.525Z"
   },
   {
    "duration": 1185,
    "start_time": "2023-07-08T14:35:16.619Z"
   },
   {
    "duration": 111,
    "start_time": "2023-07-08T14:35:17.806Z"
   },
   {
    "duration": 28,
    "start_time": "2023-07-08T14:35:17.919Z"
   },
   {
    "duration": 23,
    "start_time": "2023-07-08T14:35:17.950Z"
   },
   {
    "duration": 10,
    "start_time": "2023-07-08T14:35:17.975Z"
   },
   {
    "duration": 3,
    "start_time": "2023-07-08T14:35:17.986Z"
   },
   {
    "duration": 19,
    "start_time": "2023-07-08T14:35:17.990Z"
   },
   {
    "duration": 26,
    "start_time": "2023-07-08T14:35:18.010Z"
   },
   {
    "duration": 24,
    "start_time": "2023-07-08T14:35:18.038Z"
   },
   {
    "duration": 5,
    "start_time": "2023-07-08T14:35:18.065Z"
   },
   {
    "duration": 11,
    "start_time": "2023-07-08T14:35:18.071Z"
   },
   {
    "duration": 10,
    "start_time": "2023-07-08T14:35:18.084Z"
   },
   {
    "duration": 5,
    "start_time": "2023-07-08T14:35:18.096Z"
   },
   {
    "duration": 4,
    "start_time": "2023-07-08T14:35:18.102Z"
   },
   {
    "duration": 44,
    "start_time": "2023-07-08T14:35:18.108Z"
   },
   {
    "duration": 16,
    "start_time": "2023-07-08T14:35:18.158Z"
   },
   {
    "duration": 14,
    "start_time": "2023-07-08T14:35:18.175Z"
   },
   {
    "duration": 5,
    "start_time": "2023-07-08T14:35:18.190Z"
   },
   {
    "duration": 7,
    "start_time": "2023-07-08T14:35:18.196Z"
   },
   {
    "duration": 12,
    "start_time": "2023-07-08T14:35:18.204Z"
   },
   {
    "duration": 28,
    "start_time": "2023-07-08T14:35:18.218Z"
   },
   {
    "duration": 125,
    "start_time": "2023-07-08T14:35:18.247Z"
   },
   {
    "duration": 147,
    "start_time": "2023-07-08T14:35:18.373Z"
   },
   {
    "duration": 4,
    "start_time": "2023-07-08T14:35:18.522Z"
   },
   {
    "duration": 28,
    "start_time": "2023-07-08T14:35:18.531Z"
   },
   {
    "duration": 15,
    "start_time": "2023-07-08T14:35:18.560Z"
   },
   {
    "duration": 6,
    "start_time": "2023-07-08T14:35:18.576Z"
   },
   {
    "duration": 9,
    "start_time": "2023-07-08T14:35:18.585Z"
   },
   {
    "duration": 11,
    "start_time": "2023-07-08T14:35:18.595Z"
   },
   {
    "duration": 5,
    "start_time": "2023-07-08T14:35:18.607Z"
   },
   {
    "duration": 32,
    "start_time": "2023-07-08T14:35:18.613Z"
   },
   {
    "duration": 17,
    "start_time": "2023-07-08T14:35:18.653Z"
   },
   {
    "duration": 3,
    "start_time": "2023-07-08T14:35:18.672Z"
   },
   {
    "duration": 18,
    "start_time": "2023-07-08T14:35:18.676Z"
   },
   {
    "duration": 12,
    "start_time": "2023-07-08T14:35:18.696Z"
   },
   {
    "duration": 33,
    "start_time": "2023-07-08T14:35:18.709Z"
   },
   {
    "duration": 214,
    "start_time": "2023-07-08T14:35:18.745Z"
   },
   {
    "duration": 254,
    "start_time": "2023-07-08T14:35:18.960Z"
   },
   {
    "duration": 4,
    "start_time": "2023-07-08T14:35:19.215Z"
   },
   {
    "duration": 225,
    "start_time": "2023-07-08T14:35:19.232Z"
   },
   {
    "duration": 4,
    "start_time": "2023-07-08T14:35:19.458Z"
   },
   {
    "duration": 19,
    "start_time": "2023-07-08T14:35:19.464Z"
   },
   {
    "duration": 18,
    "start_time": "2023-07-08T14:35:19.484Z"
   },
   {
    "duration": 36,
    "start_time": "2023-07-08T14:35:19.504Z"
   },
   {
    "duration": 23,
    "start_time": "2023-07-08T14:35:19.541Z"
   },
   {
    "duration": 14,
    "start_time": "2023-07-08T14:35:19.565Z"
   },
   {
    "duration": 305,
    "start_time": "2023-07-08T14:35:19.580Z"
   },
   {
    "duration": 9,
    "start_time": "2023-07-08T14:35:19.887Z"
   },
   {
    "duration": 327,
    "start_time": "2023-07-08T14:35:19.898Z"
   },
   {
    "duration": 17,
    "start_time": "2023-07-08T14:35:20.227Z"
   },
   {
    "duration": 29,
    "start_time": "2023-07-08T14:35:20.246Z"
   },
   {
    "duration": 236,
    "start_time": "2023-07-08T14:35:20.276Z"
   },
   {
    "duration": 6,
    "start_time": "2023-07-08T14:35:20.514Z"
   },
   {
    "duration": 263,
    "start_time": "2023-07-08T14:35:20.532Z"
   },
   {
    "duration": 5,
    "start_time": "2023-07-08T14:35:20.797Z"
   },
   {
    "duration": 190,
    "start_time": "2023-07-08T14:35:20.804Z"
   },
   {
    "duration": 8,
    "start_time": "2023-07-08T14:35:20.996Z"
   },
   {
    "duration": 1446,
    "start_time": "2023-07-08T14:35:21.005Z"
   },
   {
    "duration": 16,
    "start_time": "2023-07-08T14:35:22.454Z"
   },
   {
    "duration": 208,
    "start_time": "2023-07-08T14:35:22.472Z"
   },
   {
    "duration": 5,
    "start_time": "2023-07-08T14:35:22.682Z"
   },
   {
    "duration": 7,
    "start_time": "2023-07-08T14:35:22.688Z"
   },
   {
    "duration": 475,
    "start_time": "2023-07-08T14:35:22.696Z"
   },
   {
    "duration": 511,
    "start_time": "2023-07-08T14:35:23.173Z"
   },
   {
    "duration": 408,
    "start_time": "2023-07-08T14:35:23.685Z"
   },
   {
    "duration": 404,
    "start_time": "2023-07-08T14:35:24.095Z"
   },
   {
    "duration": 441,
    "start_time": "2023-07-08T14:35:24.500Z"
   },
   {
    "duration": 431,
    "start_time": "2023-07-08T14:35:24.945Z"
   },
   {
    "duration": 9,
    "start_time": "2023-07-08T14:35:25.378Z"
   },
   {
    "duration": 14,
    "start_time": "2023-07-08T14:35:25.388Z"
   },
   {
    "duration": 1583,
    "start_time": "2023-07-08T17:02:18.090Z"
   },
   {
    "duration": 343,
    "start_time": "2023-07-08T17:02:19.676Z"
   },
   {
    "duration": 27,
    "start_time": "2023-07-08T17:02:20.024Z"
   },
   {
    "duration": 43,
    "start_time": "2023-07-08T17:02:20.053Z"
   },
   {
    "duration": 16,
    "start_time": "2023-07-08T17:02:20.100Z"
   },
   {
    "duration": 8,
    "start_time": "2023-07-08T17:02:20.118Z"
   },
   {
    "duration": 34,
    "start_time": "2023-07-08T17:02:20.128Z"
   },
   {
    "duration": 40,
    "start_time": "2023-07-08T17:02:20.165Z"
   },
   {
    "duration": 7,
    "start_time": "2023-07-08T17:02:20.208Z"
   },
   {
    "duration": 11,
    "start_time": "2023-07-08T17:02:20.218Z"
   },
   {
    "duration": 8,
    "start_time": "2023-07-08T17:02:20.232Z"
   },
   {
    "duration": 28,
    "start_time": "2023-07-08T17:02:20.243Z"
   },
   {
    "duration": 26,
    "start_time": "2023-07-08T17:02:20.273Z"
   },
   {
    "duration": 21,
    "start_time": "2023-07-08T17:02:20.304Z"
   },
   {
    "duration": 40,
    "start_time": "2023-07-08T17:02:20.328Z"
   },
   {
    "duration": 31,
    "start_time": "2023-07-08T17:02:20.371Z"
   },
   {
    "duration": 33,
    "start_time": "2023-07-08T17:02:20.404Z"
   },
   {
    "duration": 12,
    "start_time": "2023-07-08T17:02:20.440Z"
   },
   {
    "duration": 8,
    "start_time": "2023-07-08T17:02:20.457Z"
   },
   {
    "duration": 14,
    "start_time": "2023-07-08T17:02:20.468Z"
   },
   {
    "duration": 33,
    "start_time": "2023-07-08T17:02:20.485Z"
   },
   {
    "duration": 11,
    "start_time": "2023-07-08T17:02:20.520Z"
   },
   {
    "duration": 7,
    "start_time": "2023-07-08T17:02:20.534Z"
   },
   {
    "duration": 17,
    "start_time": "2023-07-08T17:02:20.543Z"
   },
   {
    "duration": 19,
    "start_time": "2023-07-08T17:02:20.564Z"
   },
   {
    "duration": 36,
    "start_time": "2023-07-08T17:02:20.586Z"
   },
   {
    "duration": 15,
    "start_time": "2023-07-08T17:02:20.625Z"
   },
   {
    "duration": 26,
    "start_time": "2023-07-08T17:02:20.648Z"
   },
   {
    "duration": 39,
    "start_time": "2023-07-08T17:02:20.676Z"
   },
   {
    "duration": 43,
    "start_time": "2023-07-08T17:02:20.717Z"
   },
   {
    "duration": 48,
    "start_time": "2023-07-08T17:02:20.763Z"
   },
   {
    "duration": 54,
    "start_time": "2023-07-08T17:02:20.814Z"
   },
   {
    "duration": 57,
    "start_time": "2023-07-08T17:02:20.870Z"
   },
   {
    "duration": 51,
    "start_time": "2023-07-08T17:02:20.929Z"
   },
   {
    "duration": 22,
    "start_time": "2023-07-08T17:02:20.982Z"
   },
   {
    "duration": 37,
    "start_time": "2023-07-08T17:02:21.006Z"
   },
   {
    "duration": 300,
    "start_time": "2023-07-08T17:02:21.047Z"
   },
   {
    "duration": 321,
    "start_time": "2023-07-08T17:02:21.349Z"
   },
   {
    "duration": 7,
    "start_time": "2023-07-08T17:02:21.672Z"
   },
   {
    "duration": 268,
    "start_time": "2023-07-08T17:02:21.682Z"
   },
   {
    "duration": 7,
    "start_time": "2023-07-08T17:02:21.958Z"
   },
   {
    "duration": 48,
    "start_time": "2023-07-08T17:02:21.967Z"
   },
   {
    "duration": 31,
    "start_time": "2023-07-08T17:02:22.017Z"
   },
   {
    "duration": 8,
    "start_time": "2023-07-08T17:02:22.052Z"
   },
   {
    "duration": 20,
    "start_time": "2023-07-08T17:02:22.063Z"
   },
   {
    "duration": 25,
    "start_time": "2023-07-08T17:02:22.084Z"
   },
   {
    "duration": 602,
    "start_time": "2023-07-08T17:02:22.112Z"
   },
   {
    "duration": 12,
    "start_time": "2023-07-08T17:02:22.716Z"
   },
   {
    "duration": 530,
    "start_time": "2023-07-08T17:02:22.730Z"
   },
   {
    "duration": 13,
    "start_time": "2023-07-08T17:02:23.262Z"
   },
   {
    "duration": 17,
    "start_time": "2023-07-08T17:02:23.277Z"
   },
   {
    "duration": 249,
    "start_time": "2023-07-08T17:02:23.299Z"
   },
   {
    "duration": 10,
    "start_time": "2023-07-08T17:02:23.550Z"
   },
   {
    "duration": 337,
    "start_time": "2023-07-08T17:02:23.562Z"
   },
   {
    "duration": 23,
    "start_time": "2023-07-08T17:02:23.901Z"
   },
   {
    "duration": 272,
    "start_time": "2023-07-08T17:02:23.926Z"
   },
   {
    "duration": 19,
    "start_time": "2023-07-08T17:02:24.206Z"
   },
   {
    "duration": 1805,
    "start_time": "2023-07-08T17:02:24.228Z"
   },
   {
    "duration": 20,
    "start_time": "2023-07-08T17:02:26.035Z"
   },
   {
    "duration": 361,
    "start_time": "2023-07-08T17:02:26.058Z"
   },
   {
    "duration": 14,
    "start_time": "2023-07-08T17:02:26.422Z"
   },
   {
    "duration": 24,
    "start_time": "2023-07-08T17:02:26.438Z"
   },
   {
    "duration": 500,
    "start_time": "2023-07-08T17:02:26.464Z"
   },
   {
    "duration": 590,
    "start_time": "2023-07-08T17:02:26.967Z"
   },
   {
    "duration": 637,
    "start_time": "2023-07-08T17:02:27.560Z"
   },
   {
    "duration": 667,
    "start_time": "2023-07-08T17:02:28.200Z"
   },
   {
    "duration": 588,
    "start_time": "2023-07-08T17:02:28.870Z"
   },
   {
    "duration": 649,
    "start_time": "2023-07-08T17:02:29.461Z"
   },
   {
    "duration": 16,
    "start_time": "2023-07-08T17:02:30.115Z"
   },
   {
    "duration": 28,
    "start_time": "2023-07-08T17:02:30.135Z"
   },
   {
    "duration": 4,
    "start_time": "2023-07-08T17:13:29.117Z"
   },
   {
    "duration": 9,
    "start_time": "2023-07-08T17:13:46.027Z"
   },
   {
    "duration": 166,
    "start_time": "2023-07-08T17:17:00.909Z"
   },
   {
    "duration": 19,
    "start_time": "2023-07-08T17:19:07.626Z"
   },
   {
    "duration": 24,
    "start_time": "2023-07-08T17:19:36.557Z"
   },
   {
    "duration": 20,
    "start_time": "2023-07-08T17:21:35.127Z"
   },
   {
    "duration": 1422,
    "start_time": "2023-07-08T17:21:42.735Z"
   },
   {
    "duration": 57,
    "start_time": "2023-07-08T17:21:44.159Z"
   },
   {
    "duration": 23,
    "start_time": "2023-07-08T17:21:44.219Z"
   },
   {
    "duration": 18,
    "start_time": "2023-07-08T17:21:44.246Z"
   },
   {
    "duration": 15,
    "start_time": "2023-07-08T17:21:44.266Z"
   },
   {
    "duration": 31,
    "start_time": "2023-07-08T17:21:44.283Z"
   },
   {
    "duration": 26,
    "start_time": "2023-07-08T17:21:44.316Z"
   },
   {
    "duration": 21,
    "start_time": "2023-07-08T17:21:44.346Z"
   },
   {
    "duration": 6,
    "start_time": "2023-07-08T17:21:44.369Z"
   },
   {
    "duration": 52,
    "start_time": "2023-07-08T17:21:44.379Z"
   },
   {
    "duration": 7,
    "start_time": "2023-07-08T17:21:44.433Z"
   },
   {
    "duration": 10,
    "start_time": "2023-07-08T17:21:44.442Z"
   },
   {
    "duration": 6,
    "start_time": "2023-07-08T17:21:44.454Z"
   },
   {
    "duration": 11,
    "start_time": "2023-07-08T17:21:44.462Z"
   },
   {
    "duration": 42,
    "start_time": "2023-07-08T17:21:44.475Z"
   },
   {
    "duration": 8,
    "start_time": "2023-07-08T17:21:44.519Z"
   },
   {
    "duration": 43,
    "start_time": "2023-07-08T17:21:44.530Z"
   },
   {
    "duration": 21,
    "start_time": "2023-07-08T17:21:44.576Z"
   },
   {
    "duration": 37,
    "start_time": "2023-07-08T17:21:44.599Z"
   },
   {
    "duration": 9,
    "start_time": "2023-07-08T17:21:44.638Z"
   },
   {
    "duration": 20,
    "start_time": "2023-07-08T17:21:44.649Z"
   },
   {
    "duration": 14,
    "start_time": "2023-07-08T17:21:44.674Z"
   },
   {
    "duration": 14,
    "start_time": "2023-07-08T17:21:44.689Z"
   },
   {
    "duration": 15,
    "start_time": "2023-07-08T17:21:44.704Z"
   },
   {
    "duration": 28,
    "start_time": "2023-07-08T17:21:44.727Z"
   },
   {
    "duration": 14,
    "start_time": "2023-07-08T17:21:44.757Z"
   },
   {
    "duration": 8,
    "start_time": "2023-07-08T17:21:44.773Z"
   },
   {
    "duration": 17,
    "start_time": "2023-07-08T17:21:44.789Z"
   },
   {
    "duration": 11,
    "start_time": "2023-07-08T17:21:44.808Z"
   },
   {
    "duration": 22,
    "start_time": "2023-07-08T17:21:44.821Z"
   },
   {
    "duration": 24,
    "start_time": "2023-07-08T17:21:44.845Z"
   },
   {
    "duration": 7,
    "start_time": "2023-07-08T17:21:44.872Z"
   },
   {
    "duration": 9,
    "start_time": "2023-07-08T17:21:44.881Z"
   },
   {
    "duration": 38,
    "start_time": "2023-07-08T17:21:44.892Z"
   },
   {
    "duration": 5,
    "start_time": "2023-07-08T17:21:44.932Z"
   },
   {
    "duration": 37,
    "start_time": "2023-07-08T17:21:44.939Z"
   },
   {
    "duration": 14,
    "start_time": "2023-07-08T17:21:44.978Z"
   },
   {
    "duration": 44,
    "start_time": "2023-07-08T17:21:44.994Z"
   },
   {
    "duration": 298,
    "start_time": "2023-07-08T17:21:45.040Z"
   },
   {
    "duration": 389,
    "start_time": "2023-07-08T17:21:45.343Z"
   },
   {
    "duration": 6,
    "start_time": "2023-07-08T17:21:45.739Z"
   },
   {
    "duration": 220,
    "start_time": "2023-07-08T17:21:45.747Z"
   },
   {
    "duration": 6,
    "start_time": "2023-07-08T17:21:45.970Z"
   },
   {
    "duration": 38,
    "start_time": "2023-07-08T17:21:45.978Z"
   },
   {
    "duration": 54,
    "start_time": "2023-07-08T17:21:46.018Z"
   },
   {
    "duration": 7,
    "start_time": "2023-07-08T17:21:46.074Z"
   },
   {
    "duration": 14,
    "start_time": "2023-07-08T17:21:46.083Z"
   },
   {
    "duration": 12,
    "start_time": "2023-07-08T17:21:46.099Z"
   },
   {
    "duration": 494,
    "start_time": "2023-07-08T17:21:46.114Z"
   },
   {
    "duration": 15,
    "start_time": "2023-07-08T17:21:46.610Z"
   },
   {
    "duration": 388,
    "start_time": "2023-07-08T17:21:46.627Z"
   },
   {
    "duration": 12,
    "start_time": "2023-07-08T17:21:47.017Z"
   },
   {
    "duration": 8,
    "start_time": "2023-07-08T17:21:47.031Z"
   },
   {
    "duration": 278,
    "start_time": "2023-07-08T17:21:47.043Z"
   },
   {
    "duration": 9,
    "start_time": "2023-07-08T17:21:47.324Z"
   },
   {
    "duration": 334,
    "start_time": "2023-07-08T17:21:47.335Z"
   },
   {
    "duration": 19,
    "start_time": "2023-07-08T17:21:47.672Z"
   },
   {
    "duration": 206,
    "start_time": "2023-07-08T17:21:47.694Z"
   },
   {
    "duration": 16,
    "start_time": "2023-07-08T17:21:47.903Z"
   },
   {
    "duration": 1928,
    "start_time": "2023-07-08T17:21:47.920Z"
   },
   {
    "duration": 28,
    "start_time": "2023-07-08T17:21:49.850Z"
   },
   {
    "duration": 401,
    "start_time": "2023-07-08T17:21:49.880Z"
   },
   {
    "duration": 10,
    "start_time": "2023-07-08T17:21:50.284Z"
   },
   {
    "duration": 7,
    "start_time": "2023-07-08T17:21:50.295Z"
   },
   {
    "duration": 486,
    "start_time": "2023-07-08T17:21:50.314Z"
   },
   {
    "duration": 653,
    "start_time": "2023-07-08T17:21:50.802Z"
   },
   {
    "duration": 591,
    "start_time": "2023-07-08T17:21:51.457Z"
   },
   {
    "duration": 545,
    "start_time": "2023-07-08T17:21:52.050Z"
   },
   {
    "duration": 520,
    "start_time": "2023-07-08T17:21:52.597Z"
   },
   {
    "duration": 614,
    "start_time": "2023-07-08T17:21:53.119Z"
   },
   {
    "duration": 13,
    "start_time": "2023-07-08T17:21:53.740Z"
   },
   {
    "duration": 74,
    "start_time": "2023-07-08T17:21:53.755Z"
   },
   {
    "duration": 1158,
    "start_time": "2023-07-08T17:23:43.206Z"
   },
   {
    "duration": 53,
    "start_time": "2023-07-08T17:23:44.366Z"
   },
   {
    "duration": 28,
    "start_time": "2023-07-08T17:23:44.420Z"
   },
   {
    "duration": 19,
    "start_time": "2023-07-08T17:23:44.451Z"
   },
   {
    "duration": 11,
    "start_time": "2023-07-08T17:23:44.472Z"
   },
   {
    "duration": 3,
    "start_time": "2023-07-08T17:23:44.485Z"
   },
   {
    "duration": 14,
    "start_time": "2023-07-08T17:23:44.515Z"
   },
   {
    "duration": 17,
    "start_time": "2023-07-08T17:23:44.530Z"
   },
   {
    "duration": 8,
    "start_time": "2023-07-08T17:23:44.549Z"
   },
   {
    "duration": 71,
    "start_time": "2023-07-08T17:23:44.559Z"
   },
   {
    "duration": 6,
    "start_time": "2023-07-08T17:23:44.632Z"
   },
   {
    "duration": 8,
    "start_time": "2023-07-08T17:23:44.640Z"
   },
   {
    "duration": 6,
    "start_time": "2023-07-08T17:23:44.650Z"
   },
   {
    "duration": 11,
    "start_time": "2023-07-08T17:23:44.660Z"
   },
   {
    "duration": 46,
    "start_time": "2023-07-08T17:23:44.673Z"
   },
   {
    "duration": 6,
    "start_time": "2023-07-08T17:23:44.721Z"
   },
   {
    "duration": 24,
    "start_time": "2023-07-08T17:23:44.729Z"
   },
   {
    "duration": 14,
    "start_time": "2023-07-08T17:23:44.754Z"
   },
   {
    "duration": 53,
    "start_time": "2023-07-08T17:23:44.770Z"
   },
   {
    "duration": 6,
    "start_time": "2023-07-08T17:23:44.825Z"
   },
   {
    "duration": 6,
    "start_time": "2023-07-08T17:23:44.832Z"
   },
   {
    "duration": 21,
    "start_time": "2023-07-08T17:23:44.840Z"
   },
   {
    "duration": 15,
    "start_time": "2023-07-08T17:23:44.862Z"
   },
   {
    "duration": 3,
    "start_time": "2023-07-08T17:23:44.879Z"
   },
   {
    "duration": 9,
    "start_time": "2023-07-08T17:23:44.883Z"
   },
   {
    "duration": 18,
    "start_time": "2023-07-08T17:23:44.894Z"
   },
   {
    "duration": 8,
    "start_time": "2023-07-08T17:23:44.914Z"
   },
   {
    "duration": 18,
    "start_time": "2023-07-08T17:23:44.923Z"
   },
   {
    "duration": 7,
    "start_time": "2023-07-08T17:23:44.943Z"
   },
   {
    "duration": 15,
    "start_time": "2023-07-08T17:23:44.951Z"
   },
   {
    "duration": 17,
    "start_time": "2023-07-08T17:23:44.968Z"
   },
   {
    "duration": 7,
    "start_time": "2023-07-08T17:23:45.013Z"
   },
   {
    "duration": 43,
    "start_time": "2023-07-08T17:23:45.022Z"
   },
   {
    "duration": 43,
    "start_time": "2023-07-08T17:23:45.067Z"
   },
   {
    "duration": 5,
    "start_time": "2023-07-08T17:23:45.112Z"
   },
   {
    "duration": 19,
    "start_time": "2023-07-08T17:23:45.119Z"
   },
   {
    "duration": 18,
    "start_time": "2023-07-08T17:23:45.140Z"
   },
   {
    "duration": 18,
    "start_time": "2023-07-08T17:23:45.159Z"
   },
   {
    "duration": 226,
    "start_time": "2023-07-08T17:23:45.178Z"
   },
   {
    "duration": 275,
    "start_time": "2023-07-08T17:23:45.407Z"
   },
   {
    "duration": 5,
    "start_time": "2023-07-08T17:23:45.687Z"
   },
   {
    "duration": 187,
    "start_time": "2023-07-08T17:23:45.694Z"
   },
   {
    "duration": 6,
    "start_time": "2023-07-08T17:23:45.883Z"
   },
   {
    "duration": 49,
    "start_time": "2023-07-08T17:23:45.891Z"
   },
   {
    "duration": 24,
    "start_time": "2023-07-08T17:23:45.942Z"
   },
   {
    "duration": 6,
    "start_time": "2023-07-08T17:23:45.968Z"
   },
   {
    "duration": 15,
    "start_time": "2023-07-08T17:23:45.976Z"
   },
   {
    "duration": 22,
    "start_time": "2023-07-08T17:23:45.993Z"
   },
   {
    "duration": 425,
    "start_time": "2023-07-08T17:23:46.018Z"
   },
   {
    "duration": 11,
    "start_time": "2023-07-08T17:23:46.445Z"
   },
   {
    "duration": 325,
    "start_time": "2023-07-08T17:23:46.458Z"
   },
   {
    "duration": 11,
    "start_time": "2023-07-08T17:23:46.786Z"
   },
   {
    "duration": 17,
    "start_time": "2023-07-08T17:23:46.799Z"
   },
   {
    "duration": 247,
    "start_time": "2023-07-08T17:23:46.819Z"
   },
   {
    "duration": 8,
    "start_time": "2023-07-08T17:23:47.068Z"
   },
   {
    "duration": 267,
    "start_time": "2023-07-08T17:23:47.078Z"
   },
   {
    "duration": 6,
    "start_time": "2023-07-08T17:23:47.347Z"
   },
   {
    "duration": 210,
    "start_time": "2023-07-08T17:23:47.355Z"
   },
   {
    "duration": 9,
    "start_time": "2023-07-08T17:23:47.566Z"
   },
   {
    "duration": 1486,
    "start_time": "2023-07-08T17:23:47.578Z"
   },
   {
    "duration": 15,
    "start_time": "2023-07-08T17:23:49.066Z"
   },
   {
    "duration": 241,
    "start_time": "2023-07-08T17:23:49.083Z"
   },
   {
    "duration": 6,
    "start_time": "2023-07-08T17:23:49.326Z"
   },
   {
    "duration": 9,
    "start_time": "2023-07-08T17:23:49.334Z"
   },
   {
    "duration": 482,
    "start_time": "2023-07-08T17:23:49.345Z"
   },
   {
    "duration": 565,
    "start_time": "2023-07-08T17:23:49.829Z"
   },
   {
    "duration": 428,
    "start_time": "2023-07-08T17:23:50.395Z"
   },
   {
    "duration": 432,
    "start_time": "2023-07-08T17:23:50.825Z"
   },
   {
    "duration": 453,
    "start_time": "2023-07-08T17:23:51.258Z"
   },
   {
    "duration": 426,
    "start_time": "2023-07-08T17:23:51.713Z"
   },
   {
    "duration": 11,
    "start_time": "2023-07-08T17:23:52.142Z"
   },
   {
    "duration": 19,
    "start_time": "2023-07-08T17:23:52.156Z"
   },
   {
    "duration": 1173,
    "start_time": "2023-07-08T17:25:04.729Z"
   },
   {
    "duration": 55,
    "start_time": "2023-07-08T17:25:05.904Z"
   },
   {
    "duration": 18,
    "start_time": "2023-07-08T17:25:05.961Z"
   },
   {
    "duration": 34,
    "start_time": "2023-07-08T17:25:05.982Z"
   },
   {
    "duration": 23,
    "start_time": "2023-07-08T17:25:06.017Z"
   },
   {
    "duration": 15,
    "start_time": "2023-07-08T17:25:06.042Z"
   },
   {
    "duration": 31,
    "start_time": "2023-07-08T17:25:06.059Z"
   },
   {
    "duration": 30,
    "start_time": "2023-07-08T17:25:06.092Z"
   },
   {
    "duration": 10,
    "start_time": "2023-07-08T17:25:06.125Z"
   },
   {
    "duration": 35,
    "start_time": "2023-07-08T17:25:06.138Z"
   },
   {
    "duration": 18,
    "start_time": "2023-07-08T17:25:06.175Z"
   },
   {
    "duration": 10,
    "start_time": "2023-07-08T17:25:06.195Z"
   },
   {
    "duration": 22,
    "start_time": "2023-07-08T17:25:06.206Z"
   },
   {
    "duration": 25,
    "start_time": "2023-07-08T17:25:06.230Z"
   },
   {
    "duration": 10,
    "start_time": "2023-07-08T17:25:06.257Z"
   },
   {
    "duration": 12,
    "start_time": "2023-07-08T17:25:06.270Z"
   },
   {
    "duration": 28,
    "start_time": "2023-07-08T17:25:06.284Z"
   },
   {
    "duration": 14,
    "start_time": "2023-07-08T17:25:06.314Z"
   },
   {
    "duration": 22,
    "start_time": "2023-07-08T17:25:06.330Z"
   },
   {
    "duration": 28,
    "start_time": "2023-07-08T17:25:06.355Z"
   },
   {
    "duration": 11,
    "start_time": "2023-07-08T17:25:06.384Z"
   },
   {
    "duration": 13,
    "start_time": "2023-07-08T17:25:06.397Z"
   },
   {
    "duration": 22,
    "start_time": "2023-07-08T17:25:06.412Z"
   },
   {
    "duration": 7,
    "start_time": "2023-07-08T17:25:06.436Z"
   },
   {
    "duration": 20,
    "start_time": "2023-07-08T17:25:06.445Z"
   },
   {
    "duration": 22,
    "start_time": "2023-07-08T17:25:06.466Z"
   },
   {
    "duration": 16,
    "start_time": "2023-07-08T17:25:06.489Z"
   },
   {
    "duration": 18,
    "start_time": "2023-07-08T17:25:06.509Z"
   },
   {
    "duration": 16,
    "start_time": "2023-07-08T17:25:06.528Z"
   },
   {
    "duration": 19,
    "start_time": "2023-07-08T17:25:06.545Z"
   },
   {
    "duration": 17,
    "start_time": "2023-07-08T17:25:06.565Z"
   },
   {
    "duration": 8,
    "start_time": "2023-07-08T17:25:06.584Z"
   },
   {
    "duration": 31,
    "start_time": "2023-07-08T17:25:06.594Z"
   },
   {
    "duration": 16,
    "start_time": "2023-07-08T17:25:06.627Z"
   },
   {
    "duration": 8,
    "start_time": "2023-07-08T17:25:06.645Z"
   },
   {
    "duration": 32,
    "start_time": "2023-07-08T17:25:06.654Z"
   },
   {
    "duration": 27,
    "start_time": "2023-07-08T17:25:06.689Z"
   },
   {
    "duration": 17,
    "start_time": "2023-07-08T17:25:06.718Z"
   },
   {
    "duration": 217,
    "start_time": "2023-07-08T17:25:06.736Z"
   },
   {
    "duration": 253,
    "start_time": "2023-07-08T17:25:06.955Z"
   },
   {
    "duration": 5,
    "start_time": "2023-07-08T17:25:07.210Z"
   },
   {
    "duration": 191,
    "start_time": "2023-07-08T17:25:07.216Z"
   },
   {
    "duration": 5,
    "start_time": "2023-07-08T17:25:07.414Z"
   },
   {
    "duration": 30,
    "start_time": "2023-07-08T17:25:07.421Z"
   },
   {
    "duration": 34,
    "start_time": "2023-07-08T17:25:07.453Z"
   },
   {
    "duration": 6,
    "start_time": "2023-07-08T17:25:07.489Z"
   },
   {
    "duration": 6,
    "start_time": "2023-07-08T17:25:07.512Z"
   },
   {
    "duration": 22,
    "start_time": "2023-07-08T17:25:07.521Z"
   },
   {
    "duration": 377,
    "start_time": "2023-07-08T17:25:07.546Z"
   },
   {
    "duration": 17,
    "start_time": "2023-07-08T17:25:07.926Z"
   },
   {
    "duration": 354,
    "start_time": "2023-07-08T17:25:07.946Z"
   },
   {
    "duration": 19,
    "start_time": "2023-07-08T17:25:08.302Z"
   },
   {
    "duration": 23,
    "start_time": "2023-07-08T17:25:08.324Z"
   },
   {
    "duration": 203,
    "start_time": "2023-07-08T17:25:08.349Z"
   },
   {
    "duration": 8,
    "start_time": "2023-07-08T17:25:08.553Z"
   },
   {
    "duration": 262,
    "start_time": "2023-07-08T17:25:08.563Z"
   },
   {
    "duration": 5,
    "start_time": "2023-07-08T17:25:08.827Z"
   },
   {
    "duration": 201,
    "start_time": "2023-07-08T17:25:08.833Z"
   },
   {
    "duration": 8,
    "start_time": "2023-07-08T17:25:09.036Z"
   },
   {
    "duration": 1577,
    "start_time": "2023-07-08T17:25:09.046Z"
   },
   {
    "duration": 16,
    "start_time": "2023-07-08T17:25:10.624Z"
   },
   {
    "duration": 242,
    "start_time": "2023-07-08T17:25:10.641Z"
   },
   {
    "duration": 6,
    "start_time": "2023-07-08T17:25:10.885Z"
   },
   {
    "duration": 20,
    "start_time": "2023-07-08T17:25:10.893Z"
   },
   {
    "duration": 443,
    "start_time": "2023-07-08T17:25:10.915Z"
   },
   {
    "duration": 554,
    "start_time": "2023-07-08T17:25:11.360Z"
   },
   {
    "duration": 422,
    "start_time": "2023-07-08T17:25:11.915Z"
   },
   {
    "duration": 430,
    "start_time": "2023-07-08T17:25:12.338Z"
   },
   {
    "duration": 443,
    "start_time": "2023-07-08T17:25:12.770Z"
   },
   {
    "duration": 442,
    "start_time": "2023-07-08T17:25:13.215Z"
   },
   {
    "duration": 12,
    "start_time": "2023-07-08T17:25:13.659Z"
   },
   {
    "duration": 14,
    "start_time": "2023-07-08T17:25:13.673Z"
   },
   {
    "duration": 73,
    "start_time": "2023-07-08T17:26:52.659Z"
   },
   {
    "duration": 17,
    "start_time": "2023-07-08T17:28:50.040Z"
   },
   {
    "duration": 1364,
    "start_time": "2023-07-08T17:29:55.350Z"
   },
   {
    "duration": 56,
    "start_time": "2023-07-08T17:29:56.716Z"
   },
   {
    "duration": 20,
    "start_time": "2023-07-08T17:29:56.774Z"
   },
   {
    "duration": 24,
    "start_time": "2023-07-08T17:29:56.796Z"
   },
   {
    "duration": 16,
    "start_time": "2023-07-08T17:29:56.823Z"
   },
   {
    "duration": 9,
    "start_time": "2023-07-08T17:29:56.841Z"
   },
   {
    "duration": 26,
    "start_time": "2023-07-08T17:29:56.853Z"
   },
   {
    "duration": 46,
    "start_time": "2023-07-08T17:29:56.881Z"
   },
   {
    "duration": 8,
    "start_time": "2023-07-08T17:29:56.929Z"
   },
   {
    "duration": 57,
    "start_time": "2023-07-08T17:29:56.939Z"
   },
   {
    "duration": 10,
    "start_time": "2023-07-08T17:29:56.998Z"
   },
   {
    "duration": 16,
    "start_time": "2023-07-08T17:29:57.011Z"
   },
   {
    "duration": 26,
    "start_time": "2023-07-08T17:29:57.028Z"
   },
   {
    "duration": 32,
    "start_time": "2023-07-08T17:29:57.057Z"
   },
   {
    "duration": 18,
    "start_time": "2023-07-08T17:29:57.091Z"
   },
   {
    "duration": 16,
    "start_time": "2023-07-08T17:29:57.111Z"
   },
   {
    "duration": 50,
    "start_time": "2023-07-08T17:29:57.129Z"
   },
   {
    "duration": 23,
    "start_time": "2023-07-08T17:29:57.182Z"
   },
   {
    "duration": 20,
    "start_time": "2023-07-08T17:29:57.208Z"
   },
   {
    "duration": 6,
    "start_time": "2023-07-08T17:29:57.229Z"
   },
   {
    "duration": 6,
    "start_time": "2023-07-08T17:29:57.237Z"
   },
   {
    "duration": 6,
    "start_time": "2023-07-08T17:29:57.245Z"
   },
   {
    "duration": 25,
    "start_time": "2023-07-08T17:29:57.253Z"
   },
   {
    "duration": 3,
    "start_time": "2023-07-08T17:29:57.281Z"
   },
   {
    "duration": 4,
    "start_time": "2023-07-08T17:29:57.312Z"
   },
   {
    "duration": 9,
    "start_time": "2023-07-08T17:29:57.319Z"
   },
   {
    "duration": 8,
    "start_time": "2023-07-08T17:29:57.330Z"
   },
   {
    "duration": 24,
    "start_time": "2023-07-08T17:29:57.340Z"
   },
   {
    "duration": 36,
    "start_time": "2023-07-08T17:29:57.366Z"
   },
   {
    "duration": 18,
    "start_time": "2023-07-08T17:29:57.413Z"
   },
   {
    "duration": 29,
    "start_time": "2023-07-08T17:29:57.434Z"
   },
   {
    "duration": 11,
    "start_time": "2023-07-08T17:29:57.466Z"
   },
   {
    "duration": 21,
    "start_time": "2023-07-08T17:29:57.479Z"
   },
   {
    "duration": 16,
    "start_time": "2023-07-08T17:29:57.514Z"
   },
   {
    "duration": 5,
    "start_time": "2023-07-08T17:29:57.533Z"
   },
   {
    "duration": 29,
    "start_time": "2023-07-08T17:29:57.540Z"
   },
   {
    "duration": 15,
    "start_time": "2023-07-08T17:29:57.571Z"
   },
   {
    "duration": 46,
    "start_time": "2023-07-08T17:29:57.588Z"
   },
   {
    "duration": 259,
    "start_time": "2023-07-08T17:29:57.636Z"
   },
   {
    "duration": 264,
    "start_time": "2023-07-08T17:29:57.898Z"
   },
   {
    "duration": 11,
    "start_time": "2023-07-08T17:29:58.168Z"
   },
   {
    "duration": 276,
    "start_time": "2023-07-08T17:29:58.182Z"
   },
   {
    "duration": 5,
    "start_time": "2023-07-08T17:29:58.461Z"
   },
   {
    "duration": 30,
    "start_time": "2023-07-08T17:29:58.468Z"
   },
   {
    "duration": 27,
    "start_time": "2023-07-08T17:29:58.515Z"
   },
   {
    "duration": 8,
    "start_time": "2023-07-08T17:29:58.544Z"
   },
   {
    "duration": 8,
    "start_time": "2023-07-08T17:29:58.554Z"
   },
   {
    "duration": 32,
    "start_time": "2023-07-08T17:29:58.564Z"
   },
   {
    "duration": 389,
    "start_time": "2023-07-08T17:29:58.614Z"
   },
   {
    "duration": 16,
    "start_time": "2023-07-08T17:29:59.006Z"
   },
   {
    "duration": 430,
    "start_time": "2023-07-08T17:29:59.025Z"
   },
   {
    "duration": 12,
    "start_time": "2023-07-08T17:29:59.457Z"
   },
   {
    "duration": 6,
    "start_time": "2023-07-08T17:29:59.471Z"
   },
   {
    "duration": 295,
    "start_time": "2023-07-08T17:29:59.479Z"
   },
   {
    "duration": 13,
    "start_time": "2023-07-08T17:29:59.776Z"
   },
   {
    "duration": 348,
    "start_time": "2023-07-08T17:29:59.791Z"
   },
   {
    "duration": 7,
    "start_time": "2023-07-08T17:30:00.141Z"
   },
   {
    "duration": 204,
    "start_time": "2023-07-08T17:30:00.150Z"
   },
   {
    "duration": 9,
    "start_time": "2023-07-08T17:30:00.357Z"
   },
   {
    "duration": 1560,
    "start_time": "2023-07-08T17:30:00.368Z"
   },
   {
    "duration": 20,
    "start_time": "2023-07-08T17:30:01.930Z"
   },
   {
    "duration": 319,
    "start_time": "2023-07-08T17:30:01.952Z"
   },
   {
    "duration": 6,
    "start_time": "2023-07-08T17:30:02.274Z"
   },
   {
    "duration": 133,
    "start_time": "2023-07-08T17:30:02.282Z"
   },
   {
    "duration": 582,
    "start_time": "2023-07-08T17:30:02.417Z"
   },
   {
    "duration": 550,
    "start_time": "2023-07-08T17:30:03.001Z"
   },
   {
    "duration": 559,
    "start_time": "2023-07-08T17:30:03.554Z"
   },
   {
    "duration": 460,
    "start_time": "2023-07-08T17:30:04.115Z"
   },
   {
    "duration": 480,
    "start_time": "2023-07-08T17:30:04.578Z"
   },
   {
    "duration": 476,
    "start_time": "2023-07-08T17:30:05.061Z"
   },
   {
    "duration": 12,
    "start_time": "2023-07-08T17:30:05.538Z"
   },
   {
    "duration": 29,
    "start_time": "2023-07-08T17:30:05.552Z"
   },
   {
    "duration": 1252,
    "start_time": "2023-07-08T17:38:30.234Z"
   },
   {
    "duration": 72,
    "start_time": "2023-07-08T17:38:31.489Z"
   },
   {
    "duration": 20,
    "start_time": "2023-07-08T17:38:31.563Z"
   },
   {
    "duration": 20,
    "start_time": "2023-07-08T17:38:31.585Z"
   },
   {
    "duration": 32,
    "start_time": "2023-07-08T17:38:31.607Z"
   },
   {
    "duration": 20,
    "start_time": "2023-07-08T17:38:31.640Z"
   },
   {
    "duration": 30,
    "start_time": "2023-07-08T17:38:31.662Z"
   },
   {
    "duration": 76,
    "start_time": "2023-07-08T17:38:31.694Z"
   },
   {
    "duration": 138,
    "start_time": "2023-07-08T17:38:31.772Z"
   },
   {
    "duration": 57,
    "start_time": "2023-07-08T17:38:31.914Z"
   },
   {
    "duration": 6,
    "start_time": "2023-07-08T17:38:31.972Z"
   },
   {
    "duration": 18,
    "start_time": "2023-07-08T17:38:31.981Z"
   },
   {
    "duration": 24,
    "start_time": "2023-07-08T17:38:32.001Z"
   },
   {
    "duration": 32,
    "start_time": "2023-07-08T17:38:32.028Z"
   },
   {
    "duration": 18,
    "start_time": "2023-07-08T17:38:32.063Z"
   },
   {
    "duration": 8,
    "start_time": "2023-07-08T17:38:32.083Z"
   },
   {
    "duration": 43,
    "start_time": "2023-07-08T17:38:32.093Z"
   },
   {
    "duration": 15,
    "start_time": "2023-07-08T17:38:32.138Z"
   },
   {
    "duration": 38,
    "start_time": "2023-07-08T17:38:32.156Z"
   },
   {
    "duration": 15,
    "start_time": "2023-07-08T17:38:32.196Z"
   },
   {
    "duration": 23,
    "start_time": "2023-07-08T17:38:32.213Z"
   },
   {
    "duration": 35,
    "start_time": "2023-07-08T17:38:32.241Z"
   },
   {
    "duration": 43,
    "start_time": "2023-07-08T17:38:32.278Z"
   },
   {
    "duration": 30,
    "start_time": "2023-07-08T17:38:32.323Z"
   },
   {
    "duration": 16,
    "start_time": "2023-07-08T17:38:32.355Z"
   },
   {
    "duration": 25,
    "start_time": "2023-07-08T17:38:32.374Z"
   },
   {
    "duration": 47,
    "start_time": "2023-07-08T17:38:32.402Z"
   },
   {
    "duration": 33,
    "start_time": "2023-07-08T17:38:32.456Z"
   },
   {
    "duration": 16,
    "start_time": "2023-07-08T17:38:32.492Z"
   },
   {
    "duration": 31,
    "start_time": "2023-07-08T17:38:32.510Z"
   },
   {
    "duration": 24,
    "start_time": "2023-07-08T17:38:32.542Z"
   },
   {
    "duration": 12,
    "start_time": "2023-07-08T17:38:32.569Z"
   },
   {
    "duration": 20,
    "start_time": "2023-07-08T17:38:32.583Z"
   },
   {
    "duration": 44,
    "start_time": "2023-07-08T17:38:32.608Z"
   },
   {
    "duration": 6,
    "start_time": "2023-07-08T17:38:32.661Z"
   },
   {
    "duration": 176,
    "start_time": "2023-07-08T17:38:32.675Z"
   },
   {
    "duration": 0,
    "start_time": "2023-07-08T17:38:32.853Z"
   },
   {
    "duration": 0,
    "start_time": "2023-07-08T17:38:32.855Z"
   },
   {
    "duration": 0,
    "start_time": "2023-07-08T17:38:32.856Z"
   },
   {
    "duration": 0,
    "start_time": "2023-07-08T17:38:32.858Z"
   },
   {
    "duration": 0,
    "start_time": "2023-07-08T17:38:32.859Z"
   },
   {
    "duration": 0,
    "start_time": "2023-07-08T17:38:32.860Z"
   },
   {
    "duration": 0,
    "start_time": "2023-07-08T17:38:32.861Z"
   },
   {
    "duration": 0,
    "start_time": "2023-07-08T17:38:32.862Z"
   },
   {
    "duration": 0,
    "start_time": "2023-07-08T17:38:32.864Z"
   },
   {
    "duration": 0,
    "start_time": "2023-07-08T17:38:32.866Z"
   },
   {
    "duration": 0,
    "start_time": "2023-07-08T17:38:32.867Z"
   },
   {
    "duration": 0,
    "start_time": "2023-07-08T17:38:32.868Z"
   },
   {
    "duration": 0,
    "start_time": "2023-07-08T17:38:32.870Z"
   },
   {
    "duration": 0,
    "start_time": "2023-07-08T17:38:32.871Z"
   },
   {
    "duration": 0,
    "start_time": "2023-07-08T17:38:32.873Z"
   },
   {
    "duration": 0,
    "start_time": "2023-07-08T17:38:32.875Z"
   },
   {
    "duration": 0,
    "start_time": "2023-07-08T17:38:32.876Z"
   },
   {
    "duration": 1,
    "start_time": "2023-07-08T17:38:32.914Z"
   },
   {
    "duration": 0,
    "start_time": "2023-07-08T17:38:32.916Z"
   },
   {
    "duration": 0,
    "start_time": "2023-07-08T17:38:32.918Z"
   },
   {
    "duration": 0,
    "start_time": "2023-07-08T17:38:32.919Z"
   },
   {
    "duration": 0,
    "start_time": "2023-07-08T17:38:32.920Z"
   },
   {
    "duration": 0,
    "start_time": "2023-07-08T17:38:32.921Z"
   },
   {
    "duration": 0,
    "start_time": "2023-07-08T17:38:32.922Z"
   },
   {
    "duration": 0,
    "start_time": "2023-07-08T17:38:32.923Z"
   },
   {
    "duration": 0,
    "start_time": "2023-07-08T17:38:32.924Z"
   },
   {
    "duration": 0,
    "start_time": "2023-07-08T17:38:32.925Z"
   },
   {
    "duration": 0,
    "start_time": "2023-07-08T17:38:32.925Z"
   },
   {
    "duration": 1,
    "start_time": "2023-07-08T17:38:32.926Z"
   },
   {
    "duration": 0,
    "start_time": "2023-07-08T17:38:32.928Z"
   },
   {
    "duration": 0,
    "start_time": "2023-07-08T17:38:32.929Z"
   },
   {
    "duration": 0,
    "start_time": "2023-07-08T17:38:32.930Z"
   },
   {
    "duration": 0,
    "start_time": "2023-07-08T17:38:32.931Z"
   },
   {
    "duration": 0,
    "start_time": "2023-07-08T17:38:32.932Z"
   },
   {
    "duration": 0,
    "start_time": "2023-07-08T17:38:32.933Z"
   },
   {
    "duration": 0,
    "start_time": "2023-07-08T17:38:32.935Z"
   },
   {
    "duration": 1541,
    "start_time": "2023-07-08T17:40:46.044Z"
   },
   {
    "duration": 68,
    "start_time": "2023-07-08T17:40:47.587Z"
   },
   {
    "duration": 30,
    "start_time": "2023-07-08T17:40:47.657Z"
   },
   {
    "duration": 84,
    "start_time": "2023-07-08T17:40:47.690Z"
   },
   {
    "duration": 67,
    "start_time": "2023-07-08T17:40:47.776Z"
   },
   {
    "duration": 65,
    "start_time": "2023-07-08T17:40:47.845Z"
   },
   {
    "duration": 37,
    "start_time": "2023-07-08T17:40:47.912Z"
   },
   {
    "duration": 40,
    "start_time": "2023-07-08T17:40:47.951Z"
   },
   {
    "duration": 9,
    "start_time": "2023-07-08T17:40:47.993Z"
   },
   {
    "duration": 69,
    "start_time": "2023-07-08T17:40:48.004Z"
   },
   {
    "duration": 7,
    "start_time": "2023-07-08T17:40:48.076Z"
   },
   {
    "duration": 9,
    "start_time": "2023-07-08T17:40:48.085Z"
   },
   {
    "duration": 13,
    "start_time": "2023-07-08T17:40:48.097Z"
   },
   {
    "duration": 46,
    "start_time": "2023-07-08T17:40:48.114Z"
   },
   {
    "duration": 131,
    "start_time": "2023-07-08T17:40:48.162Z"
   },
   {
    "duration": 12,
    "start_time": "2023-07-08T17:40:48.295Z"
   },
   {
    "duration": 44,
    "start_time": "2023-07-08T17:40:48.308Z"
   },
   {
    "duration": 16,
    "start_time": "2023-07-08T17:40:48.353Z"
   },
   {
    "duration": 18,
    "start_time": "2023-07-08T17:40:48.371Z"
   },
   {
    "duration": 29,
    "start_time": "2023-07-08T17:40:48.391Z"
   },
   {
    "duration": 9,
    "start_time": "2023-07-08T17:40:48.423Z"
   },
   {
    "duration": 14,
    "start_time": "2023-07-08T17:40:48.435Z"
   },
   {
    "duration": 11,
    "start_time": "2023-07-08T17:40:48.450Z"
   },
   {
    "duration": 16,
    "start_time": "2023-07-08T17:40:48.463Z"
   },
   {
    "duration": 6,
    "start_time": "2023-07-08T17:40:48.481Z"
   },
   {
    "duration": 18,
    "start_time": "2023-07-08T17:40:48.489Z"
   },
   {
    "duration": 11,
    "start_time": "2023-07-08T17:40:48.509Z"
   },
   {
    "duration": 20,
    "start_time": "2023-07-08T17:40:48.523Z"
   },
   {
    "duration": 16,
    "start_time": "2023-07-08T17:40:48.545Z"
   },
   {
    "duration": 14,
    "start_time": "2023-07-08T17:40:48.563Z"
   },
   {
    "duration": 42,
    "start_time": "2023-07-08T17:40:48.579Z"
   },
   {
    "duration": 7,
    "start_time": "2023-07-08T17:40:48.623Z"
   },
   {
    "duration": 15,
    "start_time": "2023-07-08T17:40:48.632Z"
   },
   {
    "duration": 23,
    "start_time": "2023-07-08T17:40:48.650Z"
   },
   {
    "duration": 5,
    "start_time": "2023-07-08T17:40:48.675Z"
   },
   {
    "duration": 47,
    "start_time": "2023-07-08T17:40:48.683Z"
   },
   {
    "duration": 19,
    "start_time": "2023-07-08T17:40:48.732Z"
   },
   {
    "duration": 27,
    "start_time": "2023-07-08T17:40:48.755Z"
   },
   {
    "duration": 334,
    "start_time": "2023-07-08T17:40:48.784Z"
   },
   {
    "duration": 424,
    "start_time": "2023-07-08T17:40:49.121Z"
   },
   {
    "duration": 6,
    "start_time": "2023-07-08T17:40:49.552Z"
   },
   {
    "duration": 308,
    "start_time": "2023-07-08T17:40:49.560Z"
   },
   {
    "duration": 6,
    "start_time": "2023-07-08T17:40:49.870Z"
   },
   {
    "duration": 66,
    "start_time": "2023-07-08T17:40:49.878Z"
   },
   {
    "duration": 28,
    "start_time": "2023-07-08T17:40:49.951Z"
   },
   {
    "duration": 44,
    "start_time": "2023-07-08T17:40:49.981Z"
   },
   {
    "duration": 12,
    "start_time": "2023-07-08T17:40:50.028Z"
   },
   {
    "duration": 53,
    "start_time": "2023-07-08T17:40:50.042Z"
   },
   {
    "duration": 482,
    "start_time": "2023-07-08T17:40:50.097Z"
   },
   {
    "duration": 12,
    "start_time": "2023-07-08T17:40:50.582Z"
   },
   {
    "duration": 365,
    "start_time": "2023-07-08T17:40:50.596Z"
   },
   {
    "duration": 9,
    "start_time": "2023-07-08T17:40:50.963Z"
   },
   {
    "duration": 27,
    "start_time": "2023-07-08T17:40:50.974Z"
   },
   {
    "duration": 366,
    "start_time": "2023-07-08T17:40:51.003Z"
   },
   {
    "duration": 9,
    "start_time": "2023-07-08T17:40:51.371Z"
   },
   {
    "duration": 280,
    "start_time": "2023-07-08T17:40:51.382Z"
   },
   {
    "duration": 6,
    "start_time": "2023-07-08T17:40:51.670Z"
   },
   {
    "duration": 263,
    "start_time": "2023-07-08T17:40:51.678Z"
   },
   {
    "duration": 14,
    "start_time": "2023-07-08T17:40:51.943Z"
   },
   {
    "duration": 1672,
    "start_time": "2023-07-08T17:40:51.959Z"
   },
   {
    "duration": 24,
    "start_time": "2023-07-08T17:40:53.638Z"
   },
   {
    "duration": 284,
    "start_time": "2023-07-08T17:40:53.664Z"
   },
   {
    "duration": 6,
    "start_time": "2023-07-08T17:40:53.954Z"
   },
   {
    "duration": 10,
    "start_time": "2023-07-08T17:40:53.962Z"
   },
   {
    "duration": 618,
    "start_time": "2023-07-08T17:40:53.974Z"
   },
   {
    "duration": 483,
    "start_time": "2023-07-08T17:40:54.594Z"
   },
   {
    "duration": 514,
    "start_time": "2023-07-08T17:40:55.080Z"
   },
   {
    "duration": 502,
    "start_time": "2023-07-08T17:40:55.597Z"
   },
   {
    "duration": 521,
    "start_time": "2023-07-08T17:40:56.101Z"
   },
   {
    "duration": 471,
    "start_time": "2023-07-08T17:40:56.623Z"
   },
   {
    "duration": 36,
    "start_time": "2023-07-08T17:40:57.096Z"
   },
   {
    "duration": 14,
    "start_time": "2023-07-08T17:40:57.141Z"
   },
   {
    "duration": 1658,
    "start_time": "2023-07-08T17:42:15.148Z"
   },
   {
    "duration": 84,
    "start_time": "2023-07-08T17:42:16.808Z"
   },
   {
    "duration": 38,
    "start_time": "2023-07-08T17:42:16.895Z"
   },
   {
    "duration": 26,
    "start_time": "2023-07-08T17:42:16.935Z"
   },
   {
    "duration": 16,
    "start_time": "2023-07-08T17:42:16.967Z"
   },
   {
    "duration": 8,
    "start_time": "2023-07-08T17:42:16.985Z"
   },
   {
    "duration": 59,
    "start_time": "2023-07-08T17:42:16.995Z"
   },
   {
    "duration": 39,
    "start_time": "2023-07-08T17:42:17.059Z"
   },
   {
    "duration": 47,
    "start_time": "2023-07-08T17:42:17.101Z"
   },
   {
    "duration": 37,
    "start_time": "2023-07-08T17:42:17.156Z"
   },
   {
    "duration": 7,
    "start_time": "2023-07-08T17:42:17.195Z"
   },
   {
    "duration": 46,
    "start_time": "2023-07-08T17:42:17.204Z"
   },
   {
    "duration": 15,
    "start_time": "2023-07-08T17:42:17.253Z"
   },
   {
    "duration": 29,
    "start_time": "2023-07-08T17:42:17.270Z"
   },
   {
    "duration": 44,
    "start_time": "2023-07-08T17:42:17.301Z"
   },
   {
    "duration": 14,
    "start_time": "2023-07-08T17:42:17.348Z"
   },
   {
    "duration": 83,
    "start_time": "2023-07-08T17:42:17.363Z"
   },
   {
    "duration": 32,
    "start_time": "2023-07-08T17:42:17.449Z"
   },
   {
    "duration": 45,
    "start_time": "2023-07-08T17:42:17.489Z"
   },
   {
    "duration": 24,
    "start_time": "2023-07-08T17:42:17.536Z"
   },
   {
    "duration": 15,
    "start_time": "2023-07-08T17:42:17.568Z"
   },
   {
    "duration": 59,
    "start_time": "2023-07-08T17:42:17.585Z"
   },
   {
    "duration": 51,
    "start_time": "2023-07-08T17:42:17.646Z"
   },
   {
    "duration": 5,
    "start_time": "2023-07-08T17:42:17.699Z"
   },
   {
    "duration": 37,
    "start_time": "2023-07-08T17:42:17.708Z"
   },
   {
    "duration": 16,
    "start_time": "2023-07-08T17:42:17.748Z"
   },
   {
    "duration": 23,
    "start_time": "2023-07-08T17:42:17.766Z"
   },
   {
    "duration": 30,
    "start_time": "2023-07-08T17:42:17.798Z"
   },
   {
    "duration": 24,
    "start_time": "2023-07-08T17:42:17.834Z"
   },
   {
    "duration": 19,
    "start_time": "2023-07-08T17:42:17.864Z"
   },
   {
    "duration": 25,
    "start_time": "2023-07-08T17:42:17.885Z"
   },
   {
    "duration": 6,
    "start_time": "2023-07-08T17:42:17.913Z"
   },
   {
    "duration": 25,
    "start_time": "2023-07-08T17:42:17.922Z"
   },
   {
    "duration": 25,
    "start_time": "2023-07-08T17:42:17.949Z"
   },
   {
    "duration": 19,
    "start_time": "2023-07-08T17:42:17.975Z"
   },
   {
    "duration": 38,
    "start_time": "2023-07-08T17:42:17.996Z"
   },
   {
    "duration": 22,
    "start_time": "2023-07-08T17:42:18.036Z"
   },
   {
    "duration": 26,
    "start_time": "2023-07-08T17:42:18.059Z"
   },
   {
    "duration": 356,
    "start_time": "2023-07-08T17:42:18.088Z"
   },
   {
    "duration": 414,
    "start_time": "2023-07-08T17:42:18.447Z"
   },
   {
    "duration": 5,
    "start_time": "2023-07-08T17:42:18.865Z"
   },
   {
    "duration": 282,
    "start_time": "2023-07-08T17:42:18.872Z"
   },
   {
    "duration": 11,
    "start_time": "2023-07-08T17:42:19.156Z"
   },
   {
    "duration": 62,
    "start_time": "2023-07-08T17:42:19.169Z"
   },
   {
    "duration": 32,
    "start_time": "2023-07-08T17:42:19.233Z"
   },
   {
    "duration": 8,
    "start_time": "2023-07-08T17:42:19.267Z"
   },
   {
    "duration": 29,
    "start_time": "2023-07-08T17:42:19.277Z"
   },
   {
    "duration": 38,
    "start_time": "2023-07-08T17:42:19.308Z"
   },
   {
    "duration": 413,
    "start_time": "2023-07-08T17:42:19.348Z"
   },
   {
    "duration": 13,
    "start_time": "2023-07-08T17:42:19.763Z"
   },
   {
    "duration": 468,
    "start_time": "2023-07-08T17:42:19.779Z"
   },
   {
    "duration": 11,
    "start_time": "2023-07-08T17:42:20.250Z"
   },
   {
    "duration": 9,
    "start_time": "2023-07-08T17:42:20.264Z"
   },
   {
    "duration": 378,
    "start_time": "2023-07-08T17:42:20.277Z"
   },
   {
    "duration": 12,
    "start_time": "2023-07-08T17:42:20.660Z"
   },
   {
    "duration": 277,
    "start_time": "2023-07-08T17:42:20.675Z"
   },
   {
    "duration": 11,
    "start_time": "2023-07-08T17:42:20.960Z"
   },
   {
    "duration": 230,
    "start_time": "2023-07-08T17:42:20.976Z"
   },
   {
    "duration": 21,
    "start_time": "2023-07-08T17:42:21.208Z"
   },
   {
    "duration": 2140,
    "start_time": "2023-07-08T17:42:21.233Z"
   },
   {
    "duration": 23,
    "start_time": "2023-07-08T17:42:23.376Z"
   },
   {
    "duration": 320,
    "start_time": "2023-07-08T17:42:23.415Z"
   },
   {
    "duration": 8,
    "start_time": "2023-07-08T17:42:23.743Z"
   },
   {
    "duration": 20,
    "start_time": "2023-07-08T17:42:23.752Z"
   },
   {
    "duration": 835,
    "start_time": "2023-07-08T17:42:23.775Z"
   },
   {
    "duration": 644,
    "start_time": "2023-07-08T17:42:24.616Z"
   },
   {
    "duration": 675,
    "start_time": "2023-07-08T17:42:25.263Z"
   },
   {
    "duration": 648,
    "start_time": "2023-07-08T17:42:25.948Z"
   },
   {
    "duration": 656,
    "start_time": "2023-07-08T17:42:26.598Z"
   },
   {
    "duration": 700,
    "start_time": "2023-07-08T17:42:27.256Z"
   },
   {
    "duration": 15,
    "start_time": "2023-07-08T17:42:27.959Z"
   },
   {
    "duration": 15,
    "start_time": "2023-07-08T17:42:27.977Z"
   },
   {
    "duration": 1278,
    "start_time": "2023-07-09T09:03:18.179Z"
   },
   {
    "duration": 191,
    "start_time": "2023-07-09T09:03:19.459Z"
   },
   {
    "duration": 19,
    "start_time": "2023-07-09T09:03:19.651Z"
   },
   {
    "duration": 21,
    "start_time": "2023-07-09T09:03:19.673Z"
   },
   {
    "duration": 28,
    "start_time": "2023-07-09T09:03:19.696Z"
   },
   {
    "duration": 11,
    "start_time": "2023-07-09T09:03:19.726Z"
   },
   {
    "duration": 22,
    "start_time": "2023-07-09T09:03:19.739Z"
   },
   {
    "duration": 23,
    "start_time": "2023-07-09T09:03:19.763Z"
   },
   {
    "duration": 8,
    "start_time": "2023-07-09T09:03:19.788Z"
   },
   {
    "duration": 29,
    "start_time": "2023-07-09T09:03:19.800Z"
   },
   {
    "duration": 16,
    "start_time": "2023-07-09T09:03:19.831Z"
   },
   {
    "duration": 20,
    "start_time": "2023-07-09T09:03:19.850Z"
   },
   {
    "duration": 11,
    "start_time": "2023-07-09T09:03:19.872Z"
   },
   {
    "duration": 9,
    "start_time": "2023-07-09T09:03:19.885Z"
   },
   {
    "duration": 8,
    "start_time": "2023-07-09T09:03:19.896Z"
   },
   {
    "duration": 5,
    "start_time": "2023-07-09T09:03:19.906Z"
   },
   {
    "duration": 56,
    "start_time": "2023-07-09T09:03:19.912Z"
   },
   {
    "duration": 15,
    "start_time": "2023-07-09T09:03:19.970Z"
   },
   {
    "duration": 15,
    "start_time": "2023-07-09T09:03:19.988Z"
   },
   {
    "duration": 8,
    "start_time": "2023-07-09T09:03:20.005Z"
   },
   {
    "duration": 10,
    "start_time": "2023-07-09T09:03:20.015Z"
   },
   {
    "duration": 16,
    "start_time": "2023-07-09T09:03:20.027Z"
   },
   {
    "duration": 30,
    "start_time": "2023-07-09T09:03:20.044Z"
   },
   {
    "duration": 10,
    "start_time": "2023-07-09T09:03:20.077Z"
   },
   {
    "duration": 5,
    "start_time": "2023-07-09T09:03:20.089Z"
   },
   {
    "duration": 11,
    "start_time": "2023-07-09T09:03:20.096Z"
   },
   {
    "duration": 8,
    "start_time": "2023-07-09T09:03:20.109Z"
   },
   {
    "duration": 13,
    "start_time": "2023-07-09T09:03:20.121Z"
   },
   {
    "duration": 31,
    "start_time": "2023-07-09T09:03:20.136Z"
   },
   {
    "duration": 10,
    "start_time": "2023-07-09T09:03:20.169Z"
   },
   {
    "duration": 14,
    "start_time": "2023-07-09T09:03:20.181Z"
   },
   {
    "duration": 11,
    "start_time": "2023-07-09T09:03:20.197Z"
   },
   {
    "duration": 11,
    "start_time": "2023-07-09T09:03:20.209Z"
   },
   {
    "duration": 19,
    "start_time": "2023-07-09T09:03:20.222Z"
   },
   {
    "duration": 27,
    "start_time": "2023-07-09T09:03:20.243Z"
   },
   {
    "duration": 26,
    "start_time": "2023-07-09T09:03:20.272Z"
   },
   {
    "duration": 15,
    "start_time": "2023-07-09T09:03:20.300Z"
   },
   {
    "duration": 20,
    "start_time": "2023-07-09T09:03:20.316Z"
   },
   {
    "duration": 231,
    "start_time": "2023-07-09T09:03:20.338Z"
   },
   {
    "duration": 351,
    "start_time": "2023-07-09T09:03:20.572Z"
   },
   {
    "duration": 4,
    "start_time": "2023-07-09T09:03:20.926Z"
   },
   {
    "duration": 206,
    "start_time": "2023-07-09T09:03:20.932Z"
   },
   {
    "duration": 5,
    "start_time": "2023-07-09T09:03:21.140Z"
   },
   {
    "duration": 40,
    "start_time": "2023-07-09T09:03:21.147Z"
   },
   {
    "duration": 23,
    "start_time": "2023-07-09T09:03:21.189Z"
   },
   {
    "duration": 6,
    "start_time": "2023-07-09T09:03:21.214Z"
   },
   {
    "duration": 6,
    "start_time": "2023-07-09T09:03:21.222Z"
   },
   {
    "duration": 37,
    "start_time": "2023-07-09T09:03:21.230Z"
   },
   {
    "duration": 312,
    "start_time": "2023-07-09T09:03:21.269Z"
   },
   {
    "duration": 11,
    "start_time": "2023-07-09T09:03:21.583Z"
   },
   {
    "duration": 324,
    "start_time": "2023-07-09T09:03:21.596Z"
   },
   {
    "duration": 9,
    "start_time": "2023-07-09T09:03:21.922Z"
   },
   {
    "duration": 4,
    "start_time": "2023-07-09T09:03:21.932Z"
   },
   {
    "duration": 305,
    "start_time": "2023-07-09T09:03:21.938Z"
   },
   {
    "duration": 7,
    "start_time": "2023-07-09T09:03:22.245Z"
   },
   {
    "duration": 189,
    "start_time": "2023-07-09T09:03:22.254Z"
   },
   {
    "duration": 5,
    "start_time": "2023-07-09T09:03:22.445Z"
   },
   {
    "duration": 185,
    "start_time": "2023-07-09T09:03:22.451Z"
   },
   {
    "duration": 12,
    "start_time": "2023-07-09T09:03:22.637Z"
   },
   {
    "duration": 1526,
    "start_time": "2023-07-09T09:03:22.650Z"
   },
   {
    "duration": 18,
    "start_time": "2023-07-09T09:03:24.178Z"
   },
   {
    "duration": 223,
    "start_time": "2023-07-09T09:03:24.198Z"
   },
   {
    "duration": 6,
    "start_time": "2023-07-09T09:03:24.423Z"
   },
   {
    "duration": 19,
    "start_time": "2023-07-09T09:03:24.431Z"
   },
   {
    "duration": 577,
    "start_time": "2023-07-09T09:03:24.452Z"
   },
   {
    "duration": 427,
    "start_time": "2023-07-09T09:03:25.030Z"
   },
   {
    "duration": 440,
    "start_time": "2023-07-09T09:03:25.458Z"
   },
   {
    "duration": 484,
    "start_time": "2023-07-09T09:03:25.900Z"
   },
   {
    "duration": 446,
    "start_time": "2023-07-09T09:03:26.386Z"
   },
   {
    "duration": 444,
    "start_time": "2023-07-09T09:03:26.834Z"
   },
   {
    "duration": 13,
    "start_time": "2023-07-09T09:03:27.281Z"
   },
   {
    "duration": 16,
    "start_time": "2023-07-09T09:03:27.296Z"
   },
   {
    "duration": 1518,
    "start_time": "2024-10-01T16:06:19.760Z"
   },
   {
    "duration": 219,
    "start_time": "2024-10-01T16:06:21.280Z"
   },
   {
    "duration": 20,
    "start_time": "2024-10-01T16:06:21.500Z"
   },
   {
    "duration": 36,
    "start_time": "2024-10-01T16:06:21.523Z"
   },
   {
    "duration": 13,
    "start_time": "2024-10-01T16:06:21.561Z"
   },
   {
    "duration": 4,
    "start_time": "2024-10-01T16:06:21.575Z"
   },
   {
    "duration": 34,
    "start_time": "2024-10-01T16:06:21.580Z"
   },
   {
    "duration": 20,
    "start_time": "2024-10-01T16:06:21.616Z"
   },
   {
    "duration": 33,
    "start_time": "2024-10-01T16:06:21.637Z"
   },
   {
    "duration": 31,
    "start_time": "2024-10-01T16:06:21.672Z"
   },
   {
    "duration": 6,
    "start_time": "2024-10-01T16:06:21.705Z"
   },
   {
    "duration": 57,
    "start_time": "2024-10-01T16:06:21.712Z"
   },
   {
    "duration": 32,
    "start_time": "2024-10-01T16:06:21.770Z"
   },
   {
    "duration": 15,
    "start_time": "2024-10-01T16:06:21.805Z"
   },
   {
    "duration": 8,
    "start_time": "2024-10-01T16:06:21.822Z"
   },
   {
    "duration": 14,
    "start_time": "2024-10-01T16:06:21.831Z"
   },
   {
    "duration": 121,
    "start_time": "2024-10-01T16:06:21.865Z"
   },
   {
    "duration": 0,
    "start_time": "2024-10-01T16:06:21.990Z"
   },
   {
    "duration": 0,
    "start_time": "2024-10-01T16:06:21.992Z"
   },
   {
    "duration": 0,
    "start_time": "2024-10-01T16:06:21.993Z"
   },
   {
    "duration": 0,
    "start_time": "2024-10-01T16:06:21.994Z"
   },
   {
    "duration": 0,
    "start_time": "2024-10-01T16:06:21.995Z"
   },
   {
    "duration": 0,
    "start_time": "2024-10-01T16:06:21.996Z"
   },
   {
    "duration": 0,
    "start_time": "2024-10-01T16:06:21.997Z"
   },
   {
    "duration": 0,
    "start_time": "2024-10-01T16:06:21.999Z"
   },
   {
    "duration": 0,
    "start_time": "2024-10-01T16:06:22.000Z"
   },
   {
    "duration": 0,
    "start_time": "2024-10-01T16:06:22.001Z"
   },
   {
    "duration": 0,
    "start_time": "2024-10-01T16:06:22.002Z"
   },
   {
    "duration": 0,
    "start_time": "2024-10-01T16:06:22.003Z"
   },
   {
    "duration": 0,
    "start_time": "2024-10-01T16:06:22.004Z"
   },
   {
    "duration": 0,
    "start_time": "2024-10-01T16:06:22.005Z"
   },
   {
    "duration": 0,
    "start_time": "2024-10-01T16:06:22.006Z"
   },
   {
    "duration": 0,
    "start_time": "2024-10-01T16:06:22.008Z"
   },
   {
    "duration": 0,
    "start_time": "2024-10-01T16:06:22.009Z"
   },
   {
    "duration": 0,
    "start_time": "2024-10-01T16:06:22.010Z"
   },
   {
    "duration": 0,
    "start_time": "2024-10-01T16:06:22.011Z"
   },
   {
    "duration": 0,
    "start_time": "2024-10-01T16:06:22.012Z"
   },
   {
    "duration": 0,
    "start_time": "2024-10-01T16:06:22.014Z"
   },
   {
    "duration": 0,
    "start_time": "2024-10-01T16:06:22.015Z"
   },
   {
    "duration": 0,
    "start_time": "2024-10-01T16:06:22.016Z"
   },
   {
    "duration": 0,
    "start_time": "2024-10-01T16:06:22.017Z"
   },
   {
    "duration": 0,
    "start_time": "2024-10-01T16:06:22.018Z"
   },
   {
    "duration": 1,
    "start_time": "2024-10-01T16:06:22.018Z"
   },
   {
    "duration": 0,
    "start_time": "2024-10-01T16:06:22.065Z"
   },
   {
    "duration": 0,
    "start_time": "2024-10-01T16:06:22.067Z"
   },
   {
    "duration": 0,
    "start_time": "2024-10-01T16:06:22.068Z"
   },
   {
    "duration": 0,
    "start_time": "2024-10-01T16:06:22.069Z"
   },
   {
    "duration": 0,
    "start_time": "2024-10-01T16:06:22.070Z"
   },
   {
    "duration": 0,
    "start_time": "2024-10-01T16:06:22.071Z"
   },
   {
    "duration": 0,
    "start_time": "2024-10-01T16:06:22.072Z"
   },
   {
    "duration": 0,
    "start_time": "2024-10-01T16:06:22.073Z"
   },
   {
    "duration": 0,
    "start_time": "2024-10-01T16:06:22.075Z"
   },
   {
    "duration": 0,
    "start_time": "2024-10-01T16:06:22.076Z"
   },
   {
    "duration": 0,
    "start_time": "2024-10-01T16:06:22.077Z"
   },
   {
    "duration": 0,
    "start_time": "2024-10-01T16:06:22.078Z"
   },
   {
    "duration": 0,
    "start_time": "2024-10-01T16:06:22.079Z"
   },
   {
    "duration": 0,
    "start_time": "2024-10-01T16:06:22.080Z"
   },
   {
    "duration": 0,
    "start_time": "2024-10-01T16:06:22.081Z"
   },
   {
    "duration": 0,
    "start_time": "2024-10-01T16:06:22.082Z"
   },
   {
    "duration": 0,
    "start_time": "2024-10-01T16:06:22.083Z"
   },
   {
    "duration": 0,
    "start_time": "2024-10-01T16:06:22.084Z"
   },
   {
    "duration": 0,
    "start_time": "2024-10-01T16:06:22.085Z"
   },
   {
    "duration": 0,
    "start_time": "2024-10-01T16:06:22.087Z"
   },
   {
    "duration": 0,
    "start_time": "2024-10-01T16:06:22.088Z"
   },
   {
    "duration": 0,
    "start_time": "2024-10-01T16:06:22.089Z"
   },
   {
    "duration": 0,
    "start_time": "2024-10-01T16:06:22.090Z"
   },
   {
    "duration": 0,
    "start_time": "2024-10-01T16:06:22.091Z"
   },
   {
    "duration": 0,
    "start_time": "2024-10-01T16:06:22.093Z"
   },
   {
    "duration": 0,
    "start_time": "2024-10-01T16:06:22.094Z"
   },
   {
    "duration": 0,
    "start_time": "2024-10-01T16:06:22.095Z"
   },
   {
    "duration": 0,
    "start_time": "2024-10-01T16:06:22.096Z"
   },
   {
    "duration": 0,
    "start_time": "2024-10-01T16:06:22.097Z"
   },
   {
    "duration": 15,
    "start_time": "2024-10-01T16:13:00.527Z"
   },
   {
    "duration": 15,
    "start_time": "2024-10-01T16:13:11.073Z"
   },
   {
    "duration": 15,
    "start_time": "2024-10-01T16:13:16.617Z"
   },
   {
    "duration": 17,
    "start_time": "2024-10-01T16:18:07.126Z"
   },
   {
    "duration": 1175,
    "start_time": "2024-10-01T16:18:15.892Z"
   },
   {
    "duration": 58,
    "start_time": "2024-10-01T16:18:17.069Z"
   },
   {
    "duration": 20,
    "start_time": "2024-10-01T16:18:17.128Z"
   },
   {
    "duration": 18,
    "start_time": "2024-10-01T16:18:17.151Z"
   },
   {
    "duration": 12,
    "start_time": "2024-10-01T16:18:17.170Z"
   },
   {
    "duration": 3,
    "start_time": "2024-10-01T16:18:17.184Z"
   },
   {
    "duration": 22,
    "start_time": "2024-10-01T16:18:17.188Z"
   },
   {
    "duration": 54,
    "start_time": "2024-10-01T16:18:17.213Z"
   },
   {
    "duration": 7,
    "start_time": "2024-10-01T16:18:17.269Z"
   },
   {
    "duration": 33,
    "start_time": "2024-10-01T16:18:17.280Z"
   },
   {
    "duration": 7,
    "start_time": "2024-10-01T16:18:17.315Z"
   },
   {
    "duration": 9,
    "start_time": "2024-10-01T16:18:17.324Z"
   },
   {
    "duration": 34,
    "start_time": "2024-10-01T16:18:17.335Z"
   },
   {
    "duration": 10,
    "start_time": "2024-10-01T16:18:17.371Z"
   },
   {
    "duration": 10,
    "start_time": "2024-10-01T16:18:17.382Z"
   },
   {
    "duration": 5,
    "start_time": "2024-10-01T16:18:17.394Z"
   },
   {
    "duration": 161,
    "start_time": "2024-10-01T16:18:17.408Z"
   },
   {
    "duration": 0,
    "start_time": "2024-10-01T16:18:17.575Z"
   },
   {
    "duration": 0,
    "start_time": "2024-10-01T16:18:17.576Z"
   },
   {
    "duration": 0,
    "start_time": "2024-10-01T16:18:17.578Z"
   },
   {
    "duration": 0,
    "start_time": "2024-10-01T16:18:17.579Z"
   },
   {
    "duration": 0,
    "start_time": "2024-10-01T16:18:17.581Z"
   },
   {
    "duration": 0,
    "start_time": "2024-10-01T16:18:17.582Z"
   },
   {
    "duration": 0,
    "start_time": "2024-10-01T16:18:17.583Z"
   },
   {
    "duration": 0,
    "start_time": "2024-10-01T16:18:17.585Z"
   },
   {
    "duration": 0,
    "start_time": "2024-10-01T16:18:17.585Z"
   },
   {
    "duration": 0,
    "start_time": "2024-10-01T16:18:17.587Z"
   },
   {
    "duration": 0,
    "start_time": "2024-10-01T16:18:17.588Z"
   },
   {
    "duration": 0,
    "start_time": "2024-10-01T16:18:17.589Z"
   },
   {
    "duration": 0,
    "start_time": "2024-10-01T16:18:17.590Z"
   },
   {
    "duration": 0,
    "start_time": "2024-10-01T16:18:17.591Z"
   },
   {
    "duration": 0,
    "start_time": "2024-10-01T16:18:17.592Z"
   },
   {
    "duration": 0,
    "start_time": "2024-10-01T16:18:17.593Z"
   },
   {
    "duration": 0,
    "start_time": "2024-10-01T16:18:17.593Z"
   },
   {
    "duration": 0,
    "start_time": "2024-10-01T16:18:17.594Z"
   },
   {
    "duration": 0,
    "start_time": "2024-10-01T16:18:17.595Z"
   },
   {
    "duration": 0,
    "start_time": "2024-10-01T16:18:17.596Z"
   },
   {
    "duration": 0,
    "start_time": "2024-10-01T16:18:17.597Z"
   },
   {
    "duration": 0,
    "start_time": "2024-10-01T16:18:17.599Z"
   },
   {
    "duration": 0,
    "start_time": "2024-10-01T16:18:17.600Z"
   },
   {
    "duration": 0,
    "start_time": "2024-10-01T16:18:17.601Z"
   },
   {
    "duration": 0,
    "start_time": "2024-10-01T16:18:17.602Z"
   },
   {
    "duration": 0,
    "start_time": "2024-10-01T16:18:17.603Z"
   },
   {
    "duration": 0,
    "start_time": "2024-10-01T16:18:17.604Z"
   },
   {
    "duration": 0,
    "start_time": "2024-10-01T16:18:17.605Z"
   },
   {
    "duration": 0,
    "start_time": "2024-10-01T16:18:17.607Z"
   },
   {
    "duration": 0,
    "start_time": "2024-10-01T16:18:17.665Z"
   },
   {
    "duration": 0,
    "start_time": "2024-10-01T16:18:17.666Z"
   },
   {
    "duration": 0,
    "start_time": "2024-10-01T16:18:17.669Z"
   },
   {
    "duration": 0,
    "start_time": "2024-10-01T16:18:17.670Z"
   },
   {
    "duration": 0,
    "start_time": "2024-10-01T16:18:17.671Z"
   },
   {
    "duration": 0,
    "start_time": "2024-10-01T16:18:17.672Z"
   },
   {
    "duration": 0,
    "start_time": "2024-10-01T16:18:17.673Z"
   },
   {
    "duration": 0,
    "start_time": "2024-10-01T16:18:17.674Z"
   },
   {
    "duration": 0,
    "start_time": "2024-10-01T16:18:17.675Z"
   },
   {
    "duration": 0,
    "start_time": "2024-10-01T16:18:17.676Z"
   },
   {
    "duration": 0,
    "start_time": "2024-10-01T16:18:17.677Z"
   },
   {
    "duration": 0,
    "start_time": "2024-10-01T16:18:17.679Z"
   },
   {
    "duration": 0,
    "start_time": "2024-10-01T16:18:17.680Z"
   },
   {
    "duration": 0,
    "start_time": "2024-10-01T16:18:17.681Z"
   },
   {
    "duration": 0,
    "start_time": "2024-10-01T16:18:17.682Z"
   },
   {
    "duration": 0,
    "start_time": "2024-10-01T16:18:17.683Z"
   },
   {
    "duration": 0,
    "start_time": "2024-10-01T16:18:17.684Z"
   },
   {
    "duration": 0,
    "start_time": "2024-10-01T16:18:17.685Z"
   },
   {
    "duration": 0,
    "start_time": "2024-10-01T16:18:17.686Z"
   },
   {
    "duration": 0,
    "start_time": "2024-10-01T16:18:17.688Z"
   },
   {
    "duration": 0,
    "start_time": "2024-10-01T16:18:17.689Z"
   },
   {
    "duration": 0,
    "start_time": "2024-10-01T16:18:17.690Z"
   },
   {
    "duration": 0,
    "start_time": "2024-10-01T16:18:17.691Z"
   },
   {
    "duration": 0,
    "start_time": "2024-10-01T16:18:17.692Z"
   },
   {
    "duration": 0,
    "start_time": "2024-10-01T16:18:17.693Z"
   },
   {
    "duration": 0,
    "start_time": "2024-10-01T16:18:17.693Z"
   },
   {
    "duration": 25,
    "start_time": "2024-10-01T16:20:28.090Z"
   },
   {
    "duration": 1240,
    "start_time": "2024-10-01T16:20:37.393Z"
   },
   {
    "duration": 57,
    "start_time": "2024-10-01T16:20:38.635Z"
   },
   {
    "duration": 22,
    "start_time": "2024-10-01T16:20:38.693Z"
   },
   {
    "duration": 21,
    "start_time": "2024-10-01T16:20:38.718Z"
   },
   {
    "duration": 29,
    "start_time": "2024-10-01T16:20:38.740Z"
   },
   {
    "duration": 20,
    "start_time": "2024-10-01T16:20:38.771Z"
   },
   {
    "duration": 19,
    "start_time": "2024-10-01T16:20:38.792Z"
   },
   {
    "duration": 36,
    "start_time": "2024-10-01T16:20:38.812Z"
   },
   {
    "duration": 12,
    "start_time": "2024-10-01T16:20:38.849Z"
   },
   {
    "duration": 23,
    "start_time": "2024-10-01T16:20:38.863Z"
   },
   {
    "duration": 26,
    "start_time": "2024-10-01T16:20:38.888Z"
   },
   {
    "duration": 25,
    "start_time": "2024-10-01T16:20:38.915Z"
   },
   {
    "duration": 18,
    "start_time": "2024-10-01T16:20:38.941Z"
   },
   {
    "duration": 50,
    "start_time": "2024-10-01T16:20:38.961Z"
   },
   {
    "duration": 11,
    "start_time": "2024-10-01T16:20:39.012Z"
   },
   {
    "duration": 4,
    "start_time": "2024-10-01T16:20:39.025Z"
   },
   {
    "duration": 29,
    "start_time": "2024-10-01T16:20:39.031Z"
   },
   {
    "duration": 13,
    "start_time": "2024-10-01T16:20:39.062Z"
   },
   {
    "duration": 17,
    "start_time": "2024-10-01T16:20:39.076Z"
   },
   {
    "duration": 4,
    "start_time": "2024-10-01T16:20:39.095Z"
   },
   {
    "duration": 7,
    "start_time": "2024-10-01T16:20:39.101Z"
   },
   {
    "duration": 9,
    "start_time": "2024-10-01T16:20:39.109Z"
   },
   {
    "duration": 26,
    "start_time": "2024-10-01T16:20:39.119Z"
   },
   {
    "duration": 20,
    "start_time": "2024-10-01T16:20:39.146Z"
   },
   {
    "duration": 9,
    "start_time": "2024-10-01T16:20:39.168Z"
   },
   {
    "duration": 15,
    "start_time": "2024-10-01T16:20:39.179Z"
   },
   {
    "duration": 20,
    "start_time": "2024-10-01T16:20:39.195Z"
   },
   {
    "duration": 16,
    "start_time": "2024-10-01T16:20:39.219Z"
   },
   {
    "duration": 19,
    "start_time": "2024-10-01T16:20:39.236Z"
   },
   {
    "duration": 18,
    "start_time": "2024-10-01T16:20:39.256Z"
   },
   {
    "duration": 28,
    "start_time": "2024-10-01T16:20:39.275Z"
   },
   {
    "duration": 4,
    "start_time": "2024-10-01T16:20:39.305Z"
   },
   {
    "duration": 6,
    "start_time": "2024-10-01T16:20:39.311Z"
   },
   {
    "duration": 14,
    "start_time": "2024-10-01T16:20:39.318Z"
   },
   {
    "duration": 6,
    "start_time": "2024-10-01T16:20:39.333Z"
   },
   {
    "duration": 72,
    "start_time": "2024-10-01T16:20:39.341Z"
   },
   {
    "duration": 15,
    "start_time": "2024-10-01T16:20:39.415Z"
   },
   {
    "duration": 18,
    "start_time": "2024-10-01T16:20:39.432Z"
   },
   {
    "duration": 284,
    "start_time": "2024-10-01T16:20:39.452Z"
   },
   {
    "duration": 339,
    "start_time": "2024-10-01T16:20:39.739Z"
   },
   {
    "duration": 5,
    "start_time": "2024-10-01T16:20:40.080Z"
   },
   {
    "duration": 231,
    "start_time": "2024-10-01T16:20:40.086Z"
   },
   {
    "duration": 5,
    "start_time": "2024-10-01T16:20:40.318Z"
   },
   {
    "duration": 20,
    "start_time": "2024-10-01T16:20:40.324Z"
   },
   {
    "duration": 19,
    "start_time": "2024-10-01T16:20:40.364Z"
   },
   {
    "duration": 6,
    "start_time": "2024-10-01T16:20:40.384Z"
   },
   {
    "duration": 12,
    "start_time": "2024-10-01T16:20:40.391Z"
   },
   {
    "duration": 16,
    "start_time": "2024-10-01T16:20:40.404Z"
   },
   {
    "duration": 329,
    "start_time": "2024-10-01T16:20:40.422Z"
   },
   {
    "duration": 22,
    "start_time": "2024-10-01T16:20:40.753Z"
   },
   {
    "duration": 328,
    "start_time": "2024-10-01T16:20:40.777Z"
   },
   {
    "duration": 8,
    "start_time": "2024-10-01T16:20:41.107Z"
   },
   {
    "duration": 4,
    "start_time": "2024-10-01T16:20:41.117Z"
   },
   {
    "duration": 288,
    "start_time": "2024-10-01T16:20:41.123Z"
   },
   {
    "duration": 8,
    "start_time": "2024-10-01T16:20:41.413Z"
   },
   {
    "duration": 184,
    "start_time": "2024-10-01T16:20:41.422Z"
   },
   {
    "duration": 6,
    "start_time": "2024-10-01T16:20:41.608Z"
   },
   {
    "duration": 194,
    "start_time": "2024-10-01T16:20:41.615Z"
   },
   {
    "duration": 9,
    "start_time": "2024-10-01T16:20:41.810Z"
   },
   {
    "duration": 1451,
    "start_time": "2024-10-01T16:20:41.820Z"
   },
   {
    "duration": 17,
    "start_time": "2024-10-01T16:20:43.273Z"
   },
   {
    "duration": 226,
    "start_time": "2024-10-01T16:20:43.292Z"
   },
   {
    "duration": 6,
    "start_time": "2024-10-01T16:20:43.520Z"
   },
   {
    "duration": 50,
    "start_time": "2024-10-01T16:20:43.528Z"
   },
   {
    "duration": 562,
    "start_time": "2024-10-01T16:20:43.580Z"
   },
   {
    "duration": 385,
    "start_time": "2024-10-01T16:20:44.143Z"
   },
   {
    "duration": 393,
    "start_time": "2024-10-01T16:20:44.529Z"
   },
   {
    "duration": 425,
    "start_time": "2024-10-01T16:20:44.924Z"
   },
   {
    "duration": 456,
    "start_time": "2024-10-01T16:20:45.351Z"
   },
   {
    "duration": 444,
    "start_time": "2024-10-01T16:20:45.808Z"
   },
   {
    "duration": 18,
    "start_time": "2024-10-01T16:20:46.253Z"
   },
   {
    "duration": 10,
    "start_time": "2024-10-01T16:20:46.272Z"
   },
   {
    "duration": 1337,
    "start_time": "2024-10-03T19:13:47.774Z"
   },
   {
    "duration": 171,
    "start_time": "2024-10-03T19:13:49.643Z"
   },
   {
    "duration": 95,
    "start_time": "2024-10-03T19:25:31.596Z"
   },
   {
    "duration": 1236,
    "start_time": "2024-10-03T19:25:38.907Z"
   },
   {
    "duration": 55,
    "start_time": "2024-10-03T19:25:40.145Z"
   },
   {
    "duration": 16,
    "start_time": "2024-10-03T19:25:40.202Z"
   },
   {
    "duration": 14,
    "start_time": "2024-10-03T19:25:40.220Z"
   },
   {
    "duration": 10,
    "start_time": "2024-10-03T19:25:40.236Z"
   },
   {
    "duration": 3,
    "start_time": "2024-10-03T19:25:40.248Z"
   },
   {
    "duration": 26,
    "start_time": "2024-10-03T19:25:40.252Z"
   },
   {
    "duration": 23,
    "start_time": "2024-10-03T19:25:40.280Z"
   },
   {
    "duration": 5,
    "start_time": "2024-10-03T19:25:40.304Z"
   },
   {
    "duration": 40,
    "start_time": "2024-10-03T19:25:40.311Z"
   },
   {
    "duration": 5,
    "start_time": "2024-10-03T19:25:40.352Z"
   },
   {
    "duration": 10,
    "start_time": "2024-10-03T19:25:40.359Z"
   },
   {
    "duration": 4,
    "start_time": "2024-10-03T19:25:40.371Z"
   },
   {
    "duration": 6,
    "start_time": "2024-10-03T19:25:40.377Z"
   },
   {
    "duration": 6,
    "start_time": "2024-10-03T19:25:40.385Z"
   },
   {
    "duration": 5,
    "start_time": "2024-10-03T19:25:40.392Z"
   },
   {
    "duration": 66,
    "start_time": "2024-10-03T19:25:40.398Z"
   },
   {
    "duration": 13,
    "start_time": "2024-10-03T19:25:40.465Z"
   },
   {
    "duration": 23,
    "start_time": "2024-10-03T19:25:40.480Z"
   },
   {
    "duration": 23,
    "start_time": "2024-10-03T19:25:40.505Z"
   },
   {
    "duration": 14,
    "start_time": "2024-10-03T19:25:40.530Z"
   },
   {
    "duration": 13,
    "start_time": "2024-10-03T19:25:40.545Z"
   },
   {
    "duration": 17,
    "start_time": "2024-10-03T19:25:40.560Z"
   },
   {
    "duration": 4,
    "start_time": "2024-10-03T19:25:40.578Z"
   },
   {
    "duration": 12,
    "start_time": "2024-10-03T19:25:40.583Z"
   },
   {
    "duration": 10,
    "start_time": "2024-10-03T19:25:40.596Z"
   },
   {
    "duration": 6,
    "start_time": "2024-10-03T19:25:40.607Z"
   },
   {
    "duration": 28,
    "start_time": "2024-10-03T19:25:40.617Z"
   },
   {
    "duration": 33,
    "start_time": "2024-10-03T19:25:40.646Z"
   },
   {
    "duration": 21,
    "start_time": "2024-10-03T19:25:40.680Z"
   },
   {
    "duration": 16,
    "start_time": "2024-10-03T19:25:40.702Z"
   },
   {
    "duration": 4,
    "start_time": "2024-10-03T19:25:40.719Z"
   },
   {
    "duration": 9,
    "start_time": "2024-10-03T19:25:40.725Z"
   },
   {
    "duration": 16,
    "start_time": "2024-10-03T19:25:40.736Z"
   },
   {
    "duration": 5,
    "start_time": "2024-10-03T19:25:40.753Z"
   },
   {
    "duration": 97,
    "start_time": "2024-10-03T19:25:40.760Z"
   },
   {
    "duration": 13,
    "start_time": "2024-10-03T19:25:40.858Z"
   },
   {
    "duration": 18,
    "start_time": "2024-10-03T19:25:40.872Z"
   },
   {
    "duration": 218,
    "start_time": "2024-10-03T19:25:40.891Z"
   },
   {
    "duration": 339,
    "start_time": "2024-10-03T19:25:41.111Z"
   },
   {
    "duration": 4,
    "start_time": "2024-10-03T19:25:41.452Z"
   },
   {
    "duration": 216,
    "start_time": "2024-10-03T19:25:41.457Z"
   },
   {
    "duration": 4,
    "start_time": "2024-10-03T19:25:41.674Z"
   },
   {
    "duration": 17,
    "start_time": "2024-10-03T19:25:41.680Z"
   },
   {
    "duration": 17,
    "start_time": "2024-10-03T19:25:41.698Z"
   },
   {
    "duration": 32,
    "start_time": "2024-10-03T19:25:41.716Z"
   },
   {
    "duration": 10,
    "start_time": "2024-10-03T19:25:41.749Z"
   },
   {
    "duration": 17,
    "start_time": "2024-10-03T19:25:41.760Z"
   },
   {
    "duration": 286,
    "start_time": "2024-10-03T19:25:41.778Z"
   },
   {
    "duration": 10,
    "start_time": "2024-10-03T19:25:42.065Z"
   },
   {
    "duration": 297,
    "start_time": "2024-10-03T19:25:42.076Z"
   },
   {
    "duration": 8,
    "start_time": "2024-10-03T19:25:42.374Z"
   },
   {
    "duration": 10,
    "start_time": "2024-10-03T19:25:42.383Z"
   },
   {
    "duration": 283,
    "start_time": "2024-10-03T19:25:42.395Z"
   },
   {
    "duration": 6,
    "start_time": "2024-10-03T19:25:42.680Z"
   },
   {
    "duration": 190,
    "start_time": "2024-10-03T19:25:42.688Z"
   },
   {
    "duration": 4,
    "start_time": "2024-10-03T19:25:42.879Z"
   },
   {
    "duration": 169,
    "start_time": "2024-10-03T19:25:42.885Z"
   },
   {
    "duration": 9,
    "start_time": "2024-10-03T19:25:43.055Z"
   },
   {
    "duration": 1268,
    "start_time": "2024-10-03T19:25:43.066Z"
   },
   {
    "duration": 15,
    "start_time": "2024-10-03T19:25:44.343Z"
   },
   {
    "duration": 210,
    "start_time": "2024-10-03T19:25:44.360Z"
   },
   {
    "duration": 6,
    "start_time": "2024-10-03T19:25:44.571Z"
   },
   {
    "duration": 6,
    "start_time": "2024-10-03T19:25:44.578Z"
   },
   {
    "duration": 513,
    "start_time": "2024-10-03T19:25:44.585Z"
   },
   {
    "duration": 396,
    "start_time": "2024-10-03T19:25:45.100Z"
   },
   {
    "duration": 403,
    "start_time": "2024-10-03T19:25:45.497Z"
   },
   {
    "duration": 375,
    "start_time": "2024-10-03T19:25:45.901Z"
   },
   {
    "duration": 401,
    "start_time": "2024-10-03T19:25:46.278Z"
   },
   {
    "duration": 404,
    "start_time": "2024-10-03T19:25:46.681Z"
   },
   {
    "duration": 10,
    "start_time": "2024-10-03T19:25:47.086Z"
   },
   {
    "duration": 11,
    "start_time": "2024-10-03T19:25:47.098Z"
   },
   {
    "duration": 1565,
    "start_time": "2024-10-07T17:08:53.924Z"
   },
   {
    "duration": 217,
    "start_time": "2024-10-07T17:08:55.491Z"
   },
   {
    "duration": 18,
    "start_time": "2024-10-07T17:08:55.710Z"
   },
   {
    "duration": 16,
    "start_time": "2024-10-07T17:08:55.730Z"
   },
   {
    "duration": 13,
    "start_time": "2024-10-07T17:08:55.747Z"
   },
   {
    "duration": 3,
    "start_time": "2024-10-07T17:08:55.762Z"
   },
   {
    "duration": 15,
    "start_time": "2024-10-07T17:08:55.766Z"
   },
   {
    "duration": 50,
    "start_time": "2024-10-07T17:08:55.783Z"
   },
   {
    "duration": 5,
    "start_time": "2024-10-07T17:08:55.835Z"
   },
   {
    "duration": 20,
    "start_time": "2024-10-07T17:08:55.842Z"
   },
   {
    "duration": 5,
    "start_time": "2024-10-07T17:08:55.864Z"
   },
   {
    "duration": 14,
    "start_time": "2024-10-07T17:08:55.871Z"
   },
   {
    "duration": 5,
    "start_time": "2024-10-07T17:08:55.887Z"
   },
   {
    "duration": 33,
    "start_time": "2024-10-07T17:08:55.894Z"
   },
   {
    "duration": 7,
    "start_time": "2024-10-07T17:08:55.928Z"
   },
   {
    "duration": 12,
    "start_time": "2024-10-07T17:08:55.937Z"
   },
   {
    "duration": 25,
    "start_time": "2024-10-07T17:08:55.951Z"
   },
   {
    "duration": 22,
    "start_time": "2024-10-07T17:08:55.977Z"
   },
   {
    "duration": 33,
    "start_time": "2024-10-07T17:08:56.001Z"
   },
   {
    "duration": 6,
    "start_time": "2024-10-07T17:08:56.035Z"
   },
   {
    "duration": 8,
    "start_time": "2024-10-07T17:08:56.042Z"
   },
   {
    "duration": 8,
    "start_time": "2024-10-07T17:08:56.051Z"
   },
   {
    "duration": 15,
    "start_time": "2024-10-07T17:08:56.060Z"
   },
   {
    "duration": 3,
    "start_time": "2024-10-07T17:08:56.076Z"
   },
   {
    "duration": 4,
    "start_time": "2024-10-07T17:08:56.080Z"
   },
   {
    "duration": 7,
    "start_time": "2024-10-07T17:08:56.085Z"
   },
   {
    "duration": 11,
    "start_time": "2024-10-07T17:08:56.125Z"
   },
   {
    "duration": 13,
    "start_time": "2024-10-07T17:08:56.140Z"
   },
   {
    "duration": 6,
    "start_time": "2024-10-07T17:08:56.154Z"
   },
   {
    "duration": 52,
    "start_time": "2024-10-07T17:08:56.162Z"
   },
   {
    "duration": 16,
    "start_time": "2024-10-07T17:08:56.216Z"
   },
   {
    "duration": 4,
    "start_time": "2024-10-07T17:08:56.233Z"
   },
   {
    "duration": 11,
    "start_time": "2024-10-07T17:08:56.239Z"
   },
   {
    "duration": 13,
    "start_time": "2024-10-07T17:08:56.252Z"
   },
   {
    "duration": 4,
    "start_time": "2024-10-07T17:08:56.267Z"
   },
   {
    "duration": 11,
    "start_time": "2024-10-07T17:08:56.272Z"
   },
   {
    "duration": 51,
    "start_time": "2024-10-07T17:08:56.284Z"
   },
   {
    "duration": 16,
    "start_time": "2024-10-07T17:08:56.336Z"
   },
   {
    "duration": 20,
    "start_time": "2024-10-07T17:08:56.353Z"
   },
   {
    "duration": 259,
    "start_time": "2024-10-07T17:08:56.375Z"
   },
   {
    "duration": 349,
    "start_time": "2024-10-07T17:08:56.635Z"
   },
   {
    "duration": 4,
    "start_time": "2024-10-07T17:08:56.985Z"
   },
   {
    "duration": 215,
    "start_time": "2024-10-07T17:08:56.991Z"
   },
   {
    "duration": 4,
    "start_time": "2024-10-07T17:08:57.208Z"
   },
   {
    "duration": 18,
    "start_time": "2024-10-07T17:08:57.225Z"
   },
   {
    "duration": 19,
    "start_time": "2024-10-07T17:08:57.245Z"
   },
   {
    "duration": 6,
    "start_time": "2024-10-07T17:08:57.265Z"
   },
   {
    "duration": 4,
    "start_time": "2024-10-07T17:08:57.272Z"
   },
   {
    "duration": 11,
    "start_time": "2024-10-07T17:08:57.278Z"
   },
   {
    "duration": 336,
    "start_time": "2024-10-07T17:08:57.291Z"
   },
   {
    "duration": 10,
    "start_time": "2024-10-07T17:08:57.629Z"
   },
   {
    "duration": 319,
    "start_time": "2024-10-07T17:08:57.641Z"
   },
   {
    "duration": 8,
    "start_time": "2024-10-07T17:08:57.962Z"
   },
   {
    "duration": 46,
    "start_time": "2024-10-07T17:08:57.972Z"
   },
   {
    "duration": 281,
    "start_time": "2024-10-07T17:08:58.019Z"
   },
   {
    "duration": 7,
    "start_time": "2024-10-07T17:08:58.302Z"
   },
   {
    "duration": 180,
    "start_time": "2024-10-07T17:08:58.326Z"
   },
   {
    "duration": 5,
    "start_time": "2024-10-07T17:08:58.507Z"
   },
   {
    "duration": 185,
    "start_time": "2024-10-07T17:08:58.526Z"
   },
   {
    "duration": 14,
    "start_time": "2024-10-07T17:08:58.713Z"
   },
   {
    "duration": 1430,
    "start_time": "2024-10-07T17:08:58.729Z"
   },
   {
    "duration": 16,
    "start_time": "2024-10-07T17:09:00.160Z"
   },
   {
    "duration": 277,
    "start_time": "2024-10-07T17:09:00.178Z"
   },
   {
    "duration": 5,
    "start_time": "2024-10-07T17:09:00.457Z"
   },
   {
    "duration": 11,
    "start_time": "2024-10-07T17:09:00.464Z"
   },
   {
    "duration": 534,
    "start_time": "2024-10-07T17:09:00.476Z"
   },
   {
    "duration": 410,
    "start_time": "2024-10-07T17:09:01.012Z"
   },
   {
    "duration": 432,
    "start_time": "2024-10-07T17:09:01.426Z"
   },
   {
    "duration": 422,
    "start_time": "2024-10-07T17:09:01.860Z"
   },
   {
    "duration": 444,
    "start_time": "2024-10-07T17:09:02.283Z"
   },
   {
    "duration": 428,
    "start_time": "2024-10-07T17:09:02.729Z"
   },
   {
    "duration": 11,
    "start_time": "2024-10-07T17:09:03.158Z"
   },
   {
    "duration": 15,
    "start_time": "2024-10-07T17:09:03.171Z"
   },
   {
    "duration": 76,
    "start_time": "2024-10-07T17:19:29.215Z"
   },
   {
    "duration": 516,
    "start_time": "2024-10-07T17:20:03.947Z"
   },
   {
    "duration": 410,
    "start_time": "2024-10-07T17:20:47.562Z"
   },
   {
    "duration": 375,
    "start_time": "2024-10-07T17:34:10.680Z"
   },
   {
    "duration": 370,
    "start_time": "2024-10-07T17:34:56.278Z"
   },
   {
    "duration": 115,
    "start_time": "2024-10-07T17:39:45.949Z"
   },
   {
    "duration": 12,
    "start_time": "2024-10-07T17:40:50.035Z"
   },
   {
    "duration": 173,
    "start_time": "2024-10-07T17:40:51.933Z"
   },
   {
    "duration": 357,
    "start_time": "2024-10-07T17:41:39.516Z"
   },
   {
    "duration": 11,
    "start_time": "2024-10-07T17:42:53.445Z"
   },
   {
    "duration": 436,
    "start_time": "2024-10-07T17:43:05.631Z"
   },
   {
    "duration": 1287,
    "start_time": "2024-10-07T17:45:06.903Z"
   },
   {
    "duration": 61,
    "start_time": "2024-10-07T17:45:08.192Z"
   },
   {
    "duration": 18,
    "start_time": "2024-10-07T17:45:08.254Z"
   },
   {
    "duration": 39,
    "start_time": "2024-10-07T17:45:08.274Z"
   },
   {
    "duration": 10,
    "start_time": "2024-10-07T17:45:08.314Z"
   },
   {
    "duration": 3,
    "start_time": "2024-10-07T17:45:08.326Z"
   },
   {
    "duration": 16,
    "start_time": "2024-10-07T17:45:08.330Z"
   },
   {
    "duration": 18,
    "start_time": "2024-10-07T17:45:08.347Z"
   },
   {
    "duration": 5,
    "start_time": "2024-10-07T17:45:08.367Z"
   },
   {
    "duration": 20,
    "start_time": "2024-10-07T17:45:08.374Z"
   },
   {
    "duration": 32,
    "start_time": "2024-10-07T17:45:08.395Z"
   },
   {
    "duration": 4,
    "start_time": "2024-10-07T17:45:08.429Z"
   },
   {
    "duration": 4,
    "start_time": "2024-10-07T17:45:08.435Z"
   },
   {
    "duration": 7,
    "start_time": "2024-10-07T17:45:08.441Z"
   },
   {
    "duration": 7,
    "start_time": "2024-10-07T17:45:08.449Z"
   },
   {
    "duration": 5,
    "start_time": "2024-10-07T17:45:08.457Z"
   },
   {
    "duration": 27,
    "start_time": "2024-10-07T17:45:08.463Z"
   },
   {
    "duration": 46,
    "start_time": "2024-10-07T17:45:08.491Z"
   },
   {
    "duration": 14,
    "start_time": "2024-10-07T17:45:08.539Z"
   },
   {
    "duration": 5,
    "start_time": "2024-10-07T17:45:08.554Z"
   },
   {
    "duration": 5,
    "start_time": "2024-10-07T17:45:08.561Z"
   },
   {
    "duration": 5,
    "start_time": "2024-10-07T17:45:08.567Z"
   },
   {
    "duration": 11,
    "start_time": "2024-10-07T17:45:08.574Z"
   },
   {
    "duration": 2,
    "start_time": "2024-10-07T17:45:08.586Z"
   },
   {
    "duration": 2,
    "start_time": "2024-10-07T17:45:08.626Z"
   },
   {
    "duration": 6,
    "start_time": "2024-10-07T17:45:08.630Z"
   },
   {
    "duration": 7,
    "start_time": "2024-10-07T17:45:08.638Z"
   },
   {
    "duration": 12,
    "start_time": "2024-10-07T17:45:08.648Z"
   },
   {
    "duration": 6,
    "start_time": "2024-10-07T17:45:08.661Z"
   },
   {
    "duration": 10,
    "start_time": "2024-10-07T17:45:08.669Z"
   },
   {
    "duration": 46,
    "start_time": "2024-10-07T17:45:08.680Z"
   },
   {
    "duration": 4,
    "start_time": "2024-10-07T17:45:08.728Z"
   },
   {
    "duration": 6,
    "start_time": "2024-10-07T17:45:08.734Z"
   },
   {
    "duration": 15,
    "start_time": "2024-10-07T17:45:08.741Z"
   },
   {
    "duration": 4,
    "start_time": "2024-10-07T17:45:08.758Z"
   },
   {
    "duration": 11,
    "start_time": "2024-10-07T17:45:08.763Z"
   },
   {
    "duration": 63,
    "start_time": "2024-10-07T17:45:08.776Z"
   },
   {
    "duration": 18,
    "start_time": "2024-10-07T17:45:08.841Z"
   },
   {
    "duration": 19,
    "start_time": "2024-10-07T17:45:08.860Z"
   },
   {
    "duration": 404,
    "start_time": "2024-10-07T17:45:08.881Z"
   },
   {
    "duration": 355,
    "start_time": "2024-10-07T17:45:09.286Z"
   },
   {
    "duration": 112,
    "start_time": "2024-10-07T17:45:09.643Z"
   },
   {
    "duration": 0,
    "start_time": "2024-10-07T17:45:09.757Z"
   },
   {
    "duration": 0,
    "start_time": "2024-10-07T17:45:09.758Z"
   },
   {
    "duration": 0,
    "start_time": "2024-10-07T17:45:09.759Z"
   },
   {
    "duration": 0,
    "start_time": "2024-10-07T17:45:09.760Z"
   },
   {
    "duration": 0,
    "start_time": "2024-10-07T17:45:09.762Z"
   },
   {
    "duration": 0,
    "start_time": "2024-10-07T17:45:09.763Z"
   },
   {
    "duration": 0,
    "start_time": "2024-10-07T17:45:09.764Z"
   },
   {
    "duration": 0,
    "start_time": "2024-10-07T17:45:09.765Z"
   },
   {
    "duration": 0,
    "start_time": "2024-10-07T17:45:09.766Z"
   },
   {
    "duration": 0,
    "start_time": "2024-10-07T17:45:09.767Z"
   },
   {
    "duration": 0,
    "start_time": "2024-10-07T17:45:09.769Z"
   },
   {
    "duration": 0,
    "start_time": "2024-10-07T17:45:09.770Z"
   },
   {
    "duration": 0,
    "start_time": "2024-10-07T17:45:09.771Z"
   },
   {
    "duration": 0,
    "start_time": "2024-10-07T17:45:09.771Z"
   },
   {
    "duration": 0,
    "start_time": "2024-10-07T17:45:09.772Z"
   },
   {
    "duration": 0,
    "start_time": "2024-10-07T17:45:09.773Z"
   },
   {
    "duration": 0,
    "start_time": "2024-10-07T17:45:09.774Z"
   },
   {
    "duration": 0,
    "start_time": "2024-10-07T17:45:09.776Z"
   },
   {
    "duration": 0,
    "start_time": "2024-10-07T17:45:09.777Z"
   },
   {
    "duration": 0,
    "start_time": "2024-10-07T17:45:09.778Z"
   },
   {
    "duration": 0,
    "start_time": "2024-10-07T17:45:09.779Z"
   },
   {
    "duration": 0,
    "start_time": "2024-10-07T17:45:09.780Z"
   },
   {
    "duration": 0,
    "start_time": "2024-10-07T17:45:09.825Z"
   },
   {
    "duration": 0,
    "start_time": "2024-10-07T17:45:09.827Z"
   },
   {
    "duration": 0,
    "start_time": "2024-10-07T17:45:09.827Z"
   },
   {
    "duration": 0,
    "start_time": "2024-10-07T17:45:09.829Z"
   },
   {
    "duration": 0,
    "start_time": "2024-10-07T17:45:09.830Z"
   },
   {
    "duration": 0,
    "start_time": "2024-10-07T17:45:09.831Z"
   },
   {
    "duration": 0,
    "start_time": "2024-10-07T17:45:09.834Z"
   },
   {
    "duration": 0,
    "start_time": "2024-10-07T17:45:09.835Z"
   },
   {
    "duration": 0,
    "start_time": "2024-10-07T17:45:09.836Z"
   },
   {
    "duration": 335,
    "start_time": "2024-10-07T17:46:08.951Z"
   },
   {
    "duration": 8,
    "start_time": "2024-10-07T17:46:10.858Z"
   },
   {
    "duration": 346,
    "start_time": "2024-10-07T17:48:38.634Z"
   },
   {
    "duration": 12,
    "start_time": "2024-10-07T17:48:39.646Z"
   },
   {
    "duration": 264,
    "start_time": "2024-10-07T17:48:45.417Z"
   },
   {
    "duration": 1230,
    "start_time": "2024-10-07T17:49:29.727Z"
   },
   {
    "duration": 59,
    "start_time": "2024-10-07T17:49:30.960Z"
   },
   {
    "duration": 18,
    "start_time": "2024-10-07T17:49:31.021Z"
   },
   {
    "duration": 15,
    "start_time": "2024-10-07T17:49:31.041Z"
   },
   {
    "duration": 17,
    "start_time": "2024-10-07T17:49:31.057Z"
   },
   {
    "duration": 3,
    "start_time": "2024-10-07T17:49:31.076Z"
   },
   {
    "duration": 16,
    "start_time": "2024-10-07T17:49:31.080Z"
   },
   {
    "duration": 38,
    "start_time": "2024-10-07T17:49:31.098Z"
   },
   {
    "duration": 6,
    "start_time": "2024-10-07T17:49:31.138Z"
   },
   {
    "duration": 30,
    "start_time": "2024-10-07T17:49:31.146Z"
   },
   {
    "duration": 4,
    "start_time": "2024-10-07T17:49:31.178Z"
   },
   {
    "duration": 13,
    "start_time": "2024-10-07T17:49:31.184Z"
   },
   {
    "duration": 14,
    "start_time": "2024-10-07T17:49:31.198Z"
   },
   {
    "duration": 17,
    "start_time": "2024-10-07T17:49:31.214Z"
   },
   {
    "duration": 51,
    "start_time": "2024-10-07T17:49:31.233Z"
   },
   {
    "duration": 4,
    "start_time": "2024-10-07T17:49:31.286Z"
   },
   {
    "duration": 48,
    "start_time": "2024-10-07T17:49:31.291Z"
   },
   {
    "duration": 13,
    "start_time": "2024-10-07T17:49:31.341Z"
   },
   {
    "duration": 24,
    "start_time": "2024-10-07T17:49:31.356Z"
   },
   {
    "duration": 6,
    "start_time": "2024-10-07T17:49:31.382Z"
   },
   {
    "duration": 17,
    "start_time": "2024-10-07T17:49:31.389Z"
   },
   {
    "duration": 10,
    "start_time": "2024-10-07T17:49:31.408Z"
   },
   {
    "duration": 14,
    "start_time": "2024-10-07T17:49:31.425Z"
   },
   {
    "duration": 2,
    "start_time": "2024-10-07T17:49:31.441Z"
   },
   {
    "duration": 14,
    "start_time": "2024-10-07T17:49:31.444Z"
   },
   {
    "duration": 15,
    "start_time": "2024-10-07T17:49:31.460Z"
   },
   {
    "duration": 6,
    "start_time": "2024-10-07T17:49:31.477Z"
   },
   {
    "duration": 11,
    "start_time": "2024-10-07T17:49:31.488Z"
   },
   {
    "duration": 30,
    "start_time": "2024-10-07T17:49:31.501Z"
   },
   {
    "duration": 15,
    "start_time": "2024-10-07T17:49:31.533Z"
   },
   {
    "duration": 38,
    "start_time": "2024-10-07T17:49:31.550Z"
   },
   {
    "duration": 48,
    "start_time": "2024-10-07T17:49:31.590Z"
   },
   {
    "duration": 6,
    "start_time": "2024-10-07T17:49:31.639Z"
   },
   {
    "duration": 28,
    "start_time": "2024-10-07T17:49:31.646Z"
   },
   {
    "duration": 4,
    "start_time": "2024-10-07T17:49:31.675Z"
   },
   {
    "duration": 12,
    "start_time": "2024-10-07T17:49:31.680Z"
   },
   {
    "duration": 30,
    "start_time": "2024-10-07T17:49:31.693Z"
   },
   {
    "duration": 19,
    "start_time": "2024-10-07T17:49:31.725Z"
   },
   {
    "duration": 19,
    "start_time": "2024-10-07T17:49:31.745Z"
   },
   {
    "duration": 395,
    "start_time": "2024-10-07T17:49:31.766Z"
   },
   {
    "duration": 364,
    "start_time": "2024-10-07T17:49:32.162Z"
   },
   {
    "duration": 12,
    "start_time": "2024-10-07T17:49:32.527Z"
   },
   {
    "duration": 212,
    "start_time": "2024-10-07T17:49:32.541Z"
   },
   {
    "duration": 5,
    "start_time": "2024-10-07T17:49:32.754Z"
   },
   {
    "duration": 26,
    "start_time": "2024-10-07T17:49:32.760Z"
   },
   {
    "duration": 20,
    "start_time": "2024-10-07T17:49:32.788Z"
   },
   {
    "duration": 6,
    "start_time": "2024-10-07T17:49:32.825Z"
   },
   {
    "duration": 8,
    "start_time": "2024-10-07T17:49:32.833Z"
   },
   {
    "duration": 13,
    "start_time": "2024-10-07T17:49:32.842Z"
   },
   {
    "duration": 323,
    "start_time": "2024-10-07T17:49:32.856Z"
   },
   {
    "duration": 128,
    "start_time": "2024-10-07T17:49:33.180Z"
   },
   {
    "duration": 0,
    "start_time": "2024-10-07T17:49:33.310Z"
   },
   {
    "duration": 0,
    "start_time": "2024-10-07T17:49:33.311Z"
   },
   {
    "duration": 0,
    "start_time": "2024-10-07T17:49:33.312Z"
   },
   {
    "duration": 0,
    "start_time": "2024-10-07T17:49:33.325Z"
   },
   {
    "duration": 0,
    "start_time": "2024-10-07T17:49:33.326Z"
   },
   {
    "duration": 0,
    "start_time": "2024-10-07T17:49:33.327Z"
   },
   {
    "duration": 0,
    "start_time": "2024-10-07T17:49:33.329Z"
   },
   {
    "duration": 0,
    "start_time": "2024-10-07T17:49:33.330Z"
   },
   {
    "duration": 0,
    "start_time": "2024-10-07T17:49:33.331Z"
   },
   {
    "duration": 0,
    "start_time": "2024-10-07T17:49:33.332Z"
   },
   {
    "duration": 0,
    "start_time": "2024-10-07T17:49:33.333Z"
   },
   {
    "duration": 0,
    "start_time": "2024-10-07T17:49:33.334Z"
   },
   {
    "duration": 0,
    "start_time": "2024-10-07T17:49:33.336Z"
   },
   {
    "duration": 0,
    "start_time": "2024-10-07T17:49:33.337Z"
   },
   {
    "duration": 0,
    "start_time": "2024-10-07T17:49:33.338Z"
   },
   {
    "duration": 0,
    "start_time": "2024-10-07T17:49:33.339Z"
   },
   {
    "duration": 0,
    "start_time": "2024-10-07T17:49:33.340Z"
   },
   {
    "duration": 0,
    "start_time": "2024-10-07T17:49:33.341Z"
   },
   {
    "duration": 0,
    "start_time": "2024-10-07T17:49:33.342Z"
   },
   {
    "duration": 0,
    "start_time": "2024-10-07T17:49:33.343Z"
   },
   {
    "duration": 0,
    "start_time": "2024-10-07T17:49:33.346Z"
   },
   {
    "duration": 0,
    "start_time": "2024-10-07T17:49:33.346Z"
   },
   {
    "duration": 14,
    "start_time": "2024-10-07T17:49:59.611Z"
   },
   {
    "duration": 395,
    "start_time": "2024-10-07T17:50:00.491Z"
   },
   {
    "duration": 8,
    "start_time": "2024-10-07T17:52:31.159Z"
   },
   {
    "duration": 34,
    "start_time": "2024-10-07T18:12:19.224Z"
   },
   {
    "duration": 198,
    "start_time": "2024-10-07T18:13:15.494Z"
   },
   {
    "duration": 2,
    "start_time": "2024-10-07T18:15:03.484Z"
   },
   {
    "duration": 184,
    "start_time": "2024-10-07T18:15:03.950Z"
   },
   {
    "duration": 202,
    "start_time": "2024-10-07T18:16:44.205Z"
   },
   {
    "duration": 194,
    "start_time": "2024-10-07T18:18:09.663Z"
   },
   {
    "duration": 10,
    "start_time": "2024-10-07T18:20:19.086Z"
   },
   {
    "duration": 167,
    "start_time": "2024-10-07T18:20:19.624Z"
   },
   {
    "duration": 4,
    "start_time": "2024-10-07T18:22:34.967Z"
   },
   {
    "duration": 173,
    "start_time": "2024-10-07T18:22:36.727Z"
   },
   {
    "duration": 8,
    "start_time": "2024-10-07T18:23:01.691Z"
   },
   {
    "duration": 1444,
    "start_time": "2024-10-07T18:23:21.630Z"
   },
   {
    "duration": 68,
    "start_time": "2024-10-07T18:56:38.497Z"
   },
   {
    "duration": 119,
    "start_time": "2024-10-07T18:58:50.819Z"
   },
   {
    "duration": 7,
    "start_time": "2024-10-07T19:00:34.253Z"
   },
   {
    "duration": 7,
    "start_time": "2024-10-07T19:00:39.982Z"
   },
   {
    "duration": 1326,
    "start_time": "2024-10-07T19:00:41.149Z"
   },
   {
    "duration": 7,
    "start_time": "2024-10-07T19:01:16.665Z"
   },
   {
    "duration": 1612,
    "start_time": "2024-10-07T19:01:17.956Z"
   },
   {
    "duration": 7,
    "start_time": "2024-10-07T19:01:30.290Z"
   },
   {
    "duration": 1434,
    "start_time": "2024-10-07T19:01:31.425Z"
   },
   {
    "duration": 55,
    "start_time": "2024-10-07T19:08:34.987Z"
   },
   {
    "duration": 7,
    "start_time": "2024-10-07T19:08:53.451Z"
   },
   {
    "duration": 1293,
    "start_time": "2024-10-07T19:08:55.062Z"
   },
   {
    "duration": 116,
    "start_time": "2024-10-07T19:09:32.250Z"
   },
   {
    "duration": 1315,
    "start_time": "2024-10-07T19:09:33.394Z"
   },
   {
    "duration": 7,
    "start_time": "2024-10-07T19:10:22.673Z"
   },
   {
    "duration": 1390,
    "start_time": "2024-10-07T19:10:23.536Z"
   },
   {
    "duration": 1153,
    "start_time": "2024-10-07T19:10:37.546Z"
   },
   {
    "duration": 60,
    "start_time": "2024-10-07T19:10:38.701Z"
   },
   {
    "duration": 18,
    "start_time": "2024-10-07T19:10:38.763Z"
   },
   {
    "duration": 16,
    "start_time": "2024-10-07T19:10:38.783Z"
   },
   {
    "duration": 28,
    "start_time": "2024-10-07T19:10:38.801Z"
   },
   {
    "duration": 5,
    "start_time": "2024-10-07T19:10:38.830Z"
   },
   {
    "duration": 51,
    "start_time": "2024-10-07T19:10:38.836Z"
   },
   {
    "duration": 32,
    "start_time": "2024-10-07T19:10:38.888Z"
   },
   {
    "duration": 6,
    "start_time": "2024-10-07T19:10:38.922Z"
   },
   {
    "duration": 21,
    "start_time": "2024-10-07T19:10:38.930Z"
   },
   {
    "duration": 5,
    "start_time": "2024-10-07T19:10:38.953Z"
   },
   {
    "duration": 4,
    "start_time": "2024-10-07T19:10:38.960Z"
   },
   {
    "duration": 4,
    "start_time": "2024-10-07T19:10:38.966Z"
   },
   {
    "duration": 12,
    "start_time": "2024-10-07T19:10:38.972Z"
   },
   {
    "duration": 7,
    "start_time": "2024-10-07T19:10:38.986Z"
   },
   {
    "duration": 34,
    "start_time": "2024-10-07T19:10:38.994Z"
   },
   {
    "duration": 26,
    "start_time": "2024-10-07T19:10:39.030Z"
   },
   {
    "duration": 13,
    "start_time": "2024-10-07T19:10:39.058Z"
   },
   {
    "duration": 14,
    "start_time": "2024-10-07T19:10:39.073Z"
   },
   {
    "duration": 36,
    "start_time": "2024-10-07T19:10:39.089Z"
   },
   {
    "duration": 5,
    "start_time": "2024-10-07T19:10:39.127Z"
   },
   {
    "duration": 12,
    "start_time": "2024-10-07T19:10:39.134Z"
   },
   {
    "duration": 22,
    "start_time": "2024-10-07T19:10:39.148Z"
   },
   {
    "duration": 3,
    "start_time": "2024-10-07T19:10:39.171Z"
   },
   {
    "duration": 4,
    "start_time": "2024-10-07T19:10:39.175Z"
   },
   {
    "duration": 12,
    "start_time": "2024-10-07T19:10:39.180Z"
   },
   {
    "duration": 24,
    "start_time": "2024-10-07T19:10:39.194Z"
   },
   {
    "duration": 12,
    "start_time": "2024-10-07T19:10:39.222Z"
   },
   {
    "duration": 6,
    "start_time": "2024-10-07T19:10:39.236Z"
   },
   {
    "duration": 13,
    "start_time": "2024-10-07T19:10:39.243Z"
   },
   {
    "duration": 13,
    "start_time": "2024-10-07T19:10:39.258Z"
   },
   {
    "duration": 4,
    "start_time": "2024-10-07T19:10:39.273Z"
   },
   {
    "duration": 7,
    "start_time": "2024-10-07T19:10:39.279Z"
   },
   {
    "duration": 48,
    "start_time": "2024-10-07T19:10:39.288Z"
   },
   {
    "duration": 4,
    "start_time": "2024-10-07T19:10:39.338Z"
   },
   {
    "duration": 10,
    "start_time": "2024-10-07T19:10:39.343Z"
   },
   {
    "duration": 17,
    "start_time": "2024-10-07T19:10:39.355Z"
   },
   {
    "duration": 14,
    "start_time": "2024-10-07T19:10:39.374Z"
   },
   {
    "duration": 50,
    "start_time": "2024-10-07T19:10:39.390Z"
   },
   {
    "duration": 437,
    "start_time": "2024-10-07T19:10:39.442Z"
   },
   {
    "duration": 340,
    "start_time": "2024-10-07T19:10:39.880Z"
   },
   {
    "duration": 14,
    "start_time": "2024-10-07T19:10:40.226Z"
   },
   {
    "duration": 200,
    "start_time": "2024-10-07T19:10:40.242Z"
   },
   {
    "duration": 4,
    "start_time": "2024-10-07T19:10:40.444Z"
   },
   {
    "duration": 18,
    "start_time": "2024-10-07T19:10:40.450Z"
   },
   {
    "duration": 17,
    "start_time": "2024-10-07T19:10:40.469Z"
   },
   {
    "duration": 41,
    "start_time": "2024-10-07T19:10:40.488Z"
   },
   {
    "duration": 5,
    "start_time": "2024-10-07T19:10:40.531Z"
   },
   {
    "duration": 18,
    "start_time": "2024-10-07T19:10:40.538Z"
   },
   {
    "duration": 293,
    "start_time": "2024-10-07T19:10:40.558Z"
   },
   {
    "duration": 10,
    "start_time": "2024-10-07T19:10:40.853Z"
   },
   {
    "duration": 381,
    "start_time": "2024-10-07T19:10:40.864Z"
   },
   {
    "duration": 38,
    "start_time": "2024-10-07T19:10:41.247Z"
   },
   {
    "duration": 203,
    "start_time": "2024-10-07T19:10:41.286Z"
   },
   {
    "duration": 7,
    "start_time": "2024-10-07T19:10:41.490Z"
   },
   {
    "duration": 177,
    "start_time": "2024-10-07T19:10:41.498Z"
   },
   {
    "duration": 4,
    "start_time": "2024-10-07T19:10:41.677Z"
   },
   {
    "duration": 174,
    "start_time": "2024-10-07T19:10:41.683Z"
   },
   {
    "duration": 7,
    "start_time": "2024-10-07T19:10:41.859Z"
   },
   {
    "duration": 1358,
    "start_time": "2024-10-07T19:10:41.867Z"
   },
   {
    "duration": 16,
    "start_time": "2024-10-07T19:10:43.227Z"
   },
   {
    "duration": 215,
    "start_time": "2024-10-07T19:10:43.244Z"
   },
   {
    "duration": 6,
    "start_time": "2024-10-07T19:10:43.461Z"
   },
   {
    "duration": 15,
    "start_time": "2024-10-07T19:10:43.469Z"
   },
   {
    "duration": 505,
    "start_time": "2024-10-07T19:10:43.485Z"
   },
   {
    "duration": 411,
    "start_time": "2024-10-07T19:10:43.991Z"
   },
   {
    "duration": 425,
    "start_time": "2024-10-07T19:10:44.404Z"
   },
   {
    "duration": 416,
    "start_time": "2024-10-07T19:10:44.831Z"
   },
   {
    "duration": 421,
    "start_time": "2024-10-07T19:10:45.249Z"
   },
   {
    "duration": 432,
    "start_time": "2024-10-07T19:10:45.672Z"
   },
   {
    "duration": 11,
    "start_time": "2024-10-07T19:10:46.105Z"
   },
   {
    "duration": 11,
    "start_time": "2024-10-07T19:10:46.126Z"
   },
   {
    "duration": 106,
    "start_time": "2024-10-07T19:16:22.958Z"
   },
   {
    "duration": 1697,
    "start_time": "2024-10-07T19:16:24.319Z"
   },
   {
    "duration": 7,
    "start_time": "2024-10-07T19:17:39.158Z"
   },
   {
    "duration": 1698,
    "start_time": "2024-10-07T19:17:40.230Z"
   },
   {
    "duration": 7,
    "start_time": "2024-10-07T19:19:33.115Z"
   },
   {
    "duration": 1820,
    "start_time": "2024-10-07T19:19:34.585Z"
   },
   {
    "duration": 7,
    "start_time": "2024-10-07T19:19:51.514Z"
   },
   {
    "duration": 1705,
    "start_time": "2024-10-07T19:19:52.510Z"
   },
   {
    "duration": 1203,
    "start_time": "2024-10-07T19:20:37.087Z"
   },
   {
    "duration": 60,
    "start_time": "2024-10-07T19:20:38.292Z"
   },
   {
    "duration": 19,
    "start_time": "2024-10-07T19:20:38.353Z"
   },
   {
    "duration": 36,
    "start_time": "2024-10-07T19:20:38.374Z"
   },
   {
    "duration": 12,
    "start_time": "2024-10-07T19:20:38.411Z"
   },
   {
    "duration": 4,
    "start_time": "2024-10-07T19:20:38.425Z"
   },
   {
    "duration": 14,
    "start_time": "2024-10-07T19:20:38.431Z"
   },
   {
    "duration": 24,
    "start_time": "2024-10-07T19:20:38.447Z"
   },
   {
    "duration": 6,
    "start_time": "2024-10-07T19:20:38.472Z"
   },
   {
    "duration": 41,
    "start_time": "2024-10-07T19:20:38.480Z"
   },
   {
    "duration": 54,
    "start_time": "2024-10-07T19:20:38.522Z"
   },
   {
    "duration": 7,
    "start_time": "2024-10-07T19:20:38.578Z"
   },
   {
    "duration": 14,
    "start_time": "2024-10-07T19:20:38.586Z"
   },
   {
    "duration": 7,
    "start_time": "2024-10-07T19:20:38.601Z"
   },
   {
    "duration": 6,
    "start_time": "2024-10-07T19:20:38.610Z"
   },
   {
    "duration": 6,
    "start_time": "2024-10-07T19:20:38.617Z"
   },
   {
    "duration": 24,
    "start_time": "2024-10-07T19:20:38.624Z"
   },
   {
    "duration": 13,
    "start_time": "2024-10-07T19:20:38.649Z"
   },
   {
    "duration": 13,
    "start_time": "2024-10-07T19:20:38.664Z"
   },
   {
    "duration": 5,
    "start_time": "2024-10-07T19:20:38.678Z"
   },
   {
    "duration": 6,
    "start_time": "2024-10-07T19:20:38.684Z"
   },
   {
    "duration": 9,
    "start_time": "2024-10-07T19:20:38.691Z"
   },
   {
    "duration": 11,
    "start_time": "2024-10-07T19:20:38.725Z"
   },
   {
    "duration": 3,
    "start_time": "2024-10-07T19:20:38.737Z"
   },
   {
    "duration": 5,
    "start_time": "2024-10-07T19:20:38.741Z"
   },
   {
    "duration": 5,
    "start_time": "2024-10-07T19:20:38.748Z"
   },
   {
    "duration": 8,
    "start_time": "2024-10-07T19:20:38.754Z"
   },
   {
    "duration": 12,
    "start_time": "2024-10-07T19:20:38.766Z"
   },
   {
    "duration": 7,
    "start_time": "2024-10-07T19:20:38.779Z"
   },
   {
    "duration": 48,
    "start_time": "2024-10-07T19:20:38.787Z"
   },
   {
    "duration": 14,
    "start_time": "2024-10-07T19:20:38.836Z"
   },
   {
    "duration": 5,
    "start_time": "2024-10-07T19:20:38.852Z"
   },
   {
    "duration": 9,
    "start_time": "2024-10-07T19:20:38.859Z"
   },
   {
    "duration": 17,
    "start_time": "2024-10-07T19:20:38.869Z"
   },
   {
    "duration": 3,
    "start_time": "2024-10-07T19:20:38.889Z"
   },
   {
    "duration": 11,
    "start_time": "2024-10-07T19:20:38.926Z"
   },
   {
    "duration": 18,
    "start_time": "2024-10-07T19:20:38.938Z"
   },
   {
    "duration": 15,
    "start_time": "2024-10-07T19:20:38.958Z"
   },
   {
    "duration": 18,
    "start_time": "2024-10-07T19:20:38.975Z"
   },
   {
    "duration": 402,
    "start_time": "2024-10-07T19:20:39.025Z"
   },
   {
    "duration": 374,
    "start_time": "2024-10-07T19:20:39.429Z"
   },
   {
    "duration": 24,
    "start_time": "2024-10-07T19:20:39.805Z"
   },
   {
    "duration": 198,
    "start_time": "2024-10-07T19:20:39.830Z"
   },
   {
    "duration": 4,
    "start_time": "2024-10-07T19:20:40.030Z"
   },
   {
    "duration": 28,
    "start_time": "2024-10-07T19:20:40.035Z"
   },
   {
    "duration": 20,
    "start_time": "2024-10-07T19:20:40.064Z"
   },
   {
    "duration": 5,
    "start_time": "2024-10-07T19:20:40.086Z"
   },
   {
    "duration": 8,
    "start_time": "2024-10-07T19:20:40.093Z"
   },
   {
    "duration": 32,
    "start_time": "2024-10-07T19:20:40.102Z"
   },
   {
    "duration": 323,
    "start_time": "2024-10-07T19:20:40.136Z"
   },
   {
    "duration": 10,
    "start_time": "2024-10-07T19:20:40.460Z"
   },
   {
    "duration": 387,
    "start_time": "2024-10-07T19:20:40.472Z"
   },
   {
    "duration": 33,
    "start_time": "2024-10-07T19:20:40.860Z"
   },
   {
    "duration": 209,
    "start_time": "2024-10-07T19:20:40.895Z"
   },
   {
    "duration": 7,
    "start_time": "2024-10-07T19:20:41.105Z"
   },
   {
    "duration": 169,
    "start_time": "2024-10-07T19:20:41.125Z"
   },
   {
    "duration": 5,
    "start_time": "2024-10-07T19:20:41.295Z"
   },
   {
    "duration": 178,
    "start_time": "2024-10-07T19:20:41.301Z"
   },
   {
    "duration": 7,
    "start_time": "2024-10-07T19:20:41.480Z"
   },
   {
    "duration": 1361,
    "start_time": "2024-10-07T19:20:41.489Z"
   },
   {
    "duration": 16,
    "start_time": "2024-10-07T19:20:42.852Z"
   },
   {
    "duration": 217,
    "start_time": "2024-10-07T19:20:42.870Z"
   },
   {
    "duration": 7,
    "start_time": "2024-10-07T19:20:43.089Z"
   },
   {
    "duration": 9,
    "start_time": "2024-10-07T19:20:43.098Z"
   },
   {
    "duration": 529,
    "start_time": "2024-10-07T19:20:43.109Z"
   },
   {
    "duration": 420,
    "start_time": "2024-10-07T19:20:43.639Z"
   },
   {
    "duration": 430,
    "start_time": "2024-10-07T19:20:44.061Z"
   },
   {
    "duration": 431,
    "start_time": "2024-10-07T19:20:44.494Z"
   },
   {
    "duration": 440,
    "start_time": "2024-10-07T19:20:44.927Z"
   },
   {
    "duration": 443,
    "start_time": "2024-10-07T19:20:45.369Z"
   },
   {
    "duration": 19,
    "start_time": "2024-10-07T19:20:45.814Z"
   },
   {
    "duration": 12,
    "start_time": "2024-10-07T19:20:45.834Z"
   },
   {
    "duration": 107,
    "start_time": "2024-10-07T19:23:36.703Z"
   },
   {
    "duration": 16,
    "start_time": "2024-10-07T19:27:28.487Z"
   },
   {
    "duration": 217,
    "start_time": "2024-10-07T19:28:37.325Z"
   },
   {
    "duration": 194,
    "start_time": "2024-10-07T19:29:38.195Z"
   },
   {
    "duration": 206,
    "start_time": "2024-10-07T19:30:44.949Z"
   },
   {
    "duration": 1361,
    "start_time": "2024-10-08T15:28:15.830Z"
   },
   {
    "duration": 207,
    "start_time": "2024-10-08T15:28:17.193Z"
   },
   {
    "duration": 18,
    "start_time": "2024-10-08T15:28:17.402Z"
   },
   {
    "duration": 16,
    "start_time": "2024-10-08T15:28:17.422Z"
   },
   {
    "duration": 12,
    "start_time": "2024-10-08T15:28:17.439Z"
   },
   {
    "duration": 3,
    "start_time": "2024-10-08T15:28:17.452Z"
   },
   {
    "duration": 14,
    "start_time": "2024-10-08T15:28:17.457Z"
   },
   {
    "duration": 34,
    "start_time": "2024-10-08T15:28:17.473Z"
   },
   {
    "duration": 18,
    "start_time": "2024-10-08T15:28:17.509Z"
   },
   {
    "duration": 21,
    "start_time": "2024-10-08T15:28:17.530Z"
   },
   {
    "duration": 5,
    "start_time": "2024-10-08T15:28:17.552Z"
   },
   {
    "duration": 5,
    "start_time": "2024-10-08T15:28:17.558Z"
   },
   {
    "duration": 7,
    "start_time": "2024-10-08T15:28:17.564Z"
   },
   {
    "duration": 9,
    "start_time": "2024-10-08T15:28:17.572Z"
   },
   {
    "duration": 6,
    "start_time": "2024-10-08T15:28:17.583Z"
   },
   {
    "duration": 38,
    "start_time": "2024-10-08T15:28:17.590Z"
   },
   {
    "duration": 27,
    "start_time": "2024-10-08T15:28:17.629Z"
   },
   {
    "duration": 13,
    "start_time": "2024-10-08T15:28:17.658Z"
   },
   {
    "duration": 13,
    "start_time": "2024-10-08T15:28:17.673Z"
   },
   {
    "duration": 5,
    "start_time": "2024-10-08T15:28:17.687Z"
   },
   {
    "duration": 33,
    "start_time": "2024-10-08T15:28:17.693Z"
   },
   {
    "duration": 5,
    "start_time": "2024-10-08T15:28:17.728Z"
   },
   {
    "duration": 15,
    "start_time": "2024-10-08T15:28:17.734Z"
   },
   {
    "duration": 394,
    "start_time": "2024-10-08T15:28:17.751Z"
   },
   {
    "duration": 0,
    "start_time": "2024-10-08T15:28:18.148Z"
   },
   {
    "duration": 0,
    "start_time": "2024-10-08T15:28:18.149Z"
   },
   {
    "duration": 0,
    "start_time": "2024-10-08T15:28:18.150Z"
   },
   {
    "duration": 0,
    "start_time": "2024-10-08T15:28:18.151Z"
   },
   {
    "duration": 0,
    "start_time": "2024-10-08T15:28:18.152Z"
   },
   {
    "duration": 0,
    "start_time": "2024-10-08T15:28:18.153Z"
   },
   {
    "duration": 0,
    "start_time": "2024-10-08T15:28:18.154Z"
   },
   {
    "duration": 0,
    "start_time": "2024-10-08T15:28:18.155Z"
   },
   {
    "duration": 0,
    "start_time": "2024-10-08T15:28:18.156Z"
   },
   {
    "duration": 0,
    "start_time": "2024-10-08T15:28:18.157Z"
   },
   {
    "duration": 0,
    "start_time": "2024-10-08T15:28:18.158Z"
   },
   {
    "duration": 0,
    "start_time": "2024-10-08T15:28:18.159Z"
   },
   {
    "duration": 0,
    "start_time": "2024-10-08T15:28:18.160Z"
   },
   {
    "duration": 0,
    "start_time": "2024-10-08T15:28:18.161Z"
   },
   {
    "duration": 0,
    "start_time": "2024-10-08T15:28:18.162Z"
   },
   {
    "duration": 0,
    "start_time": "2024-10-08T15:28:18.163Z"
   },
   {
    "duration": 0,
    "start_time": "2024-10-08T15:28:18.164Z"
   },
   {
    "duration": 0,
    "start_time": "2024-10-08T15:28:18.165Z"
   },
   {
    "duration": 0,
    "start_time": "2024-10-08T15:28:18.166Z"
   },
   {
    "duration": 0,
    "start_time": "2024-10-08T15:28:18.167Z"
   },
   {
    "duration": 1,
    "start_time": "2024-10-08T15:28:18.168Z"
   },
   {
    "duration": 0,
    "start_time": "2024-10-08T15:28:18.170Z"
   },
   {
    "duration": 0,
    "start_time": "2024-10-08T15:28:18.171Z"
   },
   {
    "duration": 1,
    "start_time": "2024-10-08T15:28:18.171Z"
   },
   {
    "duration": 0,
    "start_time": "2024-10-08T15:28:18.172Z"
   },
   {
    "duration": 0,
    "start_time": "2024-10-08T15:28:18.173Z"
   },
   {
    "duration": 0,
    "start_time": "2024-10-08T15:28:18.175Z"
   },
   {
    "duration": 0,
    "start_time": "2024-10-08T15:28:18.225Z"
   },
   {
    "duration": 0,
    "start_time": "2024-10-08T15:28:18.227Z"
   },
   {
    "duration": 0,
    "start_time": "2024-10-08T15:28:18.228Z"
   },
   {
    "duration": 0,
    "start_time": "2024-10-08T15:28:18.229Z"
   },
   {
    "duration": 0,
    "start_time": "2024-10-08T15:28:18.230Z"
   },
   {
    "duration": 0,
    "start_time": "2024-10-08T15:28:18.231Z"
   },
   {
    "duration": 0,
    "start_time": "2024-10-08T15:28:18.232Z"
   },
   {
    "duration": 0,
    "start_time": "2024-10-08T15:28:18.233Z"
   },
   {
    "duration": 0,
    "start_time": "2024-10-08T15:28:18.234Z"
   },
   {
    "duration": 0,
    "start_time": "2024-10-08T15:28:18.235Z"
   },
   {
    "duration": 0,
    "start_time": "2024-10-08T15:28:18.236Z"
   },
   {
    "duration": 0,
    "start_time": "2024-10-08T15:28:18.237Z"
   },
   {
    "duration": 0,
    "start_time": "2024-10-08T15:28:18.238Z"
   },
   {
    "duration": 0,
    "start_time": "2024-10-08T15:28:18.239Z"
   },
   {
    "duration": 0,
    "start_time": "2024-10-08T15:28:18.240Z"
   },
   {
    "duration": 0,
    "start_time": "2024-10-08T15:28:18.242Z"
   },
   {
    "duration": 0,
    "start_time": "2024-10-08T15:28:18.243Z"
   },
   {
    "duration": 0,
    "start_time": "2024-10-08T15:28:18.244Z"
   },
   {
    "duration": 0,
    "start_time": "2024-10-08T15:28:18.245Z"
   },
   {
    "duration": 0,
    "start_time": "2024-10-08T15:28:18.246Z"
   },
   {
    "duration": 0,
    "start_time": "2024-10-08T15:28:18.248Z"
   },
   {
    "duration": 14596,
    "start_time": "2024-10-08T15:29:31.105Z"
   },
   {
    "duration": 1250,
    "start_time": "2024-10-08T15:34:04.529Z"
   },
   {
    "duration": 59,
    "start_time": "2024-10-08T15:34:05.781Z"
   },
   {
    "duration": 25,
    "start_time": "2024-10-08T15:34:05.842Z"
   },
   {
    "duration": 15,
    "start_time": "2024-10-08T15:34:05.869Z"
   },
   {
    "duration": 11,
    "start_time": "2024-10-08T15:34:05.886Z"
   },
   {
    "duration": 14,
    "start_time": "2024-10-08T15:34:05.898Z"
   },
   {
    "duration": 38,
    "start_time": "2024-10-08T15:34:05.913Z"
   },
   {
    "duration": 24,
    "start_time": "2024-10-08T15:34:05.953Z"
   },
   {
    "duration": 6,
    "start_time": "2024-10-08T15:34:05.978Z"
   },
   {
    "duration": 21,
    "start_time": "2024-10-08T15:34:05.986Z"
   },
   {
    "duration": 14,
    "start_time": "2024-10-08T15:34:06.009Z"
   },
   {
    "duration": 16,
    "start_time": "2024-10-08T15:34:06.024Z"
   },
   {
    "duration": 25,
    "start_time": "2024-10-08T15:34:06.041Z"
   },
   {
    "duration": 12,
    "start_time": "2024-10-08T15:34:06.068Z"
   },
   {
    "duration": 6,
    "start_time": "2024-10-08T15:34:06.082Z"
   },
   {
    "duration": 20,
    "start_time": "2024-10-08T15:34:06.090Z"
   },
   {
    "duration": 26,
    "start_time": "2024-10-08T15:34:06.111Z"
   },
   {
    "duration": 14,
    "start_time": "2024-10-08T15:34:06.139Z"
   },
   {
    "duration": 33,
    "start_time": "2024-10-08T15:34:06.154Z"
   },
   {
    "duration": 5,
    "start_time": "2024-10-08T15:34:06.188Z"
   },
   {
    "duration": 33,
    "start_time": "2024-10-08T15:34:06.195Z"
   },
   {
    "duration": 6,
    "start_time": "2024-10-08T15:34:06.229Z"
   },
   {
    "duration": 12,
    "start_time": "2024-10-08T15:34:06.237Z"
   },
   {
    "duration": 14095,
    "start_time": "2024-10-08T15:34:06.250Z"
   },
   {
    "duration": 0,
    "start_time": "2024-10-08T15:34:20.349Z"
   },
   {
    "duration": 0,
    "start_time": "2024-10-08T15:34:20.350Z"
   },
   {
    "duration": 0,
    "start_time": "2024-10-08T15:34:20.351Z"
   },
   {
    "duration": 0,
    "start_time": "2024-10-08T15:34:20.352Z"
   },
   {
    "duration": 0,
    "start_time": "2024-10-08T15:34:20.353Z"
   },
   {
    "duration": 0,
    "start_time": "2024-10-08T15:34:20.354Z"
   },
   {
    "duration": 0,
    "start_time": "2024-10-08T15:34:20.355Z"
   },
   {
    "duration": 0,
    "start_time": "2024-10-08T15:34:20.356Z"
   },
   {
    "duration": 0,
    "start_time": "2024-10-08T15:34:20.357Z"
   },
   {
    "duration": 0,
    "start_time": "2024-10-08T15:34:20.358Z"
   },
   {
    "duration": 0,
    "start_time": "2024-10-08T15:34:20.359Z"
   },
   {
    "duration": 0,
    "start_time": "2024-10-08T15:34:20.360Z"
   },
   {
    "duration": 0,
    "start_time": "2024-10-08T15:34:20.361Z"
   },
   {
    "duration": 0,
    "start_time": "2024-10-08T15:34:20.363Z"
   },
   {
    "duration": 0,
    "start_time": "2024-10-08T15:34:20.363Z"
   },
   {
    "duration": 0,
    "start_time": "2024-10-08T15:34:20.364Z"
   },
   {
    "duration": 0,
    "start_time": "2024-10-08T15:34:20.365Z"
   },
   {
    "duration": 0,
    "start_time": "2024-10-08T15:34:20.366Z"
   },
   {
    "duration": 0,
    "start_time": "2024-10-08T15:34:20.367Z"
   },
   {
    "duration": 0,
    "start_time": "2024-10-08T15:34:20.368Z"
   },
   {
    "duration": 0,
    "start_time": "2024-10-08T15:34:20.369Z"
   },
   {
    "duration": 0,
    "start_time": "2024-10-08T15:34:20.371Z"
   },
   {
    "duration": 0,
    "start_time": "2024-10-08T15:34:20.372Z"
   },
   {
    "duration": 0,
    "start_time": "2024-10-08T15:34:20.373Z"
   },
   {
    "duration": 0,
    "start_time": "2024-10-08T15:34:20.374Z"
   },
   {
    "duration": 0,
    "start_time": "2024-10-08T15:34:20.375Z"
   },
   {
    "duration": 0,
    "start_time": "2024-10-08T15:34:20.376Z"
   },
   {
    "duration": 0,
    "start_time": "2024-10-08T15:34:20.377Z"
   },
   {
    "duration": 0,
    "start_time": "2024-10-08T15:34:20.378Z"
   },
   {
    "duration": 0,
    "start_time": "2024-10-08T15:34:20.379Z"
   },
   {
    "duration": 0,
    "start_time": "2024-10-08T15:34:20.380Z"
   },
   {
    "duration": 0,
    "start_time": "2024-10-08T15:34:20.381Z"
   },
   {
    "duration": 0,
    "start_time": "2024-10-08T15:34:20.382Z"
   },
   {
    "duration": 0,
    "start_time": "2024-10-08T15:34:20.383Z"
   },
   {
    "duration": 0,
    "start_time": "2024-10-08T15:34:20.384Z"
   },
   {
    "duration": 0,
    "start_time": "2024-10-08T15:34:20.385Z"
   },
   {
    "duration": 0,
    "start_time": "2024-10-08T15:34:20.426Z"
   },
   {
    "duration": 0,
    "start_time": "2024-10-08T15:34:20.427Z"
   },
   {
    "duration": 0,
    "start_time": "2024-10-08T15:34:20.428Z"
   },
   {
    "duration": 0,
    "start_time": "2024-10-08T15:34:20.429Z"
   },
   {
    "duration": 0,
    "start_time": "2024-10-08T15:34:20.430Z"
   },
   {
    "duration": 0,
    "start_time": "2024-10-08T15:34:20.431Z"
   },
   {
    "duration": 0,
    "start_time": "2024-10-08T15:34:20.433Z"
   },
   {
    "duration": 1,
    "start_time": "2024-10-08T15:34:20.433Z"
   },
   {
    "duration": 0,
    "start_time": "2024-10-08T15:34:20.434Z"
   },
   {
    "duration": 0,
    "start_time": "2024-10-08T15:34:20.435Z"
   },
   {
    "duration": 0,
    "start_time": "2024-10-08T15:34:20.437Z"
   },
   {
    "duration": 0,
    "start_time": "2024-10-08T15:34:20.437Z"
   },
   {
    "duration": 12985,
    "start_time": "2024-10-08T15:37:43.862Z"
   },
   {
    "duration": 11,
    "start_time": "2024-10-08T15:38:00.812Z"
   },
   {
    "duration": 1259,
    "start_time": "2024-10-08T15:38:18.666Z"
   },
   {
    "duration": 58,
    "start_time": "2024-10-08T15:38:19.927Z"
   },
   {
    "duration": 18,
    "start_time": "2024-10-08T15:38:19.987Z"
   },
   {
    "duration": 17,
    "start_time": "2024-10-08T15:38:20.007Z"
   },
   {
    "duration": 12,
    "start_time": "2024-10-08T15:38:20.025Z"
   },
   {
    "duration": 3,
    "start_time": "2024-10-08T15:38:20.038Z"
   },
   {
    "duration": 16,
    "start_time": "2024-10-08T15:38:20.043Z"
   },
   {
    "duration": 19,
    "start_time": "2024-10-08T15:38:20.060Z"
   },
   {
    "duration": 7,
    "start_time": "2024-10-08T15:38:20.081Z"
   },
   {
    "duration": 51,
    "start_time": "2024-10-08T15:38:20.091Z"
   },
   {
    "duration": 6,
    "start_time": "2024-10-08T15:38:20.144Z"
   },
   {
    "duration": 16,
    "start_time": "2024-10-08T15:38:20.151Z"
   },
   {
    "duration": 6,
    "start_time": "2024-10-08T15:38:20.168Z"
   },
   {
    "duration": 9,
    "start_time": "2024-10-08T15:38:20.175Z"
   },
   {
    "duration": 8,
    "start_time": "2024-10-08T15:38:20.186Z"
   },
   {
    "duration": 34,
    "start_time": "2024-10-08T15:38:20.196Z"
   },
   {
    "duration": 26,
    "start_time": "2024-10-08T15:38:20.232Z"
   },
   {
    "duration": 14,
    "start_time": "2024-10-08T15:38:20.260Z"
   },
   {
    "duration": 14,
    "start_time": "2024-10-08T15:38:20.275Z"
   },
   {
    "duration": 38,
    "start_time": "2024-10-08T15:38:20.291Z"
   },
   {
    "duration": 11,
    "start_time": "2024-10-08T15:38:20.330Z"
   },
   {
    "duration": 8,
    "start_time": "2024-10-08T15:38:20.342Z"
   },
   {
    "duration": 49,
    "start_time": "2024-10-08T15:38:20.351Z"
   },
   {
    "duration": 13243,
    "start_time": "2024-10-08T15:38:20.402Z"
   },
   {
    "duration": 9,
    "start_time": "2024-10-08T15:38:33.647Z"
   },
   {
    "duration": 9,
    "start_time": "2024-10-08T15:38:33.658Z"
   },
   {
    "duration": 5,
    "start_time": "2024-10-08T15:38:33.669Z"
   },
   {
    "duration": 5,
    "start_time": "2024-10-08T15:38:33.678Z"
   },
   {
    "duration": 13,
    "start_time": "2024-10-08T15:38:33.685Z"
   },
   {
    "duration": 37,
    "start_time": "2024-10-08T15:38:33.699Z"
   },
   {
    "duration": 21,
    "start_time": "2024-10-08T15:38:33.737Z"
   },
   {
    "duration": 20,
    "start_time": "2024-10-08T15:38:33.760Z"
   },
   {
    "duration": 4,
    "start_time": "2024-10-08T15:38:33.782Z"
   },
   {
    "duration": 26,
    "start_time": "2024-10-08T15:38:33.787Z"
   },
   {
    "duration": 26,
    "start_time": "2024-10-08T15:38:33.814Z"
   },
   {
    "duration": 3,
    "start_time": "2024-10-08T15:38:33.842Z"
   },
   {
    "duration": 12,
    "start_time": "2024-10-08T15:38:33.847Z"
   },
   {
    "duration": 21,
    "start_time": "2024-10-08T15:38:33.860Z"
   },
   {
    "duration": 14,
    "start_time": "2024-10-08T15:38:33.882Z"
   },
   {
    "duration": 34,
    "start_time": "2024-10-08T15:38:33.898Z"
   },
   {
    "duration": 385,
    "start_time": "2024-10-08T15:38:33.933Z"
   },
   {
    "duration": 339,
    "start_time": "2024-10-08T15:38:34.325Z"
   },
   {
    "duration": 11,
    "start_time": "2024-10-08T15:38:34.666Z"
   },
   {
    "duration": 288,
    "start_time": "2024-10-08T15:38:34.678Z"
   },
   {
    "duration": 4,
    "start_time": "2024-10-08T15:38:34.968Z"
   },
   {
    "duration": 22,
    "start_time": "2024-10-08T15:38:34.974Z"
   },
   {
    "duration": 39,
    "start_time": "2024-10-08T15:38:34.998Z"
   },
   {
    "duration": 6,
    "start_time": "2024-10-08T15:38:35.038Z"
   },
   {
    "duration": 7,
    "start_time": "2024-10-08T15:38:35.045Z"
   },
   {
    "duration": 23,
    "start_time": "2024-10-08T15:38:35.054Z"
   },
   {
    "duration": 318,
    "start_time": "2024-10-08T15:38:35.078Z"
   },
   {
    "duration": 12,
    "start_time": "2024-10-08T15:38:35.398Z"
   },
   {
    "duration": 343,
    "start_time": "2024-10-08T15:38:35.412Z"
   },
   {
    "duration": 34,
    "start_time": "2024-10-08T15:38:35.757Z"
   },
   {
    "duration": 230,
    "start_time": "2024-10-08T15:38:35.792Z"
   },
   {
    "duration": 8,
    "start_time": "2024-10-08T15:38:36.024Z"
   },
   {
    "duration": 194,
    "start_time": "2024-10-08T15:38:36.033Z"
   },
   {
    "duration": 5,
    "start_time": "2024-10-08T15:38:36.229Z"
   },
   {
    "duration": 199,
    "start_time": "2024-10-08T15:38:36.236Z"
   },
   {
    "duration": 7,
    "start_time": "2024-10-08T15:38:36.437Z"
   },
   {
    "duration": 1534,
    "start_time": "2024-10-08T15:38:36.446Z"
   },
   {
    "duration": 187,
    "start_time": "2024-10-08T15:38:37.981Z"
   },
   {
    "duration": 6,
    "start_time": "2024-10-08T15:38:38.170Z"
   },
   {
    "duration": 4,
    "start_time": "2024-10-08T15:38:38.178Z"
   },
   {
    "duration": 432,
    "start_time": "2024-10-08T15:38:38.184Z"
   },
   {
    "duration": 435,
    "start_time": "2024-10-08T15:38:38.625Z"
   },
   {
    "duration": 437,
    "start_time": "2024-10-08T15:38:39.061Z"
   },
   {
    "duration": 472,
    "start_time": "2024-10-08T15:38:39.499Z"
   },
   {
    "duration": 582,
    "start_time": "2024-10-08T15:38:39.973Z"
   },
   {
    "duration": 438,
    "start_time": "2024-10-08T15:38:40.556Z"
   },
   {
    "duration": 10,
    "start_time": "2024-10-08T15:38:40.996Z"
   },
   {
    "duration": 23,
    "start_time": "2024-10-08T15:38:41.008Z"
   },
   {
    "duration": 6,
    "start_time": "2024-10-08T15:45:33.096Z"
   },
   {
    "duration": 6,
    "start_time": "2024-10-08T15:45:59.418Z"
   },
   {
    "duration": 6,
    "start_time": "2024-10-08T15:46:10.243Z"
   },
   {
    "duration": 6,
    "start_time": "2024-10-08T15:46:17.638Z"
   },
   {
    "duration": 1138,
    "start_time": "2024-10-08T15:48:34.767Z"
   },
   {
    "duration": 61,
    "start_time": "2024-10-08T15:48:35.907Z"
   },
   {
    "duration": 18,
    "start_time": "2024-10-08T15:48:35.969Z"
   },
   {
    "duration": 16,
    "start_time": "2024-10-08T15:48:35.989Z"
   },
   {
    "duration": 15,
    "start_time": "2024-10-08T15:48:36.006Z"
   },
   {
    "duration": 11,
    "start_time": "2024-10-08T15:48:36.026Z"
   },
   {
    "duration": 3,
    "start_time": "2024-10-08T15:48:36.039Z"
   },
   {
    "duration": 30,
    "start_time": "2024-10-08T15:48:36.043Z"
   },
   {
    "duration": 16,
    "start_time": "2024-10-08T15:48:36.075Z"
   },
   {
    "duration": 5,
    "start_time": "2024-10-08T15:48:36.094Z"
   },
   {
    "duration": 40,
    "start_time": "2024-10-08T15:48:36.101Z"
   },
   {
    "duration": 5,
    "start_time": "2024-10-08T15:48:36.142Z"
   },
   {
    "duration": 8,
    "start_time": "2024-10-08T15:48:36.149Z"
   },
   {
    "duration": 7,
    "start_time": "2024-10-08T15:48:36.158Z"
   },
   {
    "duration": 10,
    "start_time": "2024-10-08T15:48:36.166Z"
   },
   {
    "duration": 6,
    "start_time": "2024-10-08T15:48:36.178Z"
   },
   {
    "duration": 6,
    "start_time": "2024-10-08T15:48:36.185Z"
   },
   {
    "duration": 56,
    "start_time": "2024-10-08T15:48:36.192Z"
   },
   {
    "duration": 14,
    "start_time": "2024-10-08T15:48:36.250Z"
   },
   {
    "duration": 17,
    "start_time": "2024-10-08T15:48:36.265Z"
   },
   {
    "duration": 6,
    "start_time": "2024-10-08T15:48:36.283Z"
   },
   {
    "duration": 19,
    "start_time": "2024-10-08T15:48:36.290Z"
   },
   {
    "duration": 18,
    "start_time": "2024-10-08T15:48:36.311Z"
   },
   {
    "duration": 27,
    "start_time": "2024-10-08T15:48:36.331Z"
   },
   {
    "duration": 101,
    "start_time": "2024-10-08T15:48:36.360Z"
   },
   {
    "duration": 0,
    "start_time": "2024-10-08T15:48:36.464Z"
   },
   {
    "duration": 0,
    "start_time": "2024-10-08T15:48:36.465Z"
   },
   {
    "duration": 0,
    "start_time": "2024-10-08T15:48:36.467Z"
   },
   {
    "duration": 0,
    "start_time": "2024-10-08T15:48:36.468Z"
   },
   {
    "duration": 0,
    "start_time": "2024-10-08T15:48:36.469Z"
   },
   {
    "duration": 0,
    "start_time": "2024-10-08T15:48:36.470Z"
   },
   {
    "duration": 0,
    "start_time": "2024-10-08T15:48:36.471Z"
   },
   {
    "duration": 0,
    "start_time": "2024-10-08T15:48:36.472Z"
   },
   {
    "duration": 0,
    "start_time": "2024-10-08T15:48:36.473Z"
   },
   {
    "duration": 0,
    "start_time": "2024-10-08T15:48:36.474Z"
   },
   {
    "duration": 0,
    "start_time": "2024-10-08T15:48:36.475Z"
   },
   {
    "duration": 0,
    "start_time": "2024-10-08T15:48:36.476Z"
   },
   {
    "duration": 0,
    "start_time": "2024-10-08T15:48:36.477Z"
   },
   {
    "duration": 0,
    "start_time": "2024-10-08T15:48:36.478Z"
   },
   {
    "duration": 0,
    "start_time": "2024-10-08T15:48:36.479Z"
   },
   {
    "duration": 0,
    "start_time": "2024-10-08T15:48:36.480Z"
   },
   {
    "duration": 0,
    "start_time": "2024-10-08T15:48:36.481Z"
   },
   {
    "duration": 0,
    "start_time": "2024-10-08T15:48:36.482Z"
   },
   {
    "duration": 0,
    "start_time": "2024-10-08T15:48:36.483Z"
   },
   {
    "duration": 0,
    "start_time": "2024-10-08T15:48:36.484Z"
   },
   {
    "duration": 0,
    "start_time": "2024-10-08T15:48:36.485Z"
   },
   {
    "duration": 0,
    "start_time": "2024-10-08T15:48:36.486Z"
   },
   {
    "duration": 0,
    "start_time": "2024-10-08T15:48:36.487Z"
   },
   {
    "duration": 0,
    "start_time": "2024-10-08T15:48:36.525Z"
   },
   {
    "duration": 0,
    "start_time": "2024-10-08T15:48:36.526Z"
   },
   {
    "duration": 0,
    "start_time": "2024-10-08T15:48:36.528Z"
   },
   {
    "duration": 0,
    "start_time": "2024-10-08T15:48:36.529Z"
   },
   {
    "duration": 0,
    "start_time": "2024-10-08T15:48:36.531Z"
   },
   {
    "duration": 0,
    "start_time": "2024-10-08T15:48:36.532Z"
   },
   {
    "duration": 0,
    "start_time": "2024-10-08T15:48:36.533Z"
   },
   {
    "duration": 0,
    "start_time": "2024-10-08T15:48:36.534Z"
   },
   {
    "duration": 0,
    "start_time": "2024-10-08T15:48:36.535Z"
   },
   {
    "duration": 0,
    "start_time": "2024-10-08T15:48:36.536Z"
   },
   {
    "duration": 0,
    "start_time": "2024-10-08T15:48:36.537Z"
   },
   {
    "duration": 0,
    "start_time": "2024-10-08T15:48:36.538Z"
   },
   {
    "duration": 0,
    "start_time": "2024-10-08T15:48:36.539Z"
   },
   {
    "duration": 0,
    "start_time": "2024-10-08T15:48:36.540Z"
   },
   {
    "duration": 0,
    "start_time": "2024-10-08T15:48:36.541Z"
   },
   {
    "duration": 0,
    "start_time": "2024-10-08T15:48:36.543Z"
   },
   {
    "duration": 0,
    "start_time": "2024-10-08T15:48:36.544Z"
   },
   {
    "duration": 0,
    "start_time": "2024-10-08T15:48:36.545Z"
   },
   {
    "duration": 0,
    "start_time": "2024-10-08T15:48:36.545Z"
   },
   {
    "duration": 0,
    "start_time": "2024-10-08T15:48:36.546Z"
   },
   {
    "duration": 0,
    "start_time": "2024-10-08T15:48:36.548Z"
   },
   {
    "duration": 0,
    "start_time": "2024-10-08T15:48:36.549Z"
   },
   {
    "duration": 0,
    "start_time": "2024-10-08T15:48:36.550Z"
   },
   {
    "duration": 0,
    "start_time": "2024-10-08T15:48:36.551Z"
   },
   {
    "duration": 0,
    "start_time": "2024-10-08T15:48:36.552Z"
   },
   {
    "duration": 0,
    "start_time": "2024-10-08T15:48:36.553Z"
   },
   {
    "duration": 18,
    "start_time": "2024-10-08T15:49:12.275Z"
   },
   {
    "duration": 12772,
    "start_time": "2024-10-08T15:53:25.768Z"
   },
   {
    "duration": 10,
    "start_time": "2024-10-08T15:53:38.542Z"
   },
   {
    "duration": 1164,
    "start_time": "2024-10-13T10:39:21.929Z"
   },
   {
    "duration": 51,
    "start_time": "2024-10-13T10:39:23.095Z"
   },
   {
    "duration": 32,
    "start_time": "2024-10-13T10:39:23.148Z"
   },
   {
    "duration": 15,
    "start_time": "2024-10-13T10:39:23.182Z"
   },
   {
    "duration": 11,
    "start_time": "2024-10-13T10:39:23.198Z"
   },
   {
    "duration": 20,
    "start_time": "2024-10-13T10:39:23.211Z"
   },
   {
    "duration": 5,
    "start_time": "2024-10-13T10:39:23.233Z"
   },
   {
    "duration": 18,
    "start_time": "2024-10-13T10:39:23.240Z"
   },
   {
    "duration": 76,
    "start_time": "2024-10-13T10:39:23.259Z"
   },
   {
    "duration": 10,
    "start_time": "2024-10-13T10:39:23.337Z"
   },
   {
    "duration": 19,
    "start_time": "2024-10-13T10:39:23.349Z"
   },
   {
    "duration": 4,
    "start_time": "2024-10-13T10:39:23.369Z"
   },
   {
    "duration": 5,
    "start_time": "2024-10-13T10:39:23.374Z"
   },
   {
    "duration": 4,
    "start_time": "2024-10-13T10:39:23.380Z"
   },
   {
    "duration": 22,
    "start_time": "2024-10-13T10:39:23.385Z"
   },
   {
    "duration": 5,
    "start_time": "2024-10-13T10:39:23.409Z"
   },
   {
    "duration": 16,
    "start_time": "2024-10-13T10:39:23.415Z"
   },
   {
    "duration": 32,
    "start_time": "2024-10-13T10:39:23.432Z"
   },
   {
    "duration": 13,
    "start_time": "2024-10-13T10:39:23.466Z"
   },
   {
    "duration": 17,
    "start_time": "2024-10-13T10:39:23.506Z"
   },
   {
    "duration": 6,
    "start_time": "2024-10-13T10:39:23.525Z"
   },
   {
    "duration": 28,
    "start_time": "2024-10-13T10:39:23.533Z"
   },
   {
    "duration": 18,
    "start_time": "2024-10-13T10:39:23.562Z"
   },
   {
    "duration": 39,
    "start_time": "2024-10-13T10:39:23.582Z"
   },
   {
    "duration": 23,
    "start_time": "2024-10-13T10:39:23.622Z"
   },
   {
    "duration": 10161,
    "start_time": "2024-10-13T10:39:23.647Z"
   },
   {
    "duration": 8,
    "start_time": "2024-10-13T10:39:33.810Z"
   },
   {
    "duration": 19,
    "start_time": "2024-10-13T10:39:33.822Z"
   },
   {
    "duration": 27,
    "start_time": "2024-10-13T10:39:33.842Z"
   },
   {
    "duration": 53,
    "start_time": "2024-10-13T10:39:33.871Z"
   },
   {
    "duration": 59,
    "start_time": "2024-10-13T10:39:33.925Z"
   },
   {
    "duration": 74,
    "start_time": "2024-10-13T10:39:33.986Z"
   },
   {
    "duration": 43,
    "start_time": "2024-10-13T10:39:34.062Z"
   },
   {
    "duration": 10,
    "start_time": "2024-10-13T10:39:34.107Z"
   },
   {
    "duration": 11,
    "start_time": "2024-10-13T10:39:34.118Z"
   },
   {
    "duration": 24,
    "start_time": "2024-10-13T10:39:34.130Z"
   },
   {
    "duration": 13,
    "start_time": "2024-10-13T10:39:34.155Z"
   },
   {
    "duration": 29,
    "start_time": "2024-10-13T10:39:34.169Z"
   },
   {
    "duration": 15,
    "start_time": "2024-10-13T10:39:34.199Z"
   },
   {
    "duration": 13,
    "start_time": "2024-10-13T10:39:34.215Z"
   },
   {
    "duration": 47,
    "start_time": "2024-10-13T10:39:34.230Z"
   },
   {
    "duration": 327,
    "start_time": "2024-10-13T10:39:34.280Z"
   },
   {
    "duration": 277,
    "start_time": "2024-10-13T10:39:34.609Z"
   },
   {
    "duration": 11,
    "start_time": "2024-10-13T10:39:34.888Z"
   },
   {
    "duration": 235,
    "start_time": "2024-10-13T10:39:34.907Z"
   },
   {
    "duration": 5,
    "start_time": "2024-10-13T10:39:35.144Z"
   },
   {
    "duration": 48,
    "start_time": "2024-10-13T10:39:35.151Z"
   },
   {
    "duration": 18,
    "start_time": "2024-10-13T10:39:35.201Z"
   },
   {
    "duration": 23,
    "start_time": "2024-10-13T10:39:35.220Z"
   },
   {
    "duration": 95,
    "start_time": "2024-10-13T10:39:35.245Z"
   },
   {
    "duration": 42,
    "start_time": "2024-10-13T10:39:35.342Z"
   },
   {
    "duration": 267,
    "start_time": "2024-10-13T10:39:35.386Z"
   },
   {
    "duration": 13,
    "start_time": "2024-10-13T10:39:35.654Z"
   },
   {
    "duration": 301,
    "start_time": "2024-10-13T10:39:35.668Z"
   },
   {
    "duration": 26,
    "start_time": "2024-10-13T10:39:35.971Z"
   },
   {
    "duration": 338,
    "start_time": "2024-10-13T10:39:36.007Z"
   },
   {
    "duration": 6,
    "start_time": "2024-10-13T10:39:36.347Z"
   },
   {
    "duration": 174,
    "start_time": "2024-10-13T10:39:36.354Z"
   },
   {
    "duration": 4,
    "start_time": "2024-10-13T10:39:36.529Z"
   },
   {
    "duration": 158,
    "start_time": "2024-10-13T10:39:36.534Z"
   },
   {
    "duration": 6,
    "start_time": "2024-10-13T10:39:36.694Z"
   },
   {
    "duration": 1361,
    "start_time": "2024-10-13T10:39:36.707Z"
   },
   {
    "duration": 159,
    "start_time": "2024-10-13T10:39:38.069Z"
   },
   {
    "duration": 5,
    "start_time": "2024-10-13T10:39:38.229Z"
   },
   {
    "duration": 55,
    "start_time": "2024-10-13T10:39:38.235Z"
   },
   {
    "duration": 333,
    "start_time": "2024-10-13T10:39:38.291Z"
   },
   {
    "duration": 337,
    "start_time": "2024-10-13T10:39:38.625Z"
   },
   {
    "duration": 371,
    "start_time": "2024-10-13T10:39:38.963Z"
   },
   {
    "duration": 417,
    "start_time": "2024-10-13T10:39:39.336Z"
   },
   {
    "duration": 438,
    "start_time": "2024-10-13T10:39:39.754Z"
   },
   {
    "duration": 364,
    "start_time": "2024-10-13T10:39:40.193Z"
   },
   {
    "duration": 10,
    "start_time": "2024-10-13T10:39:40.559Z"
   },
   {
    "duration": 22,
    "start_time": "2024-10-13T10:39:40.570Z"
   }
  ],
  "kernelspec": {
   "display_name": "Python 3 (ipykernel)",
   "language": "python",
   "name": "python3"
  },
  "language_info": {
   "codemirror_mode": {
    "name": "ipython",
    "version": 3
   },
   "file_extension": ".py",
   "mimetype": "text/x-python",
   "name": "python",
   "nbconvert_exporter": "python",
   "pygments_lexer": "ipython3",
   "version": "3.12.7"
  },
  "toc": {
   "base_numbering": 1,
   "nav_menu": {},
   "number_sections": true,
   "sideBar": true,
   "skip_h1_title": true,
   "title_cell": "Table of Contents",
   "title_sidebar": "Contents",
   "toc_cell": false,
   "toc_position": {},
   "toc_section_display": true,
   "toc_window_display": false
  }
 },
 "nbformat": 4,
 "nbformat_minor": 4
}
